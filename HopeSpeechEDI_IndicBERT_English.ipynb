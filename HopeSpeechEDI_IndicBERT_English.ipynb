{
  "nbformat": 4,
  "nbformat_minor": 0,
  "metadata": {
    "accelerator": "GPU",
    "colab": {
      "name": "HopeSpeechEDI_IndicBERT_English.ipynb",
      "provenance": [],
      "toc_visible": true
    },
    "kernelspec": {
      "display_name": "Python 3",
      "name": "python3"
    },
    "widgets": {
      "application/vnd.jupyter.widget-state+json": {
        "778530cad4334300889b2db3c8bab7b6": {
          "model_module": "@jupyter-widgets/controls",
          "model_name": "HBoxModel",
          "state": {
            "_view_name": "HBoxView",
            "_dom_classes": [],
            "_model_name": "HBoxModel",
            "_view_module": "@jupyter-widgets/controls",
            "_model_module_version": "1.5.0",
            "_view_count": null,
            "_view_module_version": "1.5.0",
            "box_style": "",
            "layout": "IPY_MODEL_7e8c1ac4cd3147318725164cf5bd4c0f",
            "_model_module": "@jupyter-widgets/controls",
            "children": [
              "IPY_MODEL_3ce09316ce2e428b88c7dbaff131b0d3",
              "IPY_MODEL_89ba4c4d544e4f578ef62194d912d6b9"
            ]
          }
        },
        "7e8c1ac4cd3147318725164cf5bd4c0f": {
          "model_module": "@jupyter-widgets/base",
          "model_name": "LayoutModel",
          "state": {
            "_view_name": "LayoutView",
            "grid_template_rows": null,
            "right": null,
            "justify_content": null,
            "_view_module": "@jupyter-widgets/base",
            "overflow": null,
            "_model_module_version": "1.2.0",
            "_view_count": null,
            "flex_flow": null,
            "width": null,
            "min_width": null,
            "border": null,
            "align_items": null,
            "bottom": null,
            "_model_module": "@jupyter-widgets/base",
            "top": null,
            "grid_column": null,
            "overflow_y": null,
            "overflow_x": null,
            "grid_auto_flow": null,
            "grid_area": null,
            "grid_template_columns": null,
            "flex": null,
            "_model_name": "LayoutModel",
            "justify_items": null,
            "grid_row": null,
            "max_height": null,
            "align_content": null,
            "visibility": null,
            "align_self": null,
            "height": null,
            "min_height": null,
            "padding": null,
            "grid_auto_rows": null,
            "grid_gap": null,
            "max_width": null,
            "order": null,
            "_view_module_version": "1.2.0",
            "grid_template_areas": null,
            "object_position": null,
            "object_fit": null,
            "grid_auto_columns": null,
            "margin": null,
            "display": null,
            "left": null
          }
        },
        "3ce09316ce2e428b88c7dbaff131b0d3": {
          "model_module": "@jupyter-widgets/controls",
          "model_name": "FloatProgressModel",
          "state": {
            "_view_name": "ProgressView",
            "style": "IPY_MODEL_ee426f199f87494791aea5ad0cd163e6",
            "_dom_classes": [],
            "description": "Downloading: 100%",
            "_model_name": "FloatProgressModel",
            "bar_style": "success",
            "max": 134982446,
            "_view_module": "@jupyter-widgets/controls",
            "_model_module_version": "1.5.0",
            "value": 134982446,
            "_view_count": null,
            "_view_module_version": "1.5.0",
            "orientation": "horizontal",
            "min": 0,
            "description_tooltip": null,
            "_model_module": "@jupyter-widgets/controls",
            "layout": "IPY_MODEL_6d59f6bed2094d6ba8f82badd96ab268"
          }
        },
        "89ba4c4d544e4f578ef62194d912d6b9": {
          "model_module": "@jupyter-widgets/controls",
          "model_name": "HTMLModel",
          "state": {
            "_view_name": "HTMLView",
            "style": "IPY_MODEL_8c6ccff5f0cd4ecfa37dfe5de19dd942",
            "_dom_classes": [],
            "description": "",
            "_model_name": "HTMLModel",
            "placeholder": "​",
            "_view_module": "@jupyter-widgets/controls",
            "_model_module_version": "1.5.0",
            "value": " 135M/135M [00:06&lt;00:00, 22.3MB/s]",
            "_view_count": null,
            "_view_module_version": "1.5.0",
            "description_tooltip": null,
            "_model_module": "@jupyter-widgets/controls",
            "layout": "IPY_MODEL_b6e10b185f0141cfaf97f8b8bb767f03"
          }
        },
        "ee426f199f87494791aea5ad0cd163e6": {
          "model_module": "@jupyter-widgets/controls",
          "model_name": "ProgressStyleModel",
          "state": {
            "_view_name": "StyleView",
            "_model_name": "ProgressStyleModel",
            "description_width": "initial",
            "_view_module": "@jupyter-widgets/base",
            "_model_module_version": "1.5.0",
            "_view_count": null,
            "_view_module_version": "1.2.0",
            "bar_color": null,
            "_model_module": "@jupyter-widgets/controls"
          }
        },
        "6d59f6bed2094d6ba8f82badd96ab268": {
          "model_module": "@jupyter-widgets/base",
          "model_name": "LayoutModel",
          "state": {
            "_view_name": "LayoutView",
            "grid_template_rows": null,
            "right": null,
            "justify_content": null,
            "_view_module": "@jupyter-widgets/base",
            "overflow": null,
            "_model_module_version": "1.2.0",
            "_view_count": null,
            "flex_flow": null,
            "width": null,
            "min_width": null,
            "border": null,
            "align_items": null,
            "bottom": null,
            "_model_module": "@jupyter-widgets/base",
            "top": null,
            "grid_column": null,
            "overflow_y": null,
            "overflow_x": null,
            "grid_auto_flow": null,
            "grid_area": null,
            "grid_template_columns": null,
            "flex": null,
            "_model_name": "LayoutModel",
            "justify_items": null,
            "grid_row": null,
            "max_height": null,
            "align_content": null,
            "visibility": null,
            "align_self": null,
            "height": null,
            "min_height": null,
            "padding": null,
            "grid_auto_rows": null,
            "grid_gap": null,
            "max_width": null,
            "order": null,
            "_view_module_version": "1.2.0",
            "grid_template_areas": null,
            "object_position": null,
            "object_fit": null,
            "grid_auto_columns": null,
            "margin": null,
            "display": null,
            "left": null
          }
        },
        "8c6ccff5f0cd4ecfa37dfe5de19dd942": {
          "model_module": "@jupyter-widgets/controls",
          "model_name": "DescriptionStyleModel",
          "state": {
            "_view_name": "StyleView",
            "_model_name": "DescriptionStyleModel",
            "description_width": "",
            "_view_module": "@jupyter-widgets/base",
            "_model_module_version": "1.5.0",
            "_view_count": null,
            "_view_module_version": "1.2.0",
            "_model_module": "@jupyter-widgets/controls"
          }
        },
        "b6e10b185f0141cfaf97f8b8bb767f03": {
          "model_module": "@jupyter-widgets/base",
          "model_name": "LayoutModel",
          "state": {
            "_view_name": "LayoutView",
            "grid_template_rows": null,
            "right": null,
            "justify_content": null,
            "_view_module": "@jupyter-widgets/base",
            "overflow": null,
            "_model_module_version": "1.2.0",
            "_view_count": null,
            "flex_flow": null,
            "width": null,
            "min_width": null,
            "border": null,
            "align_items": null,
            "bottom": null,
            "_model_module": "@jupyter-widgets/base",
            "top": null,
            "grid_column": null,
            "overflow_y": null,
            "overflow_x": null,
            "grid_auto_flow": null,
            "grid_area": null,
            "grid_template_columns": null,
            "flex": null,
            "_model_name": "LayoutModel",
            "justify_items": null,
            "grid_row": null,
            "max_height": null,
            "align_content": null,
            "visibility": null,
            "align_self": null,
            "height": null,
            "min_height": null,
            "padding": null,
            "grid_auto_rows": null,
            "grid_gap": null,
            "max_width": null,
            "order": null,
            "_view_module_version": "1.2.0",
            "grid_template_areas": null,
            "object_position": null,
            "object_fit": null,
            "grid_auto_columns": null,
            "margin": null,
            "display": null,
            "left": null
          }
        }
      }
    }
  },
  "cells": [
    {
      "cell_type": "markdown",
      "metadata": {
        "id": "elqe9PQrVH6P"
      },
      "source": [
        "### Performing checks for the resources available"
      ]
    },
    {
      "cell_type": "code",
      "metadata": {
        "colab": {
          "base_uri": "https://localhost:8080/"
        },
        "id": "fSELLChxa5su",
        "outputId": "c0ac6bea-f40f-4780-8101-a0602d672f83"
      },
      "source": [
        "import torch\r\n",
        "\r\n",
        "# If there's a GPU available...\r\n",
        "if torch.cuda.is_available():    \r\n",
        "\r\n",
        "    # Tell PyTorch to use the GPU.    \r\n",
        "    device = torch.device(\"cuda\")\r\n",
        "\r\n",
        "    print('There are %d GPU(s) available.' % torch.cuda.device_count())\r\n",
        "\r\n",
        "    print('We will use the GPU:', torch.cuda.get_device_name(0))\r\n",
        "\r\n",
        "# If not...\r\n",
        "else:\r\n",
        "    print('No GPU available, using the CPU instead.')\r\n",
        "    device = torch.device(\"cpu\")"
      ],
      "execution_count": 40,
      "outputs": [
        {
          "output_type": "stream",
          "text": [
            "There are 1 GPU(s) available.\n",
            "We will use the GPU: Tesla P100-PCIE-16GB\n"
          ],
          "name": "stdout"
        }
      ]
    },
    {
      "cell_type": "code",
      "metadata": {
        "colab": {
          "base_uri": "https://localhost:8080/"
        },
        "id": "wFrXUyYThK5D",
        "outputId": "888d3f4f-4bac-41da-a17c-de3dc82e8fb6"
      },
      "source": [
        "!nvidia-smi"
      ],
      "execution_count": 41,
      "outputs": [
        {
          "output_type": "stream",
          "text": [
            "Sat Jan  9 15:13:22 2021       \n",
            "+-----------------------------------------------------------------------------+\n",
            "| NVIDIA-SMI 460.27.04    Driver Version: 418.67       CUDA Version: 10.1     |\n",
            "|-------------------------------+----------------------+----------------------+\n",
            "| GPU  Name        Persistence-M| Bus-Id        Disp.A | Volatile Uncorr. ECC |\n",
            "| Fan  Temp  Perf  Pwr:Usage/Cap|         Memory-Usage | GPU-Util  Compute M. |\n",
            "|                               |                      |               MIG M. |\n",
            "|===============================+======================+======================|\n",
            "|   0  Tesla P100-PCIE...  Off  | 00000000:00:04.0 Off |                    0 |\n",
            "| N/A   35C    P0    26W / 250W |     10MiB / 16280MiB |      0%      Default |\n",
            "|                               |                      |                 ERR! |\n",
            "+-------------------------------+----------------------+----------------------+\n",
            "                                                                               \n",
            "+-----------------------------------------------------------------------------+\n",
            "| Processes:                                                                  |\n",
            "|  GPU   GI   CI        PID   Type   Process name                  GPU Memory |\n",
            "|        ID   ID                                                   Usage      |\n",
            "|=============================================================================|\n",
            "|  No running processes found                                                 |\n",
            "+-----------------------------------------------------------------------------+\n"
          ],
          "name": "stdout"
        }
      ]
    },
    {
      "cell_type": "markdown",
      "metadata": {
        "id": "K-gbOgflVRxg"
      },
      "source": [
        "### Installing huggingface transformers library"
      ]
    },
    {
      "cell_type": "code",
      "metadata": {
        "colab": {
          "base_uri": "https://localhost:8080/"
        },
        "id": "DbDuxKy0a9Zl",
        "outputId": "4f47da28-bcdf-4826-9dea-e6f3b92b07bd"
      },
      "source": [
        "!pip install transformers sentencepiece"
      ],
      "execution_count": 42,
      "outputs": [
        {
          "output_type": "stream",
          "text": [
            "Requirement already satisfied: transformers in /usr/local/lib/python3.6/dist-packages (4.1.1)\n",
            "Requirement already satisfied: sentencepiece in /usr/local/lib/python3.6/dist-packages (0.1.94)\n",
            "Requirement already satisfied: tokenizers==0.9.4 in /usr/local/lib/python3.6/dist-packages (from transformers) (0.9.4)\n",
            "Requirement already satisfied: regex!=2019.12.17 in /usr/local/lib/python3.6/dist-packages (from transformers) (2019.12.20)\n",
            "Requirement already satisfied: requests in /usr/local/lib/python3.6/dist-packages (from transformers) (2.23.0)\n",
            "Requirement already satisfied: filelock in /usr/local/lib/python3.6/dist-packages (from transformers) (3.0.12)\n",
            "Requirement already satisfied: packaging in /usr/local/lib/python3.6/dist-packages (from transformers) (20.8)\n",
            "Requirement already satisfied: sacremoses in /usr/local/lib/python3.6/dist-packages (from transformers) (0.0.43)\n",
            "Requirement already satisfied: numpy in /usr/local/lib/python3.6/dist-packages (from transformers) (1.19.4)\n",
            "Requirement already satisfied: dataclasses; python_version < \"3.7\" in /usr/local/lib/python3.6/dist-packages (from transformers) (0.8)\n",
            "Requirement already satisfied: tqdm>=4.27 in /usr/local/lib/python3.6/dist-packages (from transformers) (4.41.1)\n",
            "Requirement already satisfied: urllib3!=1.25.0,!=1.25.1,<1.26,>=1.21.1 in /usr/local/lib/python3.6/dist-packages (from requests->transformers) (1.24.3)\n",
            "Requirement already satisfied: certifi>=2017.4.17 in /usr/local/lib/python3.6/dist-packages (from requests->transformers) (2020.12.5)\n",
            "Requirement already satisfied: idna<3,>=2.5 in /usr/local/lib/python3.6/dist-packages (from requests->transformers) (2.10)\n",
            "Requirement already satisfied: chardet<4,>=3.0.2 in /usr/local/lib/python3.6/dist-packages (from requests->transformers) (3.0.4)\n",
            "Requirement already satisfied: pyparsing>=2.0.2 in /usr/local/lib/python3.6/dist-packages (from packaging->transformers) (2.4.7)\n",
            "Requirement already satisfied: click in /usr/local/lib/python3.6/dist-packages (from sacremoses->transformers) (7.1.2)\n",
            "Requirement already satisfied: six in /usr/local/lib/python3.6/dist-packages (from sacremoses->transformers) (1.15.0)\n",
            "Requirement already satisfied: joblib in /usr/local/lib/python3.6/dist-packages (from sacremoses->transformers) (1.0.0)\n"
          ],
          "name": "stdout"
        }
      ]
    },
    {
      "cell_type": "markdown",
      "metadata": {
        "id": "bPwaYLiRSNPC"
      },
      "source": [
        "## Importing necessary packages"
      ]
    },
    {
      "cell_type": "code",
      "metadata": {
        "id": "0XdFrhr8SRG0"
      },
      "source": [
        "import pandas as pd\r\n",
        "import numpy as np \r\n",
        "import random\r\n",
        "from sklearn.preprocessing import LabelEncoder\r\n",
        "from sklearn.utils.class_weight import compute_class_weight\r\n",
        "import time\r\n",
        "import datetime\r\n",
        "from sklearn.metrics import classification_report,confusion_matrix\r\n",
        "import random\r\n",
        "import time\r\n",
        "import torch.nn as nn\r\n",
        "from transformers import AutoModel , AutoModelForSequenceClassification, AutoConfig , AutoTokenizer , AdamW ,get_linear_schedule_with_warmup \r\n",
        "import torch\r\n",
        "import matplotlib.pyplot as plt\r\n",
        "import seaborn as sns\r\n",
        "from matplotlib import rc\r\n",
        "from matplotlib.ticker import MaxNLocator"
      ],
      "execution_count": 43,
      "outputs": []
    },
    {
      "cell_type": "markdown",
      "metadata": {
        "id": "dROX3juhVCxC"
      },
      "source": [
        "## Setting some configuration values"
      ]
    },
    {
      "cell_type": "code",
      "metadata": {
        "id": "Kzafv4BzVCC9"
      },
      "source": [
        "# Use plot styling from seaborn.\r\n",
        "sns.set(style='darkgrid')\r\n",
        "\r\n",
        "# Increase the plot size and font size.\r\n",
        "sns.set(font_scale=1.5)\r\n",
        "plt.rcParams[\"figure.figsize\"] = (16,12)\r\n",
        "\r\n",
        "# Set the seed value all over the place to make this reproducible.\r\n",
        "seed_val = 42\r\n",
        "\r\n",
        "random.seed(seed_val)\r\n",
        "np.random.seed(seed_val)\r\n",
        "torch.manual_seed(seed_val)\r\n",
        "torch.cuda.manual_seed_all(seed_val)"
      ],
      "execution_count": 44,
      "outputs": []
    },
    {
      "cell_type": "markdown",
      "metadata": {
        "id": "2v1AIN_OVX4t"
      },
      "source": [
        "## Importing drive into the colaboratory"
      ]
    },
    {
      "cell_type": "code",
      "metadata": {
        "colab": {
          "base_uri": "https://localhost:8080/"
        },
        "id": "Lofimyh2a_tp",
        "outputId": "dd69b35b-5bdc-4095-bb24-9f4bba26f40e"
      },
      "source": [
        "from google.colab import drive \r\n",
        "drive.mount('/content/drive')"
      ],
      "execution_count": 45,
      "outputs": [
        {
          "output_type": "stream",
          "text": [
            "Drive already mounted at /content/drive; to attempt to forcibly remount, call drive.mount(\"/content/drive\", force_remount=True).\n"
          ],
          "name": "stdout"
        }
      ]
    },
    {
      "cell_type": "markdown",
      "metadata": {
        "id": "yOK-M00dVeW2"
      },
      "source": [
        "## Importing dataset directories"
      ]
    },
    {
      "cell_type": "code",
      "metadata": {
        "id": "-y-JRPKBbCTv"
      },
      "source": [
        "from os import getcwd , listdir \r\n",
        "from os.path import join\r\n",
        "curr_dir = getcwd()\r\n",
        "drive_dir = join(curr_dir , 'drive','MyDrive')\r\n",
        "dataset_dir = join(drive_dir,'Codalab','HopeSpeech Detection For Equality,DiversityAnd Inclusion','Dataset')"
      ],
      "execution_count": 46,
      "outputs": []
    },
    {
      "cell_type": "code",
      "metadata": {
        "colab": {
          "base_uri": "https://localhost:8080/"
        },
        "id": "7YU1h8WhmqvK",
        "outputId": "96983b51-8078-4ea4-9352-a2902d5a6e15"
      },
      "source": [
        "listdir(dataset_dir)"
      ],
      "execution_count": 47,
      "outputs": [
        {
          "output_type": "execute_result",
          "data": {
            "text/plain": [
              "['english_hope_dev.csv',\n",
              " 'english_hope_train.csv',\n",
              " 'malayalam_hope_dev.csv',\n",
              " 'malayalam_hope_train.csv',\n",
              " 'tamil_hope_first_dev.csv',\n",
              " 'tamil_hope_first_train.csv',\n",
              " 'tamil_hope_test.csv',\n",
              " 'malayalam_hope_test.csv',\n",
              " 'english_hope_test.csv']"
            ]
          },
          "metadata": {
            "tags": []
          },
          "execution_count": 47
        }
      ]
    },
    {
      "cell_type": "markdown",
      "metadata": {
        "id": "FUPkZxjLVjLK"
      },
      "source": [
        "## Loading training data"
      ]
    },
    {
      "cell_type": "code",
      "metadata": {
        "colab": {
          "base_uri": "https://localhost:8080/",
          "height": 377
        },
        "id": "joone3H4bINR",
        "outputId": "26369e6f-7e54-41aa-80da-8ab65d3553ce"
      },
      "source": [
        "train_df_path = join(dataset_dir,'english_hope_train.csv')\r\n",
        "# Load the dataset into a pandas dataframe.\r\n",
        "train_df = pd.read_csv(train_df_path)\r\n",
        "\r\n",
        "# Report the number of sentences.\r\n",
        "print('Number of training sentences: {:,}\\n'.format(train_df.shape[0]))\r\n",
        "\r\n",
        "# Display 10 random rows from the data.\r\n",
        "train_df.sample(10)"
      ],
      "execution_count": 48,
      "outputs": [
        {
          "output_type": "stream",
          "text": [
            "Number of training sentences: 22,762\n",
            "\n"
          ],
          "name": "stdout"
        },
        {
          "output_type": "execute_result",
          "data": {
            "text/html": [
              "<div>\n",
              "<style scoped>\n",
              "    .dataframe tbody tr th:only-of-type {\n",
              "        vertical-align: middle;\n",
              "    }\n",
              "\n",
              "    .dataframe tbody tr th {\n",
              "        vertical-align: top;\n",
              "    }\n",
              "\n",
              "    .dataframe thead th {\n",
              "        text-align: right;\n",
              "    }\n",
              "</style>\n",
              "<table border=\"1\" class=\"dataframe\">\n",
              "  <thead>\n",
              "    <tr style=\"text-align: right;\">\n",
              "      <th></th>\n",
              "      <th>text</th>\n",
              "      <th>label</th>\n",
              "    </tr>\n",
              "  </thead>\n",
              "  <tbody>\n",
              "    <tr>\n",
              "      <th>22434</th>\n",
              "      <td>I want you to know that I watched this video w...</td>\n",
              "      <td>Hope_speech</td>\n",
              "    </tr>\n",
              "    <tr>\n",
              "      <th>9303</th>\n",
              "      <td>2020 is definitely the worst year I've witness...</td>\n",
              "      <td>Non_hope_speech</td>\n",
              "    </tr>\n",
              "    <tr>\n",
              "      <th>14935</th>\n",
              "      <td>My grandmother was superbutch and straight.</td>\n",
              "      <td>Non_hope_speech</td>\n",
              "    </tr>\n",
              "    <tr>\n",
              "      <th>9722</th>\n",
              "      <td>@Doc LMAO Liberals to have to fight alongside ...</td>\n",
              "      <td>Non_hope_speech</td>\n",
              "    </tr>\n",
              "    <tr>\n",
              "      <th>13345</th>\n",
              "      <td>​@Everything EVERYTHING!! Ironic how black peo...</td>\n",
              "      <td>Non_hope_speech</td>\n",
              "    </tr>\n",
              "    <tr>\n",
              "      <th>7445</th>\n",
              "      <td>Me and my frnd literally had this discussion d...</td>\n",
              "      <td>Non_hope_speech</td>\n",
              "    </tr>\n",
              "    <tr>\n",
              "      <th>5391</th>\n",
              "      <td>OMG sounds like a bunch of unattractive women ...</td>\n",
              "      <td>Non_hope_speech</td>\n",
              "    </tr>\n",
              "    <tr>\n",
              "      <th>18821</th>\n",
              "      <td>To the ones who think or feel... not all relig...</td>\n",
              "      <td>Hope_speech</td>\n",
              "    </tr>\n",
              "    <tr>\n",
              "      <th>1847</th>\n",
              "      <td>that girl that doesn’t “agree” with homosexual...</td>\n",
              "      <td>Non_hope_speech</td>\n",
              "    </tr>\n",
              "    <tr>\n",
              "      <th>11902</th>\n",
              "      <td>It would have been nice. I'm a female engineer...</td>\n",
              "      <td>Hope_speech</td>\n",
              "    </tr>\n",
              "  </tbody>\n",
              "</table>\n",
              "</div>"
            ],
            "text/plain": [
              "                                                    text            label\n",
              "22434  I want you to know that I watched this video w...      Hope_speech\n",
              "9303   2020 is definitely the worst year I've witness...  Non_hope_speech\n",
              "14935        My grandmother was superbutch and straight.  Non_hope_speech\n",
              "9722   @Doc LMAO Liberals to have to fight alongside ...  Non_hope_speech\n",
              "13345  ​@Everything EVERYTHING!! Ironic how black peo...  Non_hope_speech\n",
              "7445   Me and my frnd literally had this discussion d...  Non_hope_speech\n",
              "5391   OMG sounds like a bunch of unattractive women ...  Non_hope_speech\n",
              "18821  To the ones who think or feel... not all relig...      Hope_speech\n",
              "1847   that girl that doesn’t “agree” with homosexual...  Non_hope_speech\n",
              "11902  It would have been nice. I'm a female engineer...      Hope_speech"
            ]
          },
          "metadata": {
            "tags": []
          },
          "execution_count": 48
        }
      ]
    },
    {
      "cell_type": "code",
      "metadata": {
        "colab": {
          "base_uri": "https://localhost:8080/"
        },
        "id": "w4VW351225YK",
        "outputId": "577f8d60-cb35-4fb3-b833-1c848ff2d2a0"
      },
      "source": [
        "train_df['label'].value_counts()"
      ],
      "execution_count": 49,
      "outputs": [
        {
          "output_type": "execute_result",
          "data": {
            "text/plain": [
              "Non_hope_speech    20778\n",
              "Hope_speech         1962\n",
              "not-English           22\n",
              "Name: label, dtype: int64"
            ]
          },
          "metadata": {
            "tags": []
          },
          "execution_count": 49
        }
      ]
    },
    {
      "cell_type": "code",
      "metadata": {
        "id": "ooOv9QZtnLIF"
      },
      "source": [
        "\r\n",
        "le = LabelEncoder()\r\n",
        "train_df['label'] = le.fit_transform(train_df['label'])"
      ],
      "execution_count": 50,
      "outputs": []
    },
    {
      "cell_type": "code",
      "metadata": {
        "colab": {
          "base_uri": "https://localhost:8080/"
        },
        "id": "a89Bf4LpnigU",
        "outputId": "e8544dbb-3b74-4295-f28c-c3b03277167c"
      },
      "source": [
        "train_df['label'].value_counts()"
      ],
      "execution_count": 51,
      "outputs": [
        {
          "output_type": "execute_result",
          "data": {
            "text/plain": [
              "1    20778\n",
              "0     1962\n",
              "2       22\n",
              "Name: label, dtype: int64"
            ]
          },
          "metadata": {
            "tags": []
          },
          "execution_count": 51
        }
      ]
    },
    {
      "cell_type": "markdown",
      "metadata": {
        "id": "bvNeR4lTVnK0"
      },
      "source": [
        "### Loading `train_sentences` and `train_labels`"
      ]
    },
    {
      "cell_type": "code",
      "metadata": {
        "id": "EufQZx2dbKMT"
      },
      "source": [
        "# Get the lists of sentences and their labels.\r\n",
        "train_sentences = train_df['text'].values\r\n",
        "train_labels = train_df['label'].values"
      ],
      "execution_count": 52,
      "outputs": []
    },
    {
      "cell_type": "markdown",
      "metadata": {
        "id": "wnZSg5f7ZWs_"
      },
      "source": [
        "## Saving Class Names"
      ]
    },
    {
      "cell_type": "code",
      "metadata": {
        "id": "83tTT-wbZa1o"
      },
      "source": [
        "class_names = ['Hope_speech' , 'Non-hope-speech'  , 'not-English']"
      ],
      "execution_count": 53,
      "outputs": []
    },
    {
      "cell_type": "markdown",
      "metadata": {
        "id": "ToUbAgZ9ap63"
      },
      "source": [
        "## Loading the validation data"
      ]
    },
    {
      "cell_type": "code",
      "metadata": {
        "colab": {
          "base_uri": "https://localhost:8080/",
          "height": 377
        },
        "id": "Dle8VzoAjOLS",
        "outputId": "b1684c12-0c00-474f-e058-d64938b390e7"
      },
      "source": [
        "val_df_path = join(dataset_dir,'english_hope_dev.csv')\r\n",
        "# Load the dataset into a pandas dataframe.\r\n",
        "val_df = pd.read_csv(val_df_path)\r\n",
        "\r\n",
        "# Report the number of sentences.\r\n",
        "print('Number of training sentences: {:,}\\n'.format(val_df.shape[0]))\r\n",
        "\r\n",
        "# Display 10 random rows from the data.\r\n",
        "val_df.sample(10)"
      ],
      "execution_count": 54,
      "outputs": [
        {
          "output_type": "stream",
          "text": [
            "Number of training sentences: 2,843\n",
            "\n"
          ],
          "name": "stdout"
        },
        {
          "output_type": "execute_result",
          "data": {
            "text/html": [
              "<div>\n",
              "<style scoped>\n",
              "    .dataframe tbody tr th:only-of-type {\n",
              "        vertical-align: middle;\n",
              "    }\n",
              "\n",
              "    .dataframe tbody tr th {\n",
              "        vertical-align: top;\n",
              "    }\n",
              "\n",
              "    .dataframe thead th {\n",
              "        text-align: right;\n",
              "    }\n",
              "</style>\n",
              "<table border=\"1\" class=\"dataframe\">\n",
              "  <thead>\n",
              "    <tr style=\"text-align: right;\">\n",
              "      <th></th>\n",
              "      <th>text</th>\n",
              "      <th>label</th>\n",
              "    </tr>\n",
              "  </thead>\n",
              "  <tbody>\n",
              "    <tr>\n",
              "      <th>2834</th>\n",
              "      <td>She is the last truly 'intellectual' pop star</td>\n",
              "      <td>Non_hope_speech</td>\n",
              "    </tr>\n",
              "    <tr>\n",
              "      <th>1189</th>\n",
              "      <td>Yeah bicth and ur coming with us hahaha</td>\n",
              "      <td>Non_hope_speech</td>\n",
              "    </tr>\n",
              "    <tr>\n",
              "      <th>1426</th>\n",
              "      <td>BLM are certainly doing their best to exaspera...</td>\n",
              "      <td>Non_hope_speech</td>\n",
              "    </tr>\n",
              "    <tr>\n",
              "      <th>1620</th>\n",
              "      <td>Professor the police where called on him for a...</td>\n",
              "      <td>Non_hope_speech</td>\n",
              "    </tr>\n",
              "    <tr>\n",
              "      <th>2687</th>\n",
              "      <td>WHY COULDN'T THEY FIX HER MIC</td>\n",
              "      <td>Non_hope_speech</td>\n",
              "    </tr>\n",
              "    <tr>\n",
              "      <th>2240</th>\n",
              "      <td>@Phoebe Reynolds Also</td>\n",
              "      <td>Non_hope_speech</td>\n",
              "    </tr>\n",
              "    <tr>\n",
              "      <th>566</th>\n",
              "      <td>God does not hate gaysnHe does not hate anyone...</td>\n",
              "      <td>Hope_speech</td>\n",
              "    </tr>\n",
              "    <tr>\n",
              "      <th>2420</th>\n",
              "      <td>@TheMighty Derp nnStop trying to convince your...</td>\n",
              "      <td>Non_hope_speech</td>\n",
              "    </tr>\n",
              "    <tr>\n",
              "      <th>842</th>\n",
              "      <td>@CLIP IT! woah woah woahhhhh chill. I'm bisexu...</td>\n",
              "      <td>Non_hope_speech</td>\n",
              "    </tr>\n",
              "    <tr>\n",
              "      <th>1862</th>\n",
              "      <td>The brain mainly develops in the first 5 years...</td>\n",
              "      <td>Non_hope_speech</td>\n",
              "    </tr>\n",
              "  </tbody>\n",
              "</table>\n",
              "</div>"
            ],
            "text/plain": [
              "                                                   text            label\n",
              "2834      She is the last truly 'intellectual' pop star  Non_hope_speech\n",
              "1189            Yeah bicth and ur coming with us hahaha  Non_hope_speech\n",
              "1426  BLM are certainly doing their best to exaspera...  Non_hope_speech\n",
              "1620  Professor the police where called on him for a...  Non_hope_speech\n",
              "2687                      WHY COULDN'T THEY FIX HER MIC  Non_hope_speech\n",
              "2240                              @Phoebe Reynolds Also  Non_hope_speech\n",
              "566   God does not hate gaysnHe does not hate anyone...      Hope_speech\n",
              "2420  @TheMighty Derp nnStop trying to convince your...  Non_hope_speech\n",
              "842   @CLIP IT! woah woah woahhhhh chill. I'm bisexu...  Non_hope_speech\n",
              "1862  The brain mainly develops in the first 5 years...  Non_hope_speech"
            ]
          },
          "metadata": {
            "tags": []
          },
          "execution_count": 54
        }
      ]
    },
    {
      "cell_type": "code",
      "metadata": {
        "colab": {
          "base_uri": "https://localhost:8080/"
        },
        "id": "AypCmtBcDV6v",
        "outputId": "1e6d5235-a787-4c79-dbba-ac2dff92e579"
      },
      "source": [
        "val_df['label'].value_counts()"
      ],
      "execution_count": 55,
      "outputs": [
        {
          "output_type": "execute_result",
          "data": {
            "text/plain": [
              "Non_hope_speech    2569\n",
              "Hope_speech         272\n",
              "not-English           2\n",
              "Name: label, dtype: int64"
            ]
          },
          "metadata": {
            "tags": []
          },
          "execution_count": 55
        }
      ]
    },
    {
      "cell_type": "code",
      "metadata": {
        "id": "-CgK81lGDPKC"
      },
      "source": [
        "val_df['label'] = le.transform(val_df['label'])"
      ],
      "execution_count": 56,
      "outputs": []
    },
    {
      "cell_type": "code",
      "metadata": {
        "colab": {
          "base_uri": "https://localhost:8080/"
        },
        "id": "Yfgn-E6JDZQZ",
        "outputId": "95d1aed4-f120-479f-d6e6-9c4a2ca4d616"
      },
      "source": [
        "val_df['label'].value_counts()"
      ],
      "execution_count": 57,
      "outputs": [
        {
          "output_type": "execute_result",
          "data": {
            "text/plain": [
              "1    2569\n",
              "0     272\n",
              "2       2\n",
              "Name: label, dtype: int64"
            ]
          },
          "metadata": {
            "tags": []
          },
          "execution_count": 57
        }
      ]
    },
    {
      "cell_type": "markdown",
      "metadata": {
        "id": "DMdNNVqrDCuN"
      },
      "source": [
        "### Loading `val_sentences` and `val_labels`"
      ]
    },
    {
      "cell_type": "code",
      "metadata": {
        "id": "LvGhjUkaDCuO"
      },
      "source": [
        "# Get the lists of sentences and their labels.\r\n",
        "val_sentences = val_df['text'].values\r\n",
        "val_labels = val_df['label'].values"
      ],
      "execution_count": 58,
      "outputs": []
    },
    {
      "cell_type": "markdown",
      "metadata": {
        "id": "fS2UcOiEVuhm"
      },
      "source": [
        "## Handling class imbalance using `sklearn's compute_class_weight`\r\n",
        "\r\n"
      ]
    },
    {
      "cell_type": "code",
      "metadata": {
        "colab": {
          "base_uri": "https://localhost:8080/"
        },
        "id": "WL4tP_YkI1mY",
        "outputId": "9b160e0c-fa90-4d77-92c6-7e9a8cd89b65"
      },
      "source": [
        "\r\n",
        "#compute the class weights\r\n",
        "class_wts = compute_class_weight('balanced', np.unique(train_labels), train_labels)\r\n",
        "\r\n",
        "print(class_wts)"
      ],
      "execution_count": 59,
      "outputs": [
        {
          "output_type": "stream",
          "text": [
            "[  3.86714237   0.36516187 344.87878788]\n"
          ],
          "name": "stdout"
        }
      ]
    },
    {
      "cell_type": "markdown",
      "metadata": {
        "id": "z_WjMTuibsrf"
      },
      "source": [
        "## Helper Functions"
      ]
    },
    {
      "cell_type": "markdown",
      "metadata": {
        "id": "Bef28eHNV-_d"
      },
      "source": [
        "#### 1) Update Interval Function"
      ]
    },
    {
      "cell_type": "code",
      "metadata": {
        "id": "lBK0ujfEbMir"
      },
      "source": [
        "def good_update_interval(total_iters, num_desired_updates):\r\n",
        "    '''\r\n",
        "    This function will try to pick an intelligent progress update interval \r\n",
        "    based on the magnitude of the total iterations.\r\n",
        "\r\n",
        "    Parameters:\r\n",
        "      `total_iters` - The number of iterations in the for-loop.\r\n",
        "      `num_desired_updates` - How many times we want to see an update over the \r\n",
        "                              course of the for-loop.\r\n",
        "    '''\r\n",
        "    # Divide the total iterations by the desired number of updates. Most likely\r\n",
        "    # this will be some ugly number.\r\n",
        "    exact_interval = total_iters / num_desired_updates\r\n",
        "\r\n",
        "    # The `round` function has the ability to round down a number to, e.g., the\r\n",
        "    # nearest thousandth: round(exact_interval, -3)\r\n",
        "    #\r\n",
        "    # To determine the magnitude to round to, find the magnitude of the total,\r\n",
        "    # and then go one magnitude below that.\r\n",
        "\r\n",
        "    # Get the order of magnitude of the total.\r\n",
        "    order_of_mag = len(str(total_iters)) - 1\r\n",
        "\r\n",
        "    # Our update interval should be rounded to an order of magnitude smaller. \r\n",
        "    round_mag = order_of_mag - 1\r\n",
        "\r\n",
        "    # Round down and cast to an int.\r\n",
        "    update_interval = int(round(exact_interval, -round_mag))\r\n",
        "\r\n",
        "    # Don't allow the interval to be zero!\r\n",
        "    if update_interval == 0:\r\n",
        "        update_interval = 1\r\n",
        "\r\n",
        "    return update_interval"
      ],
      "execution_count": 60,
      "outputs": []
    },
    {
      "cell_type": "markdown",
      "metadata": {
        "id": "eMGycwGAWFyO"
      },
      "source": [
        "#### 2) Format time function"
      ]
    },
    {
      "cell_type": "code",
      "metadata": {
        "id": "c9zVyNQLm-3q"
      },
      "source": [
        "def format_time(elapsed):\r\n",
        "    '''\r\n",
        "    Takes a time in seconds and returns a string hh:mm:ss\r\n",
        "    '''\r\n",
        "    # Round to the nearest second.\r\n",
        "    elapsed_rounded = int(round((elapsed)))\r\n",
        "    \r\n",
        "    # Format as hh:mm:ss\r\n",
        "    return str(datetime.timedelta(seconds=elapsed_rounded))\r\n"
      ],
      "execution_count": 61,
      "outputs": []
    },
    {
      "cell_type": "markdown",
      "metadata": {
        "id": "EBAo04ENWw3n"
      },
      "source": [
        "#### 3) Make Smart Batches function"
      ]
    },
    {
      "cell_type": "code",
      "metadata": {
        "id": "nof-AUeoiZc2"
      },
      "source": [
        "def make_smart_batches(text_samples, labels, batch_size,tokenizer,max_input_length):\r\n",
        "    '''\r\n",
        "    This function combines all of the required steps to prepare batches.\r\n",
        "    '''\r\n",
        "\r\n",
        "    print('Creating Smart Batches from {:,} examples with batch size {:,}...\\n'.format(len(text_samples), batch_size))\r\n",
        "\r\n",
        "    # =========================\r\n",
        "    #   Tokenize & Truncate\r\n",
        "    # =========================\r\n",
        "\r\n",
        "    full_input_ids = []\r\n",
        "\r\n",
        "    # Tokenize all training examples\r\n",
        "    print('Tokenizing {:,} samples...'.format(len(labels)))\r\n",
        "\r\n",
        "    # Choose an interval on which to print progress updates.\r\n",
        "    update_interval = good_update_interval(total_iters=len(labels), num_desired_updates=10)\r\n",
        "\r\n",
        "    # For each training example...\r\n",
        "    for text in text_samples:\r\n",
        "        \r\n",
        "        # Report progress.\r\n",
        "        if ((len(full_input_ids) % update_interval) == 0):\r\n",
        "            print('  Tokenized {:,} samples.'.format(len(full_input_ids)))\r\n",
        "\r\n",
        "        # Tokenize the sample.\r\n",
        "        input_ids = tokenizer.encode(text=text,              # Text to encode.\r\n",
        "                                    add_special_tokens=True, # Do add specials.\r\n",
        "                                    max_length=max_input_length,      \r\n",
        "                                    truncation=True,         # Do Truncate!\r\n",
        "                                    padding=False)           # DO NOT pad.\r\n",
        "                                    \r\n",
        "        # Add the tokenized result to our list.\r\n",
        "        full_input_ids.append(input_ids)\r\n",
        "        \r\n",
        "    print('DONE.')\r\n",
        "    print('{:>10,} samples\\n'.format(len(full_input_ids)))\r\n",
        "\r\n",
        "    # =========================\r\n",
        "    #      Select Batches\r\n",
        "    # =========================    \r\n",
        "\r\n",
        "    # Sort the two lists together by the length of the input sequence.\r\n",
        "    samples = sorted(zip(full_input_ids, labels), key=lambda x: len(x[0]))\r\n",
        "\r\n",
        "    print('{:>10,} samples after sorting\\n'.format(len(samples)))\r\n",
        "\r\n",
        "    import random\r\n",
        "\r\n",
        "    # List of batches that we'll construct.\r\n",
        "    batch_ordered_sentences = []\r\n",
        "    batch_ordered_labels = []\r\n",
        "\r\n",
        "    print('Creating batches of size {:}...'.format(batch_size))\r\n",
        "\r\n",
        "    # Choose an interval on which to print progress updates.\r\n",
        "    update_interval = good_update_interval(total_iters=len(samples), num_desired_updates=10)\r\n",
        "    \r\n",
        "    # Loop over all of the input samples...    \r\n",
        "    while len(samples) > 0:\r\n",
        "        \r\n",
        "        # Report progress.\r\n",
        "        if ((len(batch_ordered_sentences) % update_interval) == 0 \\\r\n",
        "            and not len(batch_ordered_sentences) == 0):\r\n",
        "            print('  Selected {:,} batches.'.format(len(batch_ordered_sentences)))\r\n",
        "\r\n",
        "        # `to_take` is our actual batch size. It will be `batch_size` until \r\n",
        "        # we get to the last batch, which may be smaller. \r\n",
        "        to_take = min(batch_size, len(samples))\r\n",
        "\r\n",
        "        # Pick a random index in the list of remaining samples to start\r\n",
        "        # our batch at.\r\n",
        "        select = random.randint(0, len(samples) - to_take)\r\n",
        "\r\n",
        "        # Select a contiguous batch of samples starting at `select`.\r\n",
        "        #print(\"Selecting batch from {:} to {:}\".format(select, select+to_take))\r\n",
        "        batch = samples[select:(select + to_take)]\r\n",
        "\r\n",
        "        #print(\"Batch length:\", len(batch))\r\n",
        "\r\n",
        "        # Each sample is a tuple--split them apart to create a separate list of \r\n",
        "        # sequences and a list of labels for this batch.\r\n",
        "        batch_ordered_sentences.append([s[0] for s in batch])\r\n",
        "        batch_ordered_labels.append([s[1] for s in batch])\r\n",
        "\r\n",
        "        # Remove these samples from the list.\r\n",
        "        del samples[select:select + to_take]\r\n",
        "\r\n",
        "    print('\\n  DONE - Selected {:,} batches.\\n'.format(len(batch_ordered_sentences)))\r\n",
        "\r\n",
        "    # =========================\r\n",
        "    #        Add Padding\r\n",
        "    # =========================    \r\n",
        "\r\n",
        "    print('Padding out sequences within each batch...')\r\n",
        "\r\n",
        "    py_inputs = []\r\n",
        "    py_attn_masks = []\r\n",
        "    py_labels = []\r\n",
        "\r\n",
        "    # For each batch...\r\n",
        "    for (batch_inputs, batch_labels) in zip(batch_ordered_sentences, batch_ordered_labels):\r\n",
        "\r\n",
        "        # New version of the batch, this time with padded sequences and now with\r\n",
        "        # attention masks defined.\r\n",
        "        batch_padded_inputs = []\r\n",
        "        batch_attn_masks = []\r\n",
        "        \r\n",
        "        # First, find the longest sample in the batch. \r\n",
        "        # Note that the sequences do currently include the special tokens!\r\n",
        "        max_size = max([len(sen) for sen in batch_inputs])\r\n",
        "\r\n",
        "        # For each input in this batch...\r\n",
        "        for sen in batch_inputs:\r\n",
        "            \r\n",
        "            # How many pad tokens do we need to add?\r\n",
        "            num_pads = max_size - len(sen)\r\n",
        "\r\n",
        "            # Add `num_pads` padding tokens to the end of the sequence.\r\n",
        "            padded_input = sen + [tokenizer.pad_token_id]*num_pads\r\n",
        "\r\n",
        "            # Define the attention mask--it's just a `1` for every real token\r\n",
        "            # and a `0` for every padding token.\r\n",
        "            attn_mask = [1] * len(sen) + [0] * num_pads\r\n",
        "\r\n",
        "            # Add the padded results to the batch.\r\n",
        "            batch_padded_inputs.append(padded_input)\r\n",
        "            batch_attn_masks.append(attn_mask)\r\n",
        "\r\n",
        "        # Our batch has been padded, so we need to save this updated batch.\r\n",
        "        # We also need the inputs to be PyTorch tensors, so we'll do that here.\r\n",
        "        # Todo - Michael's code specified \"dtype=torch.long\"\r\n",
        "        py_inputs.append(torch.tensor(batch_padded_inputs))\r\n",
        "        py_attn_masks.append(torch.tensor(batch_attn_masks))\r\n",
        "        py_labels.append(torch.tensor(batch_labels))\r\n",
        "    \r\n",
        "    print('  DONE.')\r\n",
        "\r\n",
        "    # Return the smart-batched dataset!\r\n",
        "    return (py_inputs, py_attn_masks, py_labels)\r\n"
      ],
      "execution_count": 62,
      "outputs": []
    },
    {
      "cell_type": "markdown",
      "metadata": {
        "id": "d3-BH_94PXsO"
      },
      "source": [
        "### 4) Make Smart Batches On Test Set (Without labels)"
      ]
    },
    {
      "cell_type": "code",
      "metadata": {
        "id": "ggH8AkAEaV9N"
      },
      "source": [
        "def make_smart_batches_on_test(text_samples, text_ids, batch_size,tokenizer,max_input_length):\r\n",
        "    '''\r\n",
        "    This function combines all of the required steps to prepare batches.\r\n",
        "    '''\r\n",
        "\r\n",
        "    print('Creating Smart Batches from {:,} examples with batch size {:,}...\\n'.format(len(text_samples), batch_size))\r\n",
        "\r\n",
        "    # =========================\r\n",
        "    #   Tokenize & Truncate\r\n",
        "    # =========================\r\n",
        "\r\n",
        "    full_input_ids = []\r\n",
        "\r\n",
        "    # Tokenize all training examples\r\n",
        "    print('Tokenizing {:,} samples...'.format(len(text_samples)))\r\n",
        "\r\n",
        "    # Choose an interval on which to print progress updates.\r\n",
        "    update_interval = good_update_interval(total_iters=len(text_samples), num_desired_updates=10)\r\n",
        "\r\n",
        "    # For each training example...\r\n",
        "    for text in text_samples:\r\n",
        "        \r\n",
        "        # Report progress.\r\n",
        "        if ((len(full_input_ids) % update_interval) == 0):\r\n",
        "            print('  Tokenized {:,} samples.'.format(len(full_input_ids)))\r\n",
        "\r\n",
        "        # Tokenize the sample.\r\n",
        "        input_ids = tokenizer.encode(text=text,              # Text to encode.\r\n",
        "                                    add_special_tokens=True, # Do add specials.\r\n",
        "                                    max_length=max_input_length,      \r\n",
        "                                    truncation=True,         # Do Truncate!\r\n",
        "                                    padding=False)           # DO NOT pad.\r\n",
        "                                    \r\n",
        "        # Add the tokenized result to our list.\r\n",
        "        full_input_ids.append(input_ids)\r\n",
        "        \r\n",
        "    print('DONE.')\r\n",
        "    print('{:>10,} samples\\n'.format(len(full_input_ids)))\r\n",
        "\r\n",
        "    # =========================\r\n",
        "    #      Select Batches\r\n",
        "    # =========================    \r\n",
        "\r\n",
        "    # Sort the two lists together by the length of the input sequence.\r\n",
        "    samples = sorted(zip(full_input_ids, text_ids), key=lambda x: len(x[0]))\r\n",
        "\r\n",
        "    print('{:>10,} samples after sorting\\n'.format(len(samples)))\r\n",
        "\r\n",
        "    import random\r\n",
        "\r\n",
        "    # List of batches that we'll construct.\r\n",
        "    batch_ordered_sentences = []\r\n",
        "    batch_ordered_ids = []\r\n",
        "\r\n",
        "    print('Creating batches of size {:}...'.format(batch_size))\r\n",
        "\r\n",
        "    # Choose an interval on which to print progress updates.\r\n",
        "    update_interval = good_update_interval(total_iters=len(samples), num_desired_updates=10)\r\n",
        "    \r\n",
        "    # Loop over all of the input samples...    \r\n",
        "    while len(samples) > 0:\r\n",
        "        \r\n",
        "        # Report progress.\r\n",
        "        if ((len(batch_ordered_sentences) % update_interval) == 0 \\\r\n",
        "            and not len(batch_ordered_sentences) == 0):\r\n",
        "            print('  Selected {:,} batches.'.format(len(batch_ordered_sentences)))\r\n",
        "\r\n",
        "        # `to_take` is our actual batch size. It will be `batch_size` until \r\n",
        "        # we get to the last batch, which may be smaller. \r\n",
        "        to_take = min(batch_size, len(samples))\r\n",
        "\r\n",
        "        # Pick a random index in the list of remaining samples to start\r\n",
        "        # our batch at.\r\n",
        "        select = random.randint(0, len(samples) - to_take)\r\n",
        "\r\n",
        "        # Select a contiguous batch of samples starting at `select`.\r\n",
        "        #print(\"Selecting batch from {:} to {:}\".format(select, select+to_take))\r\n",
        "        batch = samples[select:(select + to_take)]\r\n",
        "\r\n",
        "        #print(\"Batch length:\", len(batch))\r\n",
        "\r\n",
        "        # Each sample is a tuple--split them apart to create a separate list of \r\n",
        "        # sequences and a list of labels for this batch.\r\n",
        "        batch_ordered_sentences.append([s[0] for s in batch])\r\n",
        "        batch_ordered_ids.append([s[1] for s in batch])\r\n",
        "\r\n",
        "        # Remove these samples from the list.\r\n",
        "        del samples[select:select + to_take]\r\n",
        "\r\n",
        "    print('\\n  DONE - Selected {:,} batches.\\n'.format(len(batch_ordered_sentences)))\r\n",
        "\r\n",
        "    # =========================\r\n",
        "    #        Add Padding\r\n",
        "    # =========================    \r\n",
        "\r\n",
        "    print('Padding out sequences within each batch...')\r\n",
        "\r\n",
        "    py_inputs = []\r\n",
        "    py_attn_masks = []\r\n",
        "    py_ids = []\r\n",
        "\r\n",
        "    # For each batch...\r\n",
        "    for (batch_inputs, batch_ids) in zip(batch_ordered_sentences, batch_ordered_ids):\r\n",
        "\r\n",
        "        # New version of the batch, this time with padded sequences and now with\r\n",
        "        # attention masks defined.\r\n",
        "        batch_padded_inputs = []\r\n",
        "        batch_attn_masks = []\r\n",
        "        \r\n",
        "        # First, find the longest sample in the batch. \r\n",
        "        # Note that the sequences do currently include the special tokens!\r\n",
        "        max_size = max([len(sen) for sen in batch_inputs])\r\n",
        "\r\n",
        "        # For each input in this batch...\r\n",
        "        for sen in batch_inputs:\r\n",
        "            \r\n",
        "            # How many pad tokens do we need to add?\r\n",
        "            num_pads = max_size - len(sen)\r\n",
        "\r\n",
        "            # Add `num_pads` padding tokens to the end of the sequence.\r\n",
        "            padded_input = sen + [tokenizer.pad_token_id]*num_pads\r\n",
        "\r\n",
        "            # Define the attention mask--it's just a `1` for every real token\r\n",
        "            # and a `0` for every padding token.\r\n",
        "            attn_mask = [1] * len(sen) + [0] * num_pads\r\n",
        "\r\n",
        "            # Add the padded results to the batch.\r\n",
        "            batch_padded_inputs.append(padded_input)\r\n",
        "            batch_attn_masks.append(attn_mask)\r\n",
        "\r\n",
        "        # Our batch has been padded, so we need to save this updated batch.\r\n",
        "        # We also need the inputs to be PyTorch tensors, so we'll do that here.\r\n",
        "        # Todo - Michael's code specified \"dtype=torch.long\"\r\n",
        "        py_inputs.append(torch.tensor(batch_padded_inputs))\r\n",
        "        py_attn_masks.append(torch.tensor(batch_attn_masks))\r\n",
        "        py_ids.append(torch.tensor(batch_ids))\r\n",
        "    \r\n",
        "    print('  DONE.')\r\n",
        "\r\n",
        "    # Return the smart-batched dataset!\r\n",
        "    return (py_inputs, py_attn_masks, py_ids)\r\n"
      ],
      "execution_count": 63,
      "outputs": []
    },
    {
      "cell_type": "markdown",
      "metadata": {
        "id": "sOWk_8lpWO17"
      },
      "source": [
        "### 5) Function for plotting training history"
      ]
    },
    {
      "cell_type": "code",
      "metadata": {
        "id": "R7-FAyfnWM65"
      },
      "source": [
        "def plot_training_history(history):\r\n",
        "  fig, (ax1, ax2) = plt.subplots(1, 2, figsize=(18, 6))\r\n",
        "\r\n",
        "  ax1.plot(history['train_loss'], label='train loss')\r\n",
        "  ax1.plot(history['val_loss'], label='validation loss')\r\n",
        "\r\n",
        "  ax1.xaxis.set_major_locator(MaxNLocator(integer=True))\r\n",
        "  ax1.set_ylim([-0.05, 1.05])\r\n",
        "  ax1.legend()\r\n",
        "  ax1.set_ylabel('Loss')\r\n",
        "  ax1.set_xlabel('Epoch')\r\n",
        "\r\n",
        "  ax2.plot(history['train_acc'], label='train accuracy')\r\n",
        "  ax2.plot(history['val_acc'], label='validation accuracy')\r\n",
        "\r\n",
        "  ax2.xaxis.set_major_locator(MaxNLocator(integer=True))\r\n",
        "  ax2.set_ylim([-0.05, 1.05])\r\n",
        "  ax2.legend()\r\n",
        "\r\n",
        "  ax2.set_ylabel('Accuracy')\r\n",
        "  ax2.set_xlabel('Epoch')\r\n",
        "\r\n",
        "  fig.suptitle('Training history')"
      ],
      "execution_count": 64,
      "outputs": []
    },
    {
      "cell_type": "markdown",
      "metadata": {
        "id": "A7QOTORh_JHa"
      },
      "source": [
        "### 6) Function to check accuracy"
      ]
    },
    {
      "cell_type": "code",
      "metadata": {
        "id": "yzRDobQ6MwaR"
      },
      "source": [
        "def check_accuracy(predictions,true_labels):\r\n",
        "  # Combine the results across the batches.\r\n",
        "  predictions = np.concatenate(predictions, axis=0)\r\n",
        "  true_labels = np.concatenate(true_labels, axis=0)\r\n",
        "\r\n",
        "  # Choose the label with the highest score as our prediction.\r\n",
        "  preds = np.argmax(predictions, axis=1).flatten()\r\n",
        "\r\n",
        "  # Calculate simple flat accuracy -- number correct over total number.\r\n",
        "  accuracy = (preds == true_labels).mean()\r\n",
        "\r\n",
        "  return accuracy"
      ],
      "execution_count": 65,
      "outputs": []
    },
    {
      "cell_type": "markdown",
      "metadata": {
        "id": "D7TtFkV5_Olz"
      },
      "source": [
        "### 7) Function to evaluate model"
      ]
    },
    {
      "cell_type": "code",
      "metadata": {
        "id": "TSBNdYHYMA7Q"
      },
      "source": [
        "def eval_model(model,py_inputs, py_attn_masks, py_labels):\r\n",
        "# Prediction on test set\r\n",
        "  t0 = time.time()\r\n",
        "\r\n",
        "  print('Doing validation on {:,} sentences...'.format(len(py_labels)))\r\n",
        "\r\n",
        "  # Put model in evaluation mode\r\n",
        "  model.eval()\r\n",
        "\r\n",
        "  # Tracking variables \r\n",
        "  predictions , true_labels = [], []\r\n",
        "\r\n",
        "  # Choose an interval on which to print progress updates.\r\n",
        "  update_interval = good_update_interval(total_iters=len(py_inputs), num_desired_updates=10)\r\n",
        "\r\n",
        "  # Measure elapsed time.\r\n",
        "  t0 = time.time()\r\n",
        "  total_val_loss = 0\r\n",
        "\r\n",
        "  # Put model in evaluation mode\r\n",
        "  model.eval()\r\n",
        "\r\n",
        "  # For each batch of training data...\r\n",
        "  for step in range(0, len(py_inputs)):\r\n",
        "\r\n",
        "      # Progress update every 100 batches.\r\n",
        "      if step % update_interval == 0 and not step == 0:\r\n",
        "          # Calculate elapsed time in minutes.\r\n",
        "          elapsed = format_time(time.time() - t0)\r\n",
        "          \r\n",
        "          # Calculate the time remaining based on our progress.\r\n",
        "          steps_per_sec = (time.time() - t0) / step\r\n",
        "          remaining_sec = steps_per_sec * (len(py_inputs) - step)\r\n",
        "          remaining = format_time(remaining_sec)\r\n",
        "\r\n",
        "          # Report progress.\r\n",
        "          print('  Batch {:>7,}  of  {:>7,}.    Elapsed: {:}.  Remaining: {:}'.format(step, len(py_inputs), elapsed, remaining))\r\n",
        "\r\n",
        "      # Copy the batch to the GPU.\r\n",
        "      b_input_ids = py_inputs[step].to(device)\r\n",
        "      b_input_mask = py_attn_masks[step].to(device)\r\n",
        "      b_labels = py_labels[step].to(device)\r\n",
        "    \r\n",
        "      # Telling the model not to compute or store gradients, saving memory and \r\n",
        "      # speeding up prediction\r\n",
        "      with torch.no_grad():\r\n",
        "        output = model(b_input_ids, \r\n",
        "                             token_type_ids=None, \r\n",
        "                             attention_mask=b_input_mask, \r\n",
        "                             labels=b_labels)\r\n",
        "\r\n",
        "\r\n",
        "      logits = output.logits \r\n",
        "      loss = output.loss\r\n",
        "      # Move logits and labels to CPU\r\n",
        "      logits = logits.detach().cpu().numpy()\r\n",
        "      label_ids = b_labels.to('cpu').numpy()\r\n",
        "    \r\n",
        "      # Store predictions and true labels\r\n",
        "      predictions.append(logits)\r\n",
        "      true_labels.append(label_ids)\r\n",
        "\r\n",
        "      total_val_loss += loss.item()\r\n",
        "  \r\n",
        "  val_accuracy = check_accuracy(predictions,true_labels)\r\n",
        "\r\n",
        "  validation_time = format_time(time.time() - t0)\r\n",
        "  \r\n",
        "  # Calculate the average loss over all of the batches.\r\n",
        "  avg_val_loss = total_val_loss / len(py_inputs)     \r\n",
        "    \r\n",
        "\r\n",
        "  # print('Accuracy: {:.3f}'.format(val_accuracy))\r\n",
        "  return (avg_val_loss,val_accuracy,validation_time)\r\n"
      ],
      "execution_count": 66,
      "outputs": []
    },
    {
      "cell_type": "markdown",
      "metadata": {
        "id": "Lrt_FyJIbC8j"
      },
      "source": [
        "### 8) Function for making predictions on our test dataset"
      ]
    },
    {
      "cell_type": "code",
      "metadata": {
        "id": "eylCkH2Zipq5"
      },
      "source": [
        "def get_predictions(py_inputs, py_attn_masks, py_labels):\r\n",
        "\r\n",
        "  print('Predicting labels for {:,} test batches...'.format(len(py_labels)))\r\n",
        "\r\n",
        "  # Put model in evaluation mode\r\n",
        "  model.eval()\r\n",
        "\r\n",
        "  # Tracking variables \r\n",
        "  predictions , true_labels = [], []\r\n",
        "\r\n",
        "  # Choose an interval on which to print progress updates.\r\n",
        "  update_interval = good_update_interval(total_iters=len(py_inputs), num_desired_updates=10)\r\n",
        "\r\n",
        "  # Measure elapsed time.\r\n",
        "  t0 = time.time()\r\n",
        "\r\n",
        "  # Put model in evaluation mode\r\n",
        "  model.eval()\r\n",
        "\r\n",
        "  # For each batch of training data...\r\n",
        "  for step in range(0, len(py_inputs)):\r\n",
        "\r\n",
        "      # Progress update every 100 batches.\r\n",
        "      if step % update_interval == 0 and not step == 0:\r\n",
        "          # Calculate elapsed time in minutes.\r\n",
        "          elapsed = format_time(time.time() - t0)\r\n",
        "          \r\n",
        "          # Calculate the time remaining based on our progress.\r\n",
        "          steps_per_sec = (time.time() - t0) / step\r\n",
        "          remaining_sec = steps_per_sec * (len(py_inputs) - step)\r\n",
        "          remaining = format_time(remaining_sec)\r\n",
        "\r\n",
        "          # Report progress.\r\n",
        "          print('  Batch {:>7,}  of  {:>7,}.    Elapsed: {:}.  Remaining: {:}'.format(step, len(py_inputs), elapsed, remaining))\r\n",
        "\r\n",
        "      # Copy the batch to the GPU.\r\n",
        "      b_input_ids = py_inputs[step].to(device)\r\n",
        "      b_input_mask = py_attn_masks[step].to(device)\r\n",
        "      b_labels = py_labels[step].to(device)\r\n",
        "    \r\n",
        "      # Telling the model not to compute or store gradients, saving memory and \r\n",
        "      # speeding up prediction\r\n",
        "      with torch.no_grad():\r\n",
        "          # Forward pass, calculate logit predictions\r\n",
        "          outputs = model(b_input_ids, b_input_mask)\r\n",
        "\r\n",
        "      logits = outputs.logits \r\n",
        "\r\n",
        "      # Move logits and labels to CPU\r\n",
        "      logits = logits.detach().cpu().numpy()\r\n",
        "      label_ids = b_labels.to('cpu').numpy()\r\n",
        "    \r\n",
        "      # Store predictions and true labels\r\n",
        "      predictions.append(logits)\r\n",
        "      true_labels.append(label_ids)\r\n",
        "      # Combine the results across the batches.\r\n",
        "  predictions = np.concatenate(predictions, axis=0)\r\n",
        "  true_labels = np.concatenate(true_labels, axis=0)\r\n",
        "\r\n",
        "      # Choose the label with the highest score as our prediction.\r\n",
        "  preds = np.argmax(predictions, axis=1).flatten()\r\n",
        "\r\n",
        "  return (preds,true_labels)"
      ],
      "execution_count": 67,
      "outputs": []
    },
    {
      "cell_type": "markdown",
      "metadata": {
        "id": "eiRNCS-EbZmy"
      },
      "source": [
        "### 9) Function for making predictions on test dataset(without labels)"
      ]
    },
    {
      "cell_type": "code",
      "metadata": {
        "id": "RIuwhVSmZvkd"
      },
      "source": [
        "def get_predictions_test(py_inputs, py_attn_masks,py_ids):\r\n",
        "\r\n",
        "  print('Predicting labels for {:,} test batches...'.format(len(py_inputs)))\r\n",
        "\r\n",
        "  # Put model in evaluation mode\r\n",
        "  model.eval()\r\n",
        "\r\n",
        "  # Tracking variables \r\n",
        "  predictions , true_labels ,ids = [], [] , []\r\n",
        "\r\n",
        "  # Choose an interval on which to print progress updates.\r\n",
        "  update_interval = good_update_interval(total_iters=len(py_inputs), num_desired_updates=10)\r\n",
        "\r\n",
        "  # Measure elapsed time.\r\n",
        "  t0 = time.time()\r\n",
        "\r\n",
        "  # Put model in evaluation mode\r\n",
        "  model.eval()\r\n",
        "\r\n",
        "  # For each batch of training data...\r\n",
        "  for step in range(0, len(py_inputs)):\r\n",
        "\r\n",
        "      # Progress update every 100 batches.\r\n",
        "      if step % update_interval == 0 and not step == 0:\r\n",
        "          # Calculate elapsed time in minutes.\r\n",
        "          elapsed = format_time(time.time() - t0)\r\n",
        "          \r\n",
        "          # Calculate the time remaining based on our progress.\r\n",
        "          steps_per_sec = (time.time() - t0) / step\r\n",
        "          remaining_sec = steps_per_sec * (len(py_inputs) - step)\r\n",
        "          remaining = format_time(remaining_sec)\r\n",
        "\r\n",
        "          # Report progress.\r\n",
        "          print('  Batch {:>7,}  of  {:>7,}.    Elapsed: {:}.  Remaining: {:}'.format(step, len(py_inputs), elapsed, remaining))\r\n",
        "\r\n",
        "      # Copy the batch to the GPU.\r\n",
        "      b_input_ids = py_inputs[step].to(device)\r\n",
        "      b_input_mask = py_attn_masks[step].to(device)\r\n",
        "      b_ids = py_ids[step].to(device)\r\n",
        "    \r\n",
        "      # Telling the model not to compute or store gradients, saving memory and \r\n",
        "      # speeding up prediction\r\n",
        "      with torch.no_grad():\r\n",
        "          # Forward pass, calculate logit predictions\r\n",
        "          outputs = model(b_input_ids, b_input_mask)\r\n",
        "\r\n",
        "      logits = outputs.logits \r\n",
        "\r\n",
        "      # Move logits and labels to CPU\r\n",
        "      logits = logits.detach().cpu().numpy()\r\n",
        "      b_ids = b_ids.detach().cpu().numpy()\r\n",
        "      # Store predictions\r\n",
        "      predictions.append(logits)\r\n",
        "      ids.append(b_ids)\r\n",
        "      # Combine the results across the batches.\r\n",
        "  predictions = np.concatenate(predictions, axis=0)\r\n",
        "  ids = np.concatenate(ids,axis=0)\r\n",
        "  # Choose the label with the highest score as our prediction.\r\n",
        "  preds = np.argmax(predictions, axis=1).flatten()\r\n",
        "\r\n",
        "  return ids,preds"
      ],
      "execution_count": 68,
      "outputs": []
    },
    {
      "cell_type": "markdown",
      "metadata": {
        "id": "4IM8r_ddYZZS"
      },
      "source": [
        "### 10) Confusion Matrix Helper Function"
      ]
    },
    {
      "cell_type": "code",
      "metadata": {
        "id": "DqNaS8SrBox5"
      },
      "source": [
        "def show_confusion_matrix(confusion_matrix, class_names):\r\n",
        "\r\n",
        "  cm = confusion_matrix.copy()\r\n",
        "\r\n",
        "  cell_counts = cm.flatten()\r\n",
        "\r\n",
        "  cm_row_norm = cm / cm.sum(axis=1)[:, np.newaxis]\r\n",
        "\r\n",
        "  row_percentages = [\"{0:.2f}\".format(value) for value in cm_row_norm.flatten()]\r\n",
        "\r\n",
        "  cell_labels = [f\"{cnt}\\n{per}\" for cnt, per in zip(cell_counts, row_percentages)]\r\n",
        "  cell_labels = np.asarray(cell_labels).reshape(cm.shape[0], cm.shape[1])\r\n",
        "\r\n",
        "  df_cm = pd.DataFrame(cm_row_norm, index=class_names, columns=class_names)\r\n",
        "\r\n",
        "  hmap = sns.heatmap(df_cm, annot=cell_labels, fmt=\"\", cmap=\"Blues\")\r\n",
        "  hmap.yaxis.set_ticklabels(hmap.yaxis.get_ticklabels(), rotation=0, ha='right')\r\n",
        "  hmap.xaxis.set_ticklabels(hmap.xaxis.get_ticklabels(), rotation=30, ha='right')\r\n",
        "  plt.ylabel('True Sign')\r\n",
        "  plt.xlabel('Predicted Sign');"
      ],
      "execution_count": 69,
      "outputs": []
    },
    {
      "cell_type": "markdown",
      "metadata": {
        "id": "OVs3Jb3Vb89i"
      },
      "source": [
        "## Smart Batching of the training data"
      ]
    },
    {
      "cell_type": "code",
      "metadata": {
        "colab": {
          "base_uri": "https://localhost:8080/"
        },
        "id": "fIlwEvcMb4pb",
        "outputId": "7b689960-0a2d-43b2-fb6a-298afaaa1596"
      },
      "source": [
        "model_name = 'ai4bharat/indic-bert'\r\n",
        "# Load the BERT tokenizer.\r\n",
        "print(f'Loading {model_name} tokenizer...')\r\n",
        "tokenizer = AutoTokenizer.from_pretrained(model_name, use_fast=False)"
      ],
      "execution_count": 70,
      "outputs": [
        {
          "output_type": "stream",
          "text": [
            "Loading ai4bharat/indic-bert tokenizer...\n"
          ],
          "name": "stdout"
        }
      ]
    },
    {
      "cell_type": "code",
      "metadata": {
        "id": "cWNt4eOLofmF"
      },
      "source": [
        "lengths = []\r\n",
        "for text in train_sentences:\r\n",
        "  lengths.append(len(text))       "
      ],
      "execution_count": 71,
      "outputs": []
    },
    {
      "cell_type": "code",
      "metadata": {
        "colab": {
          "base_uri": "https://localhost:8080/",
          "height": 427
        },
        "id": "hbdGRA3Bo02O",
        "outputId": "aa33a19f-a52f-44ca-db1b-23473fc6bb60"
      },
      "source": [
        "\r\n",
        "# Use plot styling from seaborn.\r\n",
        "sns.set(style='darkgrid')\r\n",
        "\r\n",
        "# Increase the plot size and font size.\r\n",
        "sns.set(font_scale=1.5)\r\n",
        "plt.rcParams[\"figure.figsize\"] = (12,6)\r\n",
        "\r\n",
        "plt.scatter(range(0, len(lengths)), lengths, marker=\"|\")\r\n",
        "\r\n",
        "plt.xlabel('Sample Number')\r\n",
        "plt.ylabel('Sequence Length')\r\n",
        "plt.title('Samples BEFORE Tokenizing')\r\n",
        "\r\n",
        "plt.show()"
      ],
      "execution_count": 72,
      "outputs": [
        {
          "output_type": "display_data",
          "data": {
            "image/png": "[encoded data removed]",
            "text/plain": [
              "<Figure size 864x432 with 1 Axes>"
            ]
          },
          "metadata": {
            "tags": []
          }
        }
      ]
    },
    {
      "cell_type": "markdown",
      "metadata": {
        "id": "9rMhLNhPcZjU"
      },
      "source": [
        "### Tokenizing the sequences"
      ]
    },
    {
      "cell_type": "code",
      "metadata": {
        "id": "t7JsLi3EdEje"
      },
      "source": [
        "max_input_length = 400"
      ],
      "execution_count": 73,
      "outputs": []
    },
    {
      "cell_type": "code",
      "metadata": {
        "colab": {
          "base_uri": "https://localhost:8080/"
        },
        "id": "J968o8RJcUEd",
        "outputId": "4d462ce8-f0ea-4ab3-89c8-cdc0cffb8d83"
      },
      "source": [
        "full_input_ids = []\r\n",
        "labels = []\r\n",
        "\r\n",
        "# Tokenize all training examples\r\n",
        "print('Tokenizing {:,} training samples...'.format(len(train_sentences)))\r\n",
        "\r\n",
        "# Choose an interval on which to print progress updates.\r\n",
        "update_interval = good_update_interval(total_iters=len(train_sentences), num_desired_updates=10)\r\n",
        "\r\n",
        "# For each training example...\r\n",
        "for text in train_sentences:\r\n",
        "    \r\n",
        "    # Report progress.\r\n",
        "    if ((len(full_input_ids) % update_interval) == 0):\r\n",
        "        print('  Tokenized {:,} samples.'.format(len(full_input_ids)))\r\n",
        "\r\n",
        "    # Tokenize the sentence.\r\n",
        "    input_ids = tokenizer.encode(text=text,           \r\n",
        "                                 add_special_tokens=True, \r\n",
        "                                 max_length=max_input_length,  \r\n",
        "                                 truncation=True,     \r\n",
        "                                 padding=False)       \r\n",
        "                                 \r\n",
        "    # Add the tokenized result to our list.\r\n",
        "    full_input_ids.append(input_ids)\r\n",
        "    \r\n",
        "print('DONE.')\r\n",
        "print('{:>10,} samples'.format(len(full_input_ids)))"
      ],
      "execution_count": 74,
      "outputs": [
        {
          "output_type": "stream",
          "text": [
            "Tokenizing 22,762 training samples...\n",
            "  Tokenized 0 samples.\n",
            "  Tokenized 2,000 samples.\n",
            "  Tokenized 4,000 samples.\n",
            "  Tokenized 6,000 samples.\n",
            "  Tokenized 8,000 samples.\n",
            "  Tokenized 10,000 samples.\n",
            "  Tokenized 12,000 samples.\n",
            "  Tokenized 14,000 samples.\n",
            "  Tokenized 16,000 samples.\n",
            "  Tokenized 18,000 samples.\n",
            "  Tokenized 20,000 samples.\n",
            "  Tokenized 22,000 samples.\n",
            "DONE.\n",
            "    22,762 samples\n"
          ],
          "name": "stdout"
        }
      ]
    },
    {
      "cell_type": "code",
      "metadata": {
        "id": "rZzhO2tZeXur"
      },
      "source": [
        "# Get all of the lengths.\r\n",
        "unsorted_lengths = [len(x) for x in full_input_ids]"
      ],
      "execution_count": 75,
      "outputs": []
    },
    {
      "cell_type": "code",
      "metadata": {
        "colab": {
          "base_uri": "https://localhost:8080/",
          "height": 427
        },
        "id": "x7c_mYuVed_H",
        "outputId": "4f80e04e-cf64-4aed-c130-a5b4ddfc204d"
      },
      "source": [
        "\r\n",
        "# Use plot styling from seaborn.\r\n",
        "sns.set(style='darkgrid')\r\n",
        "\r\n",
        "# Increase the plot size and font size.\r\n",
        "sns.set(font_scale=1.5)\r\n",
        "plt.rcParams[\"figure.figsize\"] = (12,6)\r\n",
        "\r\n",
        "plt.scatter(range(0, len(unsorted_lengths)), unsorted_lengths, marker=\"|\")\r\n",
        "\r\n",
        "plt.xlabel('Sample Number')\r\n",
        "plt.ylabel('Sequence Length')\r\n",
        "plt.title('Samples BEFORE Sorting')\r\n",
        "\r\n",
        "plt.show()"
      ],
      "execution_count": 76,
      "outputs": [
        {
          "output_type": "display_data",
          "data": {
            "image/png": "[encoded data removed]",
            "text/plain": [
              "<Figure size 864x432 with 1 Axes>"
            ]
          },
          "metadata": {
            "tags": []
          }
        }
      ]
    },
    {
      "cell_type": "code",
      "metadata": {
        "id": "7PaeohUVegmv"
      },
      "source": [
        "# Sort the two lists together by the length of the input sequence.\r\n",
        "train_samples = sorted(zip(full_input_ids, train_labels), key=lambda x: len(x[0]))"
      ],
      "execution_count": 77,
      "outputs": []
    },
    {
      "cell_type": "code",
      "metadata": {
        "colab": {
          "base_uri": "https://localhost:8080/"
        },
        "id": "_9nyx-BtepE4",
        "outputId": "489c2ff8-9d07-415e-eb41-1fd3829393c0"
      },
      "source": [
        "train_samples[0:5]"
      ],
      "execution_count": 78,
      "outputs": [
        {
          "output_type": "execute_result",
          "data": {
            "text/plain": [
              "[([2, 34875, 514, 3], 1),\n",
              " ([2, 1613, 2350, 3], 1),\n",
              " ([2, 39216, 13561, 3], 1),\n",
              " ([2, 39216, 13561, 3], 1),\n",
              " ([2, 1283, 52232, 3], 0)]"
            ]
          },
          "metadata": {
            "tags": []
          },
          "execution_count": 78
        }
      ]
    },
    {
      "cell_type": "code",
      "metadata": {
        "colab": {
          "base_uri": "https://localhost:8080/"
        },
        "id": "rBxJhEieetFh",
        "outputId": "f166cd39-34e4-4f76-842d-2379ca542071"
      },
      "source": [
        "print('Shortest sample:', len(train_samples[0][0]))\r\n",
        "print('Longest sample:', len(train_samples[-1][0]))"
      ],
      "execution_count": 79,
      "outputs": [
        {
          "output_type": "stream",
          "text": [
            "Shortest sample: 4\n",
            "Longest sample: 262\n"
          ],
          "name": "stdout"
        }
      ]
    },
    {
      "cell_type": "code",
      "metadata": {
        "id": "P44bFOI-e7hW"
      },
      "source": [
        "# Get the new list of lengths after sorting.\r\n",
        "sorted_lengths = [len(s[0]) for s in train_samples]"
      ],
      "execution_count": 80,
      "outputs": []
    },
    {
      "cell_type": "code",
      "metadata": {
        "colab": {
          "base_uri": "https://localhost:8080/",
          "height": 427
        },
        "id": "9P5ZX99le_G1",
        "outputId": "d1b89028-f37c-4453-a501-241006e4c155"
      },
      "source": [
        "\r\n",
        "plt.plot(range(0, len(sorted_lengths)), sorted_lengths)\r\n",
        "\r\n",
        "plt.xlabel('Sample Number')\r\n",
        "plt.ylabel('Sequence Length')\r\n",
        "plt.title('Samples after Sorting')\r\n",
        "\r\n",
        "plt.show()"
      ],
      "execution_count": 81,
      "outputs": [
        {
          "output_type": "display_data",
          "data": {
            "image/png": "[encoded data removed]",
            "text/plain": [
              "<Figure size 864x432 with 1 Axes>"
            ]
          },
          "metadata": {
            "tags": []
          }
        }
      ]
    },
    {
      "cell_type": "markdown",
      "metadata": {
        "id": "Eh1z0xugfF2t"
      },
      "source": [
        "### Random Batch Selections"
      ]
    },
    {
      "cell_type": "code",
      "metadata": {
        "colab": {
          "base_uri": "https://localhost:8080/"
        },
        "id": "gPrYkFMcgm5H",
        "outputId": "8fef7205-6a08-4d80-cfc2-3d6fdde3548d"
      },
      "source": [
        "train_samples[0]"
      ],
      "execution_count": 82,
      "outputs": [
        {
          "output_type": "execute_result",
          "data": {
            "text/plain": [
              "([2, 34875, 514, 3], 1)"
            ]
          },
          "metadata": {
            "tags": []
          },
          "execution_count": 82
        }
      ]
    },
    {
      "cell_type": "code",
      "metadata": {
        "id": "isMxwgezfAvO"
      },
      "source": [
        "batch_size = 16"
      ],
      "execution_count": 83,
      "outputs": []
    },
    {
      "cell_type": "code",
      "metadata": {
        "colab": {
          "base_uri": "https://localhost:8080/"
        },
        "id": "s0tjD8pIfJ0S",
        "outputId": "d6e5ea48-5ce6-4567-f834-10cf7fc19559"
      },
      "source": [
        "# List of batches that we'll construct.\r\n",
        "batch_ordered_sentences = []\r\n",
        "batch_ordered_labels = []\r\n",
        "\r\n",
        "print('Creating training batches of size {:}'.format(batch_size))\r\n",
        "\r\n",
        "# Loop over all of the input samples...    \r\n",
        "while len(train_samples) > 0:\r\n",
        "    \r\n",
        "    # Report progress.\r\n",
        "    if ((len(batch_ordered_sentences) % 100) == 0):\r\n",
        "        print('  Selected {:,} batches.'.format(len(batch_ordered_sentences)))\r\n",
        "\r\n",
        "    # `to_take` is our actual batch size. It will be `batch_size` until \r\n",
        "    # we get to the last batch, which may be smaller. \r\n",
        "    to_take = min(batch_size, len(train_samples))\r\n",
        "\r\n",
        "    # Pick a random index in the list of remaining samples to start\r\n",
        "    # our batch at.\r\n",
        "    select = random.randint(0, len(train_samples) - to_take)\r\n",
        "\r\n",
        "    # Select a contiguous batch of samples starting at `select`.\r\n",
        "    batch = train_samples[select:(select + to_take)]\r\n",
        "\r\n",
        "    # Each sample is a tuple--split them apart to create a separate list of \r\n",
        "    # sequences and a list of labels for this batch.\r\n",
        "    batch_ordered_sentences.append([s[0] for s in batch])\r\n",
        "    batch_ordered_labels.append([s[1] for s in batch])\r\n",
        "\r\n",
        "    # Remove these samples from the list.\r\n",
        "    del train_samples[select:select + to_take]\r\n",
        "\r\n",
        "print('\\n  DONE - {:,} batches.'.format(len(batch_ordered_sentences)))"
      ],
      "execution_count": 84,
      "outputs": [
        {
          "output_type": "stream",
          "text": [
            "Creating training batches of size 16\n",
            "  Selected 0 batches.\n",
            "  Selected 100 batches.\n",
            "  Selected 200 batches.\n",
            "  Selected 300 batches.\n",
            "  Selected 400 batches.\n",
            "  Selected 500 batches.\n",
            "  Selected 600 batches.\n",
            "  Selected 700 batches.\n",
            "  Selected 800 batches.\n",
            "  Selected 900 batches.\n",
            "  Selected 1,000 batches.\n",
            "  Selected 1,100 batches.\n",
            "  Selected 1,200 batches.\n",
            "  Selected 1,300 batches.\n",
            "  Selected 1,400 batches.\n",
            "\n",
            "  DONE - 1,423 batches.\n"
          ],
          "name": "stdout"
        }
      ]
    },
    {
      "cell_type": "code",
      "metadata": {
        "colab": {
          "base_uri": "https://localhost:8080/"
        },
        "id": "rf91Dd3LhBaP",
        "outputId": "01763805-88ef-43c6-8421-b8b827934bca"
      },
      "source": [
        "print(batch_ordered_sentences[0])"
      ],
      "execution_count": 85,
      "outputs": [
        {
          "output_type": "stream",
          "text": [
            "[[2, 35356, 1661, 95, 10525, 55, 11, 21290, 18, 19555, 9, 33, 44405, 2052, 4961, 468, 154, 1063, 33, 10189, 3349, 368, 8668, 4496, 9, 71972, 11, 3682, 54, 63043, 61, 389, 24, 368, 19555, 32, 150, 14926, 61, 21, 805, 44146, 2698, 9, 1023, 33, 173930, 95, 54000, 3], [2, 18118, 113, 35356, 1661, 54, 26, 452, 21813, 293, 4910, 293, 95, 671, 129237, 2656, 26, 452, 21813, 293, 7922, 18576, 145, 14299, 398, 580, 1285, 4496, 26, 11, 1879, 89214, 381, 6179, 5293, 7922, 4219, 405, 154, 10731, 33, 13706, 2350, 3487, 1023, 514, 17913, 1613, 9, 3], [2, 7922, 5542, 9067, 16903, 29725, 32, 61, 24, 145, 46, 32, 1512, 8064, 98929, 63, 145, 46, 32, 2738, 10257, 381, 7922, 472, 8, 107942, 63, 1369, 11, 8516, 7922, 472, 19390, 18, 1512, 33, 103116, 21137, 37395, 24, 34875, 514, 55, 26778, 1431, 7760, 90, 1879, 9, 3], [2, 49991, 19841, 93428, 168951, 151649, 6707, 32062, 55, 11, 30076, 101505, 20356, 792, 38534, 11, 49989, 113, 61617, 792, 24330, 7806, 326, 368, 11, 1137, 927, 26, 11, 49989, 669, 101505, 20356, 21, 11, 8, 59415, 32, 48160, 153835, 33, 4836, 193, 1063, 49, 33, 8, 143614, 26393, 3], [2, 514, 3416, 63, 100594, 186623, 93034, 335, 326, 54, 368, 18, 514, 293, 514, 912, 34819, 63, 193, 117961, 61, 33, 62748, 1895, 97, 6882, 147483, 21, 121, 33, 94862, 29308, 429, 28888, 669, 117, 33, 97854, 669, 1970, 24, 193, 21751, 33, 22467, 117, 481, 98464, 293, 3], [2, 21263, 2444, 49496, 71733, 12153, 7922, 11020, 11, 55211, 381, 33, 173930, 31406, 46, 580, 33, 10189, 388, 13196, 9, 145, 46, 32, 838, 2727, 21, 13837, 451, 496, 18, 89764, 18440, 55, 3683, 9, 63, 46, 32, 4910, 7922, 63803, 183628, 1283, 3486, 26, 33, 12282, 9, 3], [2, 2611, 326, 165994, 626, 33, 4310, 18, 496, 3580, 4603, 580, 1512, 15673, 145, 447, 113, 88611, 839, 54, 9535, 21, 154, 207, 18680, 830, 59998, 19308, 71860, 1296, 496, 9, 111, 2307, 111, 839, 32, 179, 159797, 388, 71902, 23068, 67, 514, 1512, 9398, 481, 121, 113, 3], [2, 2611, 180955, 59444, 38162, 73914, 46473, 4731, 18354, 38230, 7922, 398, 1661, 4080, 90, 255, 36150, 9, 7922, 452, 706, 1283, 18680, 9, 63, 398, 32, 179, 1613, 4469, 11, 1450, 6006, 21, 88778, 1742, 21, 1613, 9, 24, 58111, 1512, 1794, 7922, 912, 179, 2632, 33, 10628, 3], [2, 6846, 24, 23076, 150, 25703, 57960, 9, 7922, 830, 63, 839, 1908, 179, 3600, 389, 9, 830, 650, 481, 150186, 25119, 47300, 10450, 34847, 481, 24, 839, 3734, 398, 32, 21, 68539, 9, 7922, 271, 4219, 839, 251, 33, 2052, 10349, 474, 33, 6846, 9157, 21, 335, 9, 3], [2, 133642, 145428, 122556, 186374, 5110, 8902, 106296, 195632, 326, 78582, 514, 9, 1294, 121854, 8, 50755, 109523, 9, 398, 1294, 29022, 150, 368, 196, 3247, 9, 61415, 195632, 326, 44562, 32, 514, 9, 7656, 44562, 514, 9, 195632, 326, 398, 32, 2964, 21, 3517, 514, 26, 110571, 9, 3], [2, 8, 57245, 1283, 47813, 7922, 132051, 18374, 9, 7922, 11016, 514, 297, 1512, 6563, 145, 21, 121, 8, 118819, 67, 90, 63, 8, 22078, 72316, 669, 12282, 9, 7922, 12300, 398, 580, 3314, 514, 251, 75050, 32, 157213, 6427, 9, 50362, 9536, 24147, 1613, 33, 72316, 669, 9, 3], [2, 8, 10450, 15202, 24659, 33534, 103, 4603, 398, 580, 19333, 368, 49991, 130084, 32, 55, 96937, 9, 145, 398, 32, 1512, 940, 496, 1908, 6860, 24, 1932, 839, 9642, 21, 67184, 368, 3747, 58543, 24, 1383, 368, 121841, 5133, 496, 5194, 55, 1270, 33, 2608, 496, 1908, 9, 3], [2, 11, 8405, 63, 368, 8668, 4496, 118, 2935, 207, 79248, 3486, 54, 1794, 63, 110474, 838, 127413, 61, 21, 16163, 88471, 11, 9444, 8668, 4496, 10189, 9, 11, 368, 8668, 4496, 110474, 95, 4341, 9880, 13030, 13069, 9444, 8668, 4496, 9704, 33, 6184, 9498, 26, 11, 1137, 9, 3], [2, 7922, 472, 247, 24, 7922, 4603, 46, 580, 4219, 7922, 452, 9322, 1283, 9012, 7922, 4603, 46, 580, 9034, 26, 11, 21732, 405, 154, 686, 30321, 1613, 21, 9034, 26, 8202, 1930, 7922, 95, 24238, 9, 1848, 7656, 4603, 46, 580, 9034, 26, 11, 132266, 22122, 18, 48729, 3], [2, 105463, 35879, 263, 162161, 3067, 32665, 7922, 4603, 46, 580, 3314, 1270, 19308, 21, 912, 9, 145, 46, 32, 273, 33543, 7971, 9, 7922, 9034, 514, 69307, 4603, 46, 580, 3024, 21, 11020, 24, 1512, 3024, 21, 14996, 2888, 35242, 31494, 9, 381, 145, 46, 32, 8, 22078, 3], [2, 18118, 49854, 102472, 51561, 3067, 3067, 23871, 51154, 15696, 20236, 429, 33, 4841, 21137, 54, 160660, 67, 11, 8879, 19045, 1294, 30, 818, 32900, 49854, 102472, 63, 2804, 76548, 251, 21, 1904, 1369, 255, 11, 51204, 4841, 21137, 118, 4341, 8202, 686, 30321, 1879, 21, 912, 1043, 5483, 3]]\n"
          ],
          "name": "stdout"
        }
      ]
    },
    {
      "cell_type": "code",
      "metadata": {
        "colab": {
          "base_uri": "https://localhost:8080/"
        },
        "id": "qmkQK_gVgiTu",
        "outputId": "7f386776-fcd9-43f6-fac1-f5617391188d"
      },
      "source": [
        "batch_ordered_labels[0]"
      ],
      "execution_count": 86,
      "outputs": [
        {
          "output_type": "execute_result",
          "data": {
            "text/plain": [
              "[1, 1, 1, 1, 1, 1, 1, 1, 0, 1, 1, 1, 1, 0, 1, 1]"
            ]
          },
          "metadata": {
            "tags": []
          },
          "execution_count": 86
        }
      ]
    },
    {
      "cell_type": "markdown",
      "metadata": {
        "id": "xZ0TFA8Mfn6m"
      },
      "source": [
        "### Padding"
      ]
    },
    {
      "cell_type": "code",
      "metadata": {
        "id": "c9rdswcpfTip"
      },
      "source": [
        "py_inputs = []\r\n",
        "py_attn_masks = []\r\n",
        "py_labels = []\r\n",
        "\r\n",
        "# For each batch...\r\n",
        "for (batch_inputs, batch_labels) in zip(batch_ordered_sentences, batch_ordered_labels):\r\n",
        "\r\n",
        "    # New version of the batch, this time with padded sequences and now with\r\n",
        "    # attention masks defined.\r\n",
        "    batch_padded_inputs = []\r\n",
        "    batch_attn_masks = []\r\n",
        "    \r\n",
        "    # First, find the longest sample in the batch. \r\n",
        "    # Note that the sequences do currently include the special tokens!\r\n",
        "    max_size = max([len(sen) for sen in batch_inputs])\r\n",
        "\r\n",
        "    #print('Max size:', max_size)\r\n",
        "\r\n",
        "    # For each input in this batch...\r\n",
        "    for sen in batch_inputs:\r\n",
        "        \r\n",
        "        # How many pad tokens do we need to add?\r\n",
        "        num_pads = max_size - len(sen)\r\n",
        "\r\n",
        "        # Add `num_pads` padding tokens to the end of the sequence.\r\n",
        "        padded_input = sen + [tokenizer.pad_token_id]*num_pads\r\n",
        "\r\n",
        "        # Define the attention mask--it's just a `1` for every real token\r\n",
        "        # and a `0` for every padding token.\r\n",
        "        attn_mask = [1] * len(sen) + [0] * num_pads\r\n",
        "\r\n",
        "        # Add the padded results to the batch.\r\n",
        "        batch_padded_inputs.append(padded_input)\r\n",
        "        batch_attn_masks.append(attn_mask)\r\n",
        "\r\n",
        "    # Our batch has been padded, so we need to save this updated batch.\r\n",
        "    # We also need the inputs to be PyTorch tensors, so we'll do that here.\r\n",
        "    py_inputs.append(torch.tensor(batch_padded_inputs))\r\n",
        "    py_attn_masks.append(torch.tensor(batch_attn_masks))\r\n",
        "    py_labels.append(torch.tensor(batch_labels))\r\n"
      ],
      "execution_count": 87,
      "outputs": []
    },
    {
      "cell_type": "markdown",
      "metadata": {
        "id": "roS5lLWdX-5J"
      },
      "source": [
        "### Check the number of token reductions because of smart batching"
      ]
    },
    {
      "cell_type": "code",
      "metadata": {
        "colab": {
          "base_uri": "https://localhost:8080/"
        },
        "id": "wlh7cteVfroV",
        "outputId": "504290dd-66d4-4f0b-bbaa-a66c440ca48a"
      },
      "source": [
        "# Get the new list of lengths after sorting.\r\n",
        "\r\n",
        "padded_lengths = []\r\n",
        "\r\n",
        "# For each batch...\r\n",
        "for batch in py_inputs:\r\n",
        "    \r\n",
        "    # For each sample...\r\n",
        "    for s in batch:\r\n",
        "    \r\n",
        "        # Record its length.\r\n",
        "        padded_lengths.append(len(s))\r\n",
        "\r\n",
        "# Sum up the lengths to the get the total number of tokens after smart batching.\r\n",
        "smart_token_count = np.sum(padded_lengths)\r\n",
        "\r\n",
        "# To get the total number of tokens in the dataset using fixed padding, it's\r\n",
        "# as simple as the number of samples times our `max_len` parameter (that we\r\n",
        "# would pad everything to).\r\n",
        "fixed_token_count = len(train_sentences) * max_input_length\r\n",
        "\r\n",
        "# Calculate the percentage reduction.\r\n",
        "prcnt_reduced = (fixed_token_count - smart_token_count) / float(fixed_token_count) \r\n",
        "\r\n",
        "print('Total tokens:')\r\n",
        "print('   Fixed Padding: {:,}'.format(fixed_token_count))\r\n",
        "print('  Smart Batching: {:,}  ({:.1%} less)'.format(smart_token_count, prcnt_reduced))\r\n"
      ],
      "execution_count": 88,
      "outputs": [
        {
          "output_type": "stream",
          "text": [
            "Total tokens:\n",
            "   Fixed Padding: 9,104,800\n",
            "  Smart Batching: 558,208  (93.9% less)\n"
          ],
          "name": "stdout"
        }
      ]
    },
    {
      "cell_type": "markdown",
      "metadata": {
        "id": "8wgdhsI-YIAL"
      },
      "source": [
        "## Load the model configuration from the transformers library using AutoConfig"
      ]
    },
    {
      "cell_type": "code",
      "metadata": {
        "colab": {
          "base_uri": "https://localhost:8080/"
        },
        "id": "9er7EHvdfudf",
        "outputId": "0abc9722-1c89-40b3-d0f6-3b93fa4ff735"
      },
      "source": [
        "# Load the Config object, with an output configured for classification.\r\n",
        "config = AutoConfig.from_pretrained(pretrained_model_name_or_path=model_name,\r\n",
        "                                    num_labels=5)\r\n",
        "\r\n",
        "print('Config type:', str(type(config)), '\\n')\r\n"
      ],
      "execution_count": 89,
      "outputs": [
        {
          "output_type": "stream",
          "text": [
            "Config type: <class 'transformers.models.albert.configuration_albert.AlbertConfig'> \n",
            "\n"
          ],
          "name": "stdout"
        }
      ]
    },
    {
      "cell_type": "code",
      "metadata": {
        "colab": {
          "base_uri": "https://localhost:8080/",
          "height": 170,
          "referenced_widgets": [
            "778530cad4334300889b2db3c8bab7b6",
            "7e8c1ac4cd3147318725164cf5bd4c0f",
            "3ce09316ce2e428b88c7dbaff131b0d3",
            "89ba4c4d544e4f578ef62194d912d6b9",
            "ee426f199f87494791aea5ad0cd163e6",
            "6d59f6bed2094d6ba8f82badd96ab268",
            "8c6ccff5f0cd4ecfa37dfe5de19dd942",
            "b6e10b185f0141cfaf97f8b8bb767f03"
          ]
        },
        "id": "bWvc9Ikv4HtD",
        "outputId": "37009263-ee7c-4bb0-e46a-7440411583a0"
      },
      "source": [
        "model = AutoModelForSequenceClassification.from_pretrained(pretrained_model_name_or_path=model_name,config = config)"
      ],
      "execution_count": 90,
      "outputs": [
        {
          "output_type": "display_data",
          "data": {
            "application/vnd.jupyter.widget-view+json": {
              "model_id": "778530cad4334300889b2db3c8bab7b6",
              "version_minor": 0,
              "version_major": 2
            },
            "text/plain": [
              "HBox(children=(FloatProgress(value=0.0, description='Downloading', max=134982446.0, style=ProgressStyle(descri…"
            ]
          },
          "metadata": {
            "tags": []
          }
        },
        {
          "output_type": "stream",
          "text": [
            "\n"
          ],
          "name": "stdout"
        },
        {
          "output_type": "stream",
          "text": [
            "Some weights of the model checkpoint at ai4bharat/indic-bert were not used when initializing AlbertForSequenceClassification: ['predictions.bias', 'predictions.LayerNorm.weight', 'predictions.LayerNorm.bias', 'predictions.dense.weight', 'predictions.dense.bias', 'predictions.decoder.weight', 'predictions.decoder.bias', 'sop_classifier.classifier.weight', 'sop_classifier.classifier.bias']\n",
            "- This IS expected if you are initializing AlbertForSequenceClassification from the checkpoint of a model trained on another task or with another architecture (e.g. initializing a BertForSequenceClassification model from a BertForPreTraining model).\n",
            "- This IS NOT expected if you are initializing AlbertForSequenceClassification from the checkpoint of a model that you expect to be exactly identical (initializing a BertForSequenceClassification model from a BertForSequenceClassification model).\n",
            "Some weights of AlbertForSequenceClassification were not initialized from the model checkpoint at ai4bharat/indic-bert and are newly initialized: ['classifier.weight', 'classifier.bias']\n",
            "You should probably TRAIN this model on a down-stream task to be able to use it for predictions and inference.\n"
          ],
          "name": "stderr"
        }
      ]
    },
    {
      "cell_type": "code",
      "metadata": {
        "colab": {
          "base_uri": "https://localhost:8080/"
        },
        "id": "Xouf5M2B55ei",
        "outputId": "0c2f3bf1-4c92-426a-a2b6-9d94dba56f48"
      },
      "source": [
        "model.cuda()"
      ],
      "execution_count": 91,
      "outputs": [
        {
          "output_type": "execute_result",
          "data": {
            "text/plain": [
              "AlbertForSequenceClassification(\n",
              "  (albert): AlbertModel(\n",
              "    (embeddings): AlbertEmbeddings(\n",
              "      (word_embeddings): Embedding(200000, 128, padding_idx=0)\n",
              "      (position_embeddings): Embedding(512, 128)\n",
              "      (token_type_embeddings): Embedding(2, 128)\n",
              "      (LayerNorm): LayerNorm((128,), eps=1e-12, elementwise_affine=True)\n",
              "      (dropout): Dropout(p=0, inplace=False)\n",
              "    )\n",
              "    (encoder): AlbertTransformer(\n",
              "      (embedding_hidden_mapping_in): Linear(in_features=128, out_features=768, bias=True)\n",
              "      (albert_layer_groups): ModuleList(\n",
              "        (0): AlbertLayerGroup(\n",
              "          (albert_layers): ModuleList(\n",
              "            (0): AlbertLayer(\n",
              "              (full_layer_layer_norm): LayerNorm((768,), eps=1e-12, elementwise_affine=True)\n",
              "              (attention): AlbertAttention(\n",
              "                (query): Linear(in_features=768, out_features=768, bias=True)\n",
              "                (key): Linear(in_features=768, out_features=768, bias=True)\n",
              "                (value): Linear(in_features=768, out_features=768, bias=True)\n",
              "                (attention_dropout): Dropout(p=0, inplace=False)\n",
              "                (output_dropout): Dropout(p=0, inplace=False)\n",
              "                (dense): Linear(in_features=768, out_features=768, bias=True)\n",
              "                (LayerNorm): LayerNorm((768,), eps=1e-12, elementwise_affine=True)\n",
              "              )\n",
              "              (ffn): Linear(in_features=768, out_features=3072, bias=True)\n",
              "              (ffn_output): Linear(in_features=3072, out_features=768, bias=True)\n",
              "              (dropout): Dropout(p=0, inplace=False)\n",
              "            )\n",
              "          )\n",
              "        )\n",
              "      )\n",
              "    )\n",
              "    (pooler): Linear(in_features=768, out_features=768, bias=True)\n",
              "    (pooler_activation): Tanh()\n",
              "  )\n",
              "  (dropout): Dropout(p=0.1, inplace=False)\n",
              "  (classifier): Linear(in_features=768, out_features=5, bias=True)\n",
              ")"
            ]
          },
          "metadata": {
            "tags": []
          },
          "execution_count": 91
        }
      ]
    },
    {
      "cell_type": "markdown",
      "metadata": {
        "id": "SXJHBVlxYR-l"
      },
      "source": [
        "## Load the model from the transformers library using AutoModel"
      ]
    },
    {
      "cell_type": "code",
      "metadata": {
        "id": "n8J4r6KyhveR"
      },
      "source": [
        "# # Load the pre-trained model for classification, passing in the `config` from\r\n",
        "# # above.\r\n",
        "# bert = AutoModel.from_pretrained(\r\n",
        "#     pretrained_model_name_or_path=model_name,\r\n",
        "#     config=config)\r\n",
        "\r\n",
        "# print('\\nModel type:', str(type(bert)))\r\n"
      ],
      "execution_count": null,
      "outputs": []
    },
    {
      "cell_type": "code",
      "metadata": {
        "id": "RcFMgf5EuPAF"
      },
      "source": [
        "# # freeze all the parameters\r\n",
        "# for param in bert.parameters():\r\n",
        "#     param.requires_grad = False"
      ],
      "execution_count": null,
      "outputs": []
    },
    {
      "cell_type": "markdown",
      "metadata": {
        "id": "NS_-0rBDYeY5"
      },
      "source": [
        "## Creating a custom BERT model "
      ]
    },
    {
      "cell_type": "code",
      "metadata": {
        "id": "bmGtZwykJ39i"
      },
      "source": [
        "\r\n",
        "# class BERT_Model(nn.Module):\r\n",
        "#     ## defining the constructor for the class\r\n",
        "#     def __init__(self, bert,num_labels):\r\n",
        "#       ## calling the super class constructor\r\n",
        "#       super(BERT_Model, self).__init__()\r\n",
        "#       ## adding the bert layer to the model\r\n",
        "#       self.bert = bert        \r\n",
        "#       # relu activation function\r\n",
        "#       self.relu =  nn.ReLU()\r\n",
        "#       # adding a dense layer to our custom model\r\n",
        "#       self.fc1 = nn.Linear(768,512)\r\n",
        "#       # adding another dense layer to our custom model ,i.e., the Output layer\r\n",
        "#       self.fc2 = nn.Linear(512,num_labels)\r\n",
        "#       # adding a softmax  activation function for our custom model's output layer\r\n",
        "#       self.softmax = nn.LogSoftmax(dim=1)\r\n",
        "\r\n",
        "#     #defining the forward pass\r\n",
        "#     def forward(self, input_id, mask):\r\n",
        "#       #pass the inputs to the model  \r\n",
        "#       outputs = self.bert(input_id,mask)\r\n",
        "  \r\n",
        "#       last_hidden_state = outputs.last_hidden_state       ## last hidden state from the model\r\n",
        "#       pooler_output = outputs.pooler_output               ## pooler output from the model\r\n",
        "#       ## adding a fully connected layer to the BERT model\r\n",
        "#       x = self.fc1(pooler_output)\r\n",
        "#       ## applying relu activation function\r\n",
        "#       x = self.relu(x)\r\n",
        "#       # the final output layer\r\n",
        "#       x = self.fc2(x)\r\n",
        "#       # apply softmax activation to our output layer\r\n",
        "#       x = self.softmax(x)\r\n",
        "\r\n",
        "#       return x"
      ],
      "execution_count": null,
      "outputs": []
    },
    {
      "cell_type": "code",
      "metadata": {
        "id": "jvOs0G5sh02S"
      },
      "source": [
        "\r\n",
        "\r\n",
        "# print('\\nLoading model ...')\r\n",
        "# # pass the pre-trained BERT to our define architecture\r\n",
        "# model = BERT_Model(bert,num_labels=3)\r\n",
        "\r\n",
        "# model.cuda()"
      ],
      "execution_count": null,
      "outputs": []
    },
    {
      "cell_type": "markdown",
      "metadata": {
        "id": "LjQSUqCWJTbI"
      },
      "source": [
        "## Custom Loss function"
      ]
    },
    {
      "cell_type": "code",
      "metadata": {
        "id": "iOHVl1RRJSUB"
      },
      "source": [
        "# # convert class weights to tensor\r\n",
        "# weights= torch.tensor(class_wts,dtype=torch.float)\r\n",
        "# weights = weights.to(device)\r\n",
        "\r\n",
        "# # loss function\r\n",
        "# cross_entropy  = nn.NLLLoss(weight=weights) \r\n"
      ],
      "execution_count": null,
      "outputs": []
    },
    {
      "cell_type": "markdown",
      "metadata": {
        "id": "evYV0yrQ2u_b"
      },
      "source": [
        "## Loading Optimizer"
      ]
    },
    {
      "cell_type": "code",
      "metadata": {
        "id": "8tAijXBEh7t8"
      },
      "source": [
        "# Note: AdamW is a class from the huggingface library (as opposed to pytorch) \r\n",
        "# I believe the 'W' stands for 'Weight Decay fix\"\r\n",
        "optimizer = AdamW(model.parameters(),\r\n",
        "                  lr = 2e-5, # This is the value Michael used.\r\n",
        "                  eps = 1e-8 # args.adam_epsilon  - default is 1e-8.\r\n",
        "                )\r\n"
      ],
      "execution_count": 92,
      "outputs": []
    },
    {
      "cell_type": "markdown",
      "metadata": {
        "id": "s9n3_5jI2ywo"
      },
      "source": [
        "## Loading lr scheduler"
      ]
    },
    {
      "cell_type": "code",
      "metadata": {
        "id": "agidP6D6iBFI"
      },
      "source": [
        "# Number of training epochs. I chose to train for 1 simply because the training\r\n",
        "# time is long. More epochs may improve the model's accuracy.\r\n",
        "epochs = 4\r\n",
        "\r\n",
        "# Total number of training steps is [number of batches] x [number of epochs]. \r\n",
        "# Note that it's the number of *batches*, not *samples*!\r\n",
        "total_steps = len(py_inputs) * epochs\r\n",
        "\r\n",
        "# Create the learning rate scheduler.\r\n",
        "scheduler = get_linear_schedule_with_warmup(optimizer, \r\n",
        "                                            num_warmup_steps = 0, # Default value in run_glue.py\r\n",
        "                                            num_training_steps = total_steps)"
      ],
      "execution_count": 93,
      "outputs": []
    },
    {
      "cell_type": "markdown",
      "metadata": {
        "id": "MDDp05Cm245e"
      },
      "source": [
        "## Training Loop"
      ]
    },
    {
      "cell_type": "code",
      "metadata": {
        "colab": {
          "base_uri": "https://localhost:8080/"
        },
        "id": "H4ERR8fBiEJn",
        "outputId": "5c45f6bb-0d85-44a0-d3e5-d9569892a2c7"
      },
      "source": [
        "# We'll store a number of quantities such as training and validation loss, \r\n",
        "# validation accuracy, and timings.\r\n",
        "training_stats = {\r\n",
        "    'epoch':[],\r\n",
        "    'train_loss':[],\r\n",
        "    'Training Time':[],\r\n",
        "    'val_loss':[],\r\n",
        "    'Validation Time':[],\r\n",
        "    'train_acc':[],\r\n",
        "    'val_acc':[]\r\n",
        "}\r\n",
        "\r\n",
        "# Update every `update_interval` batches.\r\n",
        "update_interval = good_update_interval(total_iters=len(py_inputs), num_desired_updates=10)\r\n",
        "\r\n",
        "# Measure the total training time for the whole run.\r\n",
        "total_t0 = time.time()\r\n",
        "\r\n",
        "# For each epoch...\r\n",
        "for epoch_i in range(0, epochs):\r\n",
        "\r\n",
        "    predictions = []\r\n",
        "    true_labels = []\r\n",
        "    \r\n",
        "    # ========================================\r\n",
        "    #               Training\r\n",
        "    # ========================================\r\n",
        "    \r\n",
        "    # Perform one full pass over the training set.\r\n",
        "\r\n",
        "    print(\"\")\r\n",
        "    print('======== Epoch {:} / {:} ========'.format(epoch_i + 1, epochs))\r\n",
        "    \r\n",
        "    # At the start of each epoch (except for the first) we need to re-randomize\r\n",
        "    # our training data.\r\n",
        "    if epoch_i > 0:\r\n",
        "        # Use our `make_smart_batches` function (from 6.1.) to re-shuffle the \r\n",
        "        # dataset into new batches.\r\n",
        "        (py_inputs, py_attn_masks, py_labels) = make_smart_batches(train_sentences, train_labels, batch_size,tokenizer,max_input_length)\r\n",
        "    \r\n",
        "    print('Training on {:,} batches...'.format(len(py_inputs)))\r\n",
        "\r\n",
        "    # Measure how long the training epoch takes.\r\n",
        "    t0 = time.time()\r\n",
        "\r\n",
        "    # Reset the total loss for this epoch.\r\n",
        "    total_train_loss = 0\r\n",
        "\r\n",
        "    # Put the model into training mode. Don't be mislead--the call to \r\n",
        "    # `train` just changes the *mode*, it doesn't *perform* the training.\r\n",
        "    # `dropout` and `batchnorm` layers behave differently during training\r\n",
        "    # vs. test (source: https://stackoverflow.com/questions/51433378/what-does-model-train-do-in-pytorch)\r\n",
        "    model.train()\r\n",
        "\r\n",
        "    # For each batch of training data...\r\n",
        "    for step in range(0, len(py_inputs)):\r\n",
        "\r\n",
        "        # Progress update every, e.g., 100 batches.\r\n",
        "        if step % update_interval == 0 and not step == 0:\r\n",
        "            # Calculate elapsed time in minutes.\r\n",
        "            elapsed = format_time(time.time() - t0)\r\n",
        "            \r\n",
        "            # Calculate the time remaining based on our progress.\r\n",
        "            steps_per_sec = (time.time() - t0) / step\r\n",
        "            remaining_sec = steps_per_sec * (len(py_inputs) - step)\r\n",
        "            remaining = format_time(remaining_sec)\r\n",
        "\r\n",
        "            # Report progress.\r\n",
        "            print('  Batch {:>7,}  of  {:>7,}.    Elapsed: {:}.  Remaining: {:}'.format(step, len(py_inputs), elapsed, remaining))\r\n",
        "\r\n",
        "        # Copy the current training batch to the GPU using the `to` method.\r\n",
        "        b_input_ids = py_inputs[step].to(device)\r\n",
        "        b_input_mask = py_attn_masks[step].to(device)\r\n",
        "        b_labels = py_labels[step].to(device)\r\n",
        "\r\n",
        "        # Always clear any previously calculated gradients before performing a\r\n",
        "        # backward pass.\r\n",
        "        model.zero_grad()        \r\n",
        "\r\n",
        "        # Perform a forward pass (evaluate the model on this training batch).\r\n",
        "        # The call returns the loss (because we provided labels) and the \r\n",
        "        # \"logits\"--the model outputs prior to activation.\r\n",
        "        output = model(b_input_ids, \r\n",
        "                             token_type_ids=None, \r\n",
        "                             attention_mask=b_input_mask, \r\n",
        "                             labels=b_labels)\r\n",
        "\r\n",
        "        # Accumulate the training loss over all of the batches so that we can\r\n",
        "        # calculate the average loss at the end. `loss` is a Tensor containing a\r\n",
        "        # single value; the `.item()` function just returns the Python value \r\n",
        "        # from the tensor.\r\n",
        "        loss = output.loss \r\n",
        "        logits = output.logits\r\n",
        "\r\n",
        "        # Move logits and labels to CPU\r\n",
        "        logits = logits.detach().cpu().numpy()\r\n",
        "        label_ids = b_labels.to('cpu').numpy()\r\n",
        "      \r\n",
        "        # Store predictions and true labels\r\n",
        "        predictions.append(logits)\r\n",
        "        true_labels.append(label_ids)\r\n",
        "        \r\n",
        "        # Accumulate the training loss over all of the batches so that we can\r\n",
        "        # calculate the average loss at the end. `loss` is a Tensor containing a\r\n",
        "        # single value; the `.item()` function just returns the Python value \r\n",
        "        # from the tensor.\r\n",
        "        total_train_loss += loss.item()\r\n",
        "\r\n",
        "        # Perform a backward pass to calculate the gradients.\r\n",
        "        loss.backward()\r\n",
        "\r\n",
        "        # Clip the norm of the gradients to 1.0.\r\n",
        "        # This is to help prevent the \"exploding gradients\" problem.\r\n",
        "        torch.nn.utils.clip_grad_norm_(model.parameters(), 1.0)\r\n",
        "\r\n",
        "        # Update parameters and take a step using the computed gradient.\r\n",
        "        # The optimizer dictates the \"update rule\"--how the parameters are\r\n",
        "        # modified based on their gradients, the learning rate, etc.\r\n",
        "        optimizer.step()\r\n",
        "\r\n",
        "        # Update the learning rate.\r\n",
        "        scheduler.step()\r\n",
        "\r\n",
        "    # Calculate the average loss over all of the batches.\r\n",
        "    avg_train_loss = total_train_loss / len(py_inputs)     \r\n",
        "       \r\n",
        "    training_accuracy = check_accuracy(predictions,true_labels)       \r\n",
        "    \r\n",
        "    # Measure how long this epoch took.\r\n",
        "    training_time = format_time(time.time() - t0)\r\n",
        "\r\n",
        "    print(\"\")\r\n",
        "    print(\"  Average training loss: {0:.2f}\".format(avg_train_loss))\r\n",
        "    print(\"  Training Accuracy: {0:.2f}\".format(training_accuracy))\r\n",
        "    print(\"  Training epoch took: {:}\".format(training_time))\r\n",
        "        \r\n",
        "    (py_inputs, py_attn_masks, py_labels) = make_smart_batches(val_sentences, val_labels, batch_size ,tokenizer,max_input_length)\r\n",
        "    val_loss,val_accuracy,validation_time = eval_model(model,py_inputs, py_attn_masks, py_labels)  \r\n",
        "    # Record all statistics from this epoch.\r\n",
        "\r\n",
        "    print(\"\")\r\n",
        "    print(\"  Average validation loss: {0:.2f}\".format(val_loss))\r\n",
        "    print(\"  Validation Accuracy: {0:.2f}\".format(val_accuracy))\r\n",
        "    print(\"  Validation epoch took: {:}\".format(validation_time))\r\n",
        "    \r\n",
        "    \r\n",
        "    training_stats['epoch'].append(epoch_i + 1)\r\n",
        "    training_stats['train_loss'].append(avg_train_loss)\r\n",
        "    training_stats['Training Time'].append(training_time)\r\n",
        "    training_stats['val_loss'].append(val_loss)\r\n",
        "    training_stats['Validation Time'].append(validation_time)\r\n",
        "    training_stats['train_acc'].append(training_accuracy)\r\n",
        "    training_stats['val_acc'].append(val_accuracy)\r\n",
        "\r\n",
        "print(\"\")\r\n",
        "print(\"Training complete!\")\r\n",
        "\r\n",
        "print(\"Total training took {:} (h:mm:ss)\".format(format_time(time.time()-total_t0)))"
      ],
      "execution_count": 94,
      "outputs": [
        {
          "output_type": "stream",
          "text": [
            "\n",
            "======== Epoch 1 / 4 ========\n",
            "Training on 1,423 batches...\n",
            "  Batch     100  of    1,423.    Elapsed: 0:00:06.  Remaining: 0:01:14\n",
            "  Batch     200  of    1,423.    Elapsed: 0:00:12.  Remaining: 0:01:10\n",
            "  Batch     300  of    1,423.    Elapsed: 0:00:17.  Remaining: 0:01:05\n",
            "  Batch     400  of    1,423.    Elapsed: 0:00:22.  Remaining: 0:00:57\n",
            "  Batch     500  of    1,423.    Elapsed: 0:00:28.  Remaining: 0:00:52\n",
            "  Batch     600  of    1,423.    Elapsed: 0:00:34.  Remaining: 0:00:46\n",
            "  Batch     700  of    1,423.    Elapsed: 0:00:39.  Remaining: 0:00:40\n",
            "  Batch     800  of    1,423.    Elapsed: 0:00:45.  Remaining: 0:00:35\n",
            "  Batch     900  of    1,423.    Elapsed: 0:00:50.  Remaining: 0:00:29\n",
            "  Batch   1,000  of    1,423.    Elapsed: 0:00:55.  Remaining: 0:00:23\n",
            "  Batch   1,100  of    1,423.    Elapsed: 0:01:01.  Remaining: 0:00:18\n",
            "  Batch   1,200  of    1,423.    Elapsed: 0:01:06.  Remaining: 0:00:12\n",
            "  Batch   1,300  of    1,423.    Elapsed: 0:01:12.  Remaining: 0:00:07\n",
            "  Batch   1,400  of    1,423.    Elapsed: 0:01:18.  Remaining: 0:00:01\n",
            "\n",
            "  Average training loss: 0.26\n",
            "  Training Accuracy: 0.92\n",
            "  Training epoch took: 0:01:20\n",
            "Creating Smart Batches from 2,843 examples with batch size 16...\n",
            "\n",
            "Tokenizing 2,843 samples...\n",
            "  Tokenized 0 samples.\n",
            "  Tokenized 300 samples.\n",
            "  Tokenized 600 samples.\n",
            "  Tokenized 900 samples.\n",
            "  Tokenized 1,200 samples.\n",
            "  Tokenized 1,500 samples.\n",
            "  Tokenized 1,800 samples.\n",
            "  Tokenized 2,100 samples.\n",
            "  Tokenized 2,400 samples.\n",
            "  Tokenized 2,700 samples.\n",
            "DONE.\n",
            "     2,843 samples\n",
            "\n",
            "     2,843 samples after sorting\n",
            "\n",
            "Creating batches of size 16...\n",
            "\n",
            "  DONE - Selected 178 batches.\n",
            "\n",
            "Padding out sequences within each batch...\n",
            "  DONE.\n",
            "Doing validation on 178 sentences...\n",
            "  Batch      20  of      178.    Elapsed: 0:00:00.  Remaining: 0:00:03\n",
            "  Batch      40  of      178.    Elapsed: 0:00:01.  Remaining: 0:00:02\n",
            "  Batch      60  of      178.    Elapsed: 0:00:01.  Remaining: 0:00:02\n",
            "  Batch      80  of      178.    Elapsed: 0:00:01.  Remaining: 0:00:02\n",
            "  Batch     100  of      178.    Elapsed: 0:00:02.  Remaining: 0:00:01\n",
            "  Batch     120  of      178.    Elapsed: 0:00:02.  Remaining: 0:00:01\n",
            "  Batch     140  of      178.    Elapsed: 0:00:02.  Remaining: 0:00:01\n",
            "  Batch     160  of      178.    Elapsed: 0:00:03.  Remaining: 0:00:00\n",
            "\n",
            "  Average validation loss: 0.23\n",
            "  Validation Accuracy: 0.93\n",
            "  Validation epoch took: 0:00:03\n",
            "\n",
            "======== Epoch 2 / 4 ========\n",
            "Creating Smart Batches from 22,762 examples with batch size 16...\n",
            "\n",
            "Tokenizing 22,762 samples...\n",
            "  Tokenized 0 samples.\n",
            "  Tokenized 2,000 samples.\n",
            "  Tokenized 4,000 samples.\n",
            "  Tokenized 6,000 samples.\n",
            "  Tokenized 8,000 samples.\n",
            "  Tokenized 10,000 samples.\n",
            "  Tokenized 12,000 samples.\n",
            "  Tokenized 14,000 samples.\n",
            "  Tokenized 16,000 samples.\n",
            "  Tokenized 18,000 samples.\n",
            "  Tokenized 20,000 samples.\n",
            "  Tokenized 22,000 samples.\n",
            "DONE.\n",
            "    22,762 samples\n",
            "\n",
            "    22,762 samples after sorting\n",
            "\n",
            "Creating batches of size 16...\n",
            "\n",
            "  DONE - Selected 1,423 batches.\n",
            "\n",
            "Padding out sequences within each batch...\n",
            "  DONE.\n",
            "Training on 1,423 batches...\n",
            "  Batch     100  of    1,423.    Elapsed: 0:00:06.  Remaining: 0:01:16\n",
            "  Batch     200  of    1,423.    Elapsed: 0:00:11.  Remaining: 0:01:09\n",
            "  Batch     300  of    1,423.    Elapsed: 0:00:17.  Remaining: 0:01:03\n",
            "  Batch     400  of    1,423.    Elapsed: 0:00:22.  Remaining: 0:00:57\n",
            "  Batch     500  of    1,423.    Elapsed: 0:00:28.  Remaining: 0:00:51\n",
            "  Batch     600  of    1,423.    Elapsed: 0:00:33.  Remaining: 0:00:46\n",
            "  Batch     700  of    1,423.    Elapsed: 0:00:38.  Remaining: 0:00:40\n",
            "  Batch     800  of    1,423.    Elapsed: 0:00:44.  Remaining: 0:00:34\n",
            "  Batch     900  of    1,423.    Elapsed: 0:00:50.  Remaining: 0:00:29\n",
            "  Batch   1,000  of    1,423.    Elapsed: 0:00:56.  Remaining: 0:00:24\n",
            "  Batch   1,100  of    1,423.    Elapsed: 0:01:01.  Remaining: 0:00:18\n",
            "  Batch   1,200  of    1,423.    Elapsed: 0:01:07.  Remaining: 0:00:12\n",
            "  Batch   1,300  of    1,423.    Elapsed: 0:01:12.  Remaining: 0:00:07\n",
            "  Batch   1,400  of    1,423.    Elapsed: 0:01:18.  Remaining: 0:00:01\n",
            "\n",
            "  Average training loss: 0.19\n",
            "  Training Accuracy: 0.94\n",
            "  Training epoch took: 0:01:20\n",
            "Creating Smart Batches from 2,843 examples with batch size 16...\n",
            "\n",
            "Tokenizing 2,843 samples...\n",
            "  Tokenized 0 samples.\n",
            "  Tokenized 300 samples.\n",
            "  Tokenized 600 samples.\n",
            "  Tokenized 900 samples.\n",
            "  Tokenized 1,200 samples.\n",
            "  Tokenized 1,500 samples.\n",
            "  Tokenized 1,800 samples.\n",
            "  Tokenized 2,100 samples.\n",
            "  Tokenized 2,400 samples.\n",
            "  Tokenized 2,700 samples.\n",
            "DONE.\n",
            "     2,843 samples\n",
            "\n",
            "     2,843 samples after sorting\n",
            "\n",
            "Creating batches of size 16...\n",
            "\n",
            "  DONE - Selected 178 batches.\n",
            "\n",
            "Padding out sequences within each batch...\n",
            "  DONE.\n",
            "Doing validation on 178 sentences...\n",
            "  Batch      20  of      178.    Elapsed: 0:00:00.  Remaining: 0:00:03\n",
            "  Batch      40  of      178.    Elapsed: 0:00:01.  Remaining: 0:00:02\n",
            "  Batch      60  of      178.    Elapsed: 0:00:01.  Remaining: 0:00:02\n",
            "  Batch      80  of      178.    Elapsed: 0:00:01.  Remaining: 0:00:02\n",
            "  Batch     100  of      178.    Elapsed: 0:00:02.  Remaining: 0:00:01\n",
            "  Batch     120  of      178.    Elapsed: 0:00:02.  Remaining: 0:00:01\n",
            "  Batch     140  of      178.    Elapsed: 0:00:02.  Remaining: 0:00:01\n",
            "  Batch     160  of      178.    Elapsed: 0:00:03.  Remaining: 0:00:00\n",
            "\n",
            "  Average validation loss: 0.21\n",
            "  Validation Accuracy: 0.93\n",
            "  Validation epoch took: 0:00:03\n",
            "\n",
            "======== Epoch 3 / 4 ========\n",
            "Creating Smart Batches from 22,762 examples with batch size 16...\n",
            "\n",
            "Tokenizing 22,762 samples...\n",
            "  Tokenized 0 samples.\n",
            "  Tokenized 2,000 samples.\n",
            "  Tokenized 4,000 samples.\n",
            "  Tokenized 6,000 samples.\n",
            "  Tokenized 8,000 samples.\n",
            "  Tokenized 10,000 samples.\n",
            "  Tokenized 12,000 samples.\n",
            "  Tokenized 14,000 samples.\n",
            "  Tokenized 16,000 samples.\n",
            "  Tokenized 18,000 samples.\n",
            "  Tokenized 20,000 samples.\n",
            "  Tokenized 22,000 samples.\n",
            "DONE.\n",
            "    22,762 samples\n",
            "\n",
            "    22,762 samples after sorting\n",
            "\n",
            "Creating batches of size 16...\n",
            "\n",
            "  DONE - Selected 1,423 batches.\n",
            "\n",
            "Padding out sequences within each batch...\n",
            "  DONE.\n",
            "Training on 1,423 batches...\n",
            "  Batch     100  of    1,423.    Elapsed: 0:00:06.  Remaining: 0:01:13\n",
            "  Batch     200  of    1,423.    Elapsed: 0:00:11.  Remaining: 0:01:09\n",
            "  Batch     300  of    1,423.    Elapsed: 0:00:17.  Remaining: 0:01:03\n",
            "  Batch     400  of    1,423.    Elapsed: 0:00:22.  Remaining: 0:00:57\n",
            "  Batch     500  of    1,423.    Elapsed: 0:00:28.  Remaining: 0:00:52\n",
            "  Batch     600  of    1,423.    Elapsed: 0:00:34.  Remaining: 0:00:46\n",
            "  Batch     700  of    1,423.    Elapsed: 0:00:39.  Remaining: 0:00:40\n",
            "  Batch     800  of    1,423.    Elapsed: 0:00:44.  Remaining: 0:00:34\n",
            "  Batch     900  of    1,423.    Elapsed: 0:00:50.  Remaining: 0:00:29\n",
            "  Batch   1,000  of    1,423.    Elapsed: 0:00:55.  Remaining: 0:00:23\n",
            "  Batch   1,100  of    1,423.    Elapsed: 0:01:01.  Remaining: 0:00:18\n",
            "  Batch   1,200  of    1,423.    Elapsed: 0:01:06.  Remaining: 0:00:12\n",
            "  Batch   1,300  of    1,423.    Elapsed: 0:01:12.  Remaining: 0:00:07\n",
            "  Batch   1,400  of    1,423.    Elapsed: 0:01:17.  Remaining: 0:00:01\n",
            "\n",
            "  Average training loss: 0.15\n",
            "  Training Accuracy: 0.95\n",
            "  Training epoch took: 0:01:20\n",
            "Creating Smart Batches from 2,843 examples with batch size 16...\n",
            "\n",
            "Tokenizing 2,843 samples...\n",
            "  Tokenized 0 samples.\n",
            "  Tokenized 300 samples.\n",
            "  Tokenized 600 samples.\n",
            "  Tokenized 900 samples.\n",
            "  Tokenized 1,200 samples.\n",
            "  Tokenized 1,500 samples.\n",
            "  Tokenized 1,800 samples.\n",
            "  Tokenized 2,100 samples.\n",
            "  Tokenized 2,400 samples.\n",
            "  Tokenized 2,700 samples.\n",
            "DONE.\n",
            "     2,843 samples\n",
            "\n",
            "     2,843 samples after sorting\n",
            "\n",
            "Creating batches of size 16...\n",
            "\n",
            "  DONE - Selected 178 batches.\n",
            "\n",
            "Padding out sequences within each batch...\n",
            "  DONE.\n",
            "Doing validation on 178 sentences...\n",
            "  Batch      20  of      178.    Elapsed: 0:00:00.  Remaining: 0:00:02\n",
            "  Batch      40  of      178.    Elapsed: 0:00:01.  Remaining: 0:00:02\n",
            "  Batch      60  of      178.    Elapsed: 0:00:01.  Remaining: 0:00:02\n",
            "  Batch      80  of      178.    Elapsed: 0:00:01.  Remaining: 0:00:02\n",
            "  Batch     100  of      178.    Elapsed: 0:00:02.  Remaining: 0:00:01\n",
            "  Batch     120  of      178.    Elapsed: 0:00:02.  Remaining: 0:00:01\n",
            "  Batch     140  of      178.    Elapsed: 0:00:02.  Remaining: 0:00:01\n",
            "  Batch     160  of      178.    Elapsed: 0:00:03.  Remaining: 0:00:00\n",
            "\n",
            "  Average validation loss: 0.25\n",
            "  Validation Accuracy: 0.93\n",
            "  Validation epoch took: 0:00:03\n",
            "\n",
            "======== Epoch 4 / 4 ========\n",
            "Creating Smart Batches from 22,762 examples with batch size 16...\n",
            "\n",
            "Tokenizing 22,762 samples...\n",
            "  Tokenized 0 samples.\n",
            "  Tokenized 2,000 samples.\n",
            "  Tokenized 4,000 samples.\n",
            "  Tokenized 6,000 samples.\n",
            "  Tokenized 8,000 samples.\n",
            "  Tokenized 10,000 samples.\n",
            "  Tokenized 12,000 samples.\n",
            "  Tokenized 14,000 samples.\n",
            "  Tokenized 16,000 samples.\n",
            "  Tokenized 18,000 samples.\n",
            "  Tokenized 20,000 samples.\n",
            "  Tokenized 22,000 samples.\n",
            "DONE.\n",
            "    22,762 samples\n",
            "\n",
            "    22,762 samples after sorting\n",
            "\n",
            "Creating batches of size 16...\n",
            "\n",
            "  DONE - Selected 1,423 batches.\n",
            "\n",
            "Padding out sequences within each batch...\n",
            "  DONE.\n",
            "Training on 1,423 batches...\n",
            "  Batch     100  of    1,423.    Elapsed: 0:00:06.  Remaining: 0:01:21\n",
            "  Batch     200  of    1,423.    Elapsed: 0:00:12.  Remaining: 0:01:11\n",
            "  Batch     300  of    1,423.    Elapsed: 0:00:17.  Remaining: 0:01:04\n",
            "  Batch     400  of    1,423.    Elapsed: 0:00:22.  Remaining: 0:00:57\n",
            "  Batch     500  of    1,423.    Elapsed: 0:00:28.  Remaining: 0:00:52\n",
            "  Batch     600  of    1,423.    Elapsed: 0:00:33.  Remaining: 0:00:45\n",
            "  Batch     700  of    1,423.    Elapsed: 0:00:39.  Remaining: 0:00:40\n",
            "  Batch     800  of    1,423.    Elapsed: 0:00:45.  Remaining: 0:00:35\n",
            "  Batch     900  of    1,423.    Elapsed: 0:00:50.  Remaining: 0:00:29\n",
            "  Batch   1,000  of    1,423.    Elapsed: 0:00:55.  Remaining: 0:00:23\n",
            "  Batch   1,100  of    1,423.    Elapsed: 0:01:01.  Remaining: 0:00:18\n",
            "  Batch   1,200  of    1,423.    Elapsed: 0:01:06.  Remaining: 0:00:12\n",
            "  Batch   1,300  of    1,423.    Elapsed: 0:01:12.  Remaining: 0:00:07\n",
            "  Batch   1,400  of    1,423.    Elapsed: 0:01:18.  Remaining: 0:00:01\n",
            "\n",
            "  Average training loss: 0.10\n",
            "  Training Accuracy: 0.97\n",
            "  Training epoch took: 0:01:20\n",
            "Creating Smart Batches from 2,843 examples with batch size 16...\n",
            "\n",
            "Tokenizing 2,843 samples...\n",
            "  Tokenized 0 samples.\n",
            "  Tokenized 300 samples.\n",
            "  Tokenized 600 samples.\n",
            "  Tokenized 900 samples.\n",
            "  Tokenized 1,200 samples.\n",
            "  Tokenized 1,500 samples.\n",
            "  Tokenized 1,800 samples.\n",
            "  Tokenized 2,100 samples.\n",
            "  Tokenized 2,400 samples.\n",
            "  Tokenized 2,700 samples.\n",
            "DONE.\n",
            "     2,843 samples\n",
            "\n",
            "     2,843 samples after sorting\n",
            "\n",
            "Creating batches of size 16...\n",
            "\n",
            "  DONE - Selected 178 batches.\n",
            "\n",
            "Padding out sequences within each batch...\n",
            "  DONE.\n",
            "Doing validation on 178 sentences...\n",
            "  Batch      20  of      178.    Elapsed: 0:00:00.  Remaining: 0:00:03\n",
            "  Batch      40  of      178.    Elapsed: 0:00:01.  Remaining: 0:00:02\n",
            "  Batch      60  of      178.    Elapsed: 0:00:01.  Remaining: 0:00:02\n",
            "  Batch      80  of      178.    Elapsed: 0:00:01.  Remaining: 0:00:02\n",
            "  Batch     100  of      178.    Elapsed: 0:00:02.  Remaining: 0:00:01\n",
            "  Batch     120  of      178.    Elapsed: 0:00:02.  Remaining: 0:00:01\n",
            "  Batch     140  of      178.    Elapsed: 0:00:02.  Remaining: 0:00:01\n",
            "  Batch     160  of      178.    Elapsed: 0:00:03.  Remaining: 0:00:00\n",
            "\n",
            "  Average validation loss: 0.30\n",
            "  Validation Accuracy: 0.93\n",
            "  Validation epoch took: 0:00:03\n",
            "\n",
            "Training complete!\n",
            "Total training took 0:05:49 (h:mm:ss)\n"
          ],
          "name": "stdout"
        }
      ]
    },
    {
      "cell_type": "code",
      "metadata": {
        "colab": {
          "base_uri": "https://localhost:8080/",
          "height": 450
        },
        "id": "GOmua_S1eXNM",
        "outputId": "1df79a58-ae64-40f0-dd22-6b7a511dfabd"
      },
      "source": [
        "plot_training_history(training_stats)"
      ],
      "execution_count": 95,
      "outputs": [
        {
          "output_type": "display_data",
          "data": {
            "image/png": "[encoded data removed]",
            "text/plain": [
              "<Figure size 1296x432 with 2 Axes>"
            ]
          },
          "metadata": {
            "tags": []
          }
        }
      ]
    },
    {
      "cell_type": "markdown",
      "metadata": {
        "id": "3c-6bOIxVyrM"
      },
      "source": [
        "## Evaluating Performance Over Training Set"
      ]
    },
    {
      "cell_type": "code",
      "metadata": {
        "colab": {
          "base_uri": "https://localhost:8080/"
        },
        "id": "2QmKPNAeWHkZ",
        "outputId": "d24eb8d2-8490-4dcc-d840-dd155e061dad"
      },
      "source": [
        "(py_inputs, py_attn_masks, py_labels) = make_smart_batches(train_sentences, train_labels, batch_size ,tokenizer,max_input_length)\r\n",
        "\r\n",
        "y_pred , y_true = get_predictions(py_inputs, py_attn_masks, py_labels)\r\n"
      ],
      "execution_count": 96,
      "outputs": [
        {
          "output_type": "stream",
          "text": [
            "Creating Smart Batches from 22,762 examples with batch size 16...\n",
            "\n",
            "Tokenizing 22,762 samples...\n",
            "  Tokenized 0 samples.\n",
            "  Tokenized 2,000 samples.\n",
            "  Tokenized 4,000 samples.\n",
            "  Tokenized 6,000 samples.\n",
            "  Tokenized 8,000 samples.\n",
            "  Tokenized 10,000 samples.\n",
            "  Tokenized 12,000 samples.\n",
            "  Tokenized 14,000 samples.\n",
            "  Tokenized 16,000 samples.\n",
            "  Tokenized 18,000 samples.\n",
            "  Tokenized 20,000 samples.\n",
            "  Tokenized 22,000 samples.\n",
            "DONE.\n",
            "    22,762 samples\n",
            "\n",
            "    22,762 samples after sorting\n",
            "\n",
            "Creating batches of size 16...\n",
            "\n",
            "  DONE - Selected 1,423 batches.\n",
            "\n",
            "Padding out sequences within each batch...\n",
            "  DONE.\n",
            "Predicting labels for 1,423 test batches...\n",
            "  Batch     100  of    1,423.    Elapsed: 0:00:02.  Remaining: 0:00:22\n",
            "  Batch     200  of    1,423.    Elapsed: 0:00:03.  Remaining: 0:00:20\n",
            "  Batch     300  of    1,423.    Elapsed: 0:00:05.  Remaining: 0:00:19\n",
            "  Batch     400  of    1,423.    Elapsed: 0:00:07.  Remaining: 0:00:17\n",
            "  Batch     500  of    1,423.    Elapsed: 0:00:08.  Remaining: 0:00:15\n",
            "  Batch     600  of    1,423.    Elapsed: 0:00:10.  Remaining: 0:00:13\n",
            "  Batch     700  of    1,423.    Elapsed: 0:00:11.  Remaining: 0:00:12\n",
            "  Batch     800  of    1,423.    Elapsed: 0:00:13.  Remaining: 0:00:10\n",
            "  Batch     900  of    1,423.    Elapsed: 0:00:15.  Remaining: 0:00:08\n",
            "  Batch   1,000  of    1,423.    Elapsed: 0:00:16.  Remaining: 0:00:07\n",
            "  Batch   1,100  of    1,423.    Elapsed: 0:00:18.  Remaining: 0:00:05\n",
            "  Batch   1,200  of    1,423.    Elapsed: 0:00:19.  Remaining: 0:00:04\n",
            "  Batch   1,300  of    1,423.    Elapsed: 0:00:21.  Remaining: 0:00:02\n",
            "  Batch   1,400  of    1,423.    Elapsed: 0:00:23.  Remaining: 0:00:00\n"
          ],
          "name": "stdout"
        }
      ]
    },
    {
      "cell_type": "code",
      "metadata": {
        "colab": {
          "base_uri": "https://localhost:8080/"
        },
        "id": "uXsVn0wngZhv",
        "outputId": "280cb7dd-947a-4ba3-bea6-a035ca1a9b39"
      },
      "source": [
        "print(classification_report(y_true, y_pred, target_names=class_names))"
      ],
      "execution_count": 97,
      "outputs": [
        {
          "output_type": "stream",
          "text": [
            "                 precision    recall  f1-score   support\n",
            "\n",
            "    Hope_speech       0.95      0.85      0.90      1962\n",
            "Non-hope-speech       0.99      1.00      0.99     20778\n",
            "    not-English       0.00      0.00      0.00        22\n",
            "\n",
            "       accuracy                           0.98     22762\n",
            "      macro avg       0.64      0.62      0.63     22762\n",
            "   weighted avg       0.98      0.98      0.98     22762\n",
            "\n"
          ],
          "name": "stdout"
        },
        {
          "output_type": "stream",
          "text": [
            "/usr/local/lib/python3.6/dist-packages/sklearn/metrics/_classification.py:1272: UndefinedMetricWarning: Precision and F-score are ill-defined and being set to 0.0 in labels with no predicted samples. Use `zero_division` parameter to control this behavior.\n",
            "  _warn_prf(average, modifier, msg_start, len(result))\n"
          ],
          "name": "stderr"
        }
      ]
    },
    {
      "cell_type": "code",
      "metadata": {
        "colab": {
          "base_uri": "https://localhost:8080/",
          "height": 483
        },
        "id": "guClUdRhYPql",
        "outputId": "84c3924c-6d84-4b2a-8123-9c867e16a77e"
      },
      "source": [
        "cm = confusion_matrix(y_true, y_pred)\r\n",
        "show_confusion_matrix(cm, class_names)"
      ],
      "execution_count": 98,
      "outputs": [
        {
          "output_type": "display_data",
          "data": {
            "image/png": "[encoded data removed]",
            "text/plain": [
              "<Figure size 864x432 with 2 Axes>"
            ]
          },
          "metadata": {
            "tags": []
          }
        }
      ]
    },
    {
      "cell_type": "markdown",
      "metadata": {
        "id": "VM2N-X1tV3il"
      },
      "source": [
        "## Evaluating Performance Over Validation Set"
      ]
    },
    {
      "cell_type": "code",
      "metadata": {
        "colab": {
          "base_uri": "https://localhost:8080/"
        },
        "id": "BnadNvtxWIYw",
        "outputId": "be143fd5-e36d-4977-8bcd-8affd94ae23a"
      },
      "source": [
        "(py_inputs, py_attn_masks, py_labels) = make_smart_batches(val_sentences, val_labels, batch_size ,tokenizer,max_input_length)\r\n",
        "\r\n",
        "y_pred , y_true = get_predictions(py_inputs, py_attn_masks, py_labels)"
      ],
      "execution_count": 99,
      "outputs": [
        {
          "output_type": "stream",
          "text": [
            "Creating Smart Batches from 2,843 examples with batch size 16...\n",
            "\n",
            "Tokenizing 2,843 samples...\n",
            "  Tokenized 0 samples.\n",
            "  Tokenized 300 samples.\n",
            "  Tokenized 600 samples.\n",
            "  Tokenized 900 samples.\n",
            "  Tokenized 1,200 samples.\n",
            "  Tokenized 1,500 samples.\n",
            "  Tokenized 1,800 samples.\n",
            "  Tokenized 2,100 samples.\n",
            "  Tokenized 2,400 samples.\n",
            "  Tokenized 2,700 samples.\n",
            "DONE.\n",
            "     2,843 samples\n",
            "\n",
            "     2,843 samples after sorting\n",
            "\n",
            "Creating batches of size 16...\n",
            "\n",
            "  DONE - Selected 178 batches.\n",
            "\n",
            "Padding out sequences within each batch...\n",
            "  DONE.\n",
            "Predicting labels for 178 test batches...\n",
            "  Batch      20  of      178.    Elapsed: 0:00:00.  Remaining: 0:00:03\n",
            "  Batch      40  of      178.    Elapsed: 0:00:01.  Remaining: 0:00:02\n",
            "  Batch      60  of      178.    Elapsed: 0:00:01.  Remaining: 0:00:02\n",
            "  Batch      80  of      178.    Elapsed: 0:00:01.  Remaining: 0:00:02\n",
            "  Batch     100  of      178.    Elapsed: 0:00:02.  Remaining: 0:00:01\n",
            "  Batch     120  of      178.    Elapsed: 0:00:02.  Remaining: 0:00:01\n",
            "  Batch     140  of      178.    Elapsed: 0:00:02.  Remaining: 0:00:01\n",
            "  Batch     160  of      178.    Elapsed: 0:00:03.  Remaining: 0:00:00\n"
          ],
          "name": "stdout"
        }
      ]
    },
    {
      "cell_type": "code",
      "metadata": {
        "colab": {
          "base_uri": "https://localhost:8080/"
        },
        "id": "wAjlATBPgh7c",
        "outputId": "2f9726bb-2d88-4f57-e95d-07a189f3e0c0"
      },
      "source": [
        "print(classification_report(y_true, y_pred, target_names=class_names))"
      ],
      "execution_count": 100,
      "outputs": [
        {
          "output_type": "stream",
          "text": [
            "                 precision    recall  f1-score   support\n",
            "\n",
            "    Hope_speech       0.67      0.50      0.57       272\n",
            "Non-hope-speech       0.95      0.97      0.96      2569\n",
            "    not-English       0.00      0.00      0.00         2\n",
            "\n",
            "       accuracy                           0.93      2843\n",
            "      macro avg       0.54      0.49      0.51      2843\n",
            "   weighted avg       0.92      0.93      0.92      2843\n",
            "\n"
          ],
          "name": "stdout"
        },
        {
          "output_type": "stream",
          "text": [
            "/usr/local/lib/python3.6/dist-packages/sklearn/metrics/_classification.py:1272: UndefinedMetricWarning: Precision and F-score are ill-defined and being set to 0.0 in labels with no predicted samples. Use `zero_division` parameter to control this behavior.\n",
            "  _warn_prf(average, modifier, msg_start, len(result))\n"
          ],
          "name": "stderr"
        }
      ]
    },
    {
      "cell_type": "code",
      "metadata": {
        "colab": {
          "base_uri": "https://localhost:8080/",
          "height": 483
        },
        "id": "7nELY57NYshD",
        "outputId": "ec8d0113-9664-4dab-f46e-5dbeb652fa76"
      },
      "source": [
        "cm = confusion_matrix(y_true, y_pred)\r\n",
        "show_confusion_matrix(cm, class_names)"
      ],
      "execution_count": 101,
      "outputs": [
        {
          "output_type": "display_data",
          "data": {
            "image/png": "[encoded data removed]",
            "text/plain": [
              "<Figure size 864x432 with 2 Axes>"
            ]
          },
          "metadata": {
            "tags": []
          }
        }
      ]
    },
    {
      "cell_type": "markdown",
      "metadata": {
        "id": "2fOJyH_c3ON2"
      },
      "source": [
        "## Saving the model"
      ]
    },
    {
      "cell_type": "code",
      "metadata": {
        "id": "3PXqG-VpurVS"
      },
      "source": [
        "torch.save(model,\"./drive/MyDrive/Codalab/HopeSpeech Detection For Equality,DiversityAnd Inclusion/Models/IndicBERT_English\")"
      ],
      "execution_count": 102,
      "outputs": []
    },
    {
      "cell_type": "markdown",
      "metadata": {
        "id": "a9M_91z1yj0F"
      },
      "source": [
        "## Loading the model"
      ]
    },
    {
      "cell_type": "code",
      "metadata": {
        "id": "5NfWwz6Qztsg"
      },
      "source": [
        "model = torch.load('./drive/MyDrive/Codalab/HopeSpeech Detection For Equality,DiversityAnd Inclusion/Models/IndicBERT_English',map_location=device)"
      ],
      "execution_count": null,
      "outputs": []
    },
    {
      "cell_type": "code",
      "metadata": {
        "colab": {
          "base_uri": "https://localhost:8080/"
        },
        "id": "sAaHpZdIzsnT",
        "outputId": "a8fc95e1-51eb-463a-932b-bd7a8d70c106"
      },
      "source": [
        "model.cuda()"
      ],
      "execution_count": null,
      "outputs": [
        {
          "output_type": "execute_result",
          "data": {
            "text/plain": [
              "XLMRobertaForSequenceClassification(\n",
              "  (roberta): RobertaModel(\n",
              "    (embeddings): RobertaEmbeddings(\n",
              "      (word_embeddings): Embedding(250002, 768, padding_idx=1)\n",
              "      (position_embeddings): Embedding(514, 768, padding_idx=1)\n",
              "      (token_type_embeddings): Embedding(1, 768)\n",
              "      (LayerNorm): LayerNorm((768,), eps=1e-05, elementwise_affine=True)\n",
              "      (dropout): Dropout(p=0.1, inplace=False)\n",
              "    )\n",
              "    (encoder): RobertaEncoder(\n",
              "      (layer): ModuleList(\n",
              "        (0): RobertaLayer(\n",
              "          (attention): RobertaAttention(\n",
              "            (self): RobertaSelfAttention(\n",
              "              (query): Linear(in_features=768, out_features=768, bias=True)\n",
              "              (key): Linear(in_features=768, out_features=768, bias=True)\n",
              "              (value): Linear(in_features=768, out_features=768, bias=True)\n",
              "              (dropout): Dropout(p=0.1, inplace=False)\n",
              "            )\n",
              "            (output): RobertaSelfOutput(\n",
              "              (dense): Linear(in_features=768, out_features=768, bias=True)\n",
              "              (LayerNorm): LayerNorm((768,), eps=1e-05, elementwise_affine=True)\n",
              "              (dropout): Dropout(p=0.1, inplace=False)\n",
              "            )\n",
              "          )\n",
              "          (intermediate): RobertaIntermediate(\n",
              "            (dense): Linear(in_features=768, out_features=3072, bias=True)\n",
              "          )\n",
              "          (output): RobertaOutput(\n",
              "            (dense): Linear(in_features=3072, out_features=768, bias=True)\n",
              "            (LayerNorm): LayerNorm((768,), eps=1e-05, elementwise_affine=True)\n",
              "            (dropout): Dropout(p=0.1, inplace=False)\n",
              "          )\n",
              "        )\n",
              "        (1): RobertaLayer(\n",
              "          (attention): RobertaAttention(\n",
              "            (self): RobertaSelfAttention(\n",
              "              (query): Linear(in_features=768, out_features=768, bias=True)\n",
              "              (key): Linear(in_features=768, out_features=768, bias=True)\n",
              "              (value): Linear(in_features=768, out_features=768, bias=True)\n",
              "              (dropout): Dropout(p=0.1, inplace=False)\n",
              "            )\n",
              "            (output): RobertaSelfOutput(\n",
              "              (dense): Linear(in_features=768, out_features=768, bias=True)\n",
              "              (LayerNorm): LayerNorm((768,), eps=1e-05, elementwise_affine=True)\n",
              "              (dropout): Dropout(p=0.1, inplace=False)\n",
              "            )\n",
              "          )\n",
              "          (intermediate): RobertaIntermediate(\n",
              "            (dense): Linear(in_features=768, out_features=3072, bias=True)\n",
              "          )\n",
              "          (output): RobertaOutput(\n",
              "            (dense): Linear(in_features=3072, out_features=768, bias=True)\n",
              "            (LayerNorm): LayerNorm((768,), eps=1e-05, elementwise_affine=True)\n",
              "            (dropout): Dropout(p=0.1, inplace=False)\n",
              "          )\n",
              "        )\n",
              "        (2): RobertaLayer(\n",
              "          (attention): RobertaAttention(\n",
              "            (self): RobertaSelfAttention(\n",
              "              (query): Linear(in_features=768, out_features=768, bias=True)\n",
              "              (key): Linear(in_features=768, out_features=768, bias=True)\n",
              "              (value): Linear(in_features=768, out_features=768, bias=True)\n",
              "              (dropout): Dropout(p=0.1, inplace=False)\n",
              "            )\n",
              "            (output): RobertaSelfOutput(\n",
              "              (dense): Linear(in_features=768, out_features=768, bias=True)\n",
              "              (LayerNorm): LayerNorm((768,), eps=1e-05, elementwise_affine=True)\n",
              "              (dropout): Dropout(p=0.1, inplace=False)\n",
              "            )\n",
              "          )\n",
              "          (intermediate): RobertaIntermediate(\n",
              "            (dense): Linear(in_features=768, out_features=3072, bias=True)\n",
              "          )\n",
              "          (output): RobertaOutput(\n",
              "            (dense): Linear(in_features=3072, out_features=768, bias=True)\n",
              "            (LayerNorm): LayerNorm((768,), eps=1e-05, elementwise_affine=True)\n",
              "            (dropout): Dropout(p=0.1, inplace=False)\n",
              "          )\n",
              "        )\n",
              "        (3): RobertaLayer(\n",
              "          (attention): RobertaAttention(\n",
              "            (self): RobertaSelfAttention(\n",
              "              (query): Linear(in_features=768, out_features=768, bias=True)\n",
              "              (key): Linear(in_features=768, out_features=768, bias=True)\n",
              "              (value): Linear(in_features=768, out_features=768, bias=True)\n",
              "              (dropout): Dropout(p=0.1, inplace=False)\n",
              "            )\n",
              "            (output): RobertaSelfOutput(\n",
              "              (dense): Linear(in_features=768, out_features=768, bias=True)\n",
              "              (LayerNorm): LayerNorm((768,), eps=1e-05, elementwise_affine=True)\n",
              "              (dropout): Dropout(p=0.1, inplace=False)\n",
              "            )\n",
              "          )\n",
              "          (intermediate): RobertaIntermediate(\n",
              "            (dense): Linear(in_features=768, out_features=3072, bias=True)\n",
              "          )\n",
              "          (output): RobertaOutput(\n",
              "            (dense): Linear(in_features=3072, out_features=768, bias=True)\n",
              "            (LayerNorm): LayerNorm((768,), eps=1e-05, elementwise_affine=True)\n",
              "            (dropout): Dropout(p=0.1, inplace=False)\n",
              "          )\n",
              "        )\n",
              "        (4): RobertaLayer(\n",
              "          (attention): RobertaAttention(\n",
              "            (self): RobertaSelfAttention(\n",
              "              (query): Linear(in_features=768, out_features=768, bias=True)\n",
              "              (key): Linear(in_features=768, out_features=768, bias=True)\n",
              "              (value): Linear(in_features=768, out_features=768, bias=True)\n",
              "              (dropout): Dropout(p=0.1, inplace=False)\n",
              "            )\n",
              "            (output): RobertaSelfOutput(\n",
              "              (dense): Linear(in_features=768, out_features=768, bias=True)\n",
              "              (LayerNorm): LayerNorm((768,), eps=1e-05, elementwise_affine=True)\n",
              "              (dropout): Dropout(p=0.1, inplace=False)\n",
              "            )\n",
              "          )\n",
              "          (intermediate): RobertaIntermediate(\n",
              "            (dense): Linear(in_features=768, out_features=3072, bias=True)\n",
              "          )\n",
              "          (output): RobertaOutput(\n",
              "            (dense): Linear(in_features=3072, out_features=768, bias=True)\n",
              "            (LayerNorm): LayerNorm((768,), eps=1e-05, elementwise_affine=True)\n",
              "            (dropout): Dropout(p=0.1, inplace=False)\n",
              "          )\n",
              "        )\n",
              "        (5): RobertaLayer(\n",
              "          (attention): RobertaAttention(\n",
              "            (self): RobertaSelfAttention(\n",
              "              (query): Linear(in_features=768, out_features=768, bias=True)\n",
              "              (key): Linear(in_features=768, out_features=768, bias=True)\n",
              "              (value): Linear(in_features=768, out_features=768, bias=True)\n",
              "              (dropout): Dropout(p=0.1, inplace=False)\n",
              "            )\n",
              "            (output): RobertaSelfOutput(\n",
              "              (dense): Linear(in_features=768, out_features=768, bias=True)\n",
              "              (LayerNorm): LayerNorm((768,), eps=1e-05, elementwise_affine=True)\n",
              "              (dropout): Dropout(p=0.1, inplace=False)\n",
              "            )\n",
              "          )\n",
              "          (intermediate): RobertaIntermediate(\n",
              "            (dense): Linear(in_features=768, out_features=3072, bias=True)\n",
              "          )\n",
              "          (output): RobertaOutput(\n",
              "            (dense): Linear(in_features=3072, out_features=768, bias=True)\n",
              "            (LayerNorm): LayerNorm((768,), eps=1e-05, elementwise_affine=True)\n",
              "            (dropout): Dropout(p=0.1, inplace=False)\n",
              "          )\n",
              "        )\n",
              "        (6): RobertaLayer(\n",
              "          (attention): RobertaAttention(\n",
              "            (self): RobertaSelfAttention(\n",
              "              (query): Linear(in_features=768, out_features=768, bias=True)\n",
              "              (key): Linear(in_features=768, out_features=768, bias=True)\n",
              "              (value): Linear(in_features=768, out_features=768, bias=True)\n",
              "              (dropout): Dropout(p=0.1, inplace=False)\n",
              "            )\n",
              "            (output): RobertaSelfOutput(\n",
              "              (dense): Linear(in_features=768, out_features=768, bias=True)\n",
              "              (LayerNorm): LayerNorm((768,), eps=1e-05, elementwise_affine=True)\n",
              "              (dropout): Dropout(p=0.1, inplace=False)\n",
              "            )\n",
              "          )\n",
              "          (intermediate): RobertaIntermediate(\n",
              "            (dense): Linear(in_features=768, out_features=3072, bias=True)\n",
              "          )\n",
              "          (output): RobertaOutput(\n",
              "            (dense): Linear(in_features=3072, out_features=768, bias=True)\n",
              "            (LayerNorm): LayerNorm((768,), eps=1e-05, elementwise_affine=True)\n",
              "            (dropout): Dropout(p=0.1, inplace=False)\n",
              "          )\n",
              "        )\n",
              "        (7): RobertaLayer(\n",
              "          (attention): RobertaAttention(\n",
              "            (self): RobertaSelfAttention(\n",
              "              (query): Linear(in_features=768, out_features=768, bias=True)\n",
              "              (key): Linear(in_features=768, out_features=768, bias=True)\n",
              "              (value): Linear(in_features=768, out_features=768, bias=True)\n",
              "              (dropout): Dropout(p=0.1, inplace=False)\n",
              "            )\n",
              "            (output): RobertaSelfOutput(\n",
              "              (dense): Linear(in_features=768, out_features=768, bias=True)\n",
              "              (LayerNorm): LayerNorm((768,), eps=1e-05, elementwise_affine=True)\n",
              "              (dropout): Dropout(p=0.1, inplace=False)\n",
              "            )\n",
              "          )\n",
              "          (intermediate): RobertaIntermediate(\n",
              "            (dense): Linear(in_features=768, out_features=3072, bias=True)\n",
              "          )\n",
              "          (output): RobertaOutput(\n",
              "            (dense): Linear(in_features=3072, out_features=768, bias=True)\n",
              "            (LayerNorm): LayerNorm((768,), eps=1e-05, elementwise_affine=True)\n",
              "            (dropout): Dropout(p=0.1, inplace=False)\n",
              "          )\n",
              "        )\n",
              "        (8): RobertaLayer(\n",
              "          (attention): RobertaAttention(\n",
              "            (self): RobertaSelfAttention(\n",
              "              (query): Linear(in_features=768, out_features=768, bias=True)\n",
              "              (key): Linear(in_features=768, out_features=768, bias=True)\n",
              "              (value): Linear(in_features=768, out_features=768, bias=True)\n",
              "              (dropout): Dropout(p=0.1, inplace=False)\n",
              "            )\n",
              "            (output): RobertaSelfOutput(\n",
              "              (dense): Linear(in_features=768, out_features=768, bias=True)\n",
              "              (LayerNorm): LayerNorm((768,), eps=1e-05, elementwise_affine=True)\n",
              "              (dropout): Dropout(p=0.1, inplace=False)\n",
              "            )\n",
              "          )\n",
              "          (intermediate): RobertaIntermediate(\n",
              "            (dense): Linear(in_features=768, out_features=3072, bias=True)\n",
              "          )\n",
              "          (output): RobertaOutput(\n",
              "            (dense): Linear(in_features=3072, out_features=768, bias=True)\n",
              "            (LayerNorm): LayerNorm((768,), eps=1e-05, elementwise_affine=True)\n",
              "            (dropout): Dropout(p=0.1, inplace=False)\n",
              "          )\n",
              "        )\n",
              "        (9): RobertaLayer(\n",
              "          (attention): RobertaAttention(\n",
              "            (self): RobertaSelfAttention(\n",
              "              (query): Linear(in_features=768, out_features=768, bias=True)\n",
              "              (key): Linear(in_features=768, out_features=768, bias=True)\n",
              "              (value): Linear(in_features=768, out_features=768, bias=True)\n",
              "              (dropout): Dropout(p=0.1, inplace=False)\n",
              "            )\n",
              "            (output): RobertaSelfOutput(\n",
              "              (dense): Linear(in_features=768, out_features=768, bias=True)\n",
              "              (LayerNorm): LayerNorm((768,), eps=1e-05, elementwise_affine=True)\n",
              "              (dropout): Dropout(p=0.1, inplace=False)\n",
              "            )\n",
              "          )\n",
              "          (intermediate): RobertaIntermediate(\n",
              "            (dense): Linear(in_features=768, out_features=3072, bias=True)\n",
              "          )\n",
              "          (output): RobertaOutput(\n",
              "            (dense): Linear(in_features=3072, out_features=768, bias=True)\n",
              "            (LayerNorm): LayerNorm((768,), eps=1e-05, elementwise_affine=True)\n",
              "            (dropout): Dropout(p=0.1, inplace=False)\n",
              "          )\n",
              "        )\n",
              "        (10): RobertaLayer(\n",
              "          (attention): RobertaAttention(\n",
              "            (self): RobertaSelfAttention(\n",
              "              (query): Linear(in_features=768, out_features=768, bias=True)\n",
              "              (key): Linear(in_features=768, out_features=768, bias=True)\n",
              "              (value): Linear(in_features=768, out_features=768, bias=True)\n",
              "              (dropout): Dropout(p=0.1, inplace=False)\n",
              "            )\n",
              "            (output): RobertaSelfOutput(\n",
              "              (dense): Linear(in_features=768, out_features=768, bias=True)\n",
              "              (LayerNorm): LayerNorm((768,), eps=1e-05, elementwise_affine=True)\n",
              "              (dropout): Dropout(p=0.1, inplace=False)\n",
              "            )\n",
              "          )\n",
              "          (intermediate): RobertaIntermediate(\n",
              "            (dense): Linear(in_features=768, out_features=3072, bias=True)\n",
              "          )\n",
              "          (output): RobertaOutput(\n",
              "            (dense): Linear(in_features=3072, out_features=768, bias=True)\n",
              "            (LayerNorm): LayerNorm((768,), eps=1e-05, elementwise_affine=True)\n",
              "            (dropout): Dropout(p=0.1, inplace=False)\n",
              "          )\n",
              "        )\n",
              "        (11): RobertaLayer(\n",
              "          (attention): RobertaAttention(\n",
              "            (self): RobertaSelfAttention(\n",
              "              (query): Linear(in_features=768, out_features=768, bias=True)\n",
              "              (key): Linear(in_features=768, out_features=768, bias=True)\n",
              "              (value): Linear(in_features=768, out_features=768, bias=True)\n",
              "              (dropout): Dropout(p=0.1, inplace=False)\n",
              "            )\n",
              "            (output): RobertaSelfOutput(\n",
              "              (dense): Linear(in_features=768, out_features=768, bias=True)\n",
              "              (LayerNorm): LayerNorm((768,), eps=1e-05, elementwise_affine=True)\n",
              "              (dropout): Dropout(p=0.1, inplace=False)\n",
              "            )\n",
              "          )\n",
              "          (intermediate): RobertaIntermediate(\n",
              "            (dense): Linear(in_features=768, out_features=3072, bias=True)\n",
              "          )\n",
              "          (output): RobertaOutput(\n",
              "            (dense): Linear(in_features=3072, out_features=768, bias=True)\n",
              "            (LayerNorm): LayerNorm((768,), eps=1e-05, elementwise_affine=True)\n",
              "            (dropout): Dropout(p=0.1, inplace=False)\n",
              "          )\n",
              "        )\n",
              "      )\n",
              "    )\n",
              "  )\n",
              "  (classifier): RobertaClassificationHead(\n",
              "    (dense): Linear(in_features=768, out_features=768, bias=True)\n",
              "    (dropout): Dropout(p=0.1, inplace=False)\n",
              "    (out_proj): Linear(in_features=768, out_features=5, bias=True)\n",
              "  )\n",
              ")"
            ]
          },
          "metadata": {
            "tags": []
          },
          "execution_count": 70
        }
      ]
    },
    {
      "cell_type": "markdown",
      "metadata": {
        "id": "_crczjW6V-QK"
      },
      "source": [
        "## Making Predictions on Test Set"
      ]
    },
    {
      "cell_type": "code",
      "metadata": {
        "id": "lETtjTatLo91"
      },
      "source": [
        "test_df_path = join(dataset_dir,'english_hope_test.csv')\r\n",
        "test_df = pd.read_csv(test_df_path)"
      ],
      "execution_count": 103,
      "outputs": []
    },
    {
      "cell_type": "code",
      "metadata": {
        "colab": {
          "base_uri": "https://localhost:8080/",
          "height": 402
        },
        "id": "d_83fOUwqn0w",
        "outputId": "dfb7e44a-4c83-4ae3-bfeb-eb019cb65b25"
      },
      "source": [
        "test_df"
      ],
      "execution_count": 104,
      "outputs": [
        {
          "output_type": "execute_result",
          "data": {
            "text/html": [
              "<div>\n",
              "<style scoped>\n",
              "    .dataframe tbody tr th:only-of-type {\n",
              "        vertical-align: middle;\n",
              "    }\n",
              "\n",
              "    .dataframe tbody tr th {\n",
              "        vertical-align: top;\n",
              "    }\n",
              "\n",
              "    .dataframe thead th {\n",
              "        text-align: right;\n",
              "    }\n",
              "</style>\n",
              "<table border=\"1\" class=\"dataframe\">\n",
              "  <thead>\n",
              "    <tr style=\"text-align: right;\">\n",
              "      <th></th>\n",
              "      <th>text</th>\n",
              "    </tr>\n",
              "  </thead>\n",
              "  <tbody>\n",
              "    <tr>\n",
              "      <th>0</th>\n",
              "      <td>What do you mean by the word sniped?</td>\n",
              "    </tr>\n",
              "    <tr>\n",
              "      <th>1</th>\n",
              "      <td>I love this video!! I’m bisexual and it’s just...</td>\n",
              "    </tr>\n",
              "    <tr>\n",
              "      <th>2</th>\n",
              "      <td>ya the irony but then i don't want to come off...</td>\n",
              "    </tr>\n",
              "    <tr>\n",
              "      <th>3</th>\n",
              "      <td>A PERSON'S CHARACTER MATTERS. PERIOD!!</td>\n",
              "    </tr>\n",
              "    <tr>\n",
              "      <th>4</th>\n",
              "      <td>@Blaster of Gasters</td>\n",
              "    </tr>\n",
              "    <tr>\n",
              "      <th>...</th>\n",
              "      <td>...</td>\n",
              "    </tr>\n",
              "    <tr>\n",
              "      <th>2841</th>\n",
              "      <td>+Ashrenneemakeup I think it's all a deliberate...</td>\n",
              "    </tr>\n",
              "    <tr>\n",
              "      <th>2842</th>\n",
              "      <td>Sheriff David Clarke. This guy is amazing.</td>\n",
              "    </tr>\n",
              "    <tr>\n",
              "      <th>2843</th>\n",
              "      <td>Abandorn Hope Situation</td>\n",
              "    </tr>\n",
              "    <tr>\n",
              "      <th>2844</th>\n",
              "      <td>Sheriff Clarke you are a person of such strong...</td>\n",
              "    </tr>\n",
              "    <tr>\n",
              "      <th>2845</th>\n",
              "      <td>Sanders has no room to talk. If there's one pe...</td>\n",
              "    </tr>\n",
              "  </tbody>\n",
              "</table>\n",
              "<p>2846 rows × 1 columns</p>\n",
              "</div>"
            ],
            "text/plain": [
              "                                                   text\n",
              "0                  What do you mean by the word sniped?\n",
              "1     I love this video!! I’m bisexual and it’s just...\n",
              "2     ya the irony but then i don't want to come off...\n",
              "3                A PERSON'S CHARACTER MATTERS. PERIOD!!\n",
              "4                                   @Blaster of Gasters\n",
              "...                                                 ...\n",
              "2841  +Ashrenneemakeup I think it's all a deliberate...\n",
              "2842         Sheriff David Clarke. This guy is amazing.\n",
              "2843                            Abandorn Hope Situation\n",
              "2844  Sheriff Clarke you are a person of such strong...\n",
              "2845  Sanders has no room to talk. If there's one pe...\n",
              "\n",
              "[2846 rows x 1 columns]"
            ]
          },
          "metadata": {
            "tags": []
          },
          "execution_count": 104
        }
      ]
    },
    {
      "cell_type": "markdown",
      "metadata": {
        "id": "NjAQaP_na7HN"
      },
      "source": [
        "## Loading `test_sentences`"
      ]
    },
    {
      "cell_type": "code",
      "metadata": {
        "id": "WnnscvKOjl6b"
      },
      "source": [
        "test_sentences = test_df['text'].values \r\n",
        "test_ids = test_df.index.values"
      ],
      "execution_count": 105,
      "outputs": []
    },
    {
      "cell_type": "code",
      "metadata": {
        "colab": {
          "base_uri": "https://localhost:8080/"
        },
        "id": "slovGuCRThW1",
        "outputId": "129df91f-34be-4bfc-fbe0-eeb10ddae3fd"
      },
      "source": [
        "test_ids"
      ],
      "execution_count": 106,
      "outputs": [
        {
          "output_type": "execute_result",
          "data": {
            "text/plain": [
              "array([   0,    1,    2, ..., 2843, 2844, 2845])"
            ]
          },
          "metadata": {
            "tags": []
          },
          "execution_count": 106
        }
      ]
    },
    {
      "cell_type": "code",
      "metadata": {
        "colab": {
          "base_uri": "https://localhost:8080/"
        },
        "id": "gL7aCG2HTjv6",
        "outputId": "2ad79d48-eccd-451a-e16e-87a7b912b5cb"
      },
      "source": [
        "test_sentences"
      ],
      "execution_count": 107,
      "outputs": [
        {
          "output_type": "execute_result",
          "data": {
            "text/plain": [
              "array(['What do you mean by the word sniped?',\n",
              "       'I love this video!! I’m bisexual and it’s just really nice to hear that someone has gone through similar things like me and that I’m not alone. My story is nothing like his and my heart goes out to him to slowly heal from that',\n",
              "       \"ya the irony but then i don't want to come off as a bigot myself\",\n",
              "       ..., 'Abandorn Hope Situation',\n",
              "       'Sheriff Clarke you are a person of such strong character and wisdom.nI want to see more of you as a public figure and much less of the celebs who I admire for their acting but not their biased views.',\n",
              "       \"Sanders has no room to talk. If there's one person who has white privilege....\"],\n",
              "      dtype=object)"
            ]
          },
          "metadata": {
            "tags": []
          },
          "execution_count": 107
        }
      ]
    },
    {
      "cell_type": "code",
      "metadata": {
        "colab": {
          "base_uri": "https://localhost:8080/"
        },
        "id": "glrG0ZI4imGN",
        "outputId": "fe11ac1a-9b14-47e2-fd79-1181c1efcae5"
      },
      "source": [
        "(py_inputs, py_attn_masks,py_ids) = make_smart_batches_on_test(test_sentences,test_ids, 16,tokenizer,max_input_length)"
      ],
      "execution_count": 108,
      "outputs": [
        {
          "output_type": "stream",
          "text": [
            "Creating Smart Batches from 2,846 examples with batch size 16...\n",
            "\n",
            "Tokenizing 2,846 samples...\n",
            "  Tokenized 0 samples.\n",
            "  Tokenized 300 samples.\n",
            "  Tokenized 600 samples.\n",
            "  Tokenized 900 samples.\n",
            "  Tokenized 1,200 samples.\n",
            "  Tokenized 1,500 samples.\n",
            "  Tokenized 1,800 samples.\n",
            "  Tokenized 2,100 samples.\n",
            "  Tokenized 2,400 samples.\n",
            "  Tokenized 2,700 samples.\n",
            "DONE.\n",
            "     2,846 samples\n",
            "\n",
            "     2,846 samples after sorting\n",
            "\n",
            "Creating batches of size 16...\n",
            "\n",
            "  DONE - Selected 178 batches.\n",
            "\n",
            "Padding out sequences within each batch...\n",
            "  DONE.\n"
          ],
          "name": "stdout"
        }
      ]
    },
    {
      "cell_type": "markdown",
      "metadata": {
        "id": "a4FMxCyZbJaG"
      },
      "source": [
        "## Evaluating accuracy over test set"
      ]
    },
    {
      "cell_type": "code",
      "metadata": {
        "colab": {
          "base_uri": "https://localhost:8080/"
        },
        "id": "PiuSwCUDiv8p",
        "outputId": "f259e20c-68a9-44c7-bbb2-56ae0fc1253f"
      },
      "source": [
        "y_ids,y_preds  = get_predictions_test(py_inputs, py_attn_masks,py_ids)\r\n"
      ],
      "execution_count": 109,
      "outputs": [
        {
          "output_type": "stream",
          "text": [
            "Predicting labels for 178 test batches...\n",
            "  Batch      20  of      178.    Elapsed: 0:00:00.  Remaining: 0:00:03\n",
            "  Batch      40  of      178.    Elapsed: 0:00:01.  Remaining: 0:00:02\n",
            "  Batch      60  of      178.    Elapsed: 0:00:01.  Remaining: 0:00:02\n",
            "  Batch      80  of      178.    Elapsed: 0:00:01.  Remaining: 0:00:02\n",
            "  Batch     100  of      178.    Elapsed: 0:00:02.  Remaining: 0:00:01\n",
            "  Batch     120  of      178.    Elapsed: 0:00:02.  Remaining: 0:00:01\n",
            "  Batch     140  of      178.    Elapsed: 0:00:02.  Remaining: 0:00:01\n",
            "  Batch     160  of      178.    Elapsed: 0:00:03.  Remaining: 0:00:00\n"
          ],
          "name": "stdout"
        }
      ]
    },
    {
      "cell_type": "code",
      "metadata": {
        "colab": {
          "base_uri": "https://localhost:8080/"
        },
        "id": "cyNSDdXQhL9F",
        "outputId": "68f785b9-5027-4301-a6fa-13c0d77635ba"
      },
      "source": [
        "print(y_preds)"
      ],
      "execution_count": 110,
      "outputs": [
        {
          "output_type": "stream",
          "text": [
            "[1 1 1 ... 1 1 1]\n"
          ],
          "name": "stdout"
        }
      ]
    },
    {
      "cell_type": "code",
      "metadata": {
        "colab": {
          "base_uri": "https://localhost:8080/"
        },
        "id": "kWWWjz7eUPc7",
        "outputId": "e6022de8-e105-4c5c-9fe3-1d09ebde9ac2"
      },
      "source": [
        "print(y_ids)"
      ],
      "execution_count": 111,
      "outputs": [
        {
          "output_type": "stream",
          "text": [
            "[ 564  574  610 ...   42 2648  105]\n"
          ],
          "name": "stdout"
        }
      ]
    },
    {
      "cell_type": "code",
      "metadata": {
        "colab": {
          "base_uri": "https://localhost:8080/"
        },
        "id": "P2rVvmYVhguG",
        "outputId": "dbdf362d-a645-4e55-f1ca-1e137bf83af1"
      },
      "source": [
        "le.inverse_transform(y_preds)"
      ],
      "execution_count": 112,
      "outputs": [
        {
          "output_type": "execute_result",
          "data": {
            "text/plain": [
              "array(['Non_hope_speech', 'Non_hope_speech', 'Non_hope_speech', ...,\n",
              "       'Non_hope_speech', 'Non_hope_speech', 'Non_hope_speech'],\n",
              "      dtype=object)"
            ]
          },
          "metadata": {
            "tags": []
          },
          "execution_count": 112
        }
      ]
    },
    {
      "cell_type": "code",
      "metadata": {
        "colab": {
          "base_uri": "https://localhost:8080/",
          "height": 424
        },
        "id": "CYN9Z8gAhrMy",
        "outputId": "9582ef5d-843a-4894-f345-04744438f134"
      },
      "source": [
        "sns.countplot(y =le.inverse_transform(y_preds))"
      ],
      "execution_count": 113,
      "outputs": [
        {
          "output_type": "execute_result",
          "data": {
            "text/plain": [
              "<matplotlib.axes._subplots.AxesSubplot at 0x7fcb7aeae160>"
            ]
          },
          "metadata": {
            "tags": []
          },
          "execution_count": 113
        },
        {
          "output_type": "display_data",
          "data": {
            "image/png": "[encoded data removed]",
            "text/plain": [
              "<Figure size 864x432 with 1 Axes>"
            ]
          },
          "metadata": {
            "tags": []
          }
        }
      ]
    },
    {
      "cell_type": "code",
      "metadata": {
        "colab": {
          "base_uri": "https://localhost:8080/"
        },
        "id": "4KXOXwH9U2MT",
        "outputId": "10efbbae-e456-47c4-d474-288aadb78e86"
      },
      "source": [
        "len(y_ids)"
      ],
      "execution_count": 114,
      "outputs": [
        {
          "output_type": "execute_result",
          "data": {
            "text/plain": [
              "2846"
            ]
          },
          "metadata": {
            "tags": []
          },
          "execution_count": 114
        }
      ]
    },
    {
      "cell_type": "code",
      "metadata": {
        "colab": {
          "base_uri": "https://localhost:8080/"
        },
        "id": "9-fkBgOxU4bX",
        "outputId": "a2dff017-731c-4f8e-967a-9876968ae31e"
      },
      "source": [
        "len(le.inverse_transform(y_preds))"
      ],
      "execution_count": 115,
      "outputs": [
        {
          "output_type": "execute_result",
          "data": {
            "text/plain": [
              "2846"
            ]
          },
          "metadata": {
            "tags": []
          },
          "execution_count": 115
        }
      ]
    },
    {
      "cell_type": "markdown",
      "metadata": {
        "id": "sWPDqogJrjIZ"
      },
      "source": [
        "## Creating Submission DataFrame"
      ]
    },
    {
      "cell_type": "code",
      "metadata": {
        "id": "o4Hb7RD1yHol"
      },
      "source": [
        "df_new = pd.DataFrame({\r\n",
        "    'id':y_ids,\r\n",
        "    'label':le.inverse_transform(y_preds)\r\n",
        "})"
      ],
      "execution_count": 116,
      "outputs": []
    },
    {
      "cell_type": "code",
      "metadata": {
        "id": "twQAkVzcn4Lg"
      },
      "source": [
        "test_df['id'] = test_df.index"
      ],
      "execution_count": 117,
      "outputs": []
    },
    {
      "cell_type": "code",
      "metadata": {
        "colab": {
          "base_uri": "https://localhost:8080/",
          "height": 402
        },
        "id": "qov36eWmqawv",
        "outputId": "9c5f4c55-e549-46c5-9383-3f1f9010835f"
      },
      "source": [
        "df_new"
      ],
      "execution_count": 118,
      "outputs": [
        {
          "output_type": "execute_result",
          "data": {
            "text/html": [
              "<div>\n",
              "<style scoped>\n",
              "    .dataframe tbody tr th:only-of-type {\n",
              "        vertical-align: middle;\n",
              "    }\n",
              "\n",
              "    .dataframe tbody tr th {\n",
              "        vertical-align: top;\n",
              "    }\n",
              "\n",
              "    .dataframe thead th {\n",
              "        text-align: right;\n",
              "    }\n",
              "</style>\n",
              "<table border=\"1\" class=\"dataframe\">\n",
              "  <thead>\n",
              "    <tr style=\"text-align: right;\">\n",
              "      <th></th>\n",
              "      <th>id</th>\n",
              "      <th>label</th>\n",
              "    </tr>\n",
              "  </thead>\n",
              "  <tbody>\n",
              "    <tr>\n",
              "      <th>0</th>\n",
              "      <td>564</td>\n",
              "      <td>Non_hope_speech</td>\n",
              "    </tr>\n",
              "    <tr>\n",
              "      <th>1</th>\n",
              "      <td>574</td>\n",
              "      <td>Non_hope_speech</td>\n",
              "    </tr>\n",
              "    <tr>\n",
              "      <th>2</th>\n",
              "      <td>610</td>\n",
              "      <td>Non_hope_speech</td>\n",
              "    </tr>\n",
              "    <tr>\n",
              "      <th>3</th>\n",
              "      <td>719</td>\n",
              "      <td>Non_hope_speech</td>\n",
              "    </tr>\n",
              "    <tr>\n",
              "      <th>4</th>\n",
              "      <td>746</td>\n",
              "      <td>Non_hope_speech</td>\n",
              "    </tr>\n",
              "    <tr>\n",
              "      <th>...</th>\n",
              "      <td>...</td>\n",
              "      <td>...</td>\n",
              "    </tr>\n",
              "    <tr>\n",
              "      <th>2841</th>\n",
              "      <td>567</td>\n",
              "      <td>Non_hope_speech</td>\n",
              "    </tr>\n",
              "    <tr>\n",
              "      <th>2842</th>\n",
              "      <td>183</td>\n",
              "      <td>Non_hope_speech</td>\n",
              "    </tr>\n",
              "    <tr>\n",
              "      <th>2843</th>\n",
              "      <td>42</td>\n",
              "      <td>Non_hope_speech</td>\n",
              "    </tr>\n",
              "    <tr>\n",
              "      <th>2844</th>\n",
              "      <td>2648</td>\n",
              "      <td>Non_hope_speech</td>\n",
              "    </tr>\n",
              "    <tr>\n",
              "      <th>2845</th>\n",
              "      <td>105</td>\n",
              "      <td>Non_hope_speech</td>\n",
              "    </tr>\n",
              "  </tbody>\n",
              "</table>\n",
              "<p>2846 rows × 2 columns</p>\n",
              "</div>"
            ],
            "text/plain": [
              "        id            label\n",
              "0      564  Non_hope_speech\n",
              "1      574  Non_hope_speech\n",
              "2      610  Non_hope_speech\n",
              "3      719  Non_hope_speech\n",
              "4      746  Non_hope_speech\n",
              "...    ...              ...\n",
              "2841   567  Non_hope_speech\n",
              "2842   183  Non_hope_speech\n",
              "2843    42  Non_hope_speech\n",
              "2844  2648  Non_hope_speech\n",
              "2845   105  Non_hope_speech\n",
              "\n",
              "[2846 rows x 2 columns]"
            ]
          },
          "metadata": {
            "tags": []
          },
          "execution_count": 118
        }
      ]
    },
    {
      "cell_type": "code",
      "metadata": {
        "colab": {
          "base_uri": "https://localhost:8080/",
          "height": 402
        },
        "id": "z0CEApHmqdLr",
        "outputId": "d69b214f-b34f-4862-9d8f-8f3f30ff34f1"
      },
      "source": [
        "test_df"
      ],
      "execution_count": 119,
      "outputs": [
        {
          "output_type": "execute_result",
          "data": {
            "text/html": [
              "<div>\n",
              "<style scoped>\n",
              "    .dataframe tbody tr th:only-of-type {\n",
              "        vertical-align: middle;\n",
              "    }\n",
              "\n",
              "    .dataframe tbody tr th {\n",
              "        vertical-align: top;\n",
              "    }\n",
              "\n",
              "    .dataframe thead th {\n",
              "        text-align: right;\n",
              "    }\n",
              "</style>\n",
              "<table border=\"1\" class=\"dataframe\">\n",
              "  <thead>\n",
              "    <tr style=\"text-align: right;\">\n",
              "      <th></th>\n",
              "      <th>text</th>\n",
              "      <th>id</th>\n",
              "    </tr>\n",
              "  </thead>\n",
              "  <tbody>\n",
              "    <tr>\n",
              "      <th>0</th>\n",
              "      <td>What do you mean by the word sniped?</td>\n",
              "      <td>0</td>\n",
              "    </tr>\n",
              "    <tr>\n",
              "      <th>1</th>\n",
              "      <td>I love this video!! I’m bisexual and it’s just...</td>\n",
              "      <td>1</td>\n",
              "    </tr>\n",
              "    <tr>\n",
              "      <th>2</th>\n",
              "      <td>ya the irony but then i don't want to come off...</td>\n",
              "      <td>2</td>\n",
              "    </tr>\n",
              "    <tr>\n",
              "      <th>3</th>\n",
              "      <td>A PERSON'S CHARACTER MATTERS. PERIOD!!</td>\n",
              "      <td>3</td>\n",
              "    </tr>\n",
              "    <tr>\n",
              "      <th>4</th>\n",
              "      <td>@Blaster of Gasters</td>\n",
              "      <td>4</td>\n",
              "    </tr>\n",
              "    <tr>\n",
              "      <th>...</th>\n",
              "      <td>...</td>\n",
              "      <td>...</td>\n",
              "    </tr>\n",
              "    <tr>\n",
              "      <th>2841</th>\n",
              "      <td>+Ashrenneemakeup I think it's all a deliberate...</td>\n",
              "      <td>2841</td>\n",
              "    </tr>\n",
              "    <tr>\n",
              "      <th>2842</th>\n",
              "      <td>Sheriff David Clarke. This guy is amazing.</td>\n",
              "      <td>2842</td>\n",
              "    </tr>\n",
              "    <tr>\n",
              "      <th>2843</th>\n",
              "      <td>Abandorn Hope Situation</td>\n",
              "      <td>2843</td>\n",
              "    </tr>\n",
              "    <tr>\n",
              "      <th>2844</th>\n",
              "      <td>Sheriff Clarke you are a person of such strong...</td>\n",
              "      <td>2844</td>\n",
              "    </tr>\n",
              "    <tr>\n",
              "      <th>2845</th>\n",
              "      <td>Sanders has no room to talk. If there's one pe...</td>\n",
              "      <td>2845</td>\n",
              "    </tr>\n",
              "  </tbody>\n",
              "</table>\n",
              "<p>2846 rows × 2 columns</p>\n",
              "</div>"
            ],
            "text/plain": [
              "                                                   text    id\n",
              "0                  What do you mean by the word sniped?     0\n",
              "1     I love this video!! I’m bisexual and it’s just...     1\n",
              "2     ya the irony but then i don't want to come off...     2\n",
              "3                A PERSON'S CHARACTER MATTERS. PERIOD!!     3\n",
              "4                                   @Blaster of Gasters     4\n",
              "...                                                 ...   ...\n",
              "2841  +Ashrenneemakeup I think it's all a deliberate...  2841\n",
              "2842         Sheriff David Clarke. This guy is amazing.  2842\n",
              "2843                            Abandorn Hope Situation  2843\n",
              "2844  Sheriff Clarke you are a person of such strong...  2844\n",
              "2845  Sanders has no room to talk. If there's one pe...  2845\n",
              "\n",
              "[2846 rows x 2 columns]"
            ]
          },
          "metadata": {
            "tags": []
          },
          "execution_count": 119
        }
      ]
    },
    {
      "cell_type": "code",
      "metadata": {
        "colab": {
          "base_uri": "https://localhost:8080/",
          "height": 402
        },
        "id": "vxReWWmxn7Hj",
        "outputId": "d2ee953e-d80f-4d40-d393-8f01e272982d"
      },
      "source": [
        "df_f = pd.merge(test_df,df_new,on = 'id')\r\n",
        "df_f"
      ],
      "execution_count": 120,
      "outputs": [
        {
          "output_type": "execute_result",
          "data": {
            "text/html": [
              "<div>\n",
              "<style scoped>\n",
              "    .dataframe tbody tr th:only-of-type {\n",
              "        vertical-align: middle;\n",
              "    }\n",
              "\n",
              "    .dataframe tbody tr th {\n",
              "        vertical-align: top;\n",
              "    }\n",
              "\n",
              "    .dataframe thead th {\n",
              "        text-align: right;\n",
              "    }\n",
              "</style>\n",
              "<table border=\"1\" class=\"dataframe\">\n",
              "  <thead>\n",
              "    <tr style=\"text-align: right;\">\n",
              "      <th></th>\n",
              "      <th>text</th>\n",
              "      <th>id</th>\n",
              "      <th>label</th>\n",
              "    </tr>\n",
              "  </thead>\n",
              "  <tbody>\n",
              "    <tr>\n",
              "      <th>0</th>\n",
              "      <td>What do you mean by the word sniped?</td>\n",
              "      <td>0</td>\n",
              "      <td>Non_hope_speech</td>\n",
              "    </tr>\n",
              "    <tr>\n",
              "      <th>1</th>\n",
              "      <td>I love this video!! I’m bisexual and it’s just...</td>\n",
              "      <td>1</td>\n",
              "      <td>Hope_speech</td>\n",
              "    </tr>\n",
              "    <tr>\n",
              "      <th>2</th>\n",
              "      <td>ya the irony but then i don't want to come off...</td>\n",
              "      <td>2</td>\n",
              "      <td>Non_hope_speech</td>\n",
              "    </tr>\n",
              "    <tr>\n",
              "      <th>3</th>\n",
              "      <td>A PERSON'S CHARACTER MATTERS. PERIOD!!</td>\n",
              "      <td>3</td>\n",
              "      <td>Non_hope_speech</td>\n",
              "    </tr>\n",
              "    <tr>\n",
              "      <th>4</th>\n",
              "      <td>@Blaster of Gasters</td>\n",
              "      <td>4</td>\n",
              "      <td>Non_hope_speech</td>\n",
              "    </tr>\n",
              "    <tr>\n",
              "      <th>...</th>\n",
              "      <td>...</td>\n",
              "      <td>...</td>\n",
              "      <td>...</td>\n",
              "    </tr>\n",
              "    <tr>\n",
              "      <th>2841</th>\n",
              "      <td>+Ashrenneemakeup I think it's all a deliberate...</td>\n",
              "      <td>2841</td>\n",
              "      <td>Non_hope_speech</td>\n",
              "    </tr>\n",
              "    <tr>\n",
              "      <th>2842</th>\n",
              "      <td>Sheriff David Clarke. This guy is amazing.</td>\n",
              "      <td>2842</td>\n",
              "      <td>Non_hope_speech</td>\n",
              "    </tr>\n",
              "    <tr>\n",
              "      <th>2843</th>\n",
              "      <td>Abandorn Hope Situation</td>\n",
              "      <td>2843</td>\n",
              "      <td>Non_hope_speech</td>\n",
              "    </tr>\n",
              "    <tr>\n",
              "      <th>2844</th>\n",
              "      <td>Sheriff Clarke you are a person of such strong...</td>\n",
              "      <td>2844</td>\n",
              "      <td>Non_hope_speech</td>\n",
              "    </tr>\n",
              "    <tr>\n",
              "      <th>2845</th>\n",
              "      <td>Sanders has no room to talk. If there's one pe...</td>\n",
              "      <td>2845</td>\n",
              "      <td>Non_hope_speech</td>\n",
              "    </tr>\n",
              "  </tbody>\n",
              "</table>\n",
              "<p>2846 rows × 3 columns</p>\n",
              "</div>"
            ],
            "text/plain": [
              "                                                   text    id            label\n",
              "0                  What do you mean by the word sniped?     0  Non_hope_speech\n",
              "1     I love this video!! I’m bisexual and it’s just...     1      Hope_speech\n",
              "2     ya the irony but then i don't want to come off...     2  Non_hope_speech\n",
              "3                A PERSON'S CHARACTER MATTERS. PERIOD!!     3  Non_hope_speech\n",
              "4                                   @Blaster of Gasters     4  Non_hope_speech\n",
              "...                                                 ...   ...              ...\n",
              "2841  +Ashrenneemakeup I think it's all a deliberate...  2841  Non_hope_speech\n",
              "2842         Sheriff David Clarke. This guy is amazing.  2842  Non_hope_speech\n",
              "2843                            Abandorn Hope Situation  2843  Non_hope_speech\n",
              "2844  Sheriff Clarke you are a person of such strong...  2844  Non_hope_speech\n",
              "2845  Sanders has no room to talk. If there's one pe...  2845  Non_hope_speech\n",
              "\n",
              "[2846 rows x 3 columns]"
            ]
          },
          "metadata": {
            "tags": []
          },
          "execution_count": 120
        }
      ]
    },
    {
      "cell_type": "code",
      "metadata": {
        "colab": {
          "base_uri": "https://localhost:8080/",
          "height": 402
        },
        "id": "1kuASymYn9aV",
        "outputId": "7a01854f-0546-42a4-9cb6-7a862e1ace3a"
      },
      "source": [
        "df_f = df_f[['id','text','label']]\r\n",
        "df_f"
      ],
      "execution_count": 121,
      "outputs": [
        {
          "output_type": "execute_result",
          "data": {
            "text/html": [
              "<div>\n",
              "<style scoped>\n",
              "    .dataframe tbody tr th:only-of-type {\n",
              "        vertical-align: middle;\n",
              "    }\n",
              "\n",
              "    .dataframe tbody tr th {\n",
              "        vertical-align: top;\n",
              "    }\n",
              "\n",
              "    .dataframe thead th {\n",
              "        text-align: right;\n",
              "    }\n",
              "</style>\n",
              "<table border=\"1\" class=\"dataframe\">\n",
              "  <thead>\n",
              "    <tr style=\"text-align: right;\">\n",
              "      <th></th>\n",
              "      <th>id</th>\n",
              "      <th>text</th>\n",
              "      <th>label</th>\n",
              "    </tr>\n",
              "  </thead>\n",
              "  <tbody>\n",
              "    <tr>\n",
              "      <th>0</th>\n",
              "      <td>0</td>\n",
              "      <td>What do you mean by the word sniped?</td>\n",
              "      <td>Non_hope_speech</td>\n",
              "    </tr>\n",
              "    <tr>\n",
              "      <th>1</th>\n",
              "      <td>1</td>\n",
              "      <td>I love this video!! I’m bisexual and it’s just...</td>\n",
              "      <td>Hope_speech</td>\n",
              "    </tr>\n",
              "    <tr>\n",
              "      <th>2</th>\n",
              "      <td>2</td>\n",
              "      <td>ya the irony but then i don't want to come off...</td>\n",
              "      <td>Non_hope_speech</td>\n",
              "    </tr>\n",
              "    <tr>\n",
              "      <th>3</th>\n",
              "      <td>3</td>\n",
              "      <td>A PERSON'S CHARACTER MATTERS. PERIOD!!</td>\n",
              "      <td>Non_hope_speech</td>\n",
              "    </tr>\n",
              "    <tr>\n",
              "      <th>4</th>\n",
              "      <td>4</td>\n",
              "      <td>@Blaster of Gasters</td>\n",
              "      <td>Non_hope_speech</td>\n",
              "    </tr>\n",
              "    <tr>\n",
              "      <th>...</th>\n",
              "      <td>...</td>\n",
              "      <td>...</td>\n",
              "      <td>...</td>\n",
              "    </tr>\n",
              "    <tr>\n",
              "      <th>2841</th>\n",
              "      <td>2841</td>\n",
              "      <td>+Ashrenneemakeup I think it's all a deliberate...</td>\n",
              "      <td>Non_hope_speech</td>\n",
              "    </tr>\n",
              "    <tr>\n",
              "      <th>2842</th>\n",
              "      <td>2842</td>\n",
              "      <td>Sheriff David Clarke. This guy is amazing.</td>\n",
              "      <td>Non_hope_speech</td>\n",
              "    </tr>\n",
              "    <tr>\n",
              "      <th>2843</th>\n",
              "      <td>2843</td>\n",
              "      <td>Abandorn Hope Situation</td>\n",
              "      <td>Non_hope_speech</td>\n",
              "    </tr>\n",
              "    <tr>\n",
              "      <th>2844</th>\n",
              "      <td>2844</td>\n",
              "      <td>Sheriff Clarke you are a person of such strong...</td>\n",
              "      <td>Non_hope_speech</td>\n",
              "    </tr>\n",
              "    <tr>\n",
              "      <th>2845</th>\n",
              "      <td>2845</td>\n",
              "      <td>Sanders has no room to talk. If there's one pe...</td>\n",
              "      <td>Non_hope_speech</td>\n",
              "    </tr>\n",
              "  </tbody>\n",
              "</table>\n",
              "<p>2846 rows × 3 columns</p>\n",
              "</div>"
            ],
            "text/plain": [
              "        id                                               text            label\n",
              "0        0               What do you mean by the word sniped?  Non_hope_speech\n",
              "1        1  I love this video!! I’m bisexual and it’s just...      Hope_speech\n",
              "2        2  ya the irony but then i don't want to come off...  Non_hope_speech\n",
              "3        3             A PERSON'S CHARACTER MATTERS. PERIOD!!  Non_hope_speech\n",
              "4        4                                @Blaster of Gasters  Non_hope_speech\n",
              "...    ...                                                ...              ...\n",
              "2841  2841  +Ashrenneemakeup I think it's all a deliberate...  Non_hope_speech\n",
              "2842  2842         Sheriff David Clarke. This guy is amazing.  Non_hope_speech\n",
              "2843  2843                            Abandorn Hope Situation  Non_hope_speech\n",
              "2844  2844  Sheriff Clarke you are a person of such strong...  Non_hope_speech\n",
              "2845  2845  Sanders has no room to talk. If there's one pe...  Non_hope_speech\n",
              "\n",
              "[2846 rows x 3 columns]"
            ]
          },
          "metadata": {
            "tags": []
          },
          "execution_count": 121
        }
      ]
    },
    {
      "cell_type": "markdown",
      "metadata": {
        "id": "p3FtBVTVroJi"
      },
      "source": [
        "## Saving Submission DataFrame"
      ]
    },
    {
      "cell_type": "code",
      "metadata": {
        "id": "SzoT0p9rqrO-"
      },
      "source": [
        "path = './drive/MyDrive/Codalab/HopeSpeech Detection For Equality,DiversityAnd Inclusion/SubmissionFiles'"
      ],
      "execution_count": 122,
      "outputs": []
    },
    {
      "cell_type": "code",
      "metadata": {
        "id": "LZmgZFM4qi7F"
      },
      "source": [
        "df_f.to_csv(join(path,'indicbert_english.csv'),index=False)"
      ],
      "execution_count": 123,
      "outputs": []
    },
    {
      "cell_type": "code",
      "metadata": {
        "id": "jW9g_qgMv7mq"
      },
      "source": [
        ""
      ],
      "execution_count": null,
      "outputs": []
    }
  ]
}