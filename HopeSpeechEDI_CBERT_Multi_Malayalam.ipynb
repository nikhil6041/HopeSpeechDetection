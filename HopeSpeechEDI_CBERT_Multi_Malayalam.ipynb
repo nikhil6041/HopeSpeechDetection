{
  "nbformat": 4,
  "nbformat_minor": 0,
  "metadata": {
    "colab": {
      "name": "HopeSpeechEDI_CBERT_Multi_Malayalam.ipynb",
      "provenance": [],
      "toc_visible": true
    },
    "kernelspec": {
      "name": "python3",
      "display_name": "Python 3"
    },
    "accelerator": "GPU"
  },
  "cells": [
    {
      "cell_type": "markdown",
      "metadata": {
        "id": "elqe9PQrVH6P"
      },
      "source": [
        "### Performing checks for the resources available"
      ]
    },
    {
      "cell_type": "code",
      "metadata": {
        "colab": {
          "base_uri": "https://localhost:8080/"
        },
        "id": "fSELLChxa5su",
        "outputId": "4a1a9528-bb5a-4f25-f9c3-0eab6962d1d5"
      },
      "source": [
        "import torch\r\n",
        "\r\n",
        "# If there's a GPU available...\r\n",
        "if torch.cuda.is_available():    \r\n",
        "\r\n",
        "    # Tell PyTorch to use the GPU.    \r\n",
        "    device = torch.device(\"cuda\")\r\n",
        "\r\n",
        "    print('There are %d GPU(s) available.' % torch.cuda.device_count())\r\n",
        "\r\n",
        "    print('We will use the GPU:', torch.cuda.get_device_name(0))\r\n",
        "\r\n",
        "# If not...\r\n",
        "else:\r\n",
        "    print('No GPU available, using the CPU instead.')\r\n",
        "    device = torch.device(\"cpu\")"
      ],
      "execution_count": null,
      "outputs": [
        {
          "output_type": "stream",
          "text": [
            "There are 1 GPU(s) available.\n",
            "We will use the GPU: Tesla T4\n"
          ],
          "name": "stdout"
        }
      ]
    },
    {
      "cell_type": "code",
      "metadata": {
        "colab": {
          "base_uri": "https://localhost:8080/"
        },
        "id": "8SokVowWo3cc",
        "outputId": "74c9c86d-aebe-4bae-9a67-7441d083a9ea"
      },
      "source": [
        "!nvidia-smi"
      ],
      "execution_count": null,
      "outputs": [
        {
          "output_type": "stream",
          "text": [
            "Sun Feb  7 10:15:54 2021       \n",
            "+-----------------------------------------------------------------------------+\n",
            "| NVIDIA-SMI 460.39       Driver Version: 418.67       CUDA Version: 10.1     |\n",
            "|-------------------------------+----------------------+----------------------+\n",
            "| GPU  Name        Persistence-M| Bus-Id        Disp.A | Volatile Uncorr. ECC |\n",
            "| Fan  Temp  Perf  Pwr:Usage/Cap|         Memory-Usage | GPU-Util  Compute M. |\n",
            "|                               |                      |               MIG M. |\n",
            "|===============================+======================+======================|\n",
            "|   0  Tesla T4            Off  | 00000000:00:04.0 Off |                    0 |\n",
            "| N/A   58C    P8    11W /  70W |     10MiB / 15079MiB |      0%      Default |\n",
            "|                               |                      |                 ERR! |\n",
            "+-------------------------------+----------------------+----------------------+\n",
            "                                                                               \n",
            "+-----------------------------------------------------------------------------+\n",
            "| Processes:                                                                  |\n",
            "|  GPU   GI   CI        PID   Type   Process name                  GPU Memory |\n",
            "|        ID   ID                                                   Usage      |\n",
            "|=============================================================================|\n",
            "|  No running processes found                                                 |\n",
            "+-----------------------------------------------------------------------------+\n"
          ],
          "name": "stdout"
        }
      ]
    },
    {
      "cell_type": "markdown",
      "metadata": {
        "id": "K-gbOgflVRxg"
      },
      "source": [
        "### Installing huggingface transformers library"
      ]
    },
    {
      "cell_type": "code",
      "metadata": {
        "colab": {
          "base_uri": "https://localhost:8080/"
        },
        "id": "DbDuxKy0a9Zl",
        "outputId": "7b9e50e2-0d6d-414b-ddb8-aac857bfc75d"
      },
      "source": [
        "!pip install transformers sadice"
      ],
      "execution_count": null,
      "outputs": [
        {
          "output_type": "stream",
          "text": [
            "Requirement already satisfied: transformers in /usr/local/lib/python3.6/dist-packages (4.2.2)\n",
            "Requirement already satisfied: sadice in /usr/local/lib/python3.6/dist-packages (0.1.3)\n",
            "Requirement already satisfied: importlib-metadata; python_version < \"3.8\" in /usr/local/lib/python3.6/dist-packages (from transformers) (3.4.0)\n",
            "Requirement already satisfied: tokenizers==0.9.4 in /usr/local/lib/python3.6/dist-packages (from transformers) (0.9.4)\n",
            "Requirement already satisfied: tqdm>=4.27 in /usr/local/lib/python3.6/dist-packages (from transformers) (4.41.1)\n",
            "Requirement already satisfied: packaging in /usr/local/lib/python3.6/dist-packages (from transformers) (20.9)\n",
            "Requirement already satisfied: filelock in /usr/local/lib/python3.6/dist-packages (from transformers) (3.0.12)\n",
            "Requirement already satisfied: sacremoses in /usr/local/lib/python3.6/dist-packages (from transformers) (0.0.43)\n",
            "Requirement already satisfied: regex!=2019.12.17 in /usr/local/lib/python3.6/dist-packages (from transformers) (2019.12.20)\n",
            "Requirement already satisfied: requests in /usr/local/lib/python3.6/dist-packages (from transformers) (2.23.0)\n",
            "Requirement already satisfied: numpy in /usr/local/lib/python3.6/dist-packages (from transformers) (1.19.5)\n",
            "Requirement already satisfied: dataclasses; python_version < \"3.7\" in /usr/local/lib/python3.6/dist-packages (from transformers) (0.8)\n",
            "Requirement already satisfied: torch<2.0.0,>=1.0.0 in /usr/local/lib/python3.6/dist-packages (from sadice) (1.7.0+cu101)\n",
            "Requirement already satisfied: typing-extensions>=3.6.4; python_version < \"3.8\" in /usr/local/lib/python3.6/dist-packages (from importlib-metadata; python_version < \"3.8\"->transformers) (3.7.4.3)\n",
            "Requirement already satisfied: zipp>=0.5 in /usr/local/lib/python3.6/dist-packages (from importlib-metadata; python_version < \"3.8\"->transformers) (3.4.0)\n",
            "Requirement already satisfied: pyparsing>=2.0.2 in /usr/local/lib/python3.6/dist-packages (from packaging->transformers) (2.4.7)\n",
            "Requirement already satisfied: joblib in /usr/local/lib/python3.6/dist-packages (from sacremoses->transformers) (1.0.0)\n",
            "Requirement already satisfied: six in /usr/local/lib/python3.6/dist-packages (from sacremoses->transformers) (1.15.0)\n",
            "Requirement already satisfied: click in /usr/local/lib/python3.6/dist-packages (from sacremoses->transformers) (7.1.2)\n",
            "Requirement already satisfied: idna<3,>=2.5 in /usr/local/lib/python3.6/dist-packages (from requests->transformers) (2.10)\n",
            "Requirement already satisfied: chardet<4,>=3.0.2 in /usr/local/lib/python3.6/dist-packages (from requests->transformers) (3.0.4)\n",
            "Requirement already satisfied: certifi>=2017.4.17 in /usr/local/lib/python3.6/dist-packages (from requests->transformers) (2020.12.5)\n",
            "Requirement already satisfied: urllib3!=1.25.0,!=1.25.1,<1.26,>=1.21.1 in /usr/local/lib/python3.6/dist-packages (from requests->transformers) (1.24.3)\n",
            "Requirement already satisfied: future in /usr/local/lib/python3.6/dist-packages (from torch<2.0.0,>=1.0.0->sadice) (0.16.0)\n"
          ],
          "name": "stdout"
        }
      ]
    },
    {
      "cell_type": "markdown",
      "metadata": {
        "id": "bPwaYLiRSNPC"
      },
      "source": [
        "## Importing necessary packages"
      ]
    },
    {
      "cell_type": "code",
      "metadata": {
        "id": "0XdFrhr8SRG0"
      },
      "source": [
        "import pandas as pd\r\n",
        "import numpy as np \r\n",
        "import random\r\n",
        "from sklearn.preprocessing import LabelEncoder\r\n",
        "from sklearn.utils.class_weight import compute_class_weight\r\n",
        "import time\r\n",
        "import datetime\r\n",
        "from sklearn.metrics import classification_report,confusion_matrix\r\n",
        "import random\r\n",
        "import time\r\n",
        "import torch.nn as nn\r\n",
        "from transformers import AutoModel , AutoModelForSequenceClassification, AutoConfig , AutoTokenizer , AdamW ,get_linear_schedule_with_warmup \r\n",
        "import torch\r\n",
        "import matplotlib.pyplot as plt\r\n",
        "import seaborn as sns\r\n",
        "from matplotlib import rc\r\n",
        "from matplotlib.ticker import MaxNLocator\r\n",
        "from sadice import SelfAdjDiceLoss"
      ],
      "execution_count": null,
      "outputs": []
    },
    {
      "cell_type": "markdown",
      "metadata": {
        "id": "dROX3juhVCxC"
      },
      "source": [
        "## Setting some configuration values"
      ]
    },
    {
      "cell_type": "code",
      "metadata": {
        "id": "Kzafv4BzVCC9"
      },
      "source": [
        "# Use plot styling from seaborn.\r\n",
        "sns.set(style='darkgrid')\r\n",
        "\r\n",
        "# Increase the plot size and font size.\r\n",
        "sns.set(font_scale=1.5)\r\n",
        "plt.rcParams[\"figure.figsize\"] = (16,12)\r\n",
        "\r\n",
        "# Set the seed value all over the place to make this reproducible.\r\n",
        "seed_val = 42\r\n",
        "\r\n",
        "random.seed(seed_val)\r\n",
        "np.random.seed(seed_val)\r\n",
        "torch.manual_seed(seed_val)\r\n",
        "torch.cuda.manual_seed_all(seed_val)"
      ],
      "execution_count": null,
      "outputs": []
    },
    {
      "cell_type": "markdown",
      "metadata": {
        "id": "2v1AIN_OVX4t"
      },
      "source": [
        "## Importing drive into the colaboratory"
      ]
    },
    {
      "cell_type": "code",
      "metadata": {
        "colab": {
          "base_uri": "https://localhost:8080/"
        },
        "id": "Lofimyh2a_tp",
        "outputId": "eec91c43-b626-4ed4-b96a-3d2398e44cca"
      },
      "source": [
        "from google.colab import drive \r\n",
        "drive.mount('/content/drive')"
      ],
      "execution_count": null,
      "outputs": [
        {
          "output_type": "stream",
          "text": [
            "Drive already mounted at /content/drive; to attempt to forcibly remount, call drive.mount(\"/content/drive\", force_remount=True).\n"
          ],
          "name": "stdout"
        }
      ]
    },
    {
      "cell_type": "markdown",
      "metadata": {
        "id": "yOK-M00dVeW2"
      },
      "source": [
        "## Importing dataset directories"
      ]
    },
    {
      "cell_type": "code",
      "metadata": {
        "id": "-y-JRPKBbCTv"
      },
      "source": [
        "from os import getcwd , listdir \r\n",
        "from os.path import join\r\n",
        "curr_dir = getcwd()\r\n",
        "drive_dir = join(curr_dir , 'drive','MyDrive')\r\n",
        "dataset_dir = join(drive_dir,'Codalab','HopeSpeech Detection For Equality,DiversityAnd Inclusion','Dataset')"
      ],
      "execution_count": null,
      "outputs": []
    },
    {
      "cell_type": "code",
      "metadata": {
        "colab": {
          "base_uri": "https://localhost:8080/"
        },
        "id": "7YU1h8WhmqvK",
        "outputId": "96e32dbc-1309-4d7f-b838-3c57eb7c7348"
      },
      "source": [
        "listdir(dataset_dir)"
      ],
      "execution_count": null,
      "outputs": [
        {
          "output_type": "execute_result",
          "data": {
            "text/plain": [
              "['english_hope_dev.csv',\n",
              " 'english_hope_train.csv',\n",
              " 'malayalam_hope_dev.csv',\n",
              " 'malayalam_hope_train.csv',\n",
              " 'tamil_hope_first_dev.csv',\n",
              " 'tamil_hope_first_train.csv',\n",
              " 'tamil_hope_test.csv',\n",
              " 'malayalam_hope_test.csv',\n",
              " 'english_hope_test.csv',\n",
              " 'english_hope_test _labels.csv',\n",
              " 'malayalam_hope_test _labels.csv',\n",
              " 'tamil_hope_test _labels.csv',\n",
              " 'malayalam_hope_test_labels.csv']"
            ]
          },
          "metadata": {
            "tags": []
          },
          "execution_count": 8
        }
      ]
    },
    {
      "cell_type": "markdown",
      "metadata": {
        "id": "FUPkZxjLVjLK"
      },
      "source": [
        "## Loading training data"
      ]
    },
    {
      "cell_type": "code",
      "metadata": {
        "colab": {
          "base_uri": "https://localhost:8080/",
          "height": 377
        },
        "id": "joone3H4bINR",
        "outputId": "ec1756c9-93e1-4e0b-9b70-ed85b7ac3495"
      },
      "source": [
        "train_df_path = join(dataset_dir,'malayalam_hope_train.csv')\r\n",
        "# Load the dataset into a pandas dataframe.\r\n",
        "train_df = pd.read_csv(train_df_path)\r\n",
        "\r\n",
        "# Report the number of sentences.\r\n",
        "print('Number of training sentences: {:,}\\n'.format(train_df.shape[0]))\r\n",
        "\r\n",
        "# Display 10 random rows from the data.\r\n",
        "train_df.sample(10)"
      ],
      "execution_count": null,
      "outputs": [
        {
          "output_type": "stream",
          "text": [
            "Number of training sentences: 8,564\n",
            "\n"
          ],
          "name": "stdout"
        },
        {
          "output_type": "execute_result",
          "data": {
            "text/html": [
              "<div>\n",
              "<style scoped>\n",
              "    .dataframe tbody tr th:only-of-type {\n",
              "        vertical-align: middle;\n",
              "    }\n",
              "\n",
              "    .dataframe tbody tr th {\n",
              "        vertical-align: top;\n",
              "    }\n",
              "\n",
              "    .dataframe thead th {\n",
              "        text-align: right;\n",
              "    }\n",
              "</style>\n",
              "<table border=\"1\" class=\"dataframe\">\n",
              "  <thead>\n",
              "    <tr style=\"text-align: right;\">\n",
              "      <th></th>\n",
              "      <th>text</th>\n",
              "      <th>label</th>\n",
              "    </tr>\n",
              "  </thead>\n",
              "  <tbody>\n",
              "    <tr>\n",
              "      <th>7913</th>\n",
              "      <td>Iniyippo ningal pubg kalichalum kuzhappamilla ...</td>\n",
              "      <td>Non_hope_speech</td>\n",
              "    </tr>\n",
              "    <tr>\n",
              "      <th>6065</th>\n",
              "      <td>ആ ചെങ്ങായിക്കെല്ലും എത്ര നല്ല മൊഞ്ചത്തി പെണ്ണി...</td>\n",
              "      <td>Non_hope_speech</td>\n",
              "    </tr>\n",
              "    <tr>\n",
              "      <th>1649</th>\n",
              "      <td>Suryammaa ishanikkaaaa happy wedding anniversa...</td>\n",
              "      <td>Hope_speech</td>\n",
              "    </tr>\n",
              "    <tr>\n",
              "      <th>710</th>\n",
              "      <td>Ente bayi ittekkana shoe muthal jaddy vare ava...</td>\n",
              "      <td>Non_hope_speech</td>\n",
              "    </tr>\n",
              "    <tr>\n",
              "      <th>1918</th>\n",
              "      <td>Ayaal entha parayunath ennu ayaalkk tahnne ari...</td>\n",
              "      <td>Non_hope_speech</td>\n",
              "    </tr>\n",
              "    <tr>\n",
              "      <th>3617</th>\n",
              "      <td>ചക്ക കുരു പൊട്ടിയോ</td>\n",
              "      <td>Non_hope_speech</td>\n",
              "    </tr>\n",
              "    <tr>\n",
              "      <th>233</th>\n",
              "      <td>പിന്നെ അമ്മയെയും എന്റെ അന്വേഷണം അറിയിക്കണം</td>\n",
              "      <td>Hope_speech</td>\n",
              "    </tr>\n",
              "    <tr>\n",
              "      <th>6927</th>\n",
              "      <td>Helo  iku പകരം എന്തുണ്ട് ?</td>\n",
              "      <td>Non_hope_speech</td>\n",
              "    </tr>\n",
              "    <tr>\n",
              "      <th>2094</th>\n",
              "      <td>Kevin mandane kaanumbhaz santhosh pandittine o...</td>\n",
              "      <td>Non_hope_speech</td>\n",
              "    </tr>\n",
              "    <tr>\n",
              "      <th>3114</th>\n",
              "      <td>പൊളിച്ചു bro</td>\n",
              "      <td>Hope_speech</td>\n",
              "    </tr>\n",
              "  </tbody>\n",
              "</table>\n",
              "</div>"
            ],
            "text/plain": [
              "                                                   text            label\n",
              "7913  Iniyippo ningal pubg kalichalum kuzhappamilla ...  Non_hope_speech\n",
              "6065  ആ ചെങ്ങായിക്കെല്ലും എത്ര നല്ല മൊഞ്ചത്തി പെണ്ണി...  Non_hope_speech\n",
              "1649  Suryammaa ishanikkaaaa happy wedding anniversa...      Hope_speech\n",
              "710   Ente bayi ittekkana shoe muthal jaddy vare ava...  Non_hope_speech\n",
              "1918  Ayaal entha parayunath ennu ayaalkk tahnne ari...  Non_hope_speech\n",
              "3617                                 ചക്ക കുരു പൊട്ടിയോ  Non_hope_speech\n",
              "233          പിന്നെ അമ്മയെയും എന്റെ അന്വേഷണം അറിയിക്കണം      Hope_speech\n",
              "6927                         Helo  iku പകരം എന്തുണ്ട് ?  Non_hope_speech\n",
              "2094  Kevin mandane kaanumbhaz santhosh pandittine o...  Non_hope_speech\n",
              "3114                                       പൊളിച്ചു bro      Hope_speech"
            ]
          },
          "metadata": {
            "tags": []
          },
          "execution_count": 9
        }
      ]
    },
    {
      "cell_type": "code",
      "metadata": {
        "colab": {
          "base_uri": "https://localhost:8080/"
        },
        "id": "w4VW351225YK",
        "outputId": "e437fefb-b57c-43da-9b04-ee7a4f9e1cac"
      },
      "source": [
        "train_df['label'].value_counts()"
      ],
      "execution_count": null,
      "outputs": [
        {
          "output_type": "execute_result",
          "data": {
            "text/plain": [
              "Non_hope_speech    6205\n",
              "Hope_speech        1668\n",
              "not-malayalam       691\n",
              "Name: label, dtype: int64"
            ]
          },
          "metadata": {
            "tags": []
          },
          "execution_count": 10
        }
      ]
    },
    {
      "cell_type": "code",
      "metadata": {
        "id": "ooOv9QZtnLIF"
      },
      "source": [
        "\r\n",
        "le = LabelEncoder()\r\n",
        "train_df['label'] = le.fit_transform(train_df['label'])"
      ],
      "execution_count": null,
      "outputs": []
    },
    {
      "cell_type": "code",
      "metadata": {
        "colab": {
          "base_uri": "https://localhost:8080/"
        },
        "id": "a89Bf4LpnigU",
        "outputId": "7552ab06-152a-4164-c8e2-c4c1884e7c0a"
      },
      "source": [
        "train_df['label'].value_counts()"
      ],
      "execution_count": null,
      "outputs": [
        {
          "output_type": "execute_result",
          "data": {
            "text/plain": [
              "1    6205\n",
              "0    1668\n",
              "2     691\n",
              "Name: label, dtype: int64"
            ]
          },
          "metadata": {
            "tags": []
          },
          "execution_count": 12
        }
      ]
    },
    {
      "cell_type": "markdown",
      "metadata": {
        "id": "bvNeR4lTVnK0"
      },
      "source": [
        "### Loading `train_sentences` and `train_labels`"
      ]
    },
    {
      "cell_type": "code",
      "metadata": {
        "id": "EufQZx2dbKMT"
      },
      "source": [
        "# Get the lists of sentences and their labels.\r\n",
        "train_sentences = train_df['text'].values\r\n",
        "train_labels = train_df['label'].values"
      ],
      "execution_count": null,
      "outputs": []
    },
    {
      "cell_type": "markdown",
      "metadata": {
        "id": "wnZSg5f7ZWs_"
      },
      "source": [
        "## Saving Class Names"
      ]
    },
    {
      "cell_type": "code",
      "metadata": {
        "id": "83tTT-wbZa1o",
        "colab": {
          "base_uri": "https://localhost:8080/"
        },
        "outputId": "724425fd-d546-43da-b77d-388b1d345baf"
      },
      "source": [
        "class_names = le.inverse_transform(range(0,len(train_df['label'].unique())))\r\n",
        "class_names"
      ],
      "execution_count": null,
      "outputs": [
        {
          "output_type": "execute_result",
          "data": {
            "text/plain": [
              "array(['Hope_speech', 'Non_hope_speech', 'not-malayalam'], dtype=object)"
            ]
          },
          "metadata": {
            "tags": []
          },
          "execution_count": 14
        }
      ]
    },
    {
      "cell_type": "markdown",
      "metadata": {
        "id": "ToUbAgZ9ap63"
      },
      "source": [
        "## Loading the validation data"
      ]
    },
    {
      "cell_type": "code",
      "metadata": {
        "colab": {
          "base_uri": "https://localhost:8080/",
          "height": 377
        },
        "id": "Dle8VzoAjOLS",
        "outputId": "c1216e82-f029-45b5-f0b2-a8899a9416f2"
      },
      "source": [
        "val_df_path = join(dataset_dir,'malayalam_hope_dev.csv')\r\n",
        "# Load the dataset into a pandas dataframe.\r\n",
        "val_df = pd.read_csv(val_df_path)\r\n",
        "\r\n",
        "# Report the number of sentences.\r\n",
        "print('Number of validation sentences: {:,}\\n'.format(val_df.shape[0]))\r\n",
        "\r\n",
        "# Display 10 random rows from the data.\r\n",
        "val_df.sample(10)"
      ],
      "execution_count": null,
      "outputs": [
        {
          "output_type": "stream",
          "text": [
            "Number of validation sentences: 1,070\n",
            "\n"
          ],
          "name": "stdout"
        },
        {
          "output_type": "execute_result",
          "data": {
            "text/html": [
              "<div>\n",
              "<style scoped>\n",
              "    .dataframe tbody tr th:only-of-type {\n",
              "        vertical-align: middle;\n",
              "    }\n",
              "\n",
              "    .dataframe tbody tr th {\n",
              "        vertical-align: top;\n",
              "    }\n",
              "\n",
              "    .dataframe thead th {\n",
              "        text-align: right;\n",
              "    }\n",
              "</style>\n",
              "<table border=\"1\" class=\"dataframe\">\n",
              "  <thead>\n",
              "    <tr style=\"text-align: right;\">\n",
              "      <th></th>\n",
              "      <th>text</th>\n",
              "      <th>label</th>\n",
              "    </tr>\n",
              "  </thead>\n",
              "  <tbody>\n",
              "    <tr>\n",
              "      <th>424</th>\n",
              "      <td>ഇന്ത്യൻ മതേതര ജനാധിപത്യ രാജ്യമാണ്</td>\n",
              "      <td>Non_hope_speech</td>\n",
              "    </tr>\n",
              "    <tr>\n",
              "      <th>722</th>\n",
              "      <td>@Mallu crafts thanik or gay aya kutti ondavath...</td>\n",
              "      <td>Non_hope_speech</td>\n",
              "    </tr>\n",
              "    <tr>\n",
              "      <th>306</th>\n",
              "      <td>Helo. Lesbiann.. chodichal. Vanno</td>\n",
              "      <td>Non_hope_speech</td>\n",
              "    </tr>\n",
              "    <tr>\n",
              "      <th>116</th>\n",
              "      <td>Nikesh  nte  kada  kettapol  sangadam  തോന്നി...</td>\n",
              "      <td>Non_hope_speech</td>\n",
              "    </tr>\n",
              "    <tr>\n",
              "      <th>551</th>\n",
              "      <td>Ithil parenjekana korey app onnum njan kettit ...</td>\n",
              "      <td>Non_hope_speech</td>\n",
              "    </tr>\n",
              "    <tr>\n",
              "      <th>263</th>\n",
              "      <td>Gay enn kandappo nice aayitt kaanan vanirikkka</td>\n",
              "      <td>Non_hope_speech</td>\n",
              "    </tr>\n",
              "    <tr>\n",
              "      <th>333</th>\n",
              "      <td>Public reactions kalakki but kurach koodi leng...</td>\n",
              "      <td>Non_hope_speech</td>\n",
              "    </tr>\n",
              "    <tr>\n",
              "      <th>575</th>\n",
              "      <td>പോയി ചതൂ ഡേ</td>\n",
              "      <td>Non_hope_speech</td>\n",
              "    </tr>\n",
              "    <tr>\n",
              "      <th>597</th>\n",
              "      <td>Dr ഈ പ്രതിരോധ ശേഷി ധാരാളം ഉള്ള ആൾക്ക് എത്ര തവണ...</td>\n",
              "      <td>Non_hope_speech</td>\n",
              "    </tr>\n",
              "    <tr>\n",
              "      <th>634</th>\n",
              "      <td>Happy mother's day surya amma.. nകരയിപ്പിച്ചു ...</td>\n",
              "      <td>Hope_speech</td>\n",
              "    </tr>\n",
              "  </tbody>\n",
              "</table>\n",
              "</div>"
            ],
            "text/plain": [
              "                                                  text            label\n",
              "424                  ഇന്ത്യൻ മതേതര ജനാധിപത്യ രാജ്യമാണ്  Non_hope_speech\n",
              "722  @Mallu crafts thanik or gay aya kutti ondavath...  Non_hope_speech\n",
              "306                  Helo. Lesbiann.. chodichal. Vanno  Non_hope_speech\n",
              "116   Nikesh  nte  kada  kettapol  sangadam  തോന്നി...  Non_hope_speech\n",
              "551  Ithil parenjekana korey app onnum njan kettit ...  Non_hope_speech\n",
              "263     Gay enn kandappo nice aayitt kaanan vanirikkka  Non_hope_speech\n",
              "333  Public reactions kalakki but kurach koodi leng...  Non_hope_speech\n",
              "575                                        പോയി ചതൂ ഡേ  Non_hope_speech\n",
              "597  Dr ഈ പ്രതിരോധ ശേഷി ധാരാളം ഉള്ള ആൾക്ക് എത്ര തവണ...  Non_hope_speech\n",
              "634  Happy mother's day surya amma.. nകരയിപ്പിച്ചു ...      Hope_speech"
            ]
          },
          "metadata": {
            "tags": []
          },
          "execution_count": 15
        }
      ]
    },
    {
      "cell_type": "code",
      "metadata": {
        "colab": {
          "base_uri": "https://localhost:8080/"
        },
        "id": "AypCmtBcDV6v",
        "outputId": "567942cf-0346-4650-e23d-69fc79555c18"
      },
      "source": [
        "val_df['label'].value_counts()"
      ],
      "execution_count": null,
      "outputs": [
        {
          "output_type": "execute_result",
          "data": {
            "text/plain": [
              "Non_hope_speech    784\n",
              "Hope_speech        190\n",
              "not-malayalam       96\n",
              "Name: label, dtype: int64"
            ]
          },
          "metadata": {
            "tags": []
          },
          "execution_count": 16
        }
      ]
    },
    {
      "cell_type": "code",
      "metadata": {
        "id": "-CgK81lGDPKC"
      },
      "source": [
        "val_df['label'] = le.transform(val_df['label'])"
      ],
      "execution_count": null,
      "outputs": []
    },
    {
      "cell_type": "code",
      "metadata": {
        "colab": {
          "base_uri": "https://localhost:8080/"
        },
        "id": "Yfgn-E6JDZQZ",
        "outputId": "9dc69d42-f261-4470-f2f8-08a6e9c7c464"
      },
      "source": [
        "val_df['label'].value_counts()"
      ],
      "execution_count": null,
      "outputs": [
        {
          "output_type": "execute_result",
          "data": {
            "text/plain": [
              "1    784\n",
              "0    190\n",
              "2     96\n",
              "Name: label, dtype: int64"
            ]
          },
          "metadata": {
            "tags": []
          },
          "execution_count": 18
        }
      ]
    },
    {
      "cell_type": "markdown",
      "metadata": {
        "id": "DMdNNVqrDCuN"
      },
      "source": [
        "### Loading `val_sentences` and `val_labels`"
      ]
    },
    {
      "cell_type": "code",
      "metadata": {
        "id": "LvGhjUkaDCuO"
      },
      "source": [
        "# Get the lists of sentences and their labels.\r\n",
        "val_sentences = val_df['text'].values\r\n",
        "val_labels = val_df['label'].values"
      ],
      "execution_count": null,
      "outputs": []
    },
    {
      "cell_type": "markdown",
      "metadata": {
        "id": "4mgM6b0yL0NM"
      },
      "source": [
        "## Loading the test data"
      ]
    },
    {
      "cell_type": "code",
      "metadata": {
        "colab": {
          "base_uri": "https://localhost:8080/",
          "height": 377
        },
        "id": "d7tVWiIeL0NN",
        "outputId": "7108fd9b-13f1-4455-cfb6-5eafe2ed9d8a"
      },
      "source": [
        "test_df_path = join(dataset_dir,'malayalam_hope_test_labels.csv')\r\n",
        "# Load the dataset into a pandas dataframe.\r\n",
        "test_df = pd.read_csv(test_df_path)\r\n",
        "\r\n",
        "# Report the number of sentences.\r\n",
        "print('Number of test sentences: {:,}\\n'.format(test_df.shape[0]))\r\n",
        "\r\n",
        "# Display 10 random rows from the data.\r\n",
        "test_df.sample(10)"
      ],
      "execution_count": null,
      "outputs": [
        {
          "output_type": "stream",
          "text": [
            "Number of test sentences: 1,071\n",
            "\n"
          ],
          "name": "stdout"
        },
        {
          "output_type": "execute_result",
          "data": {
            "text/html": [
              "<div>\n",
              "<style scoped>\n",
              "    .dataframe tbody tr th:only-of-type {\n",
              "        vertical-align: middle;\n",
              "    }\n",
              "\n",
              "    .dataframe tbody tr th {\n",
              "        vertical-align: top;\n",
              "    }\n",
              "\n",
              "    .dataframe thead th {\n",
              "        text-align: right;\n",
              "    }\n",
              "</style>\n",
              "<table border=\"1\" class=\"dataframe\">\n",
              "  <thead>\n",
              "    <tr style=\"text-align: right;\">\n",
              "      <th></th>\n",
              "      <th>text</th>\n",
              "      <th>label</th>\n",
              "      <th>Unnamed: 2</th>\n",
              "    </tr>\n",
              "  </thead>\n",
              "  <tbody>\n",
              "    <tr>\n",
              "      <th>673</th>\n",
              "      <td>Sir online വഴി സാധനം വാങ്ങിയാൽ കൊറോണ പകരാൻ ചാൻ...</td>\n",
              "      <td>Non_hope_speech</td>\n",
              "      <td>NaN</td>\n",
              "    </tr>\n",
              "    <tr>\n",
              "      <th>180</th>\n",
              "      <td>Kundanmar Ennanu Nchangal Vilikkua</td>\n",
              "      <td>Non_hope_speech</td>\n",
              "      <td>NaN</td>\n",
              "    </tr>\n",
              "    <tr>\n",
              "      <th>474</th>\n",
              "      <td>നല്ല മനസ്സുള്ളവർ ഒരുമിച്ചു ജീവിക്കുന്നതല്ലേ മന...</td>\n",
              "      <td>Hope_speech</td>\n",
              "      <td>NaN</td>\n",
              "    </tr>\n",
              "    <tr>\n",
              "      <th>834</th>\n",
              "      <td>ഇതൊക്കെ രാജ്യം നിരോധിക്കണം</td>\n",
              "      <td>Non_hope_speech</td>\n",
              "      <td>NaN</td>\n",
              "    </tr>\n",
              "    <tr>\n",
              "      <th>668</th>\n",
              "      <td>നായിന്റ മക്കളെ.. പോയി തൂങ്ങി മരിച്ചൂടെ. അവന്റെ...</td>\n",
              "      <td>Non_hope_speech</td>\n",
              "      <td>NaN</td>\n",
              "    </tr>\n",
              "    <tr>\n",
              "      <th>1055</th>\n",
              "      <td>@Vyas Deep brother swarganuragam thettanu yoji...</td>\n",
              "      <td>Non_hope_speech</td>\n",
              "      <td>NaN</td>\n",
              "    </tr>\n",
              "    <tr>\n",
              "      <th>4</th>\n",
              "      <td>I respect you..</td>\n",
              "      <td>not-malayalam</td>\n",
              "      <td>NaN</td>\n",
              "    </tr>\n",
              "    <tr>\n",
              "      <th>448</th>\n",
              "      <td>ഇവർ പുരുഷന്മാർ ആണ്.. nപുരുഷനോട് ആകർഷണം ഉള്ള പു...</td>\n",
              "      <td>Hope_speech</td>\n",
              "      <td>NaN</td>\n",
              "    </tr>\n",
              "    <tr>\n",
              "      <th>629</th>\n",
              "      <td>@Manikandan Sivan മതത്തിലല്ലടോ nഐൻസ്റ്റീൻ കണ്ട...</td>\n",
              "      <td>Non_hope_speech</td>\n",
              "      <td>NaN</td>\n",
              "    </tr>\n",
              "    <tr>\n",
              "      <th>488</th>\n",
              "      <td>@rafid pu അവരുടെ ജീവിതം എങ്ങനെയാടോ തകരുന്നേ വീ...</td>\n",
              "      <td>Hope_speech</td>\n",
              "      <td>NaN</td>\n",
              "    </tr>\n",
              "  </tbody>\n",
              "</table>\n",
              "</div>"
            ],
            "text/plain": [
              "                                                   text  ... Unnamed: 2\n",
              "673   Sir online വഴി സാധനം വാങ്ങിയാൽ കൊറോണ പകരാൻ ചാൻ...  ...        NaN\n",
              "180                  Kundanmar Ennanu Nchangal Vilikkua  ...        NaN\n",
              "474   നല്ല മനസ്സുള്ളവർ ഒരുമിച്ചു ജീവിക്കുന്നതല്ലേ മന...  ...        NaN\n",
              "834                          ഇതൊക്കെ രാജ്യം നിരോധിക്കണം  ...        NaN\n",
              "668   നായിന്റ മക്കളെ.. പോയി തൂങ്ങി മരിച്ചൂടെ. അവന്റെ...  ...        NaN\n",
              "1055  @Vyas Deep brother swarganuragam thettanu yoji...  ...        NaN\n",
              "4                                       I respect you..  ...        NaN\n",
              "448   ഇവർ പുരുഷന്മാർ ആണ്.. nപുരുഷനോട് ആകർഷണം ഉള്ള പു...  ...        NaN\n",
              "629   @Manikandan Sivan മതത്തിലല്ലടോ nഐൻസ്റ്റീൻ കണ്ട...  ...        NaN\n",
              "488   @rafid pu അവരുടെ ജീവിതം എങ്ങനെയാടോ തകരുന്നേ വീ...  ...        NaN\n",
              "\n",
              "[10 rows x 3 columns]"
            ]
          },
          "metadata": {
            "tags": []
          },
          "execution_count": 20
        }
      ]
    },
    {
      "cell_type": "code",
      "metadata": {
        "colab": {
          "base_uri": "https://localhost:8080/"
        },
        "id": "wkt73boTL0NO",
        "outputId": "eda182a9-ba57-4c43-c306-736a78c63aeb"
      },
      "source": [
        "test_df['label'].value_counts()"
      ],
      "execution_count": null,
      "outputs": [
        {
          "output_type": "execute_result",
          "data": {
            "text/plain": [
              "Non_hope_speech    776\n",
              "Hope_speech        194\n",
              "not-malayalam      101\n",
              "Name: label, dtype: int64"
            ]
          },
          "metadata": {
            "tags": []
          },
          "execution_count": 21
        }
      ]
    },
    {
      "cell_type": "code",
      "metadata": {
        "id": "ProewaglL0NP"
      },
      "source": [
        "test_df['label'] = le.transform(test_df['label'])"
      ],
      "execution_count": null,
      "outputs": []
    },
    {
      "cell_type": "code",
      "metadata": {
        "colab": {
          "base_uri": "https://localhost:8080/"
        },
        "id": "GYR2XokSL0NP",
        "outputId": "645fce7c-39d9-480d-8c57-9f6d0f127d0b"
      },
      "source": [
        "test_df['label'].value_counts()"
      ],
      "execution_count": null,
      "outputs": [
        {
          "output_type": "execute_result",
          "data": {
            "text/plain": [
              "1    776\n",
              "0    194\n",
              "2    101\n",
              "Name: label, dtype: int64"
            ]
          },
          "metadata": {
            "tags": []
          },
          "execution_count": 23
        }
      ]
    },
    {
      "cell_type": "markdown",
      "metadata": {
        "id": "eCCNrKNmL0NQ"
      },
      "source": [
        "### Loading `test_sentences` and `test_labels`"
      ]
    },
    {
      "cell_type": "code",
      "metadata": {
        "id": "NvBSOGdkL0NR"
      },
      "source": [
        "# Get the lists of sentences and their labels.\r\n",
        "test_sentences = test_df['text'].values\r\n",
        "test_labels = test_df['label'].values"
      ],
      "execution_count": null,
      "outputs": []
    },
    {
      "cell_type": "markdown",
      "metadata": {
        "id": "fS2UcOiEVuhm"
      },
      "source": [
        "## Handling class imbalance using `sklearn's compute_class_weight`\r\n",
        "\r\n"
      ]
    },
    {
      "cell_type": "code",
      "metadata": {
        "id": "WL4tP_YkI1mY",
        "colab": {
          "base_uri": "https://localhost:8080/"
        },
        "outputId": "c1f99ee9-96ed-4204-a873-f30c49b6a5b9"
      },
      "source": [
        "\r\n",
        "#compute the class weights\r\n",
        "class_wts = compute_class_weight('balanced', np.unique(train_labels), train_labels)\r\n",
        "\r\n",
        "print(class_wts)"
      ],
      "execution_count": null,
      "outputs": [
        {
          "output_type": "stream",
          "text": [
            "[1.71143086 0.46005909 4.13121081]\n"
          ],
          "name": "stdout"
        }
      ]
    },
    {
      "cell_type": "markdown",
      "metadata": {
        "id": "z_WjMTuibsrf"
      },
      "source": [
        "## Helper Functions"
      ]
    },
    {
      "cell_type": "markdown",
      "metadata": {
        "id": "Bef28eHNV-_d"
      },
      "source": [
        "#### 1) Update Interval Function"
      ]
    },
    {
      "cell_type": "code",
      "metadata": {
        "id": "lBK0ujfEbMir"
      },
      "source": [
        "def good_update_interval(total_iters, num_desired_updates):\r\n",
        "    '''\r\n",
        "    This function will try to pick an intelligent progress update interval \r\n",
        "    based on the magnitude of the total iterations.\r\n",
        "\r\n",
        "    Parameters:\r\n",
        "      `total_iters` - The number of iterations in the for-loop.\r\n",
        "      `num_desired_updates` - How many times we want to see an update over the \r\n",
        "                              course of the for-loop.\r\n",
        "    '''\r\n",
        "    # Divide the total iterations by the desired number of updates. Most likely\r\n",
        "    # this will be some ugly number.\r\n",
        "    exact_interval = total_iters / num_desired_updates\r\n",
        "\r\n",
        "    # The `round` function has the ability to round down a number to, e.g., the\r\n",
        "    # nearest thousandth: round(exact_interval, -3)\r\n",
        "    #\r\n",
        "    # To determine the magnitude to round to, find the magnitude of the total,\r\n",
        "    # and then go one magnitude below that.\r\n",
        "\r\n",
        "    # Get the order of magnitude of the total.\r\n",
        "    order_of_mag = len(str(total_iters)) - 1\r\n",
        "\r\n",
        "    # Our update interval should be rounded to an order of magnitude smaller. \r\n",
        "    round_mag = order_of_mag - 1\r\n",
        "\r\n",
        "    # Round down and cast to an int.\r\n",
        "    update_interval = int(round(exact_interval, -round_mag))\r\n",
        "\r\n",
        "    # Don't allow the interval to be zero!\r\n",
        "    if update_interval == 0:\r\n",
        "        update_interval = 1\r\n",
        "\r\n",
        "    return update_interval"
      ],
      "execution_count": null,
      "outputs": []
    },
    {
      "cell_type": "markdown",
      "metadata": {
        "id": "eMGycwGAWFyO"
      },
      "source": [
        "#### 2) Format time function"
      ]
    },
    {
      "cell_type": "code",
      "metadata": {
        "id": "c9zVyNQLm-3q"
      },
      "source": [
        "def format_time(elapsed):\r\n",
        "    '''\r\n",
        "    Takes a time in seconds and returns a string hh:mm:ss\r\n",
        "    '''\r\n",
        "    # Round to the nearest second.\r\n",
        "    elapsed_rounded = int(round((elapsed)))\r\n",
        "    \r\n",
        "    # Format as hh:mm:ss\r\n",
        "    return str(datetime.timedelta(seconds=elapsed_rounded))\r\n"
      ],
      "execution_count": null,
      "outputs": []
    },
    {
      "cell_type": "markdown",
      "metadata": {
        "id": "EBAo04ENWw3n"
      },
      "source": [
        "#### 3) Make Smart Batches function"
      ]
    },
    {
      "cell_type": "code",
      "metadata": {
        "id": "nof-AUeoiZc2"
      },
      "source": [
        "def make_smart_batches(text_samples, labels, batch_size,tokenizer,max_input_length):\r\n",
        "    '''\r\n",
        "    This function combines all of the required steps to prepare batches.\r\n",
        "    '''\r\n",
        "\r\n",
        "    print('Creating Smart Batches from {:,} examples with batch size {:,}...\\n'.format(len(text_samples), batch_size))\r\n",
        "\r\n",
        "    # =========================\r\n",
        "    #   Tokenize & Truncate\r\n",
        "    # =========================\r\n",
        "\r\n",
        "    full_input_ids = []\r\n",
        "\r\n",
        "    # Tokenize all training examples\r\n",
        "    print('Tokenizing {:,} samples...'.format(len(labels)))\r\n",
        "\r\n",
        "    # Choose an interval on which to print progress updates.\r\n",
        "    update_interval = good_update_interval(total_iters=len(labels), num_desired_updates=10)\r\n",
        "\r\n",
        "    # For each training example...\r\n",
        "    for text in text_samples:\r\n",
        "        \r\n",
        "        # Report progress.\r\n",
        "        if ((len(full_input_ids) % update_interval) == 0):\r\n",
        "            print('  Tokenized {:,} samples.'.format(len(full_input_ids)))\r\n",
        "\r\n",
        "        # Tokenize the sample.\r\n",
        "        input_ids = tokenizer.encode(text=text,              # Text to encode.\r\n",
        "                                    add_special_tokens=True, # Do add specials.\r\n",
        "                                    max_length=max_input_length,      \r\n",
        "                                    truncation=True,         # Do Truncate!\r\n",
        "                                    padding=False)           # DO NOT pad.\r\n",
        "                                    \r\n",
        "        # Add the tokenized result to our list.\r\n",
        "        full_input_ids.append(input_ids)\r\n",
        "        \r\n",
        "    print('DONE.')\r\n",
        "    print('{:>10,} samples\\n'.format(len(full_input_ids)))\r\n",
        "\r\n",
        "    # =========================\r\n",
        "    #      Select Batches\r\n",
        "    # =========================    \r\n",
        "\r\n",
        "    # Sort the two lists together by the length of the input sequence.\r\n",
        "    samples = sorted(zip(full_input_ids, labels), key=lambda x: len(x[0]))\r\n",
        "\r\n",
        "    print('{:>10,} samples after sorting\\n'.format(len(samples)))\r\n",
        "\r\n",
        "    import random\r\n",
        "\r\n",
        "    # List of batches that we'll construct.\r\n",
        "    batch_ordered_sentences = []\r\n",
        "    batch_ordered_labels = []\r\n",
        "\r\n",
        "    print('Creating batches of size {:}...'.format(batch_size))\r\n",
        "\r\n",
        "    # Choose an interval on which to print progress updates.\r\n",
        "    update_interval = good_update_interval(total_iters=len(samples), num_desired_updates=10)\r\n",
        "    \r\n",
        "    # Loop over all of the input samples...    \r\n",
        "    while len(samples) > 0:\r\n",
        "        \r\n",
        "        # Report progress.\r\n",
        "        if ((len(batch_ordered_sentences) % update_interval) == 0 \\\r\n",
        "            and not len(batch_ordered_sentences) == 0):\r\n",
        "            print('  Selected {:,} batches.'.format(len(batch_ordered_sentences)))\r\n",
        "\r\n",
        "        # `to_take` is our actual batch size. It will be `batch_size` until \r\n",
        "        # we get to the last batch, which may be smaller. \r\n",
        "        to_take = min(batch_size, len(samples))\r\n",
        "\r\n",
        "        # Pick a random index in the list of remaining samples to start\r\n",
        "        # our batch at.\r\n",
        "        select = random.randint(0, len(samples) - to_take)\r\n",
        "\r\n",
        "        # Select a contiguous batch of samples starting at `select`.\r\n",
        "        #print(\"Selecting batch from {:} to {:}\".format(select, select+to_take))\r\n",
        "        batch = samples[select:(select + to_take)]\r\n",
        "\r\n",
        "        #print(\"Batch length:\", len(batch))\r\n",
        "\r\n",
        "        # Each sample is a tuple--split them apart to create a separate list of \r\n",
        "        # sequences and a list of labels for this batch.\r\n",
        "        batch_ordered_sentences.append([s[0] for s in batch])\r\n",
        "        batch_ordered_labels.append([s[1] for s in batch])\r\n",
        "\r\n",
        "        # Remove these samples from the list.\r\n",
        "        del samples[select:select + to_take]\r\n",
        "\r\n",
        "    print('\\n  DONE - Selected {:,} batches.\\n'.format(len(batch_ordered_sentences)))\r\n",
        "\r\n",
        "    # =========================\r\n",
        "    #        Add Padding\r\n",
        "    # =========================    \r\n",
        "\r\n",
        "    print('Padding out sequences within each batch...')\r\n",
        "\r\n",
        "    py_inputs = []\r\n",
        "    py_attn_masks = []\r\n",
        "    py_labels = []\r\n",
        "\r\n",
        "    # For each batch...\r\n",
        "    for (batch_inputs, batch_labels) in zip(batch_ordered_sentences, batch_ordered_labels):\r\n",
        "\r\n",
        "        # New version of the batch, this time with padded sequences and now with\r\n",
        "        # attention masks defined.\r\n",
        "        batch_padded_inputs = []\r\n",
        "        batch_attn_masks = []\r\n",
        "        \r\n",
        "        # First, find the longest sample in the batch. \r\n",
        "        # Note that the sequences do currently include the special tokens!\r\n",
        "        max_size = max([len(sen) for sen in batch_inputs])\r\n",
        "\r\n",
        "        # For each input in this batch...\r\n",
        "        for sen in batch_inputs:\r\n",
        "            \r\n",
        "            # How many pad tokens do we need to add?\r\n",
        "            num_pads = max_size - len(sen)\r\n",
        "\r\n",
        "            # Add `num_pads` padding tokens to the end of the sequence.\r\n",
        "            padded_input = sen + [tokenizer.pad_token_id]*num_pads\r\n",
        "\r\n",
        "            # Define the attention mask--it's just a `1` for every real token\r\n",
        "            # and a `0` for every padding token.\r\n",
        "            attn_mask = [1] * len(sen) + [0] * num_pads\r\n",
        "\r\n",
        "            # Add the padded results to the batch.\r\n",
        "            batch_padded_inputs.append(padded_input)\r\n",
        "            batch_attn_masks.append(attn_mask)\r\n",
        "\r\n",
        "        # Our batch has been padded, so we need to save this updated batch.\r\n",
        "        # We also need the inputs to be PyTorch tensors, so we'll do that here.\r\n",
        "        # Todo - Michael's code specified \"dtype=torch.long\"\r\n",
        "        py_inputs.append(torch.tensor(batch_padded_inputs))\r\n",
        "        py_attn_masks.append(torch.tensor(batch_attn_masks))\r\n",
        "        py_labels.append(torch.tensor(batch_labels))\r\n",
        "    \r\n",
        "    print('  DONE.')\r\n",
        "\r\n",
        "    # Return the smart-batched dataset!\r\n",
        "    return (py_inputs, py_attn_masks, py_labels)\r\n"
      ],
      "execution_count": null,
      "outputs": []
    },
    {
      "cell_type": "markdown",
      "metadata": {
        "id": "6EIVfH5-mo_f"
      },
      "source": [
        "### 4) Make Smart Batches ( On Test Set)"
      ]
    },
    {
      "cell_type": "code",
      "metadata": {
        "id": "ggH8AkAEaV9N"
      },
      "source": [
        "def make_smart_batches_on_test(text_samples, text_ids, batch_size,tokenizer,max_input_length):\r\n",
        "    '''\r\n",
        "    This function combines all of the required steps to prepare batches.\r\n",
        "    '''\r\n",
        "\r\n",
        "    print('Creating Smart Batches from {:,} examples with batch size {:,}...\\n'.format(len(text_samples), batch_size))\r\n",
        "\r\n",
        "    # =========================\r\n",
        "    #   Tokenize & Truncate\r\n",
        "    # =========================\r\n",
        "\r\n",
        "    full_input_ids = []\r\n",
        "\r\n",
        "    # Tokenize all training examples\r\n",
        "    print('Tokenizing {:,} samples...'.format(len(text_samples)))\r\n",
        "\r\n",
        "    # Choose an interval on which to print progress updates.\r\n",
        "    update_interval = good_update_interval(total_iters=len(text_samples), num_desired_updates=10)\r\n",
        "\r\n",
        "    # For each training example...\r\n",
        "    for text in text_samples:\r\n",
        "        \r\n",
        "        # Report progress.\r\n",
        "        if ((len(full_input_ids) % update_interval) == 0):\r\n",
        "            print('  Tokenized {:,} samples.'.format(len(full_input_ids)))\r\n",
        "\r\n",
        "        # Tokenize the sample.\r\n",
        "        input_ids = tokenizer.encode(text=text,              # Text to encode.\r\n",
        "                                    add_special_tokens=True, # Do add specials.\r\n",
        "                                    max_length=max_input_length,      \r\n",
        "                                    truncation=True,         # Do Truncate!\r\n",
        "                                    padding=False)           # DO NOT pad.\r\n",
        "                                    \r\n",
        "        # Add the tokenized result to our list.\r\n",
        "        full_input_ids.append(input_ids)\r\n",
        "        \r\n",
        "    print('DONE.')\r\n",
        "    print('{:>10,} samples\\n'.format(len(full_input_ids)))\r\n",
        "\r\n",
        "    # =========================\r\n",
        "    #      Select Batches\r\n",
        "    # =========================    \r\n",
        "\r\n",
        "    # Sort the two lists together by the length of the input sequence.\r\n",
        "    samples = sorted(zip(full_input_ids, text_ids), key=lambda x: len(x[0]))\r\n",
        "\r\n",
        "    print('{:>10,} samples after sorting\\n'.format(len(samples)))\r\n",
        "\r\n",
        "    import random\r\n",
        "\r\n",
        "    # List of batches that we'll construct.\r\n",
        "    batch_ordered_sentences = []\r\n",
        "    batch_ordered_ids = []\r\n",
        "\r\n",
        "    print('Creating batches of size {:}...'.format(batch_size))\r\n",
        "\r\n",
        "    # Choose an interval on which to print progress updates.\r\n",
        "    update_interval = good_update_interval(total_iters=len(samples), num_desired_updates=10)\r\n",
        "    \r\n",
        "    # Loop over all of the input samples...    \r\n",
        "    while len(samples) > 0:\r\n",
        "        \r\n",
        "        # Report progress.\r\n",
        "        if ((len(batch_ordered_sentences) % update_interval) == 0 \\\r\n",
        "            and not len(batch_ordered_sentences) == 0):\r\n",
        "            print('  Selected {:,} batches.'.format(len(batch_ordered_sentences)))\r\n",
        "\r\n",
        "        # `to_take` is our actual batch size. It will be `batch_size` until \r\n",
        "        # we get to the last batch, which may be smaller. \r\n",
        "        to_take = min(batch_size, len(samples))\r\n",
        "\r\n",
        "        # Pick a random index in the list of remaining samples to start\r\n",
        "        # our batch at.\r\n",
        "        select = random.randint(0, len(samples) - to_take)\r\n",
        "\r\n",
        "        # Select a contiguous batch of samples starting at `select`.\r\n",
        "        #print(\"Selecting batch from {:} to {:}\".format(select, select+to_take))\r\n",
        "        batch = samples[select:(select + to_take)]\r\n",
        "\r\n",
        "        #print(\"Batch length:\", len(batch))\r\n",
        "\r\n",
        "        # Each sample is a tuple--split them apart to create a separate list of \r\n",
        "        # sequences and a list of labels for this batch.\r\n",
        "        batch_ordered_sentences.append([s[0] for s in batch])\r\n",
        "        batch_ordered_ids.append([s[1] for s in batch])\r\n",
        "\r\n",
        "        # Remove these samples from the list.\r\n",
        "        del samples[select:select + to_take]\r\n",
        "\r\n",
        "    print('\\n  DONE - Selected {:,} batches.\\n'.format(len(batch_ordered_sentences)))\r\n",
        "\r\n",
        "    # =========================\r\n",
        "    #        Add Padding\r\n",
        "    # =========================    \r\n",
        "\r\n",
        "    print('Padding out sequences within each batch...')\r\n",
        "\r\n",
        "    py_inputs = []\r\n",
        "    py_attn_masks = []\r\n",
        "    py_ids = []\r\n",
        "\r\n",
        "    # For each batch...\r\n",
        "    for (batch_inputs, batch_ids) in zip(batch_ordered_sentences, batch_ordered_ids):\r\n",
        "\r\n",
        "        # New version of the batch, this time with padded sequences and now with\r\n",
        "        # attention masks defined.\r\n",
        "        batch_padded_inputs = []\r\n",
        "        batch_attn_masks = []\r\n",
        "        \r\n",
        "        # First, find the longest sample in the batch. \r\n",
        "        # Note that the sequences do currently include the special tokens!\r\n",
        "        max_size = max([len(sen) for sen in batch_inputs])\r\n",
        "\r\n",
        "        # For each input in this batch...\r\n",
        "        for sen in batch_inputs:\r\n",
        "            \r\n",
        "            # How many pad tokens do we need to add?\r\n",
        "            num_pads = max_size - len(sen)\r\n",
        "\r\n",
        "            # Add `num_pads` padding tokens to the end of the sequence.\r\n",
        "            padded_input = sen + [tokenizer.pad_token_id]*num_pads\r\n",
        "\r\n",
        "            # Define the attention mask--it's just a `1` for every real token\r\n",
        "            # and a `0` for every padding token.\r\n",
        "            attn_mask = [1] * len(sen) + [0] * num_pads\r\n",
        "\r\n",
        "            # Add the padded results to the batch.\r\n",
        "            batch_padded_inputs.append(padded_input)\r\n",
        "            batch_attn_masks.append(attn_mask)\r\n",
        "\r\n",
        "        # Our batch has been padded, so we need to save this updated batch.\r\n",
        "        # We also need the inputs to be PyTorch tensors, so we'll do that here.\r\n",
        "        # Todo - Michael's code specified \"dtype=torch.long\"\r\n",
        "        py_inputs.append(torch.tensor(batch_padded_inputs))\r\n",
        "        py_attn_masks.append(torch.tensor(batch_attn_masks))\r\n",
        "        py_ids.append(torch.tensor(batch_ids))\r\n",
        "    \r\n",
        "    print('  DONE.')\r\n",
        "\r\n",
        "    # Return the smart-batched dataset!\r\n",
        "    return (py_inputs, py_attn_masks, py_ids)\r\n"
      ],
      "execution_count": null,
      "outputs": []
    },
    {
      "cell_type": "markdown",
      "metadata": {
        "id": "x6EHYpUbz8fo"
      },
      "source": [
        "### 5) Function for calculating accuracy per class"
      ]
    },
    {
      "cell_type": "code",
      "metadata": {
        "id": "Knuw_DOei8RO"
      },
      "source": [
        "def accuracy_per_class(preds, labels , label_dict):\r\n",
        "    \r\n",
        "    preds_flat = np.argmax(preds, axis=1).flatten()\r\n",
        "    labels_flat = labels.flatten()\r\n",
        "\r\n",
        "    for label in np.unique(labels_flat):\r\n",
        "        y_preds = preds_flat[labels_flat==label]\r\n",
        "        y_true = labels_flat[labels_flat==label]\r\n",
        "        print(f'Class: {label_dict[label]}')\r\n",
        "        print(f'Accuracy: {round(100*len(y_preds[y_preds==label])/len(y_true) , 2)}\\n')"
      ],
      "execution_count": null,
      "outputs": []
    },
    {
      "cell_type": "markdown",
      "metadata": {
        "id": "sOWk_8lpWO17"
      },
      "source": [
        "### 6) Function for plotting training history"
      ]
    },
    {
      "cell_type": "code",
      "metadata": {
        "id": "R7-FAyfnWM65"
      },
      "source": [
        "def plot_training_history(history):\r\n",
        "  fig, (ax1, ax2) = plt.subplots(1, 2, figsize=(18, 6))\r\n",
        "\r\n",
        "  ax1.plot(history['train_loss'], label='train loss')\r\n",
        "  ax1.plot(history['val_loss'], label='validation loss')\r\n",
        "\r\n",
        "  ax1.xaxis.set_major_locator(MaxNLocator(integer=True))\r\n",
        "#   ax1.set_ylim([-0.05, 1.05])\r\n",
        "  ax1.legend()\r\n",
        "  ax1.set_ylabel('Loss')\r\n",
        "  ax1.set_xlabel('Epoch')\r\n",
        "\r\n",
        "  ax2.plot(history['train_acc'], label='train accuracy')\r\n",
        "  ax2.plot(history['val_acc'], label='validation accuracy')\r\n",
        "\r\n",
        "  ax2.xaxis.set_major_locator(MaxNLocator(integer=True))\r\n",
        "  ax2.set_ylim([-0.05, 1.05])\r\n",
        "  ax2.legend()\r\n",
        "\r\n",
        "  ax2.set_ylabel('Accuracy')\r\n",
        "  ax2.set_xlabel('Epoch')\r\n",
        "\r\n",
        "  fig.suptitle('Training history')"
      ],
      "execution_count": null,
      "outputs": []
    },
    {
      "cell_type": "markdown",
      "metadata": {
        "id": "A7QOTORh_JHa"
      },
      "source": [
        "### 7) Function to check accuracy"
      ]
    },
    {
      "cell_type": "code",
      "metadata": {
        "id": "yzRDobQ6MwaR"
      },
      "source": [
        "def check_accuracy(predictions,true_labels):\r\n",
        "  # Combine the results across the batches.\r\n",
        "  predictions = np.concatenate(predictions, axis=0)\r\n",
        "  true_labels = np.concatenate(true_labels, axis=0)\r\n",
        "\r\n",
        "  # Choose the label with the highest score as our prediction.\r\n",
        "  preds = np.argmax(predictions, axis=1).flatten()\r\n",
        "\r\n",
        "  # Calculate simple flat accuracy -- number correct over total number.\r\n",
        "  accuracy = (preds == true_labels).mean()\r\n",
        "\r\n",
        "  return accuracy"
      ],
      "execution_count": null,
      "outputs": []
    },
    {
      "cell_type": "markdown",
      "metadata": {
        "id": "D7TtFkV5_Olz"
      },
      "source": [
        "### 8) Function to evaluate model"
      ]
    },
    {
      "cell_type": "code",
      "metadata": {
        "id": "TSBNdYHYMA7Q"
      },
      "source": [
        "def eval_model(model,py_inputs, py_attn_masks, py_labels,criterion):\r\n",
        "# Prediction on test set\r\n",
        "  t0 = time.time()\r\n",
        "\r\n",
        "  print('Doing validation on {:,} sentences...'.format(len(py_labels)))\r\n",
        "\r\n",
        "  # Put model in evaluation mode\r\n",
        "  model.eval()\r\n",
        "\r\n",
        "  # Tracking variables \r\n",
        "  predictions , true_labels = [], []\r\n",
        "\r\n",
        "  # Choose an interval on which to print progress updates.\r\n",
        "  update_interval = good_update_interval(total_iters=len(py_inputs), num_desired_updates=10)\r\n",
        "\r\n",
        "  # Measure elapsed time.\r\n",
        "  t0 = time.time()\r\n",
        "  total_val_loss = 0\r\n",
        "\r\n",
        "  # Put model in evaluation mode\r\n",
        "  model.eval()\r\n",
        "\r\n",
        "  # For each batch of training data...\r\n",
        "  for step in range(0, len(py_inputs)):\r\n",
        "\r\n",
        "      # Progress update every 100 batches.\r\n",
        "      if step % update_interval == 0 and not step == 0:\r\n",
        "          # Calculate elapsed time in minutes.\r\n",
        "          elapsed = format_time(time.time() - t0)\r\n",
        "          \r\n",
        "          # Calculate the time remaining based on our progress.\r\n",
        "          steps_per_sec = (time.time() - t0) / step\r\n",
        "          remaining_sec = steps_per_sec * (len(py_inputs) - step)\r\n",
        "          remaining = format_time(remaining_sec)\r\n",
        "\r\n",
        "          # Report progress.\r\n",
        "          print('  Batch {:>7,}  of  {:>7,}.    Elapsed: {:}.  Remaining: {:}'.format(step, len(py_inputs), elapsed, remaining))\r\n",
        "\r\n",
        "      # Copy the batch to the GPU.\r\n",
        "      b_input_ids = py_inputs[step].to(device)\r\n",
        "      b_input_mask = py_attn_masks[step].to(device)\r\n",
        "      b_labels = py_labels[step].to(device)\r\n",
        "    \r\n",
        "      # Telling the model not to compute or store gradients, saving memory and \r\n",
        "      # speeding up prediction\r\n",
        "      with torch.no_grad():\r\n",
        "        logits = model(b_input_ids, b_input_mask)\r\n",
        "\r\n",
        "\r\n",
        "      loss = criterion(logits,b_labels)\r\n",
        "      # Move logits and labels to CPU\r\n",
        "      logits = logits.detach().cpu().numpy()\r\n",
        "      label_ids = b_labels.to('cpu').numpy()\r\n",
        "    \r\n",
        "      # Store predictions and true labels\r\n",
        "      predictions.append(logits)\r\n",
        "      true_labels.append(label_ids)\r\n",
        "\r\n",
        "      total_val_loss += loss.item()\r\n",
        "  \r\n",
        "  val_accuracy = check_accuracy(predictions,true_labels)\r\n",
        "\r\n",
        "  validation_time = format_time(time.time() - t0)\r\n",
        "  \r\n",
        "  # Calculate the average loss over all of the batches.\r\n",
        "  avg_val_loss = total_val_loss / len(py_inputs)     \r\n",
        "    \r\n",
        "\r\n",
        "  # print('Accuracy: {:.3f}'.format(val_accuracy))\r\n",
        "  return (avg_val_loss,val_accuracy,validation_time)\r\n"
      ],
      "execution_count": null,
      "outputs": []
    },
    {
      "cell_type": "markdown",
      "metadata": {
        "id": "Lrt_FyJIbC8j"
      },
      "source": [
        "### 9) Function for making predictions on our test dataset"
      ]
    },
    {
      "cell_type": "code",
      "metadata": {
        "id": "eylCkH2Zipq5"
      },
      "source": [
        "def get_predictions(py_inputs, py_attn_masks, py_labels):\r\n",
        "\r\n",
        "  print('Predicting labels for {:,} test batches...'.format(len(py_labels)))\r\n",
        "\r\n",
        "  # Put model in evaluation mode\r\n",
        "  model.eval()\r\n",
        "\r\n",
        "  # Tracking variables \r\n",
        "  predictions , true_labels = [], []\r\n",
        "\r\n",
        "  # Choose an interval on which to print progress updates.\r\n",
        "  update_interval = good_update_interval(total_iters=len(py_inputs), num_desired_updates=10)\r\n",
        "\r\n",
        "  # Measure elapsed time.\r\n",
        "  t0 = time.time()\r\n",
        "\r\n",
        "  # Put model in evaluation mode\r\n",
        "  model.eval()\r\n",
        "\r\n",
        "  # For each batch of training data...\r\n",
        "  for step in range(0, len(py_inputs)):\r\n",
        "\r\n",
        "      # Progress update every 100 batches.\r\n",
        "      if step % update_interval == 0 and not step == 0:\r\n",
        "          # Calculate elapsed time in minutes.\r\n",
        "          elapsed = format_time(time.time() - t0)\r\n",
        "          \r\n",
        "          # Calculate the time remaining based on our progress.\r\n",
        "          steps_per_sec = (time.time() - t0) / step\r\n",
        "          remaining_sec = steps_per_sec * (len(py_inputs) - step)\r\n",
        "          remaining = format_time(remaining_sec)\r\n",
        "\r\n",
        "          # Report progress.\r\n",
        "          print('  Batch {:>7,}  of  {:>7,}.    Elapsed: {:}.  Remaining: {:}'.format(step, len(py_inputs), elapsed, remaining))\r\n",
        "\r\n",
        "      # Copy the batch to the GPU.\r\n",
        "      b_input_ids = py_inputs[step].to(device)\r\n",
        "      b_input_mask = py_attn_masks[step].to(device)\r\n",
        "      b_labels = py_labels[step].to(device)\r\n",
        "    \r\n",
        "      # Telling the model not to compute or store gradients, saving memory and \r\n",
        "      # speeding up prediction\r\n",
        "      with torch.no_grad():\r\n",
        "          # Forward pass, calculate logit predictions\r\n",
        "          logits = model(b_input_ids, b_input_mask)\r\n",
        "\r\n",
        "      \r\n",
        "      # Move logits and labels to CPU\r\n",
        "      logits = logits.detach().cpu().numpy()\r\n",
        "      label_ids = b_labels.to('cpu').numpy()\r\n",
        "    \r\n",
        "      # Store predictions and true labels\r\n",
        "      predictions.append(logits)\r\n",
        "      true_labels.append(label_ids)\r\n",
        "      # Combine the results across the batches.\r\n",
        "  predictions = np.concatenate(predictions, axis=0)\r\n",
        "  true_labels = np.concatenate(true_labels, axis=0)\r\n",
        "\r\n",
        "      # Choose the label with the highest score as our prediction.\r\n",
        "  preds = np.argmax(predictions, axis=1).flatten()\r\n",
        "\r\n",
        "  return (preds,true_labels)"
      ],
      "execution_count": null,
      "outputs": []
    },
    {
      "cell_type": "markdown",
      "metadata": {
        "id": "eiRNCS-EbZmy"
      },
      "source": [
        "### 10) Function for making predictions on test dataset(without labels)"
      ]
    },
    {
      "cell_type": "code",
      "metadata": {
        "id": "RIuwhVSmZvkd"
      },
      "source": [
        "def get_predictions_test(py_inputs, py_attn_masks,py_ids):\r\n",
        "\r\n",
        "  print('Predicting labels for {:,} test batches...'.format(len(py_inputs)))\r\n",
        "\r\n",
        "  # Put model in evaluation mode\r\n",
        "  model.eval()\r\n",
        "\r\n",
        "  # Tracking variables \r\n",
        "  predictions , true_labels ,ids = [], [] , []\r\n",
        "\r\n",
        "  # Choose an interval on which to print progress updates.\r\n",
        "  update_interval = good_update_interval(total_iters=len(py_inputs), num_desired_updates=10)\r\n",
        "\r\n",
        "  # Measure elapsed time.\r\n",
        "  t0 = time.time()\r\n",
        "\r\n",
        "  # Put model in evaluation mode\r\n",
        "  model.eval()\r\n",
        "\r\n",
        "  # For each batch of training data...\r\n",
        "  for step in range(0, len(py_inputs)):\r\n",
        "\r\n",
        "      # Progress update every 100 batches.\r\n",
        "      if step % update_interval == 0 and not step == 0:\r\n",
        "          # Calculate elapsed time in minutes.\r\n",
        "          elapsed = format_time(time.time() - t0)\r\n",
        "          \r\n",
        "          # Calculate the time remaining based on our progress.\r\n",
        "          steps_per_sec = (time.time() - t0) / step\r\n",
        "          remaining_sec = steps_per_sec * (len(py_inputs) - step)\r\n",
        "          remaining = format_time(remaining_sec)\r\n",
        "\r\n",
        "          # Report progress.\r\n",
        "          print('  Batch {:>7,}  of  {:>7,}.    Elapsed: {:}.  Remaining: {:}'.format(step, len(py_inputs), elapsed, remaining))\r\n",
        "\r\n",
        "      # Copy the batch to the GPU.\r\n",
        "      b_input_ids = py_inputs[step].to(device)\r\n",
        "      b_input_mask = py_attn_masks[step].to(device)\r\n",
        "      b_ids = py_ids[step].to(device)\r\n",
        "    \r\n",
        "      # Telling the model not to compute or store gradients, saving memory and \r\n",
        "      # speeding up prediction\r\n",
        "      with torch.no_grad():\r\n",
        "          # Forward pass, calculate logit predictions\r\n",
        "          outputs = model(b_input_ids, b_input_mask)\r\n",
        "\r\n",
        "      logits = outputs.logits \r\n",
        "\r\n",
        "      # Move logits and labels to CPU\r\n",
        "      logits = logits.detach().cpu().numpy()\r\n",
        "      b_ids = b_ids.detach().cpu().numpy()\r\n",
        "      # Store predictions\r\n",
        "      predictions.append(logits)\r\n",
        "      ids.append(b_ids)\r\n",
        "      # Combine the results across the batches.\r\n",
        "  predictions = np.concatenate(predictions, axis=0)\r\n",
        "  ids = np.concatenate(ids,axis=0)\r\n",
        "  # Choose the label with the highest score as our prediction.\r\n",
        "  preds = np.argmax(predictions, axis=1).flatten()\r\n",
        "\r\n",
        "  return ids,preds"
      ],
      "execution_count": null,
      "outputs": []
    },
    {
      "cell_type": "markdown",
      "metadata": {
        "id": "4IM8r_ddYZZS"
      },
      "source": [
        "### 11) Confusion Matrix Helper Function"
      ]
    },
    {
      "cell_type": "code",
      "metadata": {
        "id": "DqNaS8SrBox5"
      },
      "source": [
        "def show_confusion_matrix(confusion_matrix, class_names):\r\n",
        "\r\n",
        "  cm = confusion_matrix.copy()\r\n",
        "\r\n",
        "  cell_counts = cm.flatten()\r\n",
        "\r\n",
        "  cm_row_norm = cm / cm.sum(axis=1)[:, np.newaxis]\r\n",
        "\r\n",
        "  row_percentages = [\"{0:.2f}\".format(value) for value in cm_row_norm.flatten()]\r\n",
        "\r\n",
        "  cell_labels = [f\"{cnt}\\n{per}\" for cnt, per in zip(cell_counts, row_percentages)]\r\n",
        "  cell_labels = np.asarray(cell_labels).reshape(cm.shape[0], cm.shape[1])\r\n",
        "\r\n",
        "  df_cm = pd.DataFrame(cm_row_norm, index=class_names, columns=class_names)\r\n",
        "\r\n",
        "  hmap = sns.heatmap(df_cm, annot=cell_labels, fmt=\"\", cmap=\"Blues\")\r\n",
        "  hmap.yaxis.set_ticklabels(hmap.yaxis.get_ticklabels(), rotation=0, ha='right')\r\n",
        "  hmap.xaxis.set_ticklabels(hmap.xaxis.get_ticklabels(), rotation=30, ha='right')\r\n",
        "  plt.ylabel('True Sign')\r\n",
        "  plt.xlabel('Predicted Sign');"
      ],
      "execution_count": null,
      "outputs": []
    },
    {
      "cell_type": "markdown",
      "metadata": {
        "id": "MBxHY4rMojd-"
      },
      "source": [
        "## Loading the tokenizer using AutoTokenizer"
      ]
    },
    {
      "cell_type": "code",
      "metadata": {
        "colab": {
          "base_uri": "https://localhost:8080/"
        },
        "id": "fIlwEvcMb4pb",
        "outputId": "610ebac8-d6d1-4dc6-a17e-0967c77fc7cb"
      },
      "source": [
        "model_name = 'bert-base-multilingual-cased'\r\n",
        "# Load the BERT tokenizer.\r\n",
        "print(f'Loading {model_name} tokenizer...')\r\n",
        "tokenizer = AutoTokenizer.from_pretrained(model_name, do_lower_case=False)"
      ],
      "execution_count": null,
      "outputs": [
        {
          "output_type": "stream",
          "text": [
            "Loading bert-base-multilingual-cased tokenizer...\n"
          ],
          "name": "stdout"
        }
      ]
    },
    {
      "cell_type": "markdown",
      "metadata": {
        "id": "OVs3Jb3Vb89i"
      },
      "source": [
        "## Smart Batching of the training data"
      ]
    },
    {
      "cell_type": "code",
      "metadata": {
        "id": "cWNt4eOLofmF"
      },
      "source": [
        "lengths = []\r\n",
        "for text in train_sentences:\r\n",
        "  lengths.append(len(text))       "
      ],
      "execution_count": null,
      "outputs": []
    },
    {
      "cell_type": "code",
      "metadata": {
        "colab": {
          "base_uri": "https://localhost:8080/",
          "height": 427
        },
        "id": "hbdGRA3Bo02O",
        "outputId": "b7b56d6a-18c9-468b-e409-a1e9bf0e490c"
      },
      "source": [
        "\r\n",
        "# Use plot styling from seaborn.\r\n",
        "sns.set(style='darkgrid')\r\n",
        "\r\n",
        "# Increase the plot size and font size.\r\n",
        "sns.set(font_scale=1.5)\r\n",
        "plt.rcParams[\"figure.figsize\"] = (12,6)\r\n",
        "\r\n",
        "plt.scatter(range(0, len(lengths)), lengths, marker=\"|\")\r\n",
        "\r\n",
        "plt.xlabel('Sample Number')\r\n",
        "plt.ylabel('Sequence Length')\r\n",
        "plt.title('Samples BEFORE Tokenizing')\r\n",
        "\r\n",
        "plt.show()"
      ],
      "execution_count": null,
      "outputs": [
        {
          "output_type": "display_data",
          "data": {
            "image/png": "[encoded data removed]",
            "text/plain": [
              "<Figure size 864x432 with 1 Axes>"
            ]
          },
          "metadata": {
            "tags": []
          }
        }
      ]
    },
    {
      "cell_type": "markdown",
      "metadata": {
        "id": "9rMhLNhPcZjU"
      },
      "source": [
        "### Tokenizing the sequences"
      ]
    },
    {
      "cell_type": "code",
      "metadata": {
        "id": "t7JsLi3EdEje"
      },
      "source": [
        "max_input_length = 400"
      ],
      "execution_count": null,
      "outputs": []
    },
    {
      "cell_type": "code",
      "metadata": {
        "colab": {
          "base_uri": "https://localhost:8080/"
        },
        "id": "J968o8RJcUEd",
        "outputId": "d6ef1207-3783-4bc1-e838-b46bdeb09729"
      },
      "source": [
        "full_input_ids = []\r\n",
        "labels = []\r\n",
        "\r\n",
        "# Tokenize all training examples\r\n",
        "print('Tokenizing {:,} training samples...'.format(len(train_sentences)))\r\n",
        "\r\n",
        "# Choose an interval on which to print progress updates.\r\n",
        "update_interval = good_update_interval(total_iters=len(train_sentences), num_desired_updates=10)\r\n",
        "\r\n",
        "# For each training example...\r\n",
        "for text in train_sentences:\r\n",
        "    \r\n",
        "    # Report progress.\r\n",
        "    if ((len(full_input_ids) % update_interval) == 0):\r\n",
        "        print('  Tokenized {:,} samples.'.format(len(full_input_ids)))\r\n",
        "\r\n",
        "    # Tokenize the sentence.\r\n",
        "    input_ids = tokenizer.encode(text=text,           \r\n",
        "                                 add_special_tokens=True, \r\n",
        "                                 max_length=max_input_length,  \r\n",
        "                                 truncation=True,     \r\n",
        "                                 padding=False)       \r\n",
        "                                 \r\n",
        "    # Add the tokenized result to our list.\r\n",
        "    full_input_ids.append(input_ids)\r\n",
        "    \r\n",
        "print('DONE.')\r\n",
        "print('{:>10,} samples'.format(len(full_input_ids)))"
      ],
      "execution_count": null,
      "outputs": [
        {
          "output_type": "stream",
          "text": [
            "Tokenizing 8,564 training samples...\n",
            "  Tokenized 0 samples.\n",
            "  Tokenized 900 samples.\n",
            "  Tokenized 1,800 samples.\n",
            "  Tokenized 2,700 samples.\n",
            "  Tokenized 3,600 samples.\n",
            "  Tokenized 4,500 samples.\n",
            "  Tokenized 5,400 samples.\n",
            "  Tokenized 6,300 samples.\n",
            "  Tokenized 7,200 samples.\n",
            "  Tokenized 8,100 samples.\n",
            "DONE.\n",
            "     8,564 samples\n"
          ],
          "name": "stdout"
        }
      ]
    },
    {
      "cell_type": "code",
      "metadata": {
        "id": "rZzhO2tZeXur"
      },
      "source": [
        "# Get all of the lengths.\r\n",
        "unsorted_lengths = [len(x) for x in full_input_ids]"
      ],
      "execution_count": null,
      "outputs": []
    },
    {
      "cell_type": "code",
      "metadata": {
        "colab": {
          "base_uri": "https://localhost:8080/",
          "height": 427
        },
        "id": "x7c_mYuVed_H",
        "outputId": "94fa4743-55c9-489f-fd1c-3b1689b0249a"
      },
      "source": [
        "\r\n",
        "# Use plot styling from seaborn.\r\n",
        "sns.set(style='darkgrid')\r\n",
        "\r\n",
        "# Increase the plot size and font size.\r\n",
        "sns.set(font_scale=1.5)\r\n",
        "plt.rcParams[\"figure.figsize\"] = (12,6)\r\n",
        "\r\n",
        "plt.scatter(range(0, len(unsorted_lengths)), unsorted_lengths, marker=\"|\")\r\n",
        "\r\n",
        "plt.xlabel('Sample Number')\r\n",
        "plt.ylabel('Sequence Length')\r\n",
        "plt.title('Samples BEFORE Sorting')\r\n",
        "\r\n",
        "plt.show()"
      ],
      "execution_count": null,
      "outputs": [
        {
          "output_type": "display_data",
          "data": {
            "image/png": "[encoded data removed]",
            "text/plain": [
              "<Figure size 864x432 with 1 Axes>"
            ]
          },
          "metadata": {
            "tags": []
          }
        }
      ]
    },
    {
      "cell_type": "code",
      "metadata": {
        "id": "7PaeohUVegmv"
      },
      "source": [
        "# Sort the two lists together by the length of the input sequence.\r\n",
        "train_samples = sorted(zip(full_input_ids, train_labels), key=lambda x: len(x[0]))"
      ],
      "execution_count": null,
      "outputs": []
    },
    {
      "cell_type": "code",
      "metadata": {
        "colab": {
          "base_uri": "https://localhost:8080/"
        },
        "id": "_9nyx-BtepE4",
        "outputId": "0dd82ede-cd7c-4877-ccbf-a8d8bf3f234a"
      },
      "source": [
        "train_samples[0:5]"
      ],
      "execution_count": null,
      "outputs": [
        {
          "output_type": "execute_result",
          "data": {
            "text/plain": [
              "[([101, 13073, 102], 2),\n",
              " ([101, 22678, 37157, 102], 2),\n",
              " ([101, 13073, 30514, 102], 2),\n",
              " ([101, 32470, 91929, 102], 0),\n",
              " ([101, 22678, 37157, 102], 2)]"
            ]
          },
          "metadata": {
            "tags": []
          },
          "execution_count": 45
        }
      ]
    },
    {
      "cell_type": "code",
      "metadata": {
        "colab": {
          "base_uri": "https://localhost:8080/"
        },
        "id": "rBxJhEieetFh",
        "outputId": "9527be0c-cbae-445c-b056-e0c29e70b639"
      },
      "source": [
        "print('Shortest sample:', len(train_samples[0][0]))\r\n",
        "print('Longest sample:', len(train_samples[-1][0]))"
      ],
      "execution_count": null,
      "outputs": [
        {
          "output_type": "stream",
          "text": [
            "Shortest sample: 3\n",
            "Longest sample: 400\n"
          ],
          "name": "stdout"
        }
      ]
    },
    {
      "cell_type": "code",
      "metadata": {
        "id": "P44bFOI-e7hW"
      },
      "source": [
        "# Get the new list of lengths after sorting.\r\n",
        "sorted_lengths = [len(s[0]) for s in train_samples]"
      ],
      "execution_count": null,
      "outputs": []
    },
    {
      "cell_type": "code",
      "metadata": {
        "colab": {
          "base_uri": "https://localhost:8080/",
          "height": 427
        },
        "id": "9P5ZX99le_G1",
        "outputId": "e0b2a53f-fa8d-4ffe-ab4a-5195a0ae92c0"
      },
      "source": [
        "\r\n",
        "plt.plot(range(0, len(sorted_lengths)), sorted_lengths)\r\n",
        "\r\n",
        "plt.xlabel('Sample Number')\r\n",
        "plt.ylabel('Sequence Length')\r\n",
        "plt.title('Samples after Sorting')\r\n",
        "\r\n",
        "plt.show()"
      ],
      "execution_count": null,
      "outputs": [
        {
          "output_type": "display_data",
          "data": {
            "image/png": "[encoded data removed]",
            "text/plain": [
              "<Figure size 864x432 with 1 Axes>"
            ]
          },
          "metadata": {
            "tags": []
          }
        }
      ]
    },
    {
      "cell_type": "markdown",
      "metadata": {
        "id": "Eh1z0xugfF2t"
      },
      "source": [
        "### Random Batch Selections"
      ]
    },
    {
      "cell_type": "code",
      "metadata": {
        "colab": {
          "base_uri": "https://localhost:8080/"
        },
        "id": "gPrYkFMcgm5H",
        "outputId": "e35abce4-e05f-4932-c122-cac3b2304e7b"
      },
      "source": [
        "train_samples[0]"
      ],
      "execution_count": null,
      "outputs": [
        {
          "output_type": "execute_result",
          "data": {
            "text/plain": [
              "([101, 13073, 102], 2)"
            ]
          },
          "metadata": {
            "tags": []
          },
          "execution_count": 49
        }
      ]
    },
    {
      "cell_type": "code",
      "metadata": {
        "id": "isMxwgezfAvO"
      },
      "source": [
        "batch_size = 16"
      ],
      "execution_count": null,
      "outputs": []
    },
    {
      "cell_type": "code",
      "metadata": {
        "colab": {
          "base_uri": "https://localhost:8080/"
        },
        "id": "s0tjD8pIfJ0S",
        "outputId": "202b67ef-c4b6-4bad-dedf-57fc6d69cfcf"
      },
      "source": [
        "# List of batches that we'll construct.\r\n",
        "batch_ordered_sentences = []\r\n",
        "batch_ordered_labels = []\r\n",
        "\r\n",
        "print('Creating training batches of size {:}'.format(batch_size))\r\n",
        "\r\n",
        "# Loop over all of the input samples...    \r\n",
        "while len(train_samples) > 0:\r\n",
        "    \r\n",
        "    # Report progress.\r\n",
        "    if ((len(batch_ordered_sentences) % 100) == 0):\r\n",
        "        print('  Selected {:,} batches.'.format(len(batch_ordered_sentences)))\r\n",
        "\r\n",
        "    # `to_take` is our actual batch size. It will be `batch_size` until \r\n",
        "    # we get to the last batch, which may be smaller. \r\n",
        "    to_take = min(batch_size, len(train_samples))\r\n",
        "\r\n",
        "    # Pick a random index in the list of remaining samples to start\r\n",
        "    # our batch at.\r\n",
        "    select = random.randint(0, len(train_samples) - to_take)\r\n",
        "\r\n",
        "    # Select a contiguous batch of samples starting at `select`.\r\n",
        "    batch = train_samples[select:(select + to_take)]\r\n",
        "\r\n",
        "    # Each sample is a tuple--split them apart to create a separate list of \r\n",
        "    # sequences and a list of labels for this batch.\r\n",
        "    batch_ordered_sentences.append([s[0] for s in batch])\r\n",
        "    batch_ordered_labels.append([s[1] for s in batch])\r\n",
        "\r\n",
        "    # Remove these samples from the list.\r\n",
        "    del train_samples[select:select + to_take]\r\n",
        "\r\n",
        "print('\\n  DONE - {:,} batches.'.format(len(batch_ordered_sentences)))"
      ],
      "execution_count": null,
      "outputs": [
        {
          "output_type": "stream",
          "text": [
            "Creating training batches of size 16\n",
            "  Selected 0 batches.\n",
            "  Selected 100 batches.\n",
            "  Selected 200 batches.\n",
            "  Selected 300 batches.\n",
            "  Selected 400 batches.\n",
            "  Selected 500 batches.\n",
            "\n",
            "  DONE - 536 batches.\n"
          ],
          "name": "stdout"
        }
      ]
    },
    {
      "cell_type": "code",
      "metadata": {
        "colab": {
          "base_uri": "https://localhost:8080/"
        },
        "id": "rf91Dd3LhBaP",
        "outputId": "ee7d183b-3a23-475a-8b16-c881633ad084"
      },
      "source": [
        "print(batch_ordered_sentences[0])"
      ],
      "execution_count": null,
      "outputs": [
        {
          "output_type": "stream",
          "text": [
            "[[101, 1352, 52388, 29400, 66985, 16471, 24458, 1353, 111402, 79960, 18395, 24458, 102], [101, 137, 23080, 10676, 139, 20578, 15190, 10824, 32037, 17094, 10727, 10133, 102], [101, 56326, 40799, 15292, 75301, 13622, 1353, 27921, 34590, 17896, 29400, 119, 102], [101, 24625, 10192, 10114, 67742, 19962, 10731, 13998, 11023, 10107, 10114, 59411, 102], [101, 1328, 43877, 75301, 1334, 59009, 17878, 69203, 1331, 96696, 1323, 37591, 102], [101, 12404, 54047, 11008, 51428, 10174, 33705, 10112, 16642, 10537, 21427, 35397, 102], [101, 13672, 41493, 10107, 119, 31119, 11759, 15688, 12177, 1367, 17676, 21403, 102], [101, 17376, 119, 119, 119, 25460, 11591, 48765, 12078, 119, 119, 119, 102], [101, 158, 10350, 69191, 40300, 18995, 18643, 91189, 10133, 119, 119, 119, 102], [101, 100, 182, 19998, 10271, 13723, 14325, 11534, 87600, 13998, 13061, 11147, 102], [101, 17376, 119, 119, 119, 25460, 11591, 48765, 12078, 119, 119, 119, 102], [101, 109499, 69857, 54047, 19172, 10144, 44082, 61972, 10284, 119, 119, 119, 102], [101, 138, 139, 89696, 21318, 11369, 65729, 11259, 119, 119, 119, 119, 102], [101, 16777, 25230, 10105, 11083, 55352, 41549, 12443, 15914, 10853, 59731, 13660, 102], [101, 137, 77603, 23315, 77603, 23315, 182, 11565, 39041, 19314, 16200, 22659, 102], [101, 85581, 11147, 15694, 55170, 13723, 10799, 30771, 10116, 18028, 21533, 10112, 102]]\n"
          ],
          "name": "stdout"
        }
      ]
    },
    {
      "cell_type": "code",
      "metadata": {
        "colab": {
          "base_uri": "https://localhost:8080/"
        },
        "id": "qmkQK_gVgiTu",
        "outputId": "7fdef324-a5db-41de-c5f5-a711fa43c216"
      },
      "source": [
        "batch_ordered_labels[0]"
      ],
      "execution_count": null,
      "outputs": [
        {
          "output_type": "execute_result",
          "data": {
            "text/plain": [
              "[0, 1, 1, 1, 1, 1, 1, 0, 1, 1, 0, 1, 2, 1, 1, 1]"
            ]
          },
          "metadata": {
            "tags": []
          },
          "execution_count": 53
        }
      ]
    },
    {
      "cell_type": "markdown",
      "metadata": {
        "id": "xZ0TFA8Mfn6m"
      },
      "source": [
        "### Padding"
      ]
    },
    {
      "cell_type": "code",
      "metadata": {
        "id": "c9rdswcpfTip"
      },
      "source": [
        "py_inputs = []\r\n",
        "py_attn_masks = []\r\n",
        "py_labels = []\r\n",
        "\r\n",
        "# For each batch...\r\n",
        "for (batch_inputs, batch_labels) in zip(batch_ordered_sentences, batch_ordered_labels):\r\n",
        "\r\n",
        "    # New version of the batch, this time with padded sequences and now with\r\n",
        "    # attention masks defined.\r\n",
        "    batch_padded_inputs = []\r\n",
        "    batch_attn_masks = []\r\n",
        "    \r\n",
        "    # First, find the longest sample in the batch. \r\n",
        "    # Note that the sequences do currently include the special tokens!\r\n",
        "    max_size = max([len(sen) for sen in batch_inputs])\r\n",
        "\r\n",
        "    #print('Max size:', max_size)\r\n",
        "\r\n",
        "    # For each input in this batch...\r\n",
        "    for sen in batch_inputs:\r\n",
        "        \r\n",
        "        # How many pad tokens do we need to add?\r\n",
        "        num_pads = max_size - len(sen)\r\n",
        "\r\n",
        "        # Add `num_pads` padding tokens to the end of the sequence.\r\n",
        "        padded_input = sen + [tokenizer.pad_token_id]*num_pads\r\n",
        "\r\n",
        "        # Define the attention mask--it's just a `1` for every real token\r\n",
        "        # and a `0` for every padding token.\r\n",
        "        attn_mask = [1] * len(sen) + [0] * num_pads\r\n",
        "\r\n",
        "        # Add the padded results to the batch.\r\n",
        "        batch_padded_inputs.append(padded_input)\r\n",
        "        batch_attn_masks.append(attn_mask)\r\n",
        "\r\n",
        "    # Our batch has been padded, so we need to save this updated batch.\r\n",
        "    # We also need the inputs to be PyTorch tensors, so we'll do that here.\r\n",
        "    py_inputs.append(torch.tensor(batch_padded_inputs))\r\n",
        "    py_attn_masks.append(torch.tensor(batch_attn_masks))\r\n",
        "    py_labels.append(torch.tensor(batch_labels))\r\n"
      ],
      "execution_count": null,
      "outputs": []
    },
    {
      "cell_type": "markdown",
      "metadata": {
        "id": "roS5lLWdX-5J"
      },
      "source": [
        "### Check the number of token reductions because of smart batching"
      ]
    },
    {
      "cell_type": "code",
      "metadata": {
        "colab": {
          "base_uri": "https://localhost:8080/"
        },
        "id": "wlh7cteVfroV",
        "outputId": "81873144-ca65-43b6-c3cd-ff8b0cf551b1"
      },
      "source": [
        "# Get the new list of lengths after sorting.\r\n",
        "\r\n",
        "padded_lengths = []\r\n",
        "\r\n",
        "# For each batch...\r\n",
        "for batch in py_inputs:\r\n",
        "    \r\n",
        "    # For each sample...\r\n",
        "    for s in batch:\r\n",
        "    \r\n",
        "        # Record its length.\r\n",
        "        padded_lengths.append(len(s))\r\n",
        "\r\n",
        "# Sum up the lengths to the get the total number of tokens after smart batching.\r\n",
        "smart_token_count = np.sum(padded_lengths)\r\n",
        "\r\n",
        "# To get the total number of tokens in the dataset using fixed padding, it's\r\n",
        "# as simple as the number of samples times our `max_len` parameter (that we\r\n",
        "# would pad everything to).\r\n",
        "fixed_token_count = len(train_sentences) * max_input_length\r\n",
        "\r\n",
        "# Calculate the percentage reduction.\r\n",
        "prcnt_reduced = (fixed_token_count - smart_token_count) / float(fixed_token_count) \r\n",
        "\r\n",
        "print('Total tokens:')\r\n",
        "print('   Fixed Padding: {:,}'.format(fixed_token_count))\r\n",
        "print('  Smart Batching: {:,}  ({:.1%} less)'.format(smart_token_count, prcnt_reduced))\r\n"
      ],
      "execution_count": null,
      "outputs": [
        {
          "output_type": "stream",
          "text": [
            "Total tokens:\n",
            "   Fixed Padding: 3,425,600\n",
            "  Smart Batching: 342,700  (90.0% less)\n"
          ],
          "name": "stdout"
        }
      ]
    },
    {
      "cell_type": "markdown",
      "metadata": {
        "id": "8wgdhsI-YIAL"
      },
      "source": [
        "## Load the model configuration from the transformers library using AutoConfig"
      ]
    },
    {
      "cell_type": "code",
      "metadata": {
        "colab": {
          "base_uri": "https://localhost:8080/"
        },
        "id": "9er7EHvdfudf",
        "outputId": "8f5d0eaf-d873-4cae-c3c5-309ac2ac41dc"
      },
      "source": [
        "# Load the Config object, with an output configured for classification.\r\n",
        "config = AutoConfig.from_pretrained(pretrained_model_name_or_path=model_name,\r\n",
        "                                    num_labels=len(class_names))\r\n",
        "\r\n",
        "print('Config type:', str(type(config)), '\\n')\r\n"
      ],
      "execution_count": null,
      "outputs": [
        {
          "output_type": "stream",
          "text": [
            "Config type: <class 'transformers.models.bert.configuration_bert.BertConfig'> \n",
            "\n"
          ],
          "name": "stdout"
        }
      ]
    },
    {
      "cell_type": "code",
      "metadata": {
        "id": "bWvc9Ikv4HtD"
      },
      "source": [
        "# model = AutoModelForSequenceClassification.from_pretrained(pretrained_model_name_or_path=model_name,config = config)"
      ],
      "execution_count": null,
      "outputs": []
    },
    {
      "cell_type": "code",
      "metadata": {
        "id": "Xouf5M2B55ei"
      },
      "source": [
        "# model.cuda()"
      ],
      "execution_count": null,
      "outputs": []
    },
    {
      "cell_type": "markdown",
      "metadata": {
        "id": "qYV6GYYUxr4M"
      },
      "source": [
        "## Load the model from the transformers library using AutoModel"
      ]
    },
    {
      "cell_type": "code",
      "metadata": {
        "colab": {
          "base_uri": "https://localhost:8080/"
        },
        "id": "Jmcj0PrXxr4O",
        "outputId": "4979f53d-40f0-411e-fc74-70b5ce23f27f"
      },
      "source": [
        "# Load the pre-trained model for classification, passing in the `config` from\r\n",
        "# above.\r\n",
        "model = AutoModel.from_pretrained(\r\n",
        "    pretrained_model_name_or_path=model_name,\r\n",
        "    config=config)\r\n",
        "\r\n",
        "print('\\nModel type:', str(type(model)))\r\n"
      ],
      "execution_count": null,
      "outputs": [
        {
          "output_type": "stream",
          "text": [
            "\n",
            "Model type: <class 'transformers.models.bert.modeling_bert.BertModel'>\n"
          ],
          "name": "stdout"
        }
      ]
    },
    {
      "cell_type": "code",
      "metadata": {
        "id": "2LEx-3Spxr4R"
      },
      "source": [
        "# freeze all the parameters\r\n",
        "for param in model.parameters():\r\n",
        "    param.requires_grad = False"
      ],
      "execution_count": null,
      "outputs": []
    },
    {
      "cell_type": "markdown",
      "metadata": {
        "id": "bOXKJrU_xr4S"
      },
      "source": [
        "## Creating a custom BERT model "
      ]
    },
    {
      "cell_type": "code",
      "metadata": {
        "id": "m3CbIF1Axr4U"
      },
      "source": [
        "\r\n",
        "class Custom_Model(nn.Module):\r\n",
        "    ## defining the constructor for the class\r\n",
        "    def __init__(self, model,num_labels):\r\n",
        "      ## calling the super class constructor\r\n",
        "      super(Custom_Model, self).__init__()\r\n",
        "      ## adding the bert layer to the model\r\n",
        "      self.model = model        \r\n",
        "      # relu activation function\r\n",
        "      self.relu =  nn.ReLU()\r\n",
        "      # adding a dense layer to our custom model\r\n",
        "      self.fc1 = nn.Linear(768,512)\r\n",
        "      # adding another dense layer to our custom model ,i.e., the Output layer\r\n",
        "      self.fc2 = nn.Linear(512,num_labels)\r\n",
        "      # adding a softmax  activation function for our custom model's output layer\r\n",
        "      self.softmax = nn.LogSoftmax(dim=1)\r\n",
        "\r\n",
        "    #defining the forward pass\r\n",
        "    def forward(self, input_id, mask):\r\n",
        "      #pass the inputs to the model  \r\n",
        "      outputs = self.model(input_id,mask)\r\n",
        "  \r\n",
        "      last_hidden_state = outputs.last_hidden_state       ## last hidden state from the model\r\n",
        "      pooler_output = outputs.pooler_output               ## pooler output from the model\r\n",
        "      ## adding a fully connected layer to the BERT model\r\n",
        "      x = self.fc1(pooler_output)\r\n",
        "      ## applying relu activation function\r\n",
        "      x = self.relu(x)\r\n",
        "      # the final output layer\r\n",
        "      x = self.fc2(x)\r\n",
        "      # apply softmax activation to our output layer\r\n",
        "      x = self.softmax(x)\r\n",
        "\r\n",
        "      return x"
      ],
      "execution_count": null,
      "outputs": []
    },
    {
      "cell_type": "code",
      "metadata": {
        "colab": {
          "base_uri": "https://localhost:8080/"
        },
        "id": "Lqp1b5hNxr4V",
        "outputId": "07b12436-b798-4edd-cfb6-442330a2d061"
      },
      "source": [
        "\r\n",
        "\r\n",
        "print('\\nLoading model ...')\r\n",
        "# pass the pre-trained BERT to our define architecture\r\n",
        "model = Custom_Model(model,num_labels=len(class_names))\r\n",
        "\r\n",
        "model.cuda()"
      ],
      "execution_count": null,
      "outputs": [
        {
          "output_type": "stream",
          "text": [
            "\n",
            "Loading model ...\n"
          ],
          "name": "stdout"
        },
        {
          "output_type": "execute_result",
          "data": {
            "text/plain": [
              "Custom_Model(\n",
              "  (model): BertModel(\n",
              "    (embeddings): BertEmbeddings(\n",
              "      (word_embeddings): Embedding(119547, 768, padding_idx=0)\n",
              "      (position_embeddings): Embedding(512, 768)\n",
              "      (token_type_embeddings): Embedding(2, 768)\n",
              "      (LayerNorm): LayerNorm((768,), eps=1e-12, elementwise_affine=True)\n",
              "      (dropout): Dropout(p=0.1, inplace=False)\n",
              "    )\n",
              "    (encoder): BertEncoder(\n",
              "      (layer): ModuleList(\n",
              "        (0): BertLayer(\n",
              "          (attention): BertAttention(\n",
              "            (self): BertSelfAttention(\n",
              "              (query): Linear(in_features=768, out_features=768, bias=True)\n",
              "              (key): Linear(in_features=768, out_features=768, bias=True)\n",
              "              (value): Linear(in_features=768, out_features=768, bias=True)\n",
              "              (dropout): Dropout(p=0.1, inplace=False)\n",
              "            )\n",
              "            (output): BertSelfOutput(\n",
              "              (dense): Linear(in_features=768, out_features=768, bias=True)\n",
              "              (LayerNorm): LayerNorm((768,), eps=1e-12, elementwise_affine=True)\n",
              "              (dropout): Dropout(p=0.1, inplace=False)\n",
              "            )\n",
              "          )\n",
              "          (intermediate): BertIntermediate(\n",
              "            (dense): Linear(in_features=768, out_features=3072, bias=True)\n",
              "          )\n",
              "          (output): BertOutput(\n",
              "            (dense): Linear(in_features=3072, out_features=768, bias=True)\n",
              "            (LayerNorm): LayerNorm((768,), eps=1e-12, elementwise_affine=True)\n",
              "            (dropout): Dropout(p=0.1, inplace=False)\n",
              "          )\n",
              "        )\n",
              "        (1): BertLayer(\n",
              "          (attention): BertAttention(\n",
              "            (self): BertSelfAttention(\n",
              "              (query): Linear(in_features=768, out_features=768, bias=True)\n",
              "              (key): Linear(in_features=768, out_features=768, bias=True)\n",
              "              (value): Linear(in_features=768, out_features=768, bias=True)\n",
              "              (dropout): Dropout(p=0.1, inplace=False)\n",
              "            )\n",
              "            (output): BertSelfOutput(\n",
              "              (dense): Linear(in_features=768, out_features=768, bias=True)\n",
              "              (LayerNorm): LayerNorm((768,), eps=1e-12, elementwise_affine=True)\n",
              "              (dropout): Dropout(p=0.1, inplace=False)\n",
              "            )\n",
              "          )\n",
              "          (intermediate): BertIntermediate(\n",
              "            (dense): Linear(in_features=768, out_features=3072, bias=True)\n",
              "          )\n",
              "          (output): BertOutput(\n",
              "            (dense): Linear(in_features=3072, out_features=768, bias=True)\n",
              "            (LayerNorm): LayerNorm((768,), eps=1e-12, elementwise_affine=True)\n",
              "            (dropout): Dropout(p=0.1, inplace=False)\n",
              "          )\n",
              "        )\n",
              "        (2): BertLayer(\n",
              "          (attention): BertAttention(\n",
              "            (self): BertSelfAttention(\n",
              "              (query): Linear(in_features=768, out_features=768, bias=True)\n",
              "              (key): Linear(in_features=768, out_features=768, bias=True)\n",
              "              (value): Linear(in_features=768, out_features=768, bias=True)\n",
              "              (dropout): Dropout(p=0.1, inplace=False)\n",
              "            )\n",
              "            (output): BertSelfOutput(\n",
              "              (dense): Linear(in_features=768, out_features=768, bias=True)\n",
              "              (LayerNorm): LayerNorm((768,), eps=1e-12, elementwise_affine=True)\n",
              "              (dropout): Dropout(p=0.1, inplace=False)\n",
              "            )\n",
              "          )\n",
              "          (intermediate): BertIntermediate(\n",
              "            (dense): Linear(in_features=768, out_features=3072, bias=True)\n",
              "          )\n",
              "          (output): BertOutput(\n",
              "            (dense): Linear(in_features=3072, out_features=768, bias=True)\n",
              "            (LayerNorm): LayerNorm((768,), eps=1e-12, elementwise_affine=True)\n",
              "            (dropout): Dropout(p=0.1, inplace=False)\n",
              "          )\n",
              "        )\n",
              "        (3): BertLayer(\n",
              "          (attention): BertAttention(\n",
              "            (self): BertSelfAttention(\n",
              "              (query): Linear(in_features=768, out_features=768, bias=True)\n",
              "              (key): Linear(in_features=768, out_features=768, bias=True)\n",
              "              (value): Linear(in_features=768, out_features=768, bias=True)\n",
              "              (dropout): Dropout(p=0.1, inplace=False)\n",
              "            )\n",
              "            (output): BertSelfOutput(\n",
              "              (dense): Linear(in_features=768, out_features=768, bias=True)\n",
              "              (LayerNorm): LayerNorm((768,), eps=1e-12, elementwise_affine=True)\n",
              "              (dropout): Dropout(p=0.1, inplace=False)\n",
              "            )\n",
              "          )\n",
              "          (intermediate): BertIntermediate(\n",
              "            (dense): Linear(in_features=768, out_features=3072, bias=True)\n",
              "          )\n",
              "          (output): BertOutput(\n",
              "            (dense): Linear(in_features=3072, out_features=768, bias=True)\n",
              "            (LayerNorm): LayerNorm((768,), eps=1e-12, elementwise_affine=True)\n",
              "            (dropout): Dropout(p=0.1, inplace=False)\n",
              "          )\n",
              "        )\n",
              "        (4): BertLayer(\n",
              "          (attention): BertAttention(\n",
              "            (self): BertSelfAttention(\n",
              "              (query): Linear(in_features=768, out_features=768, bias=True)\n",
              "              (key): Linear(in_features=768, out_features=768, bias=True)\n",
              "              (value): Linear(in_features=768, out_features=768, bias=True)\n",
              "              (dropout): Dropout(p=0.1, inplace=False)\n",
              "            )\n",
              "            (output): BertSelfOutput(\n",
              "              (dense): Linear(in_features=768, out_features=768, bias=True)\n",
              "              (LayerNorm): LayerNorm((768,), eps=1e-12, elementwise_affine=True)\n",
              "              (dropout): Dropout(p=0.1, inplace=False)\n",
              "            )\n",
              "          )\n",
              "          (intermediate): BertIntermediate(\n",
              "            (dense): Linear(in_features=768, out_features=3072, bias=True)\n",
              "          )\n",
              "          (output): BertOutput(\n",
              "            (dense): Linear(in_features=3072, out_features=768, bias=True)\n",
              "            (LayerNorm): LayerNorm((768,), eps=1e-12, elementwise_affine=True)\n",
              "            (dropout): Dropout(p=0.1, inplace=False)\n",
              "          )\n",
              "        )\n",
              "        (5): BertLayer(\n",
              "          (attention): BertAttention(\n",
              "            (self): BertSelfAttention(\n",
              "              (query): Linear(in_features=768, out_features=768, bias=True)\n",
              "              (key): Linear(in_features=768, out_features=768, bias=True)\n",
              "              (value): Linear(in_features=768, out_features=768, bias=True)\n",
              "              (dropout): Dropout(p=0.1, inplace=False)\n",
              "            )\n",
              "            (output): BertSelfOutput(\n",
              "              (dense): Linear(in_features=768, out_features=768, bias=True)\n",
              "              (LayerNorm): LayerNorm((768,), eps=1e-12, elementwise_affine=True)\n",
              "              (dropout): Dropout(p=0.1, inplace=False)\n",
              "            )\n",
              "          )\n",
              "          (intermediate): BertIntermediate(\n",
              "            (dense): Linear(in_features=768, out_features=3072, bias=True)\n",
              "          )\n",
              "          (output): BertOutput(\n",
              "            (dense): Linear(in_features=3072, out_features=768, bias=True)\n",
              "            (LayerNorm): LayerNorm((768,), eps=1e-12, elementwise_affine=True)\n",
              "            (dropout): Dropout(p=0.1, inplace=False)\n",
              "          )\n",
              "        )\n",
              "        (6): BertLayer(\n",
              "          (attention): BertAttention(\n",
              "            (self): BertSelfAttention(\n",
              "              (query): Linear(in_features=768, out_features=768, bias=True)\n",
              "              (key): Linear(in_features=768, out_features=768, bias=True)\n",
              "              (value): Linear(in_features=768, out_features=768, bias=True)\n",
              "              (dropout): Dropout(p=0.1, inplace=False)\n",
              "            )\n",
              "            (output): BertSelfOutput(\n",
              "              (dense): Linear(in_features=768, out_features=768, bias=True)\n",
              "              (LayerNorm): LayerNorm((768,), eps=1e-12, elementwise_affine=True)\n",
              "              (dropout): Dropout(p=0.1, inplace=False)\n",
              "            )\n",
              "          )\n",
              "          (intermediate): BertIntermediate(\n",
              "            (dense): Linear(in_features=768, out_features=3072, bias=True)\n",
              "          )\n",
              "          (output): BertOutput(\n",
              "            (dense): Linear(in_features=3072, out_features=768, bias=True)\n",
              "            (LayerNorm): LayerNorm((768,), eps=1e-12, elementwise_affine=True)\n",
              "            (dropout): Dropout(p=0.1, inplace=False)\n",
              "          )\n",
              "        )\n",
              "        (7): BertLayer(\n",
              "          (attention): BertAttention(\n",
              "            (self): BertSelfAttention(\n",
              "              (query): Linear(in_features=768, out_features=768, bias=True)\n",
              "              (key): Linear(in_features=768, out_features=768, bias=True)\n",
              "              (value): Linear(in_features=768, out_features=768, bias=True)\n",
              "              (dropout): Dropout(p=0.1, inplace=False)\n",
              "            )\n",
              "            (output): BertSelfOutput(\n",
              "              (dense): Linear(in_features=768, out_features=768, bias=True)\n",
              "              (LayerNorm): LayerNorm((768,), eps=1e-12, elementwise_affine=True)\n",
              "              (dropout): Dropout(p=0.1, inplace=False)\n",
              "            )\n",
              "          )\n",
              "          (intermediate): BertIntermediate(\n",
              "            (dense): Linear(in_features=768, out_features=3072, bias=True)\n",
              "          )\n",
              "          (output): BertOutput(\n",
              "            (dense): Linear(in_features=3072, out_features=768, bias=True)\n",
              "            (LayerNorm): LayerNorm((768,), eps=1e-12, elementwise_affine=True)\n",
              "            (dropout): Dropout(p=0.1, inplace=False)\n",
              "          )\n",
              "        )\n",
              "        (8): BertLayer(\n",
              "          (attention): BertAttention(\n",
              "            (self): BertSelfAttention(\n",
              "              (query): Linear(in_features=768, out_features=768, bias=True)\n",
              "              (key): Linear(in_features=768, out_features=768, bias=True)\n",
              "              (value): Linear(in_features=768, out_features=768, bias=True)\n",
              "              (dropout): Dropout(p=0.1, inplace=False)\n",
              "            )\n",
              "            (output): BertSelfOutput(\n",
              "              (dense): Linear(in_features=768, out_features=768, bias=True)\n",
              "              (LayerNorm): LayerNorm((768,), eps=1e-12, elementwise_affine=True)\n",
              "              (dropout): Dropout(p=0.1, inplace=False)\n",
              "            )\n",
              "          )\n",
              "          (intermediate): BertIntermediate(\n",
              "            (dense): Linear(in_features=768, out_features=3072, bias=True)\n",
              "          )\n",
              "          (output): BertOutput(\n",
              "            (dense): Linear(in_features=3072, out_features=768, bias=True)\n",
              "            (LayerNorm): LayerNorm((768,), eps=1e-12, elementwise_affine=True)\n",
              "            (dropout): Dropout(p=0.1, inplace=False)\n",
              "          )\n",
              "        )\n",
              "        (9): BertLayer(\n",
              "          (attention): BertAttention(\n",
              "            (self): BertSelfAttention(\n",
              "              (query): Linear(in_features=768, out_features=768, bias=True)\n",
              "              (key): Linear(in_features=768, out_features=768, bias=True)\n",
              "              (value): Linear(in_features=768, out_features=768, bias=True)\n",
              "              (dropout): Dropout(p=0.1, inplace=False)\n",
              "            )\n",
              "            (output): BertSelfOutput(\n",
              "              (dense): Linear(in_features=768, out_features=768, bias=True)\n",
              "              (LayerNorm): LayerNorm((768,), eps=1e-12, elementwise_affine=True)\n",
              "              (dropout): Dropout(p=0.1, inplace=False)\n",
              "            )\n",
              "          )\n",
              "          (intermediate): BertIntermediate(\n",
              "            (dense): Linear(in_features=768, out_features=3072, bias=True)\n",
              "          )\n",
              "          (output): BertOutput(\n",
              "            (dense): Linear(in_features=3072, out_features=768, bias=True)\n",
              "            (LayerNorm): LayerNorm((768,), eps=1e-12, elementwise_affine=True)\n",
              "            (dropout): Dropout(p=0.1, inplace=False)\n",
              "          )\n",
              "        )\n",
              "        (10): BertLayer(\n",
              "          (attention): BertAttention(\n",
              "            (self): BertSelfAttention(\n",
              "              (query): Linear(in_features=768, out_features=768, bias=True)\n",
              "              (key): Linear(in_features=768, out_features=768, bias=True)\n",
              "              (value): Linear(in_features=768, out_features=768, bias=True)\n",
              "              (dropout): Dropout(p=0.1, inplace=False)\n",
              "            )\n",
              "            (output): BertSelfOutput(\n",
              "              (dense): Linear(in_features=768, out_features=768, bias=True)\n",
              "              (LayerNorm): LayerNorm((768,), eps=1e-12, elementwise_affine=True)\n",
              "              (dropout): Dropout(p=0.1, inplace=False)\n",
              "            )\n",
              "          )\n",
              "          (intermediate): BertIntermediate(\n",
              "            (dense): Linear(in_features=768, out_features=3072, bias=True)\n",
              "          )\n",
              "          (output): BertOutput(\n",
              "            (dense): Linear(in_features=3072, out_features=768, bias=True)\n",
              "            (LayerNorm): LayerNorm((768,), eps=1e-12, elementwise_affine=True)\n",
              "            (dropout): Dropout(p=0.1, inplace=False)\n",
              "          )\n",
              "        )\n",
              "        (11): BertLayer(\n",
              "          (attention): BertAttention(\n",
              "            (self): BertSelfAttention(\n",
              "              (query): Linear(in_features=768, out_features=768, bias=True)\n",
              "              (key): Linear(in_features=768, out_features=768, bias=True)\n",
              "              (value): Linear(in_features=768, out_features=768, bias=True)\n",
              "              (dropout): Dropout(p=0.1, inplace=False)\n",
              "            )\n",
              "            (output): BertSelfOutput(\n",
              "              (dense): Linear(in_features=768, out_features=768, bias=True)\n",
              "              (LayerNorm): LayerNorm((768,), eps=1e-12, elementwise_affine=True)\n",
              "              (dropout): Dropout(p=0.1, inplace=False)\n",
              "            )\n",
              "          )\n",
              "          (intermediate): BertIntermediate(\n",
              "            (dense): Linear(in_features=768, out_features=3072, bias=True)\n",
              "          )\n",
              "          (output): BertOutput(\n",
              "            (dense): Linear(in_features=3072, out_features=768, bias=True)\n",
              "            (LayerNorm): LayerNorm((768,), eps=1e-12, elementwise_affine=True)\n",
              "            (dropout): Dropout(p=0.1, inplace=False)\n",
              "          )\n",
              "        )\n",
              "      )\n",
              "    )\n",
              "    (pooler): BertPooler(\n",
              "      (dense): Linear(in_features=768, out_features=768, bias=True)\n",
              "      (activation): Tanh()\n",
              "    )\n",
              "  )\n",
              "  (relu): ReLU()\n",
              "  (fc1): Linear(in_features=768, out_features=512, bias=True)\n",
              "  (fc2): Linear(in_features=512, out_features=3, bias=True)\n",
              "  (softmax): LogSoftmax(dim=1)\n",
              ")"
            ]
          },
          "metadata": {
            "tags": []
          },
          "execution_count": 62
        }
      ]
    },
    {
      "cell_type": "markdown",
      "metadata": {
        "id": "LjQSUqCWJTbI"
      },
      "source": [
        "## Custom Loss function"
      ]
    },
    {
      "cell_type": "code",
      "metadata": {
        "id": "iOHVl1RRJSUB"
      },
      "source": [
        "# # convert class weights to tensor\r\n",
        "# weights= torch.tensor(class_wts,dtype=torch.float)\r\n",
        "# weights = weights.to(device)\r\n",
        "\r\n",
        "# # loss function\r\n",
        "# criterion  = nn.NLLLoss(weight=weights) \r\n",
        "criterion = SelfAdjDiceLoss()"
      ],
      "execution_count": null,
      "outputs": []
    },
    {
      "cell_type": "markdown",
      "metadata": {
        "id": "evYV0yrQ2u_b"
      },
      "source": [
        "## Loading Optimizer"
      ]
    },
    {
      "cell_type": "code",
      "metadata": {
        "id": "8tAijXBEh7t8"
      },
      "source": [
        "# Note: AdamW is a class from the huggingface library (as opposed to pytorch) \r\n",
        "# I believe the 'W' stands for 'Weight Decay fix\"\r\n",
        "optimizer = AdamW(model.parameters(),\r\n",
        "                  lr = 2e-5, # This is the value Michael used.\r\n",
        "                  eps = 1e-8 # args.adam_epsilon  - default is 1e-8.\r\n",
        "                )\r\n"
      ],
      "execution_count": null,
      "outputs": []
    },
    {
      "cell_type": "markdown",
      "metadata": {
        "id": "s9n3_5jI2ywo"
      },
      "source": [
        "## Loading lr scheduler"
      ]
    },
    {
      "cell_type": "code",
      "metadata": {
        "id": "agidP6D6iBFI"
      },
      "source": [
        "# Number of training epochs. I chose to train for 1 simply because the training\r\n",
        "# time is long. More epochs may improve the model's accuracy.\r\n",
        "epochs = 4\r\n",
        "\r\n",
        "# Total number of training steps is [number of batches] x [number of epochs]. \r\n",
        "# Note that it's the number of *batches*, not *samples*!\r\n",
        "total_steps = len(py_inputs) * epochs\r\n",
        "\r\n",
        "# Create the learning rate scheduler.\r\n",
        "scheduler = get_linear_schedule_with_warmup(optimizer, \r\n",
        "                                            num_warmup_steps = 0, # Default value in run_glue.py\r\n",
        "                                            num_training_steps = total_steps)"
      ],
      "execution_count": null,
      "outputs": []
    },
    {
      "cell_type": "markdown",
      "metadata": {
        "id": "MDDp05Cm245e"
      },
      "source": [
        "## Training Loop"
      ]
    },
    {
      "cell_type": "code",
      "metadata": {
        "colab": {
          "base_uri": "https://localhost:8080/"
        },
        "id": "H4ERR8fBiEJn",
        "outputId": "9d4cd80a-4dae-4ae7-dfa0-a0ccfce11707"
      },
      "source": [
        "# We'll store a number of quantities such as training and validation loss, \r\n",
        "# validation accuracy, and timings.\r\n",
        "training_stats = {\r\n",
        "    'epoch':[],\r\n",
        "    'train_loss':[],\r\n",
        "    'Training Time':[],\r\n",
        "    'val_loss':[],\r\n",
        "    'Validation Time':[],\r\n",
        "    'train_acc':[],\r\n",
        "    'val_acc':[]\r\n",
        "}\r\n",
        "\r\n",
        "# Update every `update_interval` batches.\r\n",
        "update_interval = good_update_interval(total_iters=len(py_inputs), num_desired_updates=10)\r\n",
        "\r\n",
        "# Measure the total training time for the whole run.\r\n",
        "total_t0 = time.time()\r\n",
        "best_accuracy = 0\r\n",
        "# For each epoch...\r\n",
        "for epoch_i in range(0, epochs):\r\n",
        "\r\n",
        "    predictions = []\r\n",
        "    true_labels = []\r\n",
        "    \r\n",
        "    # ========================================\r\n",
        "    #               Training\r\n",
        "    # ========================================\r\n",
        "    \r\n",
        "    # Perform one full pass over the training set.\r\n",
        "\r\n",
        "    print(\"\")\r\n",
        "    print('======== Epoch {:} / {:} ========'.format(epoch_i + 1, epochs))\r\n",
        "    \r\n",
        "    # At the start of each epoch (except for the first) we need to re-randomize\r\n",
        "    # our training data.\r\n",
        "    if epoch_i > 0:\r\n",
        "        # Use our `make_smart_batches` function (from 6.1.) to re-shuffle the \r\n",
        "        # dataset into new batches.\r\n",
        "        (py_inputs, py_attn_masks, py_labels) = make_smart_batches(train_sentences, train_labels, batch_size,tokenizer,max_input_length)\r\n",
        "    \r\n",
        "    print('Training on {:,} batches...'.format(len(py_inputs)))\r\n",
        "\r\n",
        "    # Measure how long the training epoch takes.\r\n",
        "    t0 = time.time()\r\n",
        "\r\n",
        "    # Reset the total loss for this epoch.\r\n",
        "    total_train_loss = 0\r\n",
        "\r\n",
        "    # Put the model into training mode. Don't be mislead--the call to \r\n",
        "    # `train` just changes the *mode*, it doesn't *perform* the training.\r\n",
        "    # `dropout` and `batchnorm` layers behave differently during training\r\n",
        "    # vs. test (source: https://stackoverflow.com/questions/51433378/what-does-model-train-do-in-pytorch)\r\n",
        "    model.train()\r\n",
        "\r\n",
        "    # For each batch of training data...\r\n",
        "    for step in range(0, len(py_inputs)):\r\n",
        "\r\n",
        "        # Progress update every, e.g., 100 batches.\r\n",
        "        if step % update_interval == 0 and not step == 0:\r\n",
        "            # Calculate elapsed time in minutes.\r\n",
        "            elapsed = format_time(time.time() - t0)\r\n",
        "            \r\n",
        "            # Calculate the time remaining based on our progress.\r\n",
        "            steps_per_sec = (time.time() - t0) / step\r\n",
        "            remaining_sec = steps_per_sec * (len(py_inputs) - step)\r\n",
        "            remaining = format_time(remaining_sec)\r\n",
        "\r\n",
        "            # Report progress.\r\n",
        "            print('  Batch {:>7,}  of  {:>7,}.    Elapsed: {:}.  Remaining: {:}'.format(step, len(py_inputs), elapsed, remaining))\r\n",
        "\r\n",
        "        # Copy the current training batch to the GPU using the `to` method.\r\n",
        "        b_input_ids = py_inputs[step].to(device)\r\n",
        "        b_input_mask = py_attn_masks[step].to(device)\r\n",
        "        b_labels = py_labels[step].to(device)\r\n",
        "\r\n",
        "        # Always clear any previously calculated gradients before performing a\r\n",
        "        # backward pass.\r\n",
        "        model.zero_grad()        \r\n",
        "\r\n",
        "        # Perform a forward pass (evaluate the model on this training batch).\r\n",
        "        # The call returns the loss (because we provided labels) and the \r\n",
        "        # \"logits\"--the model outputs prior to activation.\r\n",
        "        logits = model(b_input_ids, b_input_mask)\r\n",
        "\r\n",
        "        # Accumulate the training loss over all of the batches so that we can\r\n",
        "        # calculate the average loss at the end. `loss` is a Tensor containing a\r\n",
        "        # single value; the `.item()` function just returns the Python value \r\n",
        "        # from the tensor.\r\n",
        "        loss = criterion(logits,b_labels)\r\n",
        "        # Move logits and labels to CPU\r\n",
        "        logits = logits.detach().cpu().numpy()\r\n",
        "        label_ids = b_labels.to('cpu').numpy()\r\n",
        "      \r\n",
        "        # Store predictions and true labels\r\n",
        "        predictions.append(logits)\r\n",
        "        true_labels.append(label_ids)\r\n",
        "        \r\n",
        "        # Accumulate the training loss over all of the batches so that we can\r\n",
        "        # calculate the average loss at the end. `loss` is a Tensor containing a\r\n",
        "        # single value; the `.item()` function just returns the Python value \r\n",
        "        # from the tensor.\r\n",
        "        total_train_loss += loss.item()\r\n",
        "\r\n",
        "        # Perform a backward pass to calculate the gradients.\r\n",
        "        loss.backward()\r\n",
        "\r\n",
        "        # Clip the norm of the gradients to 1.0.\r\n",
        "        # This is to help prevent the \"exploding gradients\" problem.\r\n",
        "        torch.nn.utils.clip_grad_norm_(model.parameters(), 1.0)\r\n",
        "\r\n",
        "        # Update parameters and take a step using the computed gradient.\r\n",
        "        # The optimizer dictates the \"update rule\"--how the parameters are\r\n",
        "        # modified based on their gradients, the learning rate, etc.\r\n",
        "        optimizer.step()\r\n",
        "\r\n",
        "        # Update the learning rate.\r\n",
        "        scheduler.step()\r\n",
        "\r\n",
        "    # Calculate the average loss over all of the batches.\r\n",
        "    avg_train_loss = total_train_loss / len(py_inputs)     \r\n",
        "       \r\n",
        "    training_accuracy = check_accuracy(predictions,true_labels)       \r\n",
        "    \r\n",
        "    # Measure how long this epoch took.\r\n",
        "    training_time = format_time(time.time() - t0)\r\n",
        "\r\n",
        "    print(\"\")\r\n",
        "    print(\"  Average training loss: {0:.2f}\".format(avg_train_loss))\r\n",
        "    print(\"  Training Accuracy: {0:.2f}\".format(training_accuracy))\r\n",
        "    print(\"  Training epoch took: {:}\".format(training_time))\r\n",
        "        \r\n",
        "    (py_inputs, py_attn_masks, py_labels) = make_smart_batches(val_sentences, val_labels, batch_size ,tokenizer,max_input_length)\r\n",
        "    val_loss,val_accuracy,validation_time = eval_model(model,py_inputs, py_attn_masks, py_labels,criterion)\r\n",
        "\r\n",
        "    if val_accuracy > best_accuracy:\r\n",
        "        torch.save(model.state_dict(), 'best_model_state.bin')\r\n",
        "        best_accuracy = val_accuracy\r\n",
        "\r\n",
        "\r\n",
        "    # Record all statistics from this epoch.\r\n",
        "\r\n",
        "    print(\"\")\r\n",
        "    print(\"  Average validation loss: {0:.2f}\".format(val_loss))\r\n",
        "    print(\"  Validation Accuracy: {0:.2f}\".format(val_accuracy))\r\n",
        "    print(\"  Validation epoch took: {:}\".format(validation_time))\r\n",
        "    \r\n",
        "    \r\n",
        "    training_stats['epoch'].append(epoch_i + 1)\r\n",
        "    training_stats['train_loss'].append(avg_train_loss)\r\n",
        "    training_stats['Training Time'].append(training_time)\r\n",
        "    training_stats['val_loss'].append(val_loss)\r\n",
        "    training_stats['Validation Time'].append(validation_time)\r\n",
        "    training_stats['train_acc'].append(training_accuracy)\r\n",
        "    training_stats['val_acc'].append(val_accuracy)\r\n",
        "\r\n",
        "print(f'Best val accuracy: {best_accuracy}')\r\n",
        "  \r\n",
        "model.load_state_dict(torch.load('best_model_state.bin'))\r\n",
        "\r\n",
        "print(\"\")\r\n",
        "print(\"Training complete!\")\r\n",
        "\r\n",
        "print(\"Total training took {:} (h:mm:ss)\".format(format_time(time.time()-total_t0)))"
      ],
      "execution_count": null,
      "outputs": [
        {
          "output_type": "stream",
          "text": [
            "\n",
            "======== Epoch 1 / 4 ========\n",
            "Training on 536 batches...\n",
            "  Batch      50  of      536.    Elapsed: 0:00:02.  Remaining: 0:00:19\n",
            "  Batch     100  of      536.    Elapsed: 0:00:04.  Remaining: 0:00:17\n",
            "  Batch     150  of      536.    Elapsed: 0:00:06.  Remaining: 0:00:16\n",
            "  Batch     200  of      536.    Elapsed: 0:00:08.  Remaining: 0:00:14\n",
            "  Batch     250  of      536.    Elapsed: 0:00:11.  Remaining: 0:00:12\n",
            "  Batch     300  of      536.    Elapsed: 0:00:13.  Remaining: 0:00:10\n",
            "  Batch     350  of      536.    Elapsed: 0:00:15.  Remaining: 0:00:08\n",
            "  Batch     400  of      536.    Elapsed: 0:00:17.  Remaining: 0:00:06\n",
            "  Batch     450  of      536.    Elapsed: 0:00:19.  Remaining: 0:00:04\n",
            "  Batch     500  of      536.    Elapsed: 0:00:21.  Remaining: 0:00:02\n",
            "\n",
            "  Average training loss: 0.34\n",
            "  Training Accuracy: 0.71\n",
            "  Training epoch took: 0:00:23\n",
            "Creating Smart Batches from 1,070 examples with batch size 16...\n",
            "\n",
            "Tokenizing 1,070 samples...\n",
            "  Tokenized 0 samples.\n",
            "  Tokenized 100 samples.\n",
            "  Tokenized 200 samples.\n",
            "  Tokenized 300 samples.\n",
            "  Tokenized 400 samples.\n",
            "  Tokenized 500 samples.\n",
            "  Tokenized 600 samples.\n",
            "  Tokenized 700 samples.\n",
            "  Tokenized 800 samples.\n",
            "  Tokenized 900 samples.\n",
            "  Tokenized 1,000 samples.\n",
            "DONE.\n",
            "     1,070 samples\n",
            "\n",
            "     1,070 samples after sorting\n",
            "\n",
            "Creating batches of size 16...\n",
            "\n",
            "  DONE - Selected 67 batches.\n",
            "\n",
            "Padding out sequences within each batch...\n",
            "  DONE.\n",
            "Doing validation on 67 sentences...\n",
            "  Batch       7  of       67.    Elapsed: 0:00:00.  Remaining: 0:00:04\n",
            "  Batch      14  of       67.    Elapsed: 0:00:01.  Remaining: 0:00:03\n",
            "  Batch      21  of       67.    Elapsed: 0:00:01.  Remaining: 0:00:02\n",
            "  Batch      28  of       67.    Elapsed: 0:00:01.  Remaining: 0:00:02\n",
            "  Batch      35  of       67.    Elapsed: 0:00:02.  Remaining: 0:00:01\n",
            "  Batch      42  of       67.    Elapsed: 0:00:02.  Remaining: 0:00:01\n",
            "  Batch      49  of       67.    Elapsed: 0:00:02.  Remaining: 0:00:01\n",
            "  Batch      56  of       67.    Elapsed: 0:00:02.  Remaining: 0:00:00\n",
            "  Batch      63  of       67.    Elapsed: 0:00:03.  Remaining: 0:00:00\n",
            "\n",
            "  Average validation loss: 0.34\n",
            "  Validation Accuracy: 0.73\n",
            "  Validation epoch took: 0:00:03\n",
            "\n",
            "======== Epoch 2 / 4 ========\n",
            "Creating Smart Batches from 8,564 examples with batch size 16...\n",
            "\n",
            "Tokenizing 8,564 samples...\n",
            "  Tokenized 0 samples.\n",
            "  Tokenized 900 samples.\n",
            "  Tokenized 1,800 samples.\n",
            "  Tokenized 2,700 samples.\n",
            "  Tokenized 3,600 samples.\n",
            "  Tokenized 4,500 samples.\n",
            "  Tokenized 5,400 samples.\n",
            "  Tokenized 6,300 samples.\n",
            "  Tokenized 7,200 samples.\n",
            "  Tokenized 8,100 samples.\n",
            "DONE.\n",
            "     8,564 samples\n",
            "\n",
            "     8,564 samples after sorting\n",
            "\n",
            "Creating batches of size 16...\n",
            "\n",
            "  DONE - Selected 536 batches.\n",
            "\n",
            "Padding out sequences within each batch...\n",
            "  DONE.\n",
            "Training on 536 batches...\n",
            "  Batch      50  of      536.    Elapsed: 0:00:02.  Remaining: 0:00:22\n",
            "  Batch     100  of      536.    Elapsed: 0:00:05.  Remaining: 0:00:20\n",
            "  Batch     150  of      536.    Elapsed: 0:00:07.  Remaining: 0:00:17\n",
            "  Batch     200  of      536.    Elapsed: 0:00:09.  Remaining: 0:00:15\n",
            "  Batch     250  of      536.    Elapsed: 0:00:11.  Remaining: 0:00:13\n",
            "  Batch     300  of      536.    Elapsed: 0:00:13.  Remaining: 0:00:10\n",
            "  Batch     350  of      536.    Elapsed: 0:00:15.  Remaining: 0:00:08\n",
            "  Batch     400  of      536.    Elapsed: 0:00:17.  Remaining: 0:00:06\n",
            "  Batch     450  of      536.    Elapsed: 0:00:19.  Remaining: 0:00:04\n",
            "  Batch     500  of      536.    Elapsed: 0:00:22.  Remaining: 0:00:02\n",
            "\n",
            "  Average training loss: 0.34\n",
            "  Training Accuracy: 0.73\n",
            "  Training epoch took: 0:00:24\n",
            "Creating Smart Batches from 1,070 examples with batch size 16...\n",
            "\n",
            "Tokenizing 1,070 samples...\n",
            "  Tokenized 0 samples.\n",
            "  Tokenized 100 samples.\n",
            "  Tokenized 200 samples.\n",
            "  Tokenized 300 samples.\n",
            "  Tokenized 400 samples.\n",
            "  Tokenized 500 samples.\n",
            "  Tokenized 600 samples.\n",
            "  Tokenized 700 samples.\n",
            "  Tokenized 800 samples.\n",
            "  Tokenized 900 samples.\n",
            "  Tokenized 1,000 samples.\n",
            "DONE.\n",
            "     1,070 samples\n",
            "\n",
            "     1,070 samples after sorting\n",
            "\n",
            "Creating batches of size 16...\n",
            "\n",
            "  DONE - Selected 67 batches.\n",
            "\n",
            "Padding out sequences within each batch...\n",
            "  DONE.\n",
            "Doing validation on 67 sentences...\n",
            "  Batch       7  of       67.    Elapsed: 0:00:00.  Remaining: 0:00:02\n",
            "  Batch      14  of       67.    Elapsed: 0:00:01.  Remaining: 0:00:02\n",
            "  Batch      21  of       67.    Elapsed: 0:00:01.  Remaining: 0:00:02\n",
            "  Batch      28  of       67.    Elapsed: 0:00:01.  Remaining: 0:00:02\n",
            "  Batch      35  of       67.    Elapsed: 0:00:02.  Remaining: 0:00:01\n",
            "  Batch      42  of       67.    Elapsed: 0:00:02.  Remaining: 0:00:01\n",
            "  Batch      49  of       67.    Elapsed: 0:00:02.  Remaining: 0:00:01\n",
            "  Batch      56  of       67.    Elapsed: 0:00:02.  Remaining: 0:00:00\n",
            "  Batch      63  of       67.    Elapsed: 0:00:03.  Remaining: 0:00:00\n",
            "\n",
            "  Average validation loss: 0.34\n",
            "  Validation Accuracy: 0.74\n",
            "  Validation epoch took: 0:00:03\n",
            "\n",
            "======== Epoch 3 / 4 ========\n",
            "Creating Smart Batches from 8,564 examples with batch size 16...\n",
            "\n",
            "Tokenizing 8,564 samples...\n",
            "  Tokenized 0 samples.\n",
            "  Tokenized 900 samples.\n",
            "  Tokenized 1,800 samples.\n",
            "  Tokenized 2,700 samples.\n",
            "  Tokenized 3,600 samples.\n",
            "  Tokenized 4,500 samples.\n",
            "  Tokenized 5,400 samples.\n",
            "  Tokenized 6,300 samples.\n",
            "  Tokenized 7,200 samples.\n",
            "  Tokenized 8,100 samples.\n",
            "DONE.\n",
            "     8,564 samples\n",
            "\n",
            "     8,564 samples after sorting\n",
            "\n",
            "Creating batches of size 16...\n",
            "\n",
            "  DONE - Selected 536 batches.\n",
            "\n",
            "Padding out sequences within each batch...\n",
            "  DONE.\n",
            "Training on 536 batches...\n",
            "  Batch      50  of      536.    Elapsed: 0:00:02.  Remaining: 0:00:18\n",
            "  Batch     100  of      536.    Elapsed: 0:00:04.  Remaining: 0:00:19\n",
            "  Batch     150  of      536.    Elapsed: 0:00:07.  Remaining: 0:00:17\n",
            "  Batch     200  of      536.    Elapsed: 0:00:09.  Remaining: 0:00:15\n",
            "  Batch     250  of      536.    Elapsed: 0:00:11.  Remaining: 0:00:13\n",
            "  Batch     300  of      536.    Elapsed: 0:00:14.  Remaining: 0:00:11\n",
            "  Batch     350  of      536.    Elapsed: 0:00:15.  Remaining: 0:00:08\n",
            "  Batch     400  of      536.    Elapsed: 0:00:18.  Remaining: 0:00:06\n",
            "  Batch     450  of      536.    Elapsed: 0:00:20.  Remaining: 0:00:04\n",
            "  Batch     500  of      536.    Elapsed: 0:00:23.  Remaining: 0:00:02\n",
            "\n",
            "  Average training loss: 0.34\n",
            "  Training Accuracy: 0.73\n",
            "  Training epoch took: 0:00:25\n",
            "Creating Smart Batches from 1,070 examples with batch size 16...\n",
            "\n",
            "Tokenizing 1,070 samples...\n",
            "  Tokenized 0 samples.\n",
            "  Tokenized 100 samples.\n",
            "  Tokenized 200 samples.\n",
            "  Tokenized 300 samples.\n",
            "  Tokenized 400 samples.\n",
            "  Tokenized 500 samples.\n",
            "  Tokenized 600 samples.\n",
            "  Tokenized 700 samples.\n",
            "  Tokenized 800 samples.\n",
            "  Tokenized 900 samples.\n",
            "  Tokenized 1,000 samples.\n",
            "DONE.\n",
            "     1,070 samples\n",
            "\n",
            "     1,070 samples after sorting\n",
            "\n",
            "Creating batches of size 16...\n",
            "\n",
            "  DONE - Selected 67 batches.\n",
            "\n",
            "Padding out sequences within each batch...\n",
            "  DONE.\n",
            "Doing validation on 67 sentences...\n",
            "  Batch       7  of       67.    Elapsed: 0:00:00.  Remaining: 0:00:03\n",
            "  Batch      14  of       67.    Elapsed: 0:00:01.  Remaining: 0:00:03\n",
            "  Batch      21  of       67.    Elapsed: 0:00:01.  Remaining: 0:00:02\n",
            "  Batch      28  of       67.    Elapsed: 0:00:01.  Remaining: 0:00:02\n",
            "  Batch      35  of       67.    Elapsed: 0:00:01.  Remaining: 0:00:01\n",
            "  Batch      42  of       67.    Elapsed: 0:00:02.  Remaining: 0:00:01\n",
            "  Batch      49  of       67.    Elapsed: 0:00:02.  Remaining: 0:00:01\n",
            "  Batch      56  of       67.    Elapsed: 0:00:02.  Remaining: 0:00:00\n",
            "  Batch      63  of       67.    Elapsed: 0:00:03.  Remaining: 0:00:00\n",
            "\n",
            "  Average validation loss: 0.34\n",
            "  Validation Accuracy: 0.74\n",
            "  Validation epoch took: 0:00:03\n",
            "\n",
            "======== Epoch 4 / 4 ========\n",
            "Creating Smart Batches from 8,564 examples with batch size 16...\n",
            "\n",
            "Tokenizing 8,564 samples...\n",
            "  Tokenized 0 samples.\n",
            "  Tokenized 900 samples.\n",
            "  Tokenized 1,800 samples.\n",
            "  Tokenized 2,700 samples.\n",
            "  Tokenized 3,600 samples.\n",
            "  Tokenized 4,500 samples.\n",
            "  Tokenized 5,400 samples.\n",
            "  Tokenized 6,300 samples.\n",
            "  Tokenized 7,200 samples.\n",
            "  Tokenized 8,100 samples.\n",
            "DONE.\n",
            "     8,564 samples\n",
            "\n",
            "     8,564 samples after sorting\n",
            "\n",
            "Creating batches of size 16...\n",
            "\n",
            "  DONE - Selected 536 batches.\n",
            "\n",
            "Padding out sequences within each batch...\n",
            "  DONE.\n",
            "Training on 536 batches...\n",
            "  Batch      50  of      536.    Elapsed: 0:00:02.  Remaining: 0:00:24\n",
            "  Batch     100  of      536.    Elapsed: 0:00:05.  Remaining: 0:00:22\n",
            "  Batch     150  of      536.    Elapsed: 0:00:07.  Remaining: 0:00:19\n",
            "  Batch     200  of      536.    Elapsed: 0:00:09.  Remaining: 0:00:15\n",
            "  Batch     250  of      536.    Elapsed: 0:00:12.  Remaining: 0:00:14\n",
            "  Batch     300  of      536.    Elapsed: 0:00:14.  Remaining: 0:00:11\n",
            "  Batch     350  of      536.    Elapsed: 0:00:16.  Remaining: 0:00:09\n",
            "  Batch     400  of      536.    Elapsed: 0:00:19.  Remaining: 0:00:06\n",
            "  Batch     450  of      536.    Elapsed: 0:00:21.  Remaining: 0:00:04\n",
            "  Batch     500  of      536.    Elapsed: 0:00:24.  Remaining: 0:00:02\n",
            "\n",
            "  Average training loss: 0.34\n",
            "  Training Accuracy: 0.74\n",
            "  Training epoch took: 0:00:25\n",
            "Creating Smart Batches from 1,070 examples with batch size 16...\n",
            "\n",
            "Tokenizing 1,070 samples...\n",
            "  Tokenized 0 samples.\n",
            "  Tokenized 100 samples.\n",
            "  Tokenized 200 samples.\n",
            "  Tokenized 300 samples.\n",
            "  Tokenized 400 samples.\n",
            "  Tokenized 500 samples.\n",
            "  Tokenized 600 samples.\n",
            "  Tokenized 700 samples.\n",
            "  Tokenized 800 samples.\n",
            "  Tokenized 900 samples.\n",
            "  Tokenized 1,000 samples.\n",
            "DONE.\n",
            "     1,070 samples\n",
            "\n",
            "     1,070 samples after sorting\n",
            "\n",
            "Creating batches of size 16...\n",
            "\n",
            "  DONE - Selected 67 batches.\n",
            "\n",
            "Padding out sequences within each batch...\n",
            "  DONE.\n",
            "Doing validation on 67 sentences...\n",
            "  Batch       7  of       67.    Elapsed: 0:00:00.  Remaining: 0:00:01\n",
            "  Batch      14  of       67.    Elapsed: 0:00:00.  Remaining: 0:00:02\n",
            "  Batch      21  of       67.    Elapsed: 0:00:01.  Remaining: 0:00:02\n",
            "  Batch      28  of       67.    Elapsed: 0:00:01.  Remaining: 0:00:01\n",
            "  Batch      35  of       67.    Elapsed: 0:00:01.  Remaining: 0:00:01\n",
            "  Batch      42  of       67.    Elapsed: 0:00:02.  Remaining: 0:00:01\n",
            "  Batch      49  of       67.    Elapsed: 0:00:02.  Remaining: 0:00:01\n",
            "  Batch      56  of       67.    Elapsed: 0:00:02.  Remaining: 0:00:00\n",
            "  Batch      63  of       67.    Elapsed: 0:00:03.  Remaining: 0:00:00\n",
            "\n",
            "  Average validation loss: 0.34\n",
            "  Validation Accuracy: 0.75\n",
            "  Validation epoch took: 0:00:04\n",
            "Best val accuracy: 0.7457943925233644\n",
            "\n",
            "Training complete!\n",
            "Total training took 0:02:07 (h:mm:ss)\n"
          ],
          "name": "stdout"
        }
      ]
    },
    {
      "cell_type": "code",
      "metadata": {
        "colab": {
          "base_uri": "https://localhost:8080/",
          "height": 450
        },
        "id": "GOmua_S1eXNM",
        "outputId": "44ab2a20-242b-4bf0-de97-88292f87dbb0"
      },
      "source": [
        "plot_training_history(training_stats)"
      ],
      "execution_count": null,
      "outputs": [
        {
          "output_type": "display_data",
          "data": {
            "image/png": "[encoded data removed]",
            "text/plain": [
              "<Figure size 1296x432 with 2 Axes>"
            ]
          },
          "metadata": {
            "tags": []
          }
        }
      ]
    },
    {
      "cell_type": "markdown",
      "metadata": {
        "id": "3c-6bOIxVyrM"
      },
      "source": [
        "## Evaluating Performance Over Training Set"
      ]
    },
    {
      "cell_type": "code",
      "metadata": {
        "colab": {
          "base_uri": "https://localhost:8080/"
        },
        "id": "2QmKPNAeWHkZ",
        "outputId": "66bf23d3-a1a5-4c97-af18-6b17ca896b3b"
      },
      "source": [
        "(py_inputs, py_attn_masks, py_labels) = make_smart_batches(train_sentences, train_labels, batch_size ,tokenizer,max_input_length)\r\n",
        "\r\n",
        "y_pred , y_true = get_predictions(py_inputs, py_attn_masks, py_labels)\r\n"
      ],
      "execution_count": null,
      "outputs": [
        {
          "output_type": "stream",
          "text": [
            "Creating Smart Batches from 8,564 examples with batch size 16...\n",
            "\n",
            "Tokenizing 8,564 samples...\n",
            "  Tokenized 0 samples.\n",
            "  Tokenized 900 samples.\n",
            "  Tokenized 1,800 samples.\n",
            "  Tokenized 2,700 samples.\n",
            "  Tokenized 3,600 samples.\n",
            "  Tokenized 4,500 samples.\n",
            "  Tokenized 5,400 samples.\n",
            "  Tokenized 6,300 samples.\n",
            "  Tokenized 7,200 samples.\n",
            "  Tokenized 8,100 samples.\n",
            "DONE.\n",
            "     8,564 samples\n",
            "\n",
            "     8,564 samples after sorting\n",
            "\n",
            "Creating batches of size 16...\n",
            "\n",
            "  DONE - Selected 536 batches.\n",
            "\n",
            "Padding out sequences within each batch...\n",
            "  DONE.\n",
            "Predicting labels for 536 test batches...\n",
            "  Batch      50  of      536.    Elapsed: 0:00:02.  Remaining: 0:00:23\n",
            "  Batch     100  of      536.    Elapsed: 0:00:04.  Remaining: 0:00:19\n",
            "  Batch     150  of      536.    Elapsed: 0:00:07.  Remaining: 0:00:17\n",
            "  Batch     200  of      536.    Elapsed: 0:00:09.  Remaining: 0:00:15\n",
            "  Batch     250  of      536.    Elapsed: 0:00:11.  Remaining: 0:00:13\n",
            "  Batch     300  of      536.    Elapsed: 0:00:14.  Remaining: 0:00:11\n",
            "  Batch     350  of      536.    Elapsed: 0:00:16.  Remaining: 0:00:08\n",
            "  Batch     400  of      536.    Elapsed: 0:00:18.  Remaining: 0:00:06\n",
            "  Batch     450  of      536.    Elapsed: 0:00:20.  Remaining: 0:00:04\n",
            "  Batch     500  of      536.    Elapsed: 0:00:22.  Remaining: 0:00:02\n"
          ],
          "name": "stdout"
        }
      ]
    },
    {
      "cell_type": "code",
      "metadata": {
        "colab": {
          "base_uri": "https://localhost:8080/"
        },
        "id": "uXsVn0wngZhv",
        "outputId": "c03a7cbc-5969-49b2-9dae-a15c2f78391e"
      },
      "source": [
        "print(classification_report(y_true, y_pred, target_names=class_names))"
      ],
      "execution_count": null,
      "outputs": [
        {
          "output_type": "stream",
          "text": [
            "                 precision    recall  f1-score   support\n",
            "\n",
            "    Hope_speech       0.60      0.00      0.01      1668\n",
            "Non_hope_speech       0.74      1.00      0.85      6205\n",
            "  not-malayalam       0.93      0.20      0.33       691\n",
            "\n",
            "       accuracy                           0.74      8564\n",
            "      macro avg       0.76      0.40      0.39      8564\n",
            "   weighted avg       0.73      0.74      0.64      8564\n",
            "\n"
          ],
          "name": "stdout"
        }
      ]
    },
    {
      "cell_type": "code",
      "metadata": {
        "colab": {
          "base_uri": "https://localhost:8080/",
          "height": 479
        },
        "id": "guClUdRhYPql",
        "outputId": "01d3bca0-af37-448a-eae1-30f2807dc7a9"
      },
      "source": [
        "cm = confusion_matrix(y_true, y_pred)\r\n",
        "show_confusion_matrix(cm, class_names)"
      ],
      "execution_count": null,
      "outputs": [
        {
          "output_type": "display_data",
          "data": {
            "image/png": "[encoded data removed]",
            "text/plain": [
              "<Figure size 864x432 with 2 Axes>"
            ]
          },
          "metadata": {
            "tags": []
          }
        }
      ]
    },
    {
      "cell_type": "markdown",
      "metadata": {
        "id": "VM2N-X1tV3il"
      },
      "source": [
        "## Evaluating Performance Over Validation Set"
      ]
    },
    {
      "cell_type": "code",
      "metadata": {
        "colab": {
          "base_uri": "https://localhost:8080/"
        },
        "id": "BnadNvtxWIYw",
        "outputId": "44459630-0d3c-4b1b-bb10-645d8114b023"
      },
      "source": [
        "(py_inputs, py_attn_masks, py_labels) = make_smart_batches(val_sentences, val_labels, batch_size ,tokenizer,max_input_length)\r\n",
        "\r\n",
        "y_pred , y_true = get_predictions(py_inputs, py_attn_masks, py_labels)"
      ],
      "execution_count": null,
      "outputs": [
        {
          "output_type": "stream",
          "text": [
            "Creating Smart Batches from 1,070 examples with batch size 16...\n",
            "\n",
            "Tokenizing 1,070 samples...\n",
            "  Tokenized 0 samples.\n",
            "  Tokenized 100 samples.\n",
            "  Tokenized 200 samples.\n",
            "  Tokenized 300 samples.\n",
            "  Tokenized 400 samples.\n",
            "  Tokenized 500 samples.\n",
            "  Tokenized 600 samples.\n",
            "  Tokenized 700 samples.\n",
            "  Tokenized 800 samples.\n",
            "  Tokenized 900 samples.\n",
            "  Tokenized 1,000 samples.\n",
            "DONE.\n",
            "     1,070 samples\n",
            "\n",
            "     1,070 samples after sorting\n",
            "\n",
            "Creating batches of size 16...\n",
            "\n",
            "  DONE - Selected 67 batches.\n",
            "\n",
            "Padding out sequences within each batch...\n",
            "  DONE.\n",
            "Predicting labels for 67 test batches...\n",
            "  Batch       7  of       67.    Elapsed: 0:00:00.  Remaining: 0:00:02\n",
            "  Batch      14  of       67.    Elapsed: 0:00:01.  Remaining: 0:00:03\n",
            "  Batch      21  of       67.    Elapsed: 0:00:01.  Remaining: 0:00:02\n",
            "  Batch      28  of       67.    Elapsed: 0:00:01.  Remaining: 0:00:02\n",
            "  Batch      35  of       67.    Elapsed: 0:00:02.  Remaining: 0:00:01\n",
            "  Batch      42  of       67.    Elapsed: 0:00:02.  Remaining: 0:00:01\n",
            "  Batch      49  of       67.    Elapsed: 0:00:02.  Remaining: 0:00:01\n",
            "  Batch      56  of       67.    Elapsed: 0:00:02.  Remaining: 0:00:00\n",
            "  Batch      63  of       67.    Elapsed: 0:00:03.  Remaining: 0:00:00\n"
          ],
          "name": "stdout"
        }
      ]
    },
    {
      "cell_type": "code",
      "metadata": {
        "colab": {
          "base_uri": "https://localhost:8080/"
        },
        "id": "wAjlATBPgh7c",
        "outputId": "444cfb77-0c5c-4684-8bea-ed1fc287fed9"
      },
      "source": [
        "print(classification_report(y_true, y_pred, target_names=class_names))"
      ],
      "execution_count": null,
      "outputs": [
        {
          "output_type": "stream",
          "text": [
            "                 precision    recall  f1-score   support\n",
            "\n",
            "    Hope_speech       1.00      0.01      0.01       190\n",
            "Non_hope_speech       0.74      1.00      0.85       784\n",
            "  not-malayalam       0.88      0.15      0.25        96\n",
            "\n",
            "       accuracy                           0.75      1070\n",
            "      macro avg       0.87      0.38      0.37      1070\n",
            "   weighted avg       0.80      0.75      0.65      1070\n",
            "\n"
          ],
          "name": "stdout"
        }
      ]
    },
    {
      "cell_type": "code",
      "metadata": {
        "colab": {
          "base_uri": "https://localhost:8080/",
          "height": 479
        },
        "id": "7nELY57NYshD",
        "outputId": "05d76636-8a2e-4f01-9114-d8785d9552d8"
      },
      "source": [
        "cm = confusion_matrix(y_true, y_pred)\r\n",
        "show_confusion_matrix(cm, class_names)"
      ],
      "execution_count": null,
      "outputs": [
        {
          "output_type": "display_data",
          "data": {
            "image/png": "[encoded data removed]",
            "text/plain": [
              "<Figure size 864x432 with 2 Axes>"
            ]
          },
          "metadata": {
            "tags": []
          }
        }
      ]
    },
    {
      "cell_type": "markdown",
      "metadata": {
        "id": "j_Ev8kTSNT6L"
      },
      "source": [
        "## Evaluating Performance Over Test Set"
      ]
    },
    {
      "cell_type": "code",
      "metadata": {
        "colab": {
          "base_uri": "https://localhost:8080/"
        },
        "id": "knzcVqvONT6N",
        "outputId": "06db5514-69d8-4e43-f685-7c1cda2b951f"
      },
      "source": [
        "(py_inputs, py_attn_masks, py_labels) = make_smart_batches(test_sentences, test_labels, batch_size ,tokenizer,max_input_length)\r\n",
        "\r\n",
        "y_pred , y_true = get_predictions(py_inputs, py_attn_masks, py_labels)"
      ],
      "execution_count": null,
      "outputs": [
        {
          "output_type": "stream",
          "text": [
            "Creating Smart Batches from 1,071 examples with batch size 16...\n",
            "\n",
            "Tokenizing 1,071 samples...\n",
            "  Tokenized 0 samples.\n",
            "  Tokenized 100 samples.\n",
            "  Tokenized 200 samples.\n",
            "  Tokenized 300 samples.\n",
            "  Tokenized 400 samples.\n",
            "  Tokenized 500 samples.\n",
            "  Tokenized 600 samples.\n",
            "  Tokenized 700 samples.\n",
            "  Tokenized 800 samples.\n",
            "  Tokenized 900 samples.\n",
            "  Tokenized 1,000 samples.\n",
            "DONE.\n",
            "     1,071 samples\n",
            "\n",
            "     1,071 samples after sorting\n",
            "\n",
            "Creating batches of size 16...\n",
            "\n",
            "  DONE - Selected 67 batches.\n",
            "\n",
            "Padding out sequences within each batch...\n",
            "  DONE.\n",
            "Predicting labels for 67 test batches...\n",
            "  Batch       7  of       67.    Elapsed: 0:00:00.  Remaining: 0:00:01\n",
            "  Batch      14  of       67.    Elapsed: 0:00:00.  Remaining: 0:00:02\n",
            "  Batch      21  of       67.    Elapsed: 0:00:01.  Remaining: 0:00:01\n",
            "  Batch      28  of       67.    Elapsed: 0:00:01.  Remaining: 0:00:01\n",
            "  Batch      35  of       67.    Elapsed: 0:00:01.  Remaining: 0:00:01\n",
            "  Batch      42  of       67.    Elapsed: 0:00:02.  Remaining: 0:00:01\n",
            "  Batch      49  of       67.    Elapsed: 0:00:02.  Remaining: 0:00:01\n",
            "  Batch      56  of       67.    Elapsed: 0:00:03.  Remaining: 0:00:01\n",
            "  Batch      63  of       67.    Elapsed: 0:00:03.  Remaining: 0:00:00\n"
          ],
          "name": "stdout"
        }
      ]
    },
    {
      "cell_type": "code",
      "metadata": {
        "colab": {
          "base_uri": "https://localhost:8080/"
        },
        "id": "l6EJfj0TNT6R",
        "outputId": "2e7d8f0d-756b-41d8-b675-a29b5b24010b"
      },
      "source": [
        "print(classification_report(y_true, y_pred, target_names=class_names))"
      ],
      "execution_count": null,
      "outputs": [
        {
          "output_type": "stream",
          "text": [
            "                 precision    recall  f1-score   support\n",
            "\n",
            "    Hope_speech       0.00      0.00      0.00       194\n",
            "Non_hope_speech       0.74      0.99      0.85       776\n",
            "  not-malayalam       0.89      0.17      0.28       101\n",
            "\n",
            "       accuracy                           0.74      1071\n",
            "      macro avg       0.54      0.39      0.38      1071\n",
            "   weighted avg       0.62      0.74      0.64      1071\n",
            "\n"
          ],
          "name": "stdout"
        }
      ]
    },
    {
      "cell_type": "code",
      "metadata": {
        "colab": {
          "base_uri": "https://localhost:8080/",
          "height": 486
        },
        "id": "ZE3EG9RTNT6S",
        "outputId": "f398fb63-b6a9-41b2-914c-469cf1794ecb"
      },
      "source": [
        "cm = confusion_matrix(y_true, y_pred)\r\n",
        "show_confusion_matrix(cm, class_names)"
      ],
      "execution_count": null,
      "outputs": [
        {
          "output_type": "display_data",
          "data": {
            "image/png": "[encoded data removed]",
            "text/plain": [
              "<Figure size 864x432 with 2 Axes>"
            ]
          },
          "metadata": {
            "tags": []
          }
        }
      ]
    },
    {
      "cell_type": "markdown",
      "metadata": {
        "id": "2fOJyH_c3ON2"
      },
      "source": [
        "## Saving the model"
      ]
    },
    {
      "cell_type": "code",
      "metadata": {
        "id": "3PXqG-VpurVS"
      },
      "source": [
        "torch.save(model,\"./drive/MyDrive/Codalab/HopeSpeech Detection For Equality,DiversityAnd Inclusion/Models/BERT_Mutlti_Malayalam\")"
      ],
      "execution_count": null,
      "outputs": []
    },
    {
      "cell_type": "markdown",
      "metadata": {
        "id": "a9M_91z1yj0F"
      },
      "source": [
        "## Loading the model"
      ]
    },
    {
      "cell_type": "code",
      "metadata": {
        "id": "42ObCUU1QcsJ"
      },
      "source": [
        "model = torch.load(\r\n",
        "    './drive/MyDrive/HopeSpeech Detection For Equality,DiversityAnd Inclusion/Models/BERTForSequenceClassification_Mutlti_Malayalam_v2',\r\n",
        "    map_location=device\r\n",
        "    )"
      ],
      "execution_count": null,
      "outputs": []
    },
    {
      "cell_type": "code",
      "metadata": {
        "colab": {
          "base_uri": "https://localhost:8080/"
        },
        "id": "sAaHpZdIzsnT",
        "outputId": "dbea6eee-1e96-4254-d082-a6a842d8fe89"
      },
      "source": [
        "model.cuda()"
      ],
      "execution_count": null,
      "outputs": [
        {
          "output_type": "execute_result",
          "data": {
            "text/plain": [
              "BertForSequenceClassification(\n",
              "  (bert): BertModel(\n",
              "    (embeddings): BertEmbeddings(\n",
              "      (word_embeddings): Embedding(105879, 768, padding_idx=0)\n",
              "      (position_embeddings): Embedding(512, 768)\n",
              "      (token_type_embeddings): Embedding(2, 768)\n",
              "      (LayerNorm): LayerNorm((768,), eps=1e-12, elementwise_affine=True)\n",
              "      (dropout): Dropout(p=0.1, inplace=False)\n",
              "    )\n",
              "    (encoder): BertEncoder(\n",
              "      (layer): ModuleList(\n",
              "        (0): BertLayer(\n",
              "          (attention): BertAttention(\n",
              "            (self): BertSelfAttention(\n",
              "              (query): Linear(in_features=768, out_features=768, bias=True)\n",
              "              (key): Linear(in_features=768, out_features=768, bias=True)\n",
              "              (value): Linear(in_features=768, out_features=768, bias=True)\n",
              "              (dropout): Dropout(p=0.1, inplace=False)\n",
              "            )\n",
              "            (output): BertSelfOutput(\n",
              "              (dense): Linear(in_features=768, out_features=768, bias=True)\n",
              "              (LayerNorm): LayerNorm((768,), eps=1e-12, elementwise_affine=True)\n",
              "              (dropout): Dropout(p=0.1, inplace=False)\n",
              "            )\n",
              "          )\n",
              "          (intermediate): BertIntermediate(\n",
              "            (dense): Linear(in_features=768, out_features=3072, bias=True)\n",
              "          )\n",
              "          (output): BertOutput(\n",
              "            (dense): Linear(in_features=3072, out_features=768, bias=True)\n",
              "            (LayerNorm): LayerNorm((768,), eps=1e-12, elementwise_affine=True)\n",
              "            (dropout): Dropout(p=0.1, inplace=False)\n",
              "          )\n",
              "        )\n",
              "        (1): BertLayer(\n",
              "          (attention): BertAttention(\n",
              "            (self): BertSelfAttention(\n",
              "              (query): Linear(in_features=768, out_features=768, bias=True)\n",
              "              (key): Linear(in_features=768, out_features=768, bias=True)\n",
              "              (value): Linear(in_features=768, out_features=768, bias=True)\n",
              "              (dropout): Dropout(p=0.1, inplace=False)\n",
              "            )\n",
              "            (output): BertSelfOutput(\n",
              "              (dense): Linear(in_features=768, out_features=768, bias=True)\n",
              "              (LayerNorm): LayerNorm((768,), eps=1e-12, elementwise_affine=True)\n",
              "              (dropout): Dropout(p=0.1, inplace=False)\n",
              "            )\n",
              "          )\n",
              "          (intermediate): BertIntermediate(\n",
              "            (dense): Linear(in_features=768, out_features=3072, bias=True)\n",
              "          )\n",
              "          (output): BertOutput(\n",
              "            (dense): Linear(in_features=3072, out_features=768, bias=True)\n",
              "            (LayerNorm): LayerNorm((768,), eps=1e-12, elementwise_affine=True)\n",
              "            (dropout): Dropout(p=0.1, inplace=False)\n",
              "          )\n",
              "        )\n",
              "        (2): BertLayer(\n",
              "          (attention): BertAttention(\n",
              "            (self): BertSelfAttention(\n",
              "              (query): Linear(in_features=768, out_features=768, bias=True)\n",
              "              (key): Linear(in_features=768, out_features=768, bias=True)\n",
              "              (value): Linear(in_features=768, out_features=768, bias=True)\n",
              "              (dropout): Dropout(p=0.1, inplace=False)\n",
              "            )\n",
              "            (output): BertSelfOutput(\n",
              "              (dense): Linear(in_features=768, out_features=768, bias=True)\n",
              "              (LayerNorm): LayerNorm((768,), eps=1e-12, elementwise_affine=True)\n",
              "              (dropout): Dropout(p=0.1, inplace=False)\n",
              "            )\n",
              "          )\n",
              "          (intermediate): BertIntermediate(\n",
              "            (dense): Linear(in_features=768, out_features=3072, bias=True)\n",
              "          )\n",
              "          (output): BertOutput(\n",
              "            (dense): Linear(in_features=3072, out_features=768, bias=True)\n",
              "            (LayerNorm): LayerNorm((768,), eps=1e-12, elementwise_affine=True)\n",
              "            (dropout): Dropout(p=0.1, inplace=False)\n",
              "          )\n",
              "        )\n",
              "        (3): BertLayer(\n",
              "          (attention): BertAttention(\n",
              "            (self): BertSelfAttention(\n",
              "              (query): Linear(in_features=768, out_features=768, bias=True)\n",
              "              (key): Linear(in_features=768, out_features=768, bias=True)\n",
              "              (value): Linear(in_features=768, out_features=768, bias=True)\n",
              "              (dropout): Dropout(p=0.1, inplace=False)\n",
              "            )\n",
              "            (output): BertSelfOutput(\n",
              "              (dense): Linear(in_features=768, out_features=768, bias=True)\n",
              "              (LayerNorm): LayerNorm((768,), eps=1e-12, elementwise_affine=True)\n",
              "              (dropout): Dropout(p=0.1, inplace=False)\n",
              "            )\n",
              "          )\n",
              "          (intermediate): BertIntermediate(\n",
              "            (dense): Linear(in_features=768, out_features=3072, bias=True)\n",
              "          )\n",
              "          (output): BertOutput(\n",
              "            (dense): Linear(in_features=3072, out_features=768, bias=True)\n",
              "            (LayerNorm): LayerNorm((768,), eps=1e-12, elementwise_affine=True)\n",
              "            (dropout): Dropout(p=0.1, inplace=False)\n",
              "          )\n",
              "        )\n",
              "        (4): BertLayer(\n",
              "          (attention): BertAttention(\n",
              "            (self): BertSelfAttention(\n",
              "              (query): Linear(in_features=768, out_features=768, bias=True)\n",
              "              (key): Linear(in_features=768, out_features=768, bias=True)\n",
              "              (value): Linear(in_features=768, out_features=768, bias=True)\n",
              "              (dropout): Dropout(p=0.1, inplace=False)\n",
              "            )\n",
              "            (output): BertSelfOutput(\n",
              "              (dense): Linear(in_features=768, out_features=768, bias=True)\n",
              "              (LayerNorm): LayerNorm((768,), eps=1e-12, elementwise_affine=True)\n",
              "              (dropout): Dropout(p=0.1, inplace=False)\n",
              "            )\n",
              "          )\n",
              "          (intermediate): BertIntermediate(\n",
              "            (dense): Linear(in_features=768, out_features=3072, bias=True)\n",
              "          )\n",
              "          (output): BertOutput(\n",
              "            (dense): Linear(in_features=3072, out_features=768, bias=True)\n",
              "            (LayerNorm): LayerNorm((768,), eps=1e-12, elementwise_affine=True)\n",
              "            (dropout): Dropout(p=0.1, inplace=False)\n",
              "          )\n",
              "        )\n",
              "        (5): BertLayer(\n",
              "          (attention): BertAttention(\n",
              "            (self): BertSelfAttention(\n",
              "              (query): Linear(in_features=768, out_features=768, bias=True)\n",
              "              (key): Linear(in_features=768, out_features=768, bias=True)\n",
              "              (value): Linear(in_features=768, out_features=768, bias=True)\n",
              "              (dropout): Dropout(p=0.1, inplace=False)\n",
              "            )\n",
              "            (output): BertSelfOutput(\n",
              "              (dense): Linear(in_features=768, out_features=768, bias=True)\n",
              "              (LayerNorm): LayerNorm((768,), eps=1e-12, elementwise_affine=True)\n",
              "              (dropout): Dropout(p=0.1, inplace=False)\n",
              "            )\n",
              "          )\n",
              "          (intermediate): BertIntermediate(\n",
              "            (dense): Linear(in_features=768, out_features=3072, bias=True)\n",
              "          )\n",
              "          (output): BertOutput(\n",
              "            (dense): Linear(in_features=3072, out_features=768, bias=True)\n",
              "            (LayerNorm): LayerNorm((768,), eps=1e-12, elementwise_affine=True)\n",
              "            (dropout): Dropout(p=0.1, inplace=False)\n",
              "          )\n",
              "        )\n",
              "        (6): BertLayer(\n",
              "          (attention): BertAttention(\n",
              "            (self): BertSelfAttention(\n",
              "              (query): Linear(in_features=768, out_features=768, bias=True)\n",
              "              (key): Linear(in_features=768, out_features=768, bias=True)\n",
              "              (value): Linear(in_features=768, out_features=768, bias=True)\n",
              "              (dropout): Dropout(p=0.1, inplace=False)\n",
              "            )\n",
              "            (output): BertSelfOutput(\n",
              "              (dense): Linear(in_features=768, out_features=768, bias=True)\n",
              "              (LayerNorm): LayerNorm((768,), eps=1e-12, elementwise_affine=True)\n",
              "              (dropout): Dropout(p=0.1, inplace=False)\n",
              "            )\n",
              "          )\n",
              "          (intermediate): BertIntermediate(\n",
              "            (dense): Linear(in_features=768, out_features=3072, bias=True)\n",
              "          )\n",
              "          (output): BertOutput(\n",
              "            (dense): Linear(in_features=3072, out_features=768, bias=True)\n",
              "            (LayerNorm): LayerNorm((768,), eps=1e-12, elementwise_affine=True)\n",
              "            (dropout): Dropout(p=0.1, inplace=False)\n",
              "          )\n",
              "        )\n",
              "        (7): BertLayer(\n",
              "          (attention): BertAttention(\n",
              "            (self): BertSelfAttention(\n",
              "              (query): Linear(in_features=768, out_features=768, bias=True)\n",
              "              (key): Linear(in_features=768, out_features=768, bias=True)\n",
              "              (value): Linear(in_features=768, out_features=768, bias=True)\n",
              "              (dropout): Dropout(p=0.1, inplace=False)\n",
              "            )\n",
              "            (output): BertSelfOutput(\n",
              "              (dense): Linear(in_features=768, out_features=768, bias=True)\n",
              "              (LayerNorm): LayerNorm((768,), eps=1e-12, elementwise_affine=True)\n",
              "              (dropout): Dropout(p=0.1, inplace=False)\n",
              "            )\n",
              "          )\n",
              "          (intermediate): BertIntermediate(\n",
              "            (dense): Linear(in_features=768, out_features=3072, bias=True)\n",
              "          )\n",
              "          (output): BertOutput(\n",
              "            (dense): Linear(in_features=3072, out_features=768, bias=True)\n",
              "            (LayerNorm): LayerNorm((768,), eps=1e-12, elementwise_affine=True)\n",
              "            (dropout): Dropout(p=0.1, inplace=False)\n",
              "          )\n",
              "        )\n",
              "        (8): BertLayer(\n",
              "          (attention): BertAttention(\n",
              "            (self): BertSelfAttention(\n",
              "              (query): Linear(in_features=768, out_features=768, bias=True)\n",
              "              (key): Linear(in_features=768, out_features=768, bias=True)\n",
              "              (value): Linear(in_features=768, out_features=768, bias=True)\n",
              "              (dropout): Dropout(p=0.1, inplace=False)\n",
              "            )\n",
              "            (output): BertSelfOutput(\n",
              "              (dense): Linear(in_features=768, out_features=768, bias=True)\n",
              "              (LayerNorm): LayerNorm((768,), eps=1e-12, elementwise_affine=True)\n",
              "              (dropout): Dropout(p=0.1, inplace=False)\n",
              "            )\n",
              "          )\n",
              "          (intermediate): BertIntermediate(\n",
              "            (dense): Linear(in_features=768, out_features=3072, bias=True)\n",
              "          )\n",
              "          (output): BertOutput(\n",
              "            (dense): Linear(in_features=3072, out_features=768, bias=True)\n",
              "            (LayerNorm): LayerNorm((768,), eps=1e-12, elementwise_affine=True)\n",
              "            (dropout): Dropout(p=0.1, inplace=False)\n",
              "          )\n",
              "        )\n",
              "        (9): BertLayer(\n",
              "          (attention): BertAttention(\n",
              "            (self): BertSelfAttention(\n",
              "              (query): Linear(in_features=768, out_features=768, bias=True)\n",
              "              (key): Linear(in_features=768, out_features=768, bias=True)\n",
              "              (value): Linear(in_features=768, out_features=768, bias=True)\n",
              "              (dropout): Dropout(p=0.1, inplace=False)\n",
              "            )\n",
              "            (output): BertSelfOutput(\n",
              "              (dense): Linear(in_features=768, out_features=768, bias=True)\n",
              "              (LayerNorm): LayerNorm((768,), eps=1e-12, elementwise_affine=True)\n",
              "              (dropout): Dropout(p=0.1, inplace=False)\n",
              "            )\n",
              "          )\n",
              "          (intermediate): BertIntermediate(\n",
              "            (dense): Linear(in_features=768, out_features=3072, bias=True)\n",
              "          )\n",
              "          (output): BertOutput(\n",
              "            (dense): Linear(in_features=3072, out_features=768, bias=True)\n",
              "            (LayerNorm): LayerNorm((768,), eps=1e-12, elementwise_affine=True)\n",
              "            (dropout): Dropout(p=0.1, inplace=False)\n",
              "          )\n",
              "        )\n",
              "        (10): BertLayer(\n",
              "          (attention): BertAttention(\n",
              "            (self): BertSelfAttention(\n",
              "              (query): Linear(in_features=768, out_features=768, bias=True)\n",
              "              (key): Linear(in_features=768, out_features=768, bias=True)\n",
              "              (value): Linear(in_features=768, out_features=768, bias=True)\n",
              "              (dropout): Dropout(p=0.1, inplace=False)\n",
              "            )\n",
              "            (output): BertSelfOutput(\n",
              "              (dense): Linear(in_features=768, out_features=768, bias=True)\n",
              "              (LayerNorm): LayerNorm((768,), eps=1e-12, elementwise_affine=True)\n",
              "              (dropout): Dropout(p=0.1, inplace=False)\n",
              "            )\n",
              "          )\n",
              "          (intermediate): BertIntermediate(\n",
              "            (dense): Linear(in_features=768, out_features=3072, bias=True)\n",
              "          )\n",
              "          (output): BertOutput(\n",
              "            (dense): Linear(in_features=3072, out_features=768, bias=True)\n",
              "            (LayerNorm): LayerNorm((768,), eps=1e-12, elementwise_affine=True)\n",
              "            (dropout): Dropout(p=0.1, inplace=False)\n",
              "          )\n",
              "        )\n",
              "        (11): BertLayer(\n",
              "          (attention): BertAttention(\n",
              "            (self): BertSelfAttention(\n",
              "              (query): Linear(in_features=768, out_features=768, bias=True)\n",
              "              (key): Linear(in_features=768, out_features=768, bias=True)\n",
              "              (value): Linear(in_features=768, out_features=768, bias=True)\n",
              "              (dropout): Dropout(p=0.1, inplace=False)\n",
              "            )\n",
              "            (output): BertSelfOutput(\n",
              "              (dense): Linear(in_features=768, out_features=768, bias=True)\n",
              "              (LayerNorm): LayerNorm((768,), eps=1e-12, elementwise_affine=True)\n",
              "              (dropout): Dropout(p=0.1, inplace=False)\n",
              "            )\n",
              "          )\n",
              "          (intermediate): BertIntermediate(\n",
              "            (dense): Linear(in_features=768, out_features=3072, bias=True)\n",
              "          )\n",
              "          (output): BertOutput(\n",
              "            (dense): Linear(in_features=3072, out_features=768, bias=True)\n",
              "            (LayerNorm): LayerNorm((768,), eps=1e-12, elementwise_affine=True)\n",
              "            (dropout): Dropout(p=0.1, inplace=False)\n",
              "          )\n",
              "        )\n",
              "      )\n",
              "    )\n",
              "    (pooler): BertPooler(\n",
              "      (dense): Linear(in_features=768, out_features=768, bias=True)\n",
              "      (activation): Tanh()\n",
              "    )\n",
              "  )\n",
              "  (dropout): Dropout(p=0.1, inplace=False)\n",
              "  (classifier): Linear(in_features=768, out_features=3, bias=True)\n",
              ")"
            ]
          },
          "metadata": {
            "tags": []
          },
          "execution_count": 52
        }
      ]
    },
    {
      "cell_type": "markdown",
      "metadata": {
        "id": "RCo7olPPnYNz"
      },
      "source": [
        "## Making Predictions on Test Set"
      ]
    },
    {
      "cell_type": "code",
      "metadata": {
        "id": "YkVQsHdKnYN0"
      },
      "source": [
        "test_df_path = join(dataset_dir,'malayalam_hope_test.csv')\r\n",
        "test_df = pd.read_csv(test_df_path,sep = '\\t')"
      ],
      "execution_count": null,
      "outputs": []
    },
    {
      "cell_type": "code",
      "metadata": {
        "colab": {
          "base_uri": "https://localhost:8080/",
          "height": 402
        },
        "id": "nungZ-9dnYN0",
        "outputId": "e39dceb8-ff04-436a-bc01-d9c0fe6889d6"
      },
      "source": [
        "test_df"
      ],
      "execution_count": null,
      "outputs": [
        {
          "output_type": "execute_result",
          "data": {
            "text/html": [
              "<div>\n",
              "<style scoped>\n",
              "    .dataframe tbody tr th:only-of-type {\n",
              "        vertical-align: middle;\n",
              "    }\n",
              "\n",
              "    .dataframe tbody tr th {\n",
              "        vertical-align: top;\n",
              "    }\n",
              "\n",
              "    .dataframe thead th {\n",
              "        text-align: right;\n",
              "    }\n",
              "</style>\n",
              "<table border=\"1\" class=\"dataframe\">\n",
              "  <thead>\n",
              "    <tr style=\"text-align: right;\">\n",
              "      <th></th>\n",
              "      <th>text</th>\n",
              "    </tr>\n",
              "  </thead>\n",
              "  <tbody>\n",
              "    <tr>\n",
              "      <th>0</th>\n",
              "      <td>അതെ അണപൊട്ടി ഒഴുകുകയാണ്</td>\n",
              "    </tr>\n",
              "    <tr>\n",
              "      <th>1</th>\n",
              "      <td>കെവിൻ avde pettupoyi🤣🤣🤣</td>\n",
              "    </tr>\n",
              "    <tr>\n",
              "      <th>2</th>\n",
              "      <td>@my voice ullup illa daaa tayoli ath kond alle...</td>\n",
              "    </tr>\n",
              "    <tr>\n",
              "      <th>3</th>\n",
              "      <td>@Albin Baiju</td>\n",
              "    </tr>\n",
              "    <tr>\n",
              "      <th>4</th>\n",
              "      <td>I respect you..</td>\n",
              "    </tr>\n",
              "    <tr>\n",
              "      <th>...</th>\n",
              "      <td>...</td>\n",
              "    </tr>\n",
              "    <tr>\n",
              "      <th>1066</th>\n",
              "      <td>ചേട്ടാ അതിന് ഇവിടെ ആരാണ് ഇന്ത്യൻ മൊബൈൽ റിവ്യൂ ...</td>\n",
              "    </tr>\n",
              "    <tr>\n",
              "      <th>1067</th>\n",
              "      <td>@surya ishaan</td>\n",
              "    </tr>\n",
              "    <tr>\n",
              "      <th>1068</th>\n",
              "      <td>ഏതാണ് ആ മൂലയിൽ ഇരിക്കുന്ന അപ്പൂപ്പൻ</td>\n",
              "    </tr>\n",
              "    <tr>\n",
              "      <th>1069</th>\n",
              "      <td>ഏതാ ആ ചൊമന്ന ടി ഷർട്ടിന് മേൽ കോട്ടിട്ട വവ്വാൽ...</td>\n",
              "    </tr>\n",
              "    <tr>\n",
              "      <th>1070</th>\n",
              "      <td>Poorru  angodu chellu</td>\n",
              "    </tr>\n",
              "  </tbody>\n",
              "</table>\n",
              "<p>1071 rows × 1 columns</p>\n",
              "</div>"
            ],
            "text/plain": [
              "                                                   text\n",
              "0                               അതെ അണപൊട്ടി ഒഴുകുകയാണ്\n",
              "1                               കെവിൻ avde pettupoyi🤣🤣🤣\n",
              "2     @my voice ullup illa daaa tayoli ath kond alle...\n",
              "3                                          @Albin Baiju\n",
              "4                                       I respect you..\n",
              "...                                                 ...\n",
              "1066  ചേട്ടാ അതിന് ഇവിടെ ആരാണ് ഇന്ത്യൻ മൊബൈൽ റിവ്യൂ ...\n",
              "1067                                      @surya ishaan\n",
              "1068                ഏതാണ് ആ മൂലയിൽ ഇരിക്കുന്ന അപ്പൂപ്പൻ\n",
              "1069   ഏതാ ആ ചൊമന്ന ടി ഷർട്ടിന് മേൽ കോട്ടിട്ട വവ്വാൽ...\n",
              "1070                              Poorru  angodu chellu\n",
              "\n",
              "[1071 rows x 1 columns]"
            ]
          },
          "metadata": {
            "tags": []
          },
          "execution_count": 68
        }
      ]
    },
    {
      "cell_type": "markdown",
      "metadata": {
        "id": "7jLPpljYQcsQ"
      },
      "source": [
        "## Loading `test_sentences`"
      ]
    },
    {
      "cell_type": "code",
      "metadata": {
        "id": "QEVoAhgIQcsR"
      },
      "source": [
        "test_sentences = test_df['text'].values \r\n",
        "test_ids = test_df.index.values"
      ],
      "execution_count": null,
      "outputs": []
    },
    {
      "cell_type": "code",
      "metadata": {
        "colab": {
          "base_uri": "https://localhost:8080/"
        },
        "id": "slovGuCRThW1",
        "outputId": "896028f4-4527-479f-dd76-b52c74afdfd6"
      },
      "source": [
        "test_ids"
      ],
      "execution_count": null,
      "outputs": [
        {
          "output_type": "execute_result",
          "data": {
            "text/plain": [
              "array([   0,    1,    2, ..., 1068, 1069, 1070])"
            ]
          },
          "metadata": {
            "tags": []
          },
          "execution_count": 70
        }
      ]
    },
    {
      "cell_type": "code",
      "metadata": {
        "colab": {
          "base_uri": "https://localhost:8080/"
        },
        "id": "gL7aCG2HTjv6",
        "outputId": "987c5f4d-7d48-4f36-9720-a81fe3f850bd"
      },
      "source": [
        "test_sentences"
      ],
      "execution_count": null,
      "outputs": [
        {
          "output_type": "execute_result",
          "data": {
            "text/plain": [
              "array(['അതെ അണപൊട്ടി ഒഴുകുകയാണ്', 'കെവിൻ avde pettupoyi🤣🤣🤣',\n",
              "       '@my voice ullup illa daaa tayoli ath kond alle ninte ammaye njan panniyatha monee',\n",
              "       ..., 'ഏതാണ് ആ മൂലയിൽ ഇരിക്കുന്ന അപ്പൂപ്പൻ',\n",
              "       'ഏതാ ആ ചൊമന്ന ടി ഷർട്ടിന് മേൽ കോട്ടിട്ട വവ്വാൽ...',\n",
              "       'Poorru  angodu chellu'], dtype=object)"
            ]
          },
          "metadata": {
            "tags": []
          },
          "execution_count": 71
        }
      ]
    },
    {
      "cell_type": "code",
      "metadata": {
        "colab": {
          "base_uri": "https://localhost:8080/"
        },
        "id": "b9dgO1m3QcsU",
        "outputId": "031d1fdf-c46f-4a64-8650-9e5846392433"
      },
      "source": [
        "(py_inputs, py_attn_masks,py_ids) = make_smart_batches_on_test(test_sentences,test_ids, 16,tokenizer,max_input_length = 400)"
      ],
      "execution_count": null,
      "outputs": [
        {
          "output_type": "stream",
          "text": [
            "Creating Smart Batches from 1,071 examples with batch size 16...\n",
            "\n",
            "Tokenizing 1,071 samples...\n",
            "  Tokenized 0 samples.\n",
            "  Tokenized 100 samples.\n",
            "  Tokenized 200 samples.\n",
            "  Tokenized 300 samples.\n",
            "  Tokenized 400 samples.\n",
            "  Tokenized 500 samples.\n",
            "  Tokenized 600 samples.\n",
            "  Tokenized 700 samples.\n",
            "  Tokenized 800 samples.\n",
            "  Tokenized 900 samples.\n",
            "  Tokenized 1,000 samples.\n",
            "DONE.\n",
            "     1,071 samples\n",
            "\n",
            "     1,071 samples after sorting\n",
            "\n",
            "Creating batches of size 16...\n",
            "\n",
            "  DONE - Selected 67 batches.\n",
            "\n",
            "Padding out sequences within each batch...\n",
            "  DONE.\n"
          ],
          "name": "stdout"
        }
      ]
    },
    {
      "cell_type": "markdown",
      "metadata": {
        "id": "vjsjqQpRQcsV"
      },
      "source": [
        "## Evaluating accuracy over test set"
      ]
    },
    {
      "cell_type": "code",
      "metadata": {
        "colab": {
          "base_uri": "https://localhost:8080/"
        },
        "id": "rwkx-30AQcsV",
        "outputId": "d2d16d92-bf8e-4184-b0d0-ea04f1a6fb9a"
      },
      "source": [
        "y_ids,y_preds  = get_predictions_test(py_inputs, py_attn_masks,py_ids)\r\n"
      ],
      "execution_count": null,
      "outputs": [
        {
          "output_type": "stream",
          "text": [
            "Predicting labels for 67 test batches...\n",
            "  Batch       7  of       67.    Elapsed: 0:00:00.  Remaining: 0:00:02\n",
            "  Batch      14  of       67.    Elapsed: 0:00:01.  Remaining: 0:00:02\n",
            "  Batch      21  of       67.    Elapsed: 0:00:01.  Remaining: 0:00:02\n",
            "  Batch      28  of       67.    Elapsed: 0:00:01.  Remaining: 0:00:01\n",
            "  Batch      35  of       67.    Elapsed: 0:00:01.  Remaining: 0:00:01\n",
            "  Batch      42  of       67.    Elapsed: 0:00:02.  Remaining: 0:00:01\n",
            "  Batch      49  of       67.    Elapsed: 0:00:02.  Remaining: 0:00:01\n",
            "  Batch      56  of       67.    Elapsed: 0:00:03.  Remaining: 0:00:01\n",
            "  Batch      63  of       67.    Elapsed: 0:00:03.  Remaining: 0:00:00\n"
          ],
          "name": "stdout"
        }
      ]
    },
    {
      "cell_type": "code",
      "metadata": {
        "colab": {
          "base_uri": "https://localhost:8080/"
        },
        "id": "pDM-cnDHQcsW",
        "outputId": "b364feef-d836-44f8-c03d-fe3d5f4be317"
      },
      "source": [
        "print(y_preds)"
      ],
      "execution_count": null,
      "outputs": [
        {
          "output_type": "stream",
          "text": [
            "[1 1 1 ... 0 0 1]\n"
          ],
          "name": "stdout"
        }
      ]
    },
    {
      "cell_type": "code",
      "metadata": {
        "id": "kWWWjz7eUPc7",
        "colab": {
          "base_uri": "https://localhost:8080/"
        },
        "outputId": "8f0f2176-6317-4380-8ba6-dd2cf9798529"
      },
      "source": [
        "print(y_ids)"
      ],
      "execution_count": null,
      "outputs": [
        {
          "output_type": "stream",
          "text": [
            "[ 846  861  871 ...  741  178 1004]\n"
          ],
          "name": "stdout"
        }
      ]
    },
    {
      "cell_type": "code",
      "metadata": {
        "id": "u2ybbsAoQcsY",
        "colab": {
          "base_uri": "https://localhost:8080/"
        },
        "outputId": "5183909c-9ef7-4322-eece-f07c7ce56155"
      },
      "source": [
        "le.inverse_transform(y_preds)"
      ],
      "execution_count": null,
      "outputs": [
        {
          "output_type": "execute_result",
          "data": {
            "text/plain": [
              "array(['Non_hope_speech', 'Non_hope_speech', 'Non_hope_speech', ...,\n",
              "       'Hope_speech', 'Hope_speech', 'Non_hope_speech'], dtype=object)"
            ]
          },
          "metadata": {
            "tags": []
          },
          "execution_count": 76
        }
      ]
    },
    {
      "cell_type": "code",
      "metadata": {
        "colab": {
          "base_uri": "https://localhost:8080/",
          "height": 424
        },
        "id": "kSMb6sCLQcsZ",
        "outputId": "10fd72ef-4397-4239-effd-01c6285b8c8b"
      },
      "source": [
        "sns.countplot(y =le.inverse_transform(y_preds))"
      ],
      "execution_count": null,
      "outputs": [
        {
          "output_type": "execute_result",
          "data": {
            "text/plain": [
              "<matplotlib.axes._subplots.AxesSubplot at 0x7f71aa5aa470>"
            ]
          },
          "metadata": {
            "tags": []
          },
          "execution_count": 77
        },
        {
          "output_type": "display_data",
          "data": {
            "image/png": "[encoded data removed]",
            "text/plain": [
              "<Figure size 864x432 with 1 Axes>"
            ]
          },
          "metadata": {
            "tags": []
          }
        }
      ]
    },
    {
      "cell_type": "code",
      "metadata": {
        "colab": {
          "base_uri": "https://localhost:8080/"
        },
        "id": "4KXOXwH9U2MT",
        "outputId": "74497f91-0750-4ff8-e7a3-683a6b9420df"
      },
      "source": [
        "len(y_ids)"
      ],
      "execution_count": null,
      "outputs": [
        {
          "output_type": "execute_result",
          "data": {
            "text/plain": [
              "1071"
            ]
          },
          "metadata": {
            "tags": []
          },
          "execution_count": 78
        }
      ]
    },
    {
      "cell_type": "code",
      "metadata": {
        "colab": {
          "base_uri": "https://localhost:8080/"
        },
        "id": "9-fkBgOxU4bX",
        "outputId": "d4e4aa8e-42d5-45cc-b3e2-9fd4035c48e4"
      },
      "source": [
        "len(le.inverse_transform(y_preds))"
      ],
      "execution_count": null,
      "outputs": [
        {
          "output_type": "execute_result",
          "data": {
            "text/plain": [
              "1071"
            ]
          },
          "metadata": {
            "tags": []
          },
          "execution_count": 79
        }
      ]
    },
    {
      "cell_type": "markdown",
      "metadata": {
        "id": "sWPDqogJrjIZ"
      },
      "source": [
        "## Creating Submission DataFrame"
      ]
    },
    {
      "cell_type": "code",
      "metadata": {
        "id": "o4Hb7RD1yHol"
      },
      "source": [
        "df_new = pd.DataFrame({\r\n",
        "    'id':y_ids,\r\n",
        "    'label':le.inverse_transform(y_preds)\r\n",
        "})"
      ],
      "execution_count": null,
      "outputs": []
    },
    {
      "cell_type": "code",
      "metadata": {
        "id": "twQAkVzcn4Lg"
      },
      "source": [
        "test_df['id'] = test_df.index"
      ],
      "execution_count": null,
      "outputs": []
    },
    {
      "cell_type": "code",
      "metadata": {
        "colab": {
          "base_uri": "https://localhost:8080/",
          "height": 402
        },
        "id": "qov36eWmqawv",
        "outputId": "75622337-0274-4f08-d1a7-fdeaaad2275e"
      },
      "source": [
        "df_new"
      ],
      "execution_count": null,
      "outputs": [
        {
          "output_type": "execute_result",
          "data": {
            "text/html": [
              "<div>\n",
              "<style scoped>\n",
              "    .dataframe tbody tr th:only-of-type {\n",
              "        vertical-align: middle;\n",
              "    }\n",
              "\n",
              "    .dataframe tbody tr th {\n",
              "        vertical-align: top;\n",
              "    }\n",
              "\n",
              "    .dataframe thead th {\n",
              "        text-align: right;\n",
              "    }\n",
              "</style>\n",
              "<table border=\"1\" class=\"dataframe\">\n",
              "  <thead>\n",
              "    <tr style=\"text-align: right;\">\n",
              "      <th></th>\n",
              "      <th>id</th>\n",
              "      <th>label</th>\n",
              "    </tr>\n",
              "  </thead>\n",
              "  <tbody>\n",
              "    <tr>\n",
              "      <th>0</th>\n",
              "      <td>846</td>\n",
              "      <td>Non_hope_speech</td>\n",
              "    </tr>\n",
              "    <tr>\n",
              "      <th>1</th>\n",
              "      <td>861</td>\n",
              "      <td>Non_hope_speech</td>\n",
              "    </tr>\n",
              "    <tr>\n",
              "      <th>2</th>\n",
              "      <td>871</td>\n",
              "      <td>Non_hope_speech</td>\n",
              "    </tr>\n",
              "    <tr>\n",
              "      <th>3</th>\n",
              "      <td>953</td>\n",
              "      <td>Non_hope_speech</td>\n",
              "    </tr>\n",
              "    <tr>\n",
              "      <th>4</th>\n",
              "      <td>990</td>\n",
              "      <td>Non_hope_speech</td>\n",
              "    </tr>\n",
              "    <tr>\n",
              "      <th>...</th>\n",
              "      <td>...</td>\n",
              "      <td>...</td>\n",
              "    </tr>\n",
              "    <tr>\n",
              "      <th>1066</th>\n",
              "      <td>355</td>\n",
              "      <td>Non_hope_speech</td>\n",
              "    </tr>\n",
              "    <tr>\n",
              "      <th>1067</th>\n",
              "      <td>585</td>\n",
              "      <td>Non_hope_speech</td>\n",
              "    </tr>\n",
              "    <tr>\n",
              "      <th>1068</th>\n",
              "      <td>741</td>\n",
              "      <td>Hope_speech</td>\n",
              "    </tr>\n",
              "    <tr>\n",
              "      <th>1069</th>\n",
              "      <td>178</td>\n",
              "      <td>Hope_speech</td>\n",
              "    </tr>\n",
              "    <tr>\n",
              "      <th>1070</th>\n",
              "      <td>1004</td>\n",
              "      <td>Non_hope_speech</td>\n",
              "    </tr>\n",
              "  </tbody>\n",
              "</table>\n",
              "<p>1071 rows × 2 columns</p>\n",
              "</div>"
            ],
            "text/plain": [
              "        id            label\n",
              "0      846  Non_hope_speech\n",
              "1      861  Non_hope_speech\n",
              "2      871  Non_hope_speech\n",
              "3      953  Non_hope_speech\n",
              "4      990  Non_hope_speech\n",
              "...    ...              ...\n",
              "1066   355  Non_hope_speech\n",
              "1067   585  Non_hope_speech\n",
              "1068   741      Hope_speech\n",
              "1069   178      Hope_speech\n",
              "1070  1004  Non_hope_speech\n",
              "\n",
              "[1071 rows x 2 columns]"
            ]
          },
          "metadata": {
            "tags": []
          },
          "execution_count": 82
        }
      ]
    },
    {
      "cell_type": "code",
      "metadata": {
        "colab": {
          "base_uri": "https://localhost:8080/",
          "height": 402
        },
        "id": "z0CEApHmqdLr",
        "outputId": "1039ba5f-a702-4582-8bfa-8f0a83fc3625"
      },
      "source": [
        "test_df"
      ],
      "execution_count": null,
      "outputs": [
        {
          "output_type": "execute_result",
          "data": {
            "text/html": [
              "<div>\n",
              "<style scoped>\n",
              "    .dataframe tbody tr th:only-of-type {\n",
              "        vertical-align: middle;\n",
              "    }\n",
              "\n",
              "    .dataframe tbody tr th {\n",
              "        vertical-align: top;\n",
              "    }\n",
              "\n",
              "    .dataframe thead th {\n",
              "        text-align: right;\n",
              "    }\n",
              "</style>\n",
              "<table border=\"1\" class=\"dataframe\">\n",
              "  <thead>\n",
              "    <tr style=\"text-align: right;\">\n",
              "      <th></th>\n",
              "      <th>text</th>\n",
              "      <th>id</th>\n",
              "    </tr>\n",
              "  </thead>\n",
              "  <tbody>\n",
              "    <tr>\n",
              "      <th>0</th>\n",
              "      <td>അതെ അണപൊട്ടി ഒഴുകുകയാണ്</td>\n",
              "      <td>0</td>\n",
              "    </tr>\n",
              "    <tr>\n",
              "      <th>1</th>\n",
              "      <td>കെവിൻ avde pettupoyi🤣🤣🤣</td>\n",
              "      <td>1</td>\n",
              "    </tr>\n",
              "    <tr>\n",
              "      <th>2</th>\n",
              "      <td>@my voice ullup illa daaa tayoli ath kond alle...</td>\n",
              "      <td>2</td>\n",
              "    </tr>\n",
              "    <tr>\n",
              "      <th>3</th>\n",
              "      <td>@Albin Baiju</td>\n",
              "      <td>3</td>\n",
              "    </tr>\n",
              "    <tr>\n",
              "      <th>4</th>\n",
              "      <td>I respect you..</td>\n",
              "      <td>4</td>\n",
              "    </tr>\n",
              "    <tr>\n",
              "      <th>...</th>\n",
              "      <td>...</td>\n",
              "      <td>...</td>\n",
              "    </tr>\n",
              "    <tr>\n",
              "      <th>1066</th>\n",
              "      <td>ചേട്ടാ അതിന് ഇവിടെ ആരാണ് ഇന്ത്യൻ മൊബൈൽ റിവ്യൂ ...</td>\n",
              "      <td>1066</td>\n",
              "    </tr>\n",
              "    <tr>\n",
              "      <th>1067</th>\n",
              "      <td>@surya ishaan</td>\n",
              "      <td>1067</td>\n",
              "    </tr>\n",
              "    <tr>\n",
              "      <th>1068</th>\n",
              "      <td>ഏതാണ് ആ മൂലയിൽ ഇരിക്കുന്ന അപ്പൂപ്പൻ</td>\n",
              "      <td>1068</td>\n",
              "    </tr>\n",
              "    <tr>\n",
              "      <th>1069</th>\n",
              "      <td>ഏതാ ആ ചൊമന്ന ടി ഷർട്ടിന് മേൽ കോട്ടിട്ട വവ്വാൽ...</td>\n",
              "      <td>1069</td>\n",
              "    </tr>\n",
              "    <tr>\n",
              "      <th>1070</th>\n",
              "      <td>Poorru  angodu chellu</td>\n",
              "      <td>1070</td>\n",
              "    </tr>\n",
              "  </tbody>\n",
              "</table>\n",
              "<p>1071 rows × 2 columns</p>\n",
              "</div>"
            ],
            "text/plain": [
              "                                                   text    id\n",
              "0                               അതെ അണപൊട്ടി ഒഴുകുകയാണ്     0\n",
              "1                               കെവിൻ avde pettupoyi🤣🤣🤣     1\n",
              "2     @my voice ullup illa daaa tayoli ath kond alle...     2\n",
              "3                                          @Albin Baiju     3\n",
              "4                                       I respect you..     4\n",
              "...                                                 ...   ...\n",
              "1066  ചേട്ടാ അതിന് ഇവിടെ ആരാണ് ഇന്ത്യൻ മൊബൈൽ റിവ്യൂ ...  1066\n",
              "1067                                      @surya ishaan  1067\n",
              "1068                ഏതാണ് ആ മൂലയിൽ ഇരിക്കുന്ന അപ്പൂപ്പൻ  1068\n",
              "1069   ഏതാ ആ ചൊമന്ന ടി ഷർട്ടിന് മേൽ കോട്ടിട്ട വവ്വാൽ...  1069\n",
              "1070                              Poorru  angodu chellu  1070\n",
              "\n",
              "[1071 rows x 2 columns]"
            ]
          },
          "metadata": {
            "tags": []
          },
          "execution_count": 83
        }
      ]
    },
    {
      "cell_type": "code",
      "metadata": {
        "colab": {
          "base_uri": "https://localhost:8080/",
          "height": 402
        },
        "id": "vxReWWmxn7Hj",
        "outputId": "bf948560-c34c-4a16-b554-733764ab87b8"
      },
      "source": [
        "df_f = pd.merge(test_df,df_new,on = 'id')\r\n",
        "df_f"
      ],
      "execution_count": null,
      "outputs": [
        {
          "output_type": "execute_result",
          "data": {
            "text/html": [
              "<div>\n",
              "<style scoped>\n",
              "    .dataframe tbody tr th:only-of-type {\n",
              "        vertical-align: middle;\n",
              "    }\n",
              "\n",
              "    .dataframe tbody tr th {\n",
              "        vertical-align: top;\n",
              "    }\n",
              "\n",
              "    .dataframe thead th {\n",
              "        text-align: right;\n",
              "    }\n",
              "</style>\n",
              "<table border=\"1\" class=\"dataframe\">\n",
              "  <thead>\n",
              "    <tr style=\"text-align: right;\">\n",
              "      <th></th>\n",
              "      <th>text</th>\n",
              "      <th>id</th>\n",
              "      <th>label</th>\n",
              "    </tr>\n",
              "  </thead>\n",
              "  <tbody>\n",
              "    <tr>\n",
              "      <th>0</th>\n",
              "      <td>അതെ അണപൊട്ടി ഒഴുകുകയാണ്</td>\n",
              "      <td>0</td>\n",
              "      <td>Non_hope_speech</td>\n",
              "    </tr>\n",
              "    <tr>\n",
              "      <th>1</th>\n",
              "      <td>കെവിൻ avde pettupoyi🤣🤣🤣</td>\n",
              "      <td>1</td>\n",
              "      <td>Non_hope_speech</td>\n",
              "    </tr>\n",
              "    <tr>\n",
              "      <th>2</th>\n",
              "      <td>@my voice ullup illa daaa tayoli ath kond alle...</td>\n",
              "      <td>2</td>\n",
              "      <td>Non_hope_speech</td>\n",
              "    </tr>\n",
              "    <tr>\n",
              "      <th>3</th>\n",
              "      <td>@Albin Baiju</td>\n",
              "      <td>3</td>\n",
              "      <td>Non_hope_speech</td>\n",
              "    </tr>\n",
              "    <tr>\n",
              "      <th>4</th>\n",
              "      <td>I respect you..</td>\n",
              "      <td>4</td>\n",
              "      <td>not-malayalam</td>\n",
              "    </tr>\n",
              "    <tr>\n",
              "      <th>...</th>\n",
              "      <td>...</td>\n",
              "      <td>...</td>\n",
              "      <td>...</td>\n",
              "    </tr>\n",
              "    <tr>\n",
              "      <th>1066</th>\n",
              "      <td>ചേട്ടാ അതിന് ഇവിടെ ആരാണ് ഇന്ത്യൻ മൊബൈൽ റിവ്യൂ ...</td>\n",
              "      <td>1066</td>\n",
              "      <td>Non_hope_speech</td>\n",
              "    </tr>\n",
              "    <tr>\n",
              "      <th>1067</th>\n",
              "      <td>@surya ishaan</td>\n",
              "      <td>1067</td>\n",
              "      <td>not-malayalam</td>\n",
              "    </tr>\n",
              "    <tr>\n",
              "      <th>1068</th>\n",
              "      <td>ഏതാണ് ആ മൂലയിൽ ഇരിക്കുന്ന അപ്പൂപ്പൻ</td>\n",
              "      <td>1068</td>\n",
              "      <td>Non_hope_speech</td>\n",
              "    </tr>\n",
              "    <tr>\n",
              "      <th>1069</th>\n",
              "      <td>ഏതാ ആ ചൊമന്ന ടി ഷർട്ടിന് മേൽ കോട്ടിട്ട വവ്വാൽ...</td>\n",
              "      <td>1069</td>\n",
              "      <td>Non_hope_speech</td>\n",
              "    </tr>\n",
              "    <tr>\n",
              "      <th>1070</th>\n",
              "      <td>Poorru  angodu chellu</td>\n",
              "      <td>1070</td>\n",
              "      <td>Non_hope_speech</td>\n",
              "    </tr>\n",
              "  </tbody>\n",
              "</table>\n",
              "<p>1071 rows × 3 columns</p>\n",
              "</div>"
            ],
            "text/plain": [
              "                                                   text    id            label\n",
              "0                               അതെ അണപൊട്ടി ഒഴുകുകയാണ്     0  Non_hope_speech\n",
              "1                               കെവിൻ avde pettupoyi🤣🤣🤣     1  Non_hope_speech\n",
              "2     @my voice ullup illa daaa tayoli ath kond alle...     2  Non_hope_speech\n",
              "3                                          @Albin Baiju     3  Non_hope_speech\n",
              "4                                       I respect you..     4    not-malayalam\n",
              "...                                                 ...   ...              ...\n",
              "1066  ചേട്ടാ അതിന് ഇവിടെ ആരാണ് ഇന്ത്യൻ മൊബൈൽ റിവ്യൂ ...  1066  Non_hope_speech\n",
              "1067                                      @surya ishaan  1067    not-malayalam\n",
              "1068                ഏതാണ് ആ മൂലയിൽ ഇരിക്കുന്ന അപ്പൂപ്പൻ  1068  Non_hope_speech\n",
              "1069   ഏതാ ആ ചൊമന്ന ടി ഷർട്ടിന് മേൽ കോട്ടിട്ട വവ്വാൽ...  1069  Non_hope_speech\n",
              "1070                              Poorru  angodu chellu  1070  Non_hope_speech\n",
              "\n",
              "[1071 rows x 3 columns]"
            ]
          },
          "metadata": {
            "tags": []
          },
          "execution_count": 84
        }
      ]
    },
    {
      "cell_type": "code",
      "metadata": {
        "colab": {
          "base_uri": "https://localhost:8080/",
          "height": 402
        },
        "id": "1kuASymYn9aV",
        "outputId": "60fc4fb9-1783-4dee-f856-a3f38e688d80"
      },
      "source": [
        "df_f = df_f[['id','text','label']]\r\n",
        "df_f"
      ],
      "execution_count": null,
      "outputs": [
        {
          "output_type": "execute_result",
          "data": {
            "text/html": [
              "<div>\n",
              "<style scoped>\n",
              "    .dataframe tbody tr th:only-of-type {\n",
              "        vertical-align: middle;\n",
              "    }\n",
              "\n",
              "    .dataframe tbody tr th {\n",
              "        vertical-align: top;\n",
              "    }\n",
              "\n",
              "    .dataframe thead th {\n",
              "        text-align: right;\n",
              "    }\n",
              "</style>\n",
              "<table border=\"1\" class=\"dataframe\">\n",
              "  <thead>\n",
              "    <tr style=\"text-align: right;\">\n",
              "      <th></th>\n",
              "      <th>id</th>\n",
              "      <th>text</th>\n",
              "      <th>label</th>\n",
              "    </tr>\n",
              "  </thead>\n",
              "  <tbody>\n",
              "    <tr>\n",
              "      <th>0</th>\n",
              "      <td>0</td>\n",
              "      <td>അതെ അണപൊട്ടി ഒഴുകുകയാണ്</td>\n",
              "      <td>Non_hope_speech</td>\n",
              "    </tr>\n",
              "    <tr>\n",
              "      <th>1</th>\n",
              "      <td>1</td>\n",
              "      <td>കെവിൻ avde pettupoyi🤣🤣🤣</td>\n",
              "      <td>Non_hope_speech</td>\n",
              "    </tr>\n",
              "    <tr>\n",
              "      <th>2</th>\n",
              "      <td>2</td>\n",
              "      <td>@my voice ullup illa daaa tayoli ath kond alle...</td>\n",
              "      <td>Non_hope_speech</td>\n",
              "    </tr>\n",
              "    <tr>\n",
              "      <th>3</th>\n",
              "      <td>3</td>\n",
              "      <td>@Albin Baiju</td>\n",
              "      <td>Non_hope_speech</td>\n",
              "    </tr>\n",
              "    <tr>\n",
              "      <th>4</th>\n",
              "      <td>4</td>\n",
              "      <td>I respect you..</td>\n",
              "      <td>not-malayalam</td>\n",
              "    </tr>\n",
              "    <tr>\n",
              "      <th>...</th>\n",
              "      <td>...</td>\n",
              "      <td>...</td>\n",
              "      <td>...</td>\n",
              "    </tr>\n",
              "    <tr>\n",
              "      <th>1066</th>\n",
              "      <td>1066</td>\n",
              "      <td>ചേട്ടാ അതിന് ഇവിടെ ആരാണ് ഇന്ത്യൻ മൊബൈൽ റിവ്യൂ ...</td>\n",
              "      <td>Non_hope_speech</td>\n",
              "    </tr>\n",
              "    <tr>\n",
              "      <th>1067</th>\n",
              "      <td>1067</td>\n",
              "      <td>@surya ishaan</td>\n",
              "      <td>not-malayalam</td>\n",
              "    </tr>\n",
              "    <tr>\n",
              "      <th>1068</th>\n",
              "      <td>1068</td>\n",
              "      <td>ഏതാണ് ആ മൂലയിൽ ഇരിക്കുന്ന അപ്പൂപ്പൻ</td>\n",
              "      <td>Non_hope_speech</td>\n",
              "    </tr>\n",
              "    <tr>\n",
              "      <th>1069</th>\n",
              "      <td>1069</td>\n",
              "      <td>ഏതാ ആ ചൊമന്ന ടി ഷർട്ടിന് മേൽ കോട്ടിട്ട വവ്വാൽ...</td>\n",
              "      <td>Non_hope_speech</td>\n",
              "    </tr>\n",
              "    <tr>\n",
              "      <th>1070</th>\n",
              "      <td>1070</td>\n",
              "      <td>Poorru  angodu chellu</td>\n",
              "      <td>Non_hope_speech</td>\n",
              "    </tr>\n",
              "  </tbody>\n",
              "</table>\n",
              "<p>1071 rows × 3 columns</p>\n",
              "</div>"
            ],
            "text/plain": [
              "        id                                               text            label\n",
              "0        0                            അതെ അണപൊട്ടി ഒഴുകുകയാണ്  Non_hope_speech\n",
              "1        1                            കെവിൻ avde pettupoyi🤣🤣🤣  Non_hope_speech\n",
              "2        2  @my voice ullup illa daaa tayoli ath kond alle...  Non_hope_speech\n",
              "3        3                                       @Albin Baiju  Non_hope_speech\n",
              "4        4                                    I respect you..    not-malayalam\n",
              "...    ...                                                ...              ...\n",
              "1066  1066  ചേട്ടാ അതിന് ഇവിടെ ആരാണ് ഇന്ത്യൻ മൊബൈൽ റിവ്യൂ ...  Non_hope_speech\n",
              "1067  1067                                      @surya ishaan    not-malayalam\n",
              "1068  1068                ഏതാണ് ആ മൂലയിൽ ഇരിക്കുന്ന അപ്പൂപ്പൻ  Non_hope_speech\n",
              "1069  1069   ഏതാ ആ ചൊമന്ന ടി ഷർട്ടിന് മേൽ കോട്ടിട്ട വവ്വാൽ...  Non_hope_speech\n",
              "1070  1070                              Poorru  angodu chellu  Non_hope_speech\n",
              "\n",
              "[1071 rows x 3 columns]"
            ]
          },
          "metadata": {
            "tags": []
          },
          "execution_count": 85
        }
      ]
    },
    {
      "cell_type": "markdown",
      "metadata": {
        "id": "p3FtBVTVroJi"
      },
      "source": [
        "## Saving Submission DataFrame"
      ]
    },
    {
      "cell_type": "code",
      "metadata": {
        "id": "SzoT0p9rqrO-"
      },
      "source": [
        "path = './drive/MyDrive/Codalab/HopeSpeech Detection For Equality,DiversityAnd Inclusion/SubmissionFiles'"
      ],
      "execution_count": null,
      "outputs": []
    },
    {
      "cell_type": "code",
      "metadata": {
        "id": "LZmgZFM4qi7F"
      },
      "source": [
        "df_f.to_csv(join(path,'bert_multi_malayalam.csv'),index=False)"
      ],
      "execution_count": null,
      "outputs": []
    },
    {
      "cell_type": "code",
      "metadata": {
        "id": "jW9g_qgMv7mq"
      },
      "source": [
        ""
      ],
      "execution_count": null,
      "outputs": []
    }
  ]
}